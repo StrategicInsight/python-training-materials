{
 "cells": [
  {
   "cell_type": "markdown",
   "metadata": {
    "collapsed": true,
    "pycharm": {
     "name": "#%% md\n"
    }
   },
   "source": [
    "# Lesson 5-3: Context Managers and With Statement"
   ]
  },
  {
   "cell_type": "markdown",
   "source": [
    "### Resource Management in Python\n",
    "Properly managing external resources (files, locks, network/db connections) is extremely important.\n",
    "Issue, such as memory leaks, can arise if the setup and teardown phases are not handled correctly.\n",
    "* Data can be lost when writing to file (buffered operation) if the .close() method is not called.\n",
    "* Database can stop accepting new connections or create database deadlocks.\n",
    "* Errors or exceptions that bypass the code handling the closing logic."
   ],
   "metadata": {
    "collapsed": false,
    "pycharm": {
     "name": "#%% md\n"
    }
   }
  },
  {
   "cell_type": "code",
   "execution_count": null,
   "outputs": [],
   "source": [
    "# Not calling the .close() method\n",
    "import os\n",
    "cwd = os.getcwd()\n",
    "filename = os.path.join(cwd, 'python_training.txt')\n",
    "file = open(filename, 'w')\n",
    "file.write('Lesson 5-3: Context Managers and with Statement')"
   ],
   "metadata": {
    "collapsed": false,
    "pycharm": {
     "name": "#%%\n",
     "is_executing": true
    }
   }
  },
  {
   "cell_type": "code",
   "execution_count": 40,
   "outputs": [],
   "source": [
    "# Closing the file will write to it\n",
    "file.close()"
   ],
   "metadata": {
    "collapsed": false,
    "pycharm": {
     "name": "#%%\n"
    }
   }
  },
  {
   "cell_type": "code",
   "execution_count": null,
   "outputs": [],
   "source": [
    "# Example of database connection\n",
    "mydb = MySQLdb.connect(host=host, user=user, password=password, db=database)\n",
    "cursor = mydb.cursor()\n",
    "query = 'SELECT/INSERT/UPDATE'\n",
    "cursor.execute(query)\n",
    "mydb.commit()\n",
    "cursor.close()\n",
    "mydb.close()"
   ],
   "metadata": {
    "collapsed": false,
    "pycharm": {
     "name": "#%%\n"
    }
   }
  },
  {
   "cell_type": "markdown",
   "source": [
    "### The **with** Statement\n",
    "The ```with``` statement is used to wrap the execution of a block with methods defined by a context manager.\n",
    "Basically, this means that the ```with``` statement handles resource management and exception handing for you."
   ],
   "metadata": {
    "collapsed": false,
    "pycharm": {
     "name": "#%% md\n"
    }
   }
  },
  {
   "cell_type": "code",
   "execution_count": null,
   "outputs": [],
   "source": [
    "# Properly open and close a file normally\n",
    "file = open(filename, 'w')\n",
    "file_name = file.name.split(\"/\")[-1]\n",
    "\n",
    "try:\n",
    "    file.write('Properly writing to a file.')\n",
    "    print(file_name)\n",
    "except Exception as e:\n",
    "    print(f'The following error has occurred {e}')\n",
    "finally:\n",
    "    file.close()\n",
    "    print(f'File: {file_name} is closed.')"
   ],
   "metadata": {
    "collapsed": false,
    "pycharm": {
     "name": "#%%\n",
     "is_executing": true
    }
   }
  },
  {
   "cell_type": "code",
   "execution_count": null,
   "outputs": [],
   "source": [
    "# Properly open and close a file with context manager\n",
    "with open(filename, 'w') as f:\n",
    "    f.write('Properly writing to a file with context manager.')\n",
    "print(f.closed)"
   ],
   "metadata": {
    "collapsed": false,
    "pycharm": {
     "name": "#%%\n",
     "is_executing": true
    }
   }
  },
  {
   "cell_type": "markdown",
   "source": [
    "### Context Managers\n",
    "A Context Managers is an object that defines the runtime context to be established when executing a ```with``` statement.\n",
    "Simply put, context managers are objects that can be used with ```with``` statements.\n",
    "A context manager defines:\n",
    "* setup or entry step via the ```__enter__()``` dunder enter method.\n",
    "    * If a target was included in the ```with``` statement, the return value from the ```__enter__()``` is assigned to it.\n",
    "* exit or teardown step via the ```__exit__()``` dunder exit method."
   ],
   "metadata": {
    "collapsed": false,
    "pycharm": {
     "name": "#%% md\n"
    }
   }
  },
  {
   "cell_type": "code",
   "source": [
    "# Running the dir() method\n",
    "file = open(filename, 'w')\n",
    "dir(file)"
   ],
   "metadata": {
    "collapsed": false,
    "pycharm": {
     "name": "#%%\n",
     "is_executing": true
    }
   },
   "execution_count": null,
   "outputs": []
  },
  {
   "cell_type": "markdown",
   "source": [
    "### Context Manager via Class\n",
    "Code replicating the context manager when opening a file."
   ],
   "metadata": {
    "collapsed": false,
    "pycharm": {
     "name": "#%% md\n"
    }
   }
  },
  {
   "cell_type": "code",
   "execution_count": 33,
   "outputs": [
    {
     "name": "stdout",
     "output_type": "stream",
     "text": [
      "True\n"
     ]
    }
   ],
   "source": [
    "class OpenFile:\n",
    "    # Accept arguments passed to our class and set attributes\n",
    "    def __init__(self, filename, mode):\n",
    "        self.filename = filename\n",
    "        self.mode = mode\n",
    "    # Setup portion. Returns object within context manager\n",
    "    def __enter__(self):\n",
    "        self.file = open(self.filename, self.mode)\n",
    "        return self.file\n",
    "    # Teardown portion. Extra params for exceptions info.\n",
    "    def __exit__(self, exc_type, exc_val, exc_tb):\n",
    "        self.file.close()\n",
    "\n",
    "with OpenFile(filename, 'w') as f:\n",
    "    f.write('Writing to a file with a Class custom context manager.')\n",
    "print(f.closed)"
   ],
   "metadata": {
    "collapsed": false,
    "pycharm": {
     "name": "#%%\n"
    }
   }
  },
  {
   "cell_type": "markdown",
   "source": [
    "### Context Manager via Function and Decorator\n",
    "Code replicating the context manager when opening a file."
   ],
   "metadata": {
    "collapsed": false,
    "pycharm": {
     "name": "#%% md\n"
    }
   }
  },
  {
   "cell_type": "code",
   "execution_count": null,
   "outputs": [],
   "source": [
    "from contextlib import contextmanager\n",
    "\n",
    "@contextmanager\n",
    "def open_file(filename, mode):\n",
    "    try:\n",
    "        file_obj = open(filename, mode)\n",
    "        yield file_obj\n",
    "    except Exception as err:\n",
    "        print(f'The following error has occurred {err}')\n",
    "    finally:\n",
    "        file_obj.close()\n",
    "\n",
    "with open_file(filename, 'w') as f:\n",
    "    f.write('Writing to a file with a Function custom context manager.')\n",
    "print(f.closed)\n"
   ],
   "metadata": {
    "collapsed": false,
    "pycharm": {
     "name": "#%%\n",
     "is_executing": true
    }
   }
  }
 ],
 "metadata": {
  "kernelspec": {
   "display_name": "Python 3",
   "language": "python",
   "name": "python3"
  },
  "language_info": {
   "codemirror_mode": {
    "name": "ipython",
    "version": 2
   },
   "file_extension": ".py",
   "mimetype": "text/x-python",
   "name": "python",
   "nbconvert_exporter": "python",
   "pygments_lexer": "ipython2",
   "version": "2.7.6"
  }
 },
 "nbformat": 4,
 "nbformat_minor": 0
}