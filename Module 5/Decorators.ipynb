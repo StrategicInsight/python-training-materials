{
 "cells": [
  {
   "cell_type": "markdown",
   "metadata": {
    "collapsed": true,
    "pycharm": {
     "name": "#%% md\n"
    }
   },
   "source": [
    "# Decorators"
   ]
  },
  {
   "cell_type": "markdown",
   "source": [
    "### What are Decorators?\n",
    "In Python, a decorator is a function that accepts a function and returns a function.\n",
    "Basically, a decorator allows us to modify the behavior of a function without modifying the function's actual code.\n",
    "\n",
    "Functions are first class objects (functions can be used or passed as arguments).\n",
    "Properties of first class functions:\n",
    "* store the function in a variable\n",
    "* pass the function as a parameter to another function\n",
    "* return the function from a function\n",
    "* store them in data structures such as lists"
   ],
   "metadata": {
    "collapsed": false,
    "pycharm": {
     "name": "#%% md\n"
    }
   }
  },
  {
   "cell_type": "code",
   "execution_count": 8,
   "outputs": [
    {
     "name": "stdout",
     "output_type": "stream",
     "text": [
      "Started wrapper function\n",
      "Something\n",
      "Ended wrapper function\n"
     ]
    }
   ],
   "source": [
    "# returning call to wrapper function\n",
    "def main_func(something):\n",
    "    def wrapper():\n",
    "        print('Started wrapper function')\n",
    "        print(something)\n",
    "        print('Ended wrapper function')\n",
    "    return wrapper()\n",
    "\n",
    "main_func('Something')"
   ],
   "metadata": {
    "collapsed": false,
    "pycharm": {
     "name": "#%%\n"
    }
   }
  },
  {
   "cell_type": "code",
   "execution_count": 9,
   "outputs": [
    {
     "name": "stdout",
     "output_type": "stream",
     "text": [
      "<function main_func.<locals>.wrapper at 0x11056bb00>\n",
      "Started wrapper function\n",
      "Something\n",
      "Ended wrapper function\n"
     ]
    }
   ],
   "source": [
    "# returning a wrapper function object\n",
    "def main_func(something):\n",
    "    def wrapper():\n",
    "        print('Started wrapper function')\n",
    "        print(something)\n",
    "        print('Ended wrapper function')\n",
    "    return wrapper\n",
    "\n",
    "var_x = main_func('Something')\n",
    "print(var_x)\n",
    "var_x()"
   ],
   "metadata": {
    "collapsed": false,
    "pycharm": {
     "name": "#%%\n"
    }
   }
  },
  {
   "cell_type": "code",
   "execution_count": 10,
   "outputs": [
    {
     "name": "stdout",
     "output_type": "stream",
     "text": [
      "<function main_func.<locals>.wrapper at 0x11056bf80>\n",
      "Started wrapper function\n",
      "This is display_func\n",
      "Ended wrapper function\n"
     ]
    }
   ],
   "source": [
    "# pass a function as parameter to main_func\n",
    "def main_func(f):\n",
    "    def wrapper():\n",
    "        print('Started wrapper function')\n",
    "        f()\n",
    "        print('Ended wrapper function')\n",
    "    return wrapper\n",
    "\n",
    "def display_func():\n",
    "    print('This is display_func')\n",
    "\n",
    "display_func = main_func(display_func)\n",
    "print(display_func)\n",
    "display_func()"
   ],
   "metadata": {
    "collapsed": false,
    "pycharm": {
     "name": "#%%\n"
    }
   }
  },
  {
   "cell_type": "markdown",
   "source": [
    "### Example of a Decorator"
   ],
   "metadata": {
    "collapsed": false,
    "pycharm": {
     "name": "#%% md\n"
    }
   }
  },
  {
   "cell_type": "code",
   "execution_count": 11,
   "outputs": [
    {
     "name": "stdout",
     "output_type": "stream",
     "text": [
      "<function main_func.<locals>.wrapper at 0x1105803b0>\n",
      "Started wrapper function\n",
      "This is display_func\n",
      "Ended wrapper function\n"
     ]
    }
   ],
   "source": [
    "# decorator function\n",
    "def main_func(f):\n",
    "    def wrapper():\n",
    "        print('Started wrapper function')\n",
    "        f()\n",
    "        print('Ended wrapper function')\n",
    "    return wrapper\n",
    "\n",
    "@main_func\n",
    "def display_func():\n",
    "    print('This is display_func')\n",
    "\n",
    "print(display_func)\n",
    "display_func()"
   ],
   "metadata": {
    "collapsed": false,
    "pycharm": {
     "name": "#%%\n"
    }
   }
  },
  {
   "cell_type": "markdown",
   "source": [
    "##### What about positional arguments?"
   ],
   "metadata": {
    "collapsed": false,
    "pycharm": {
     "name": "#%% md\n"
    }
   }
  },
  {
   "cell_type": "code",
   "execution_count": 12,
   "outputs": [
    {
     "ename": "TypeError",
     "evalue": "wrapper() takes 0 positional arguments but 1 was given",
     "output_type": "error",
     "traceback": [
      "\u001B[0;31m---------------------------------------------------------------------------\u001B[0m",
      "\u001B[0;31mTypeError\u001B[0m                                 Traceback (most recent call last)",
      "\u001B[0;32m/var/folders/71/zqb0qrfn1sb8lkyg4001h5l80000gp/T/ipykernel_63577/3471409020.py\u001B[0m in \u001B[0;36m<module>\u001B[0;34m\u001B[0m\n\u001B[1;32m     11\u001B[0m     \u001B[0mprint\u001B[0m\u001B[0;34m(\u001B[0m\u001B[0mx\u001B[0m\u001B[0;34m)\u001B[0m\u001B[0;34m\u001B[0m\u001B[0;34m\u001B[0m\u001B[0m\n\u001B[1;32m     12\u001B[0m \u001B[0;34m\u001B[0m\u001B[0m\n\u001B[0;32m---> 13\u001B[0;31m \u001B[0mdisplay_func\u001B[0m\u001B[0;34m(\u001B[0m\u001B[0;34m'This is display_func'\u001B[0m\u001B[0;34m)\u001B[0m\u001B[0;34m\u001B[0m\u001B[0;34m\u001B[0m\u001B[0m\n\u001B[0m",
      "\u001B[0;31mTypeError\u001B[0m: wrapper() takes 0 positional arguments but 1 was given"
     ]
    }
   ],
   "source": [
    "# decorator function\n",
    "def main_func(f):\n",
    "    def wrapper():\n",
    "        print('Started wrapper function')\n",
    "        f()\n",
    "        print('Ended wrapper function')\n",
    "    return wrapper\n",
    "\n",
    "@main_func\n",
    "def display_func(x):\n",
    "    print(x)\n",
    "\n",
    "display_func('This is display_func')"
   ],
   "metadata": {
    "collapsed": false,
    "pycharm": {
     "name": "#%%\n"
    }
   }
  },
  {
   "cell_type": "code",
   "execution_count": 13,
   "outputs": [
    {
     "name": "stdout",
     "output_type": "stream",
     "text": [
      "Started wrapper function\n",
      "This is display_func. Done!\n",
      "Ended wrapper function\n"
     ]
    }
   ],
   "source": [
    "# Let's solve the above error for good!\n",
    "def main_func(f):\n",
    "    def wrapper(*arg, **kwarg):\n",
    "        print('Started wrapper function')\n",
    "        f(*arg, **kwarg)\n",
    "        print('Ended wrapper function')\n",
    "    return wrapper\n",
    "\n",
    "@main_func\n",
    "def display_func(x, y):\n",
    "    print(x, y)\n",
    "\n",
    "display_func('This is display_func.', 'Done!')"
   ],
   "metadata": {
    "collapsed": false,
    "pycharm": {
     "name": "#%%\n"
    }
   }
  },
  {
   "cell_type": "markdown",
   "source": [
    "##### What about return values?"
   ],
   "metadata": {
    "collapsed": false,
    "pycharm": {
     "name": "#%% md\n"
    }
   }
  },
  {
   "cell_type": "code",
   "execution_count": 15,
   "outputs": [
    {
     "name": "stdout",
     "output_type": "stream",
     "text": [
      "Started wrapper function\n",
      "This is display_func\n",
      "Ended wrapper function\n"
     ]
    }
   ],
   "source": [
    "def main_func(f):\n",
    "    def wrapper(*arg, **kwarg):\n",
    "        print('Started wrapper function')\n",
    "        f(*arg, **kwarg)\n",
    "        print('Ended wrapper function')\n",
    "    return wrapper\n",
    "\n",
    "@main_func\n",
    "def display_func(x, y):\n",
    "    print(x)\n",
    "    return y\n",
    "\n",
    "display_func('This is display_func', 'Done')"
   ],
   "metadata": {
    "collapsed": false,
    "pycharm": {
     "name": "#%%\n"
    }
   }
  },
  {
   "cell_type": "code",
   "execution_count": 16,
   "outputs": [
    {
     "name": "stdout",
     "output_type": "stream",
     "text": [
      "Started wrapper function\n",
      "This is display_func\n",
      "Ended wrapper function\n",
      "Done\n"
     ]
    }
   ],
   "source": [
    "# Fixed it by string return value in rv and return rv variable in wrapper function\n",
    "def main_func(f):\n",
    "    def wrapper(*args, **kwargs):\n",
    "        print('Started wrapper function')\n",
    "        rv = f(*args, **kwargs)\n",
    "        print('Ended wrapper function')\n",
    "        return rv\n",
    "    return wrapper\n",
    "\n",
    "@main_func\n",
    "def display_func(x, y):\n",
    "    print(x)\n",
    "    return y\n",
    "\n",
    "x = display_func('This is display_func', 'Done')\n",
    "print(x)"
   ],
   "metadata": {
    "collapsed": false,
    "pycharm": {
     "name": "#%%\n"
    }
   }
  },
  {
   "cell_type": "markdown",
   "source": [
    "### Create a Custom Decorator\n",
    "A decorator that times the runtime of a function."
   ],
   "metadata": {
    "collapsed": false,
    "pycharm": {
     "name": "#%% md\n"
    }
   }
  },
  {
   "cell_type": "code",
   "execution_count": 18,
   "outputs": [],
   "source": [
    "import logging\n",
    "import os\n",
    "from time import time\n",
    "\n",
    "def timer(func):\n",
    "    cwd = os.getcwd()\n",
    "    log_file = os.path.join(cwd, 'timer.log')\n",
    "    for handler in logging.root.handlers[:]:\n",
    "        logging.root.removeHandler(handler)\n",
    "    logging.basicConfig(filename=log_file, filemode='a', format='%(asctime)s %(levelname)s %(message)s', datefmt='%H:%M:%S', level=logging.INFO)\n",
    "\n",
    "    def wrapper(*args, **kwargs):\n",
    "        try:\n",
    "            start = time()\n",
    "            rv = func(*args, **kwargs)\n",
    "            end = time() - start\n",
    "            logging.info(f' {func.__name__} ran with args: {args} and kwargs: {kwargs} and took {end} sec to run.')\n",
    "            return rv\n",
    "        except Exception as e:\n",
    "            logging.error(f' {func.__name__} ran into an error: {e}.')\n",
    "    return wrapper\n",
    "\n",
    "@timer\n",
    "def test_range(start, end):\n",
    "    # 100 million records\n",
    "    for _ in range(start, end):\n",
    "        pass\n",
    "\n",
    "@timer\n",
    "def test_range1(start, end):\n",
    "    # 10 million records\n",
    "    for _ in range(start, end):\n",
    "        pass\n",
    "\n",
    "test_range(0, 100000000)\n",
    "test_range1(0, 10000000)"
   ],
   "metadata": {
    "collapsed": false,
    "pycharm": {
     "name": "#%%\n"
    }
   }
  },
  {
   "cell_type": "code",
   "execution_count": null,
   "outputs": [],
   "source": [],
   "metadata": {
    "collapsed": false,
    "pycharm": {
     "name": "#%%\n"
    }
   }
  }
 ],
 "metadata": {
  "kernelspec": {
   "display_name": "Python 3",
   "language": "python",
   "name": "python3"
  },
  "language_info": {
   "codemirror_mode": {
    "name": "ipython",
    "version": 2
   },
   "file_extension": ".py",
   "mimetype": "text/x-python",
   "name": "python",
   "nbconvert_exporter": "python",
   "pygments_lexer": "ipython2",
   "version": "2.7.6"
  }
 },
 "nbformat": 4,
 "nbformat_minor": 0
}