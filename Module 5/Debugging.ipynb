{
 "cells": [
  {
   "cell_type": "markdown",
   "metadata": {
    "collapsed": true,
    "pycharm": {
     "name": "#%% md\n"
    }
   },
   "source": [
    "# Lesson 5-4: Testing and Debugging"
   ]
  },
  {
   "cell_type": "markdown",
   "source": [
    "### The Python Debugger\n",
    "The module ```pdb``` defines an interactive source code debugger for Python programs and runs purely in the command line.\n",
    "It supports:\n",
    "* setting (conditional) breakpoints and single stepping at the source line level\n",
    "* inspection of stack frames\n",
    "* source code listing\n",
    "* evaluation of arbitrary Python code in the context of any stack frame\n",
    "* also supports post-mortem debugging and can be called under program control\n"
   ],
   "metadata": {
    "collapsed": false,
    "pycharm": {
     "name": "#%% md\n"
    }
   }
  },
  {
   "cell_type": "markdown",
   "source": [
    "### Starting Python Debugger\n",
    "Insert the following code where you want to access pdb\n",
    "```import pdb; pdb.set_trace()```\n",
    "\n",
    "or for python >= 3.7 the following will import pdb for you\n",
    "```breakpoint()```\n",
    "\n",
    "The debugger’s prompt is (Pdb), which indicates that you are in debug mode."
   ],
   "metadata": {
    "collapsed": false,
    "pycharm": {
     "name": "#%% md\n",
     "is_executing": true
    }
   }
  },
  {
   "cell_type": "code",
   "execution_count": null,
   "outputs": [],
   "source": [
    "data = [1, 2, 3]\n",
    "import pdb; pdb.set_trace()\n",
    "for i in data:\n",
    "    print(i)"
   ],
   "metadata": {
    "collapsed": false,
    "pycharm": {
     "name": "#%%\n",
     "is_executing": true
    }
   }
  },
  {
   "cell_type": "code",
   "execution_count": null,
   "outputs": [],
   "source": [
    "data = [1, 2, 3]\n",
    "breakpoint()\n",
    "for i in data:\n",
    "    print(i)"
   ],
   "metadata": {
    "collapsed": false,
    "pycharm": {
     "name": "#%%\n",
     "is_executing": true
    }
   }
  },
  {
   "cell_type": "markdown",
   "source": [
    "# Stepping though Code\n",
    "Common Debugger Commands. More here - https://docs.python.org/3/library/pdb.html\n",
    "\n",
    "**w(here)**\n",
    "* Print a stack trace, with the most recent frame at the bottom. An arrow (>) indicates the current frame, which determines the context of most commands.\n",
    "\n",
    "**s(tep)**\n",
    "* Execute the current line, stop at the first possible occasion (either in a function that is called or on the next line in the current function).\n",
    "\n",
    "**n(ext)**\n",
    "* Continue execution until the next line in the current function is reached or it returns.\n",
    "\n",
    "**r(eturn)**\n",
    "* Continue execution until the current function returns.\n",
    "\n",
    "**c(ont(inue))**\n",
    "* Continue execution, only stop when a breakpoint is encountered.\n",
    "\n",
    "**j(ump)** lineno\n",
    "* Set the next line that will be executed.\n",
    "\n",
    "**l(ist)** [first[, last]] or **ll** [long list]\n",
    "* List source code for the current file. Without arguments, list 11 lines around the current line or continue the previous listing.\n",
    "\n",
    "**a(rgs)**\n",
    "* Print the arguments of the current function and their current values.\n",
    "\n",
    "**q(uit)**\n",
    "* Quit from the debugger. The program being executed is aborted.\n",
    "\n"
   ],
   "metadata": {
    "collapsed": false,
    "pycharm": {
     "name": "#%% md\n"
    }
   }
  },
  {
   "cell_type": "code",
   "execution_count": null,
   "outputs": [],
   "source": [
    "data = [1, 2, 3]\n",
    "import pdb; pdb.set_trace()\n",
    "(Pdb) n # will step into next line\n",
    "for i in data:\n",
    "    print(i)"
   ],
   "metadata": {
    "collapsed": false,
    "pycharm": {
     "name": "#%%\n"
    }
   }
  },
  {
   "cell_type": "markdown",
   "source": [
    "### dir() Function\n",
    "Without arguments, return the list of names in the current local scope. With an argument, attempt to return a list of valid attributes for that object.\n",
    "Great for gathering information about an object."
   ],
   "metadata": {
    "collapsed": false,
    "pycharm": {
     "name": "#%% md\n"
    }
   }
  },
  {
   "cell_type": "code",
   "execution_count": 12,
   "outputs": [
    {
     "name": "stdout",
     "output_type": "stream",
     "text": [
      "['__add__', '__class__', '__contains__', '__delattr__', '__delitem__', '__dir__', '__doc__', '__eq__', '__format__', '__ge__', '__getattribute__', '__getitem__', '__gt__', '__hash__', '__iadd__', '__imul__', '__init__', '__init_subclass__', '__iter__', '__le__', '__len__', '__lt__', '__mul__', '__ne__', '__new__', '__reduce__', '__reduce_ex__', '__repr__', '__reversed__', '__rmul__', '__setattr__', '__setitem__', '__sizeof__', '__str__', '__subclasshook__', 'append', 'clear', 'copy', 'count', 'extend', 'index', 'insert', 'pop', 'remove', 'reverse', 'sort']\n"
     ]
    }
   ],
   "source": [
    "lst = [1, 2]\n",
    "data = dir(lst)\n",
    "valid_attributes = []\n",
    "for i in data:\n",
    "    valid_attributes.append(i)\n",
    "print(valid_attributes)"
   ],
   "metadata": {
    "collapsed": false,
    "pycharm": {
     "name": "#%%\n"
    }
   }
  },
  {
   "cell_type": "markdown",
   "source": [
    "### class type(object)\n",
    "With one argument, return the type of an object. The return value is a type object and generally the same object as returned by ```object.__class__```."
   ],
   "metadata": {
    "collapsed": false,
    "pycharm": {
     "name": "#%% md\n"
    }
   }
  },
  {
   "cell_type": "code",
   "execution_count": 17,
   "outputs": [
    {
     "name": "stdout",
     "output_type": "stream",
     "text": [
      "<class 'tuple'>\n",
      "<class 'tuple'>\n",
      "<class 'list'>\n",
      "<class 'list'>\n",
      "<class 'set'>\n",
      "<class 'set'>\n"
     ]
    }
   ],
   "source": [
    "data = [(1,2), [3,4], {5,6}]\n",
    "for i in data:\n",
    "    print(type(i))\n",
    "    print(i.__class__)"
   ],
   "metadata": {
    "collapsed": false,
    "pycharm": {
     "name": "#%%\n"
    }
   }
  },
  {
   "cell_type": "markdown",
   "source": [
    "### Special Attributes\n",
    "**```object.__dict__```**\n",
    "* A dictionary or other mapping object used to store an object’s (writable) attributes.\n",
    "\n",
    "**```definition.__name__```**\n",
    "* The name of the class, function, method, descriptor, or generator instance."
   ],
   "metadata": {
    "collapsed": false,
    "pycharm": {
     "name": "#%% md\n"
    }
   }
  },
  {
   "cell_type": "code",
   "execution_count": 30,
   "outputs": [
    {
     "name": "stdout",
     "output_type": "stream",
     "text": [
      "{'temp': 1}\n",
      "func_name\n"
     ]
    }
   ],
   "source": [
    "def func_name():\n",
    "    pass\n",
    "# Add temp attribute to a function.\n",
    "func_name.temp = 1\n",
    "print(func_name.__dict__)\n",
    "print(func_name.__name__)"
   ],
   "metadata": {
    "collapsed": false,
    "pycharm": {
     "name": "#%%\n"
    }
   }
  },
  {
   "cell_type": "code",
   "execution_count": null,
   "outputs": [],
   "source": [],
   "metadata": {
    "collapsed": false,
    "pycharm": {
     "name": "#%%\n"
    }
   }
  }
 ],
 "metadata": {
  "kernelspec": {
   "display_name": "Python 3",
   "language": "python",
   "name": "python3"
  },
  "language_info": {
   "codemirror_mode": {
    "name": "ipython",
    "version": 2
   },
   "file_extension": ".py",
   "mimetype": "text/x-python",
   "name": "python",
   "nbconvert_exporter": "python",
   "pygments_lexer": "ipython2",
   "version": "2.7.6"
  }
 },
 "nbformat": 4,
 "nbformat_minor": 0
}