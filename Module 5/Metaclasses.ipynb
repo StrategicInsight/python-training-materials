{
 "cells": [
  {
   "cell_type": "markdown",
   "source": [
    "# Metaclasses"
   ],
   "metadata": {
    "collapsed": false,
    "pycharm": {
     "name": "#%% md\n"
    }
   }
  },
  {
   "cell_type": "markdown",
   "source": [
    "### Overview\n",
    "In Python, everything, including classes, is an object.\n",
    "This means that, almost everything is an instance of a class and has attributes.\n",
    "* Okay, not really true for keywords such as (```for```, ```if```, ```def```, ```with```...)\n",
    "\n",
    "Objects are Python's abstraction for data. If you can point a variable to something, it's an object."
   ],
   "metadata": {
    "collapsed": false,
    "pycharm": {
     "name": "#%% md\n"
    }
   }
  },
  {
   "cell_type": "markdown",
   "source": [
    "##### Classes are Objects"
   ],
   "metadata": {
    "collapsed": false,
    "pycharm": {
     "name": "#%% md\n"
    }
   }
  },
  {
   "cell_type": "code",
   "execution_count": 19,
   "outputs": [
    {
     "name": "stdout",
     "output_type": "stream",
     "text": [
      "<__main__.Dog object at 0x103bee850>\n"
     ]
    },
    {
     "data": {
      "text/plain": "True"
     },
     "execution_count": 19,
     "metadata": {},
     "output_type": "execute_result"
    }
   ],
   "source": [
    "class Dog:\n",
    "    talk = 'Woof'\n",
    "    def __init__(self, command=None):\n",
    "        self.command = command\n",
    "\n",
    "    def perform(self):\n",
    "        if self.command is None:\n",
    "            return self.talk\n",
    "        return self.command\n",
    "\n",
    "# variable called give_command that points to an instance of the class Dog\n",
    "give_command = Dog('Sit')\n",
    "# variables point to objects (like class instances)\n",
    "print(give_command)\n",
    "give_command.perform()\n",
    "isinstance(give_command, Dog)"
   ],
   "metadata": {
    "collapsed": false,
    "pycharm": {
     "name": "#%%\n"
    }
   }
  },
  {
   "cell_type": "code",
   "execution_count": 8,
   "outputs": [
    {
     "name": "stdout",
     "output_type": "stream",
     "text": [
      "<class '__main__.Dog'>\n",
      "<class '__main__.Dog'>\n"
     ]
    }
   ],
   "source": [
    "# If classes are objects, we can point a variable to a class\n",
    "my_class = Dog\n",
    "\n",
    "# my_class variable point to Dog class\n",
    "print(my_class)\n",
    "# Dog variable point to Dog class\n",
    "print(Dog)"
   ],
   "metadata": {
    "collapsed": false,
    "pycharm": {
     "name": "#%%\n"
    }
   }
  },
  {
   "cell_type": "code",
   "execution_count": 9,
   "outputs": [
    {
     "name": "stdout",
     "output_type": "stream",
     "text": [
      "Woof\n",
      "Woof\n"
     ]
    }
   ],
   "source": [
    "# we can look up a class attribute with either variable my_class or Dog\n",
    "print(my_class.talk)\n",
    "print(Dog.talk)"
   ],
   "metadata": {
    "collapsed": false,
    "pycharm": {
     "name": "#%%\n"
    }
   }
  },
  {
   "cell_type": "markdown",
   "source": [
    "##### Modules are Objects"
   ],
   "metadata": {
    "collapsed": false,
    "pycharm": {
     "name": "#%% md\n"
    }
   }
  },
  {
   "cell_type": "code",
   "execution_count": 10,
   "outputs": [
    {
     "name": "stdout",
     "output_type": "stream",
     "text": [
      "<class 'module'>\n",
      "<module 'math' from '/usr/local/opt/python@3.7/Frameworks/Python.framework/Versions/3.7/lib/python3.7/lib-dynload/math.cpython-37m-darwin.so'>\n",
      "<module 'math' from '/usr/local/opt/python@3.7/Frameworks/Python.framework/Versions/3.7/lib/python3.7/lib-dynload/math.cpython-37m-darwin.so'>\n"
     ]
    }
   ],
   "source": [
    "import math\n",
    "print(type(math))\n",
    "my_math = math\n",
    "print(math)\n",
    "print(my_math)"
   ],
   "metadata": {
    "collapsed": false,
    "pycharm": {
     "name": "#%%\n"
    }
   }
  },
  {
   "cell_type": "code",
   "execution_count": 11,
   "outputs": [
    {
     "name": "stdout",
     "output_type": "stream",
     "text": [
      "answer_to_everything: 42\n"
     ]
    }
   ],
   "source": [
    "# modules are mutable objects\n",
    "my_math.answer_to_everything = 42\n",
    "print(f'answer_to_everything: {my_math.answer_to_everything}')"
   ],
   "metadata": {
    "collapsed": false,
    "pycharm": {
     "name": "#%%\n"
    }
   }
  },
  {
   "cell_type": "code",
   "execution_count": 12,
   "outputs": [
    {
     "name": "stdout",
     "output_type": "stream",
     "text": [
      "2.718281828459045\n",
      "10\n"
     ]
    }
   ],
   "source": [
    "# update object attributes\n",
    "print(my_math.e)\n",
    "my_math.e = 10\n",
    "print(my_math.e)"
   ],
   "metadata": {
    "collapsed": false,
    "pycharm": {
     "name": "#%%\n"
    }
   }
  },
  {
   "cell_type": "markdown",
   "source": [
    "##### Function are Objects"
   ],
   "metadata": {
    "collapsed": false,
    "pycharm": {
     "name": "#%% md\n"
    }
   }
  },
  {
   "cell_type": "code",
   "execution_count": 13,
   "outputs": [
    {
     "name": "stdout",
     "output_type": "stream",
     "text": [
      "Hello world.\n",
      "Hello Nick.\n"
     ]
    }
   ],
   "source": [
    "def greet(something='world'):\n",
    "    print(f'Hello {something}.')\n",
    "\n",
    "# call the function\n",
    "greet()\n",
    "greet('Nick')"
   ],
   "metadata": {
    "collapsed": false,
    "pycharm": {
     "name": "#%%\n"
    }
   }
  },
  {
   "cell_type": "code",
   "execution_count": 14,
   "outputs": [
    {
     "name": "stdout",
     "output_type": "stream",
     "text": [
      "<function greet at 0x106c467a0>\n",
      "<function greet at 0x106c467a0>\n",
      "Hello world.\n",
      "Hello world.\n"
     ]
    }
   ],
   "source": [
    "# just like with class, we can point variable to function\n",
    "func = greet\n",
    "\n",
    "# both variable point to the same function object\n",
    "print(greet)\n",
    "print(func)\n",
    "\n",
    "greet()\n",
    "func()"
   ],
   "metadata": {
    "collapsed": false,
    "pycharm": {
     "name": "#%%\n"
    }
   }
  },
  {
   "cell_type": "code",
   "execution_count": 15,
   "outputs": [
    {
     "name": "stdout",
     "output_type": "stream",
     "text": [
      "Hello Python.\n"
     ]
    }
   ],
   "source": [
    "# function have attributes via __defaults__ attribute\n",
    "greet.__defaults__ = ('Python',)\n",
    "greet()"
   ],
   "metadata": {
    "collapsed": false,
    "pycharm": {
     "name": "#%%\n"
    }
   }
  },
  {
   "cell_type": "markdown",
   "source": [
    "### Types in Python\n",
    "Everything in Python is an object.\n",
    "Each object has a type (indicating the nature of the object). The ```type()``` tells you object's type (class of the object)."
   ],
   "metadata": {
    "collapsed": false,
    "pycharm": {
     "name": "#%% md\n"
    }
   }
  },
  {
   "cell_type": "code",
   "execution_count": 18,
   "outputs": [
    {
     "name": "stdout",
     "output_type": "stream",
     "text": [
      "<class 'int'> True\n",
      "<class 'float'> True\n",
      "<class 'str'> True\n",
      "<class 'complex'> True\n",
      "<class 'bool'> True\n",
      "<class 'NoneType'> True\n",
      "<class 'list'> True\n",
      "<class 'tuple'> True\n",
      "<class 'dict'> True\n",
      "<class 'set'> True\n"
     ]
    }
   ],
   "source": [
    "data_types =[\n",
    "    (1, int), (2.00, float), ('3', str), (2+2j, complex), (True, bool),\n",
    "    (None, type(None)), ([], list), ((), tuple), ({}, dict), ({''}, set)\n",
    "]\n",
    "for data in data_types:\n",
    "    data_type = data[0]\n",
    "    data_class = data[1]\n",
    "    print(f'{type(data_type)} {isinstance(data_type, data_class)}')"
   ],
   "metadata": {
    "collapsed": false,
    "pycharm": {
     "name": "#%%\n"
    }
   }
  },
  {
   "cell_type": "code",
   "execution_count": 20,
   "outputs": [
    {
     "name": "stdout",
     "output_type": "stream",
     "text": [
      "<class 'function'>\n"
     ]
    }
   ],
   "source": [
    "def greet():\n",
    "    pass\n",
    "\n",
    "print(type(func))"
   ],
   "metadata": {
    "collapsed": false,
    "pycharm": {
     "name": "#%%\n"
    }
   }
  },
  {
   "cell_type": "code",
   "execution_count": 21,
   "outputs": [
    {
     "name": "stdout",
     "output_type": "stream",
     "text": [
      "<class '__main__.House'>\n",
      "<class 'type'>\n"
     ]
    }
   ],
   "source": [
    "class House:\n",
    "    pass\n",
    "\n",
    "owner = House()\n",
    "print(type(owner))\n",
    "print(type(House))"
   ],
   "metadata": {
    "collapsed": false,
    "pycharm": {
     "name": "#%%\n"
    }
   }
  },
  {
   "cell_type": "code",
   "execution_count": 22,
   "outputs": [
    {
     "name": "stdout",
     "output_type": "stream",
     "text": [
      "<class 'type'>\n",
      "<class 'type'>\n"
     ]
    }
   ],
   "source": [
    "# What about builtins?\n",
    "print(type(int))\n",
    "print(type(list))"
   ],
   "metadata": {
    "collapsed": false,
    "pycharm": {
     "name": "#%%\n"
    }
   }
  },
  {
   "cell_type": "code",
   "execution_count": 24,
   "outputs": [
    {
     "name": "stdout",
     "output_type": "stream",
     "text": [
      "<class 'type'>\n"
     ]
    },
    {
     "data": {
      "text/plain": "True"
     },
     "execution_count": 24,
     "metadata": {},
     "output_type": "execute_result"
    }
   ],
   "source": [
    "# what about type 'type'\n",
    "print(type(type))\n",
    "type(list) == type(type)"
   ],
   "metadata": {
    "collapsed": false,
    "pycharm": {
     "name": "#%%\n"
    }
   }
  },
  {
   "cell_type": "code",
   "execution_count": null,
   "outputs": [],
   "source": [
    "# Class Hierarchy\n",
    "print(type(type))\n",
    "print(type(House))\n",
    "print(type(owner))"
   ],
   "metadata": {
    "collapsed": false,
    "pycharm": {
     "name": "#%%\n",
     "is_executing": true
    }
   }
  },
  {
   "cell_type": "markdown",
   "source": [
    "### Classes in Python\n",
    "In python, classes are objects (they are part of \"everything\" in everything is an object).\n",
    "Classes are user-defined templates that specify how an object should be created.\n",
    "Python gives us the ability to use the mechanism that creates python classes. That mechanism is the... ```type()``` function."
   ],
   "metadata": {
    "collapsed": false
   }
  },
  {
   "cell_type": "markdown",
   "source": [
    "##### Creating Classes"
   ],
   "metadata": {
    "collapsed": false,
    "pycharm": {
     "name": "#%% md\n"
    }
   }
  },
  {
   "cell_type": "code",
   "execution_count": 25,
   "outputs": [
    {
     "name": "stdout",
     "output_type": "stream",
     "text": [
      "<__main__.House object at 0x106c71d50>\n",
      "<class '__main__.House'>\n",
      "<class 'type'>\n"
     ]
    }
   ],
   "source": [
    "class House:\n",
    "    pass\n",
    "\n",
    "print(House())\n",
    "print(House)\n",
    "print(type(House))"
   ],
   "metadata": {
    "collapsed": false,
    "pycharm": {
     "name": "#%%\n"
    }
   }
  },
  {
   "cell_type": "code",
   "execution_count": 26,
   "outputs": [
    {
     "name": "stdout",
     "output_type": "stream",
     "text": [
      "<__main__.House object at 0x106c9f2d0>\n",
      "<class '__main__.House'>\n",
      "<class 'type'>\n"
     ]
    }
   ],
   "source": [
    "House = type('House', (), {})\n",
    "print(House())\n",
    "print(House)\n",
    "print(type(House))"
   ],
   "metadata": {
    "collapsed": false,
    "pycharm": {
     "name": "#%%\n"
    }
   }
  },
  {
   "cell_type": "markdown",
   "source": [
    "##### type(name, bases, dict) -> a new type\n",
    "* name: internal representation of the class\n",
    "* bases: anything we inherit from (parent class)\n",
    "* dict: any attributes"
   ],
   "metadata": {
    "collapsed": false,
    "pycharm": {
     "name": "#%% md\n"
    }
   }
  },
  {
   "cell_type": "code",
   "execution_count": 27,
   "outputs": [
    {
     "name": "stdout",
     "output_type": "stream",
     "text": [
      "<__main__.Home object at 0x106ca7390>\n",
      "Beige\n"
     ]
    }
   ],
   "source": [
    "# type name and dict arguments\n",
    "House = type('Home', (), {'color': 'Beige'})\n",
    "owner = House()\n",
    "print(owner)\n",
    "print(owner.color)"
   ],
   "metadata": {
    "collapsed": false,
    "pycharm": {
     "name": "#%%\n"
    }
   }
  },
  {
   "cell_type": "code",
   "execution_count": 28,
   "outputs": [
    {
     "name": "stdout",
     "output_type": "stream",
     "text": [
      "<__main__.Home object at 0x106c71890>\n",
      "Beige\n",
      "5\n"
     ]
    }
   ],
   "source": [
    "# Most classes are mutable\n",
    "owner = House()\n",
    "owner.rooms = 5\n",
    "print(owner)\n",
    "print(owner.color)\n",
    "print(owner.rooms)"
   ],
   "metadata": {
    "collapsed": false,
    "pycharm": {
     "name": "#%%\n"
    }
   }
  },
  {
   "cell_type": "code",
   "execution_count": 29,
   "outputs": [
    {
     "name": "stdout",
     "output_type": "stream",
     "text": [
      "<__main__.Home object at 0x106c515d0>\n",
      "Beige - 5 rooms.\n",
      "For sale\n",
      "$250,000\n"
     ]
    }
   ],
   "source": [
    "# type bases argument\n",
    "class MarketReady:\n",
    "    def available(self):\n",
    "        print('For sale')\n",
    "\n",
    "def price(self):\n",
    "    print('$250,000')\n",
    "\n",
    "House = type('Home', (MarketReady,), {'color': 'Beige', 'price':price})\n",
    "owner = House()\n",
    "owner.rooms = 5\n",
    "print(owner)\n",
    "print(f'{owner.color} - {owner.rooms} rooms.')\n",
    "owner.available()\n",
    "owner.price()"
   ],
   "metadata": {
    "collapsed": false,
    "pycharm": {
     "name": "#%%\n"
    }
   }
  },
  {
   "cell_type": "markdown",
   "source": [
    "### Metaclass in Python\n",
    "Metaclasses are the code that creates classes. A metaclass is the class of a class (which is an object).\n",
    "MyClass = MetaClass()\n",
    "my_object = MyClass()\n",
    "\n",
    "So yes, calling type() creates a new instance of the ```type``` metaclass, dynamically creating a new class.\n",
    "For example, the class syntax gets passed to a metaclass and returns the object that represents that class.\n",
    "\n",
    "The ```__call__()``` method of the class's parent class (metaclass ```type```) is invoked when a class is instantiated.\n",
    "The ```__call__()``` method then invokes:\n",
    "* ```__new__()``` method is called when an object is created.\n",
    "* ```__init__()``` method is called when an object is initialized."
   ],
   "metadata": {
    "collapsed": false
   }
  },
  {
   "cell_type": "code",
   "execution_count": 30,
   "outputs": [
    {
     "name": "stdout",
     "output_type": "stream",
     "text": [
      "{'__module__': '__main__', '__qualname__': 'Car', 'make': 'Subaru', 'model': 'Forester XT', 'turbo': <function Car.turbo at 0x106c72dd0>}\n",
      "Subaru - Forester XT\n"
     ]
    }
   ],
   "source": [
    "# Let's create a new metaclass\n",
    "# part 1: inherit from type metaclass (this makes out class a metaclass as well)\n",
    "class CustomMeta(type):\n",
    "    def __new__(mcs, class_name, basses, attrs):\n",
    "        print(attrs)\n",
    "        new_class = super().__new__(mcs, class_name, basses, attrs) # delegates to the parent's metaclass to create the new class.\n",
    "        return new_class\n",
    "\n",
    "# part 2: pass metaclass=YourCustomMetaClass tag\n",
    "class Car(metaclass=CustomMeta):\n",
    "    make = 'Subaru'\n",
    "    model = 'Forester XT'\n",
    "\n",
    "    def turbo(self):\n",
    "        print('Yes.')\n",
    "\n",
    "suv = Car()\n",
    "print(f'{suv.make} - {suv.model}')"
   ],
   "metadata": {
    "collapsed": false,
    "pycharm": {
     "name": "#%%\n"
    }
   }
  },
  {
   "cell_type": "code",
   "execution_count": 33,
   "outputs": [
    {
     "name": "stdout",
     "output_type": "stream",
     "text": [
      "{'__module__': '__main__', '__qualname__': 'Car', 'MAKE': 'Subaru', 'MODEL': 'Forester XT', 'TURBO': <function Car.turbo at 0x1069fbcb0>, 'color': 'Silver'}\n",
      "Subaru - Forester XT\n",
      "Yes.\n"
     ]
    }
   ],
   "source": [
    "# Let's modify a class created by CustomMeta\n",
    "class CustomMeta(type):\n",
    "    def __new__(mcs, class_name, basses, attrs):\n",
    "        attributes = {}\n",
    "        for key, val in attrs.items():\n",
    "            if key.startswith('__'):\n",
    "                attributes[key] = val\n",
    "            else:\n",
    "                attributes[key.upper()] = val\n",
    "        attributes['color'] = 'Silver'\n",
    "        print(attributes)\n",
    "        return super().__new__(mcs, class_name, basses, attributes)\n",
    "        #return type(class_name, basses, attributes)\n",
    "\n",
    "class Car(metaclass=CustomMeta):\n",
    "    make = 'Subaru'\n",
    "    model = 'Forester XT'\n",
    "\n",
    "    def turbo(self):\n",
    "        print('Yes.')\n",
    "\n",
    "new_suv = Car()\n",
    "print(f'{new_suv.MAKE} - {new_suv.MODEL}')\n",
    "new_suv.TURBO()"
   ],
   "metadata": {
    "collapsed": false,
    "pycharm": {
     "name": "#%%\n"
    }
   }
  },
  {
   "cell_type": "code",
   "execution_count": null,
   "outputs": [],
   "source": [],
   "metadata": {
    "collapsed": false,
    "pycharm": {
     "name": "#%%\n"
    }
   }
  }
 ],
 "metadata": {
  "kernelspec": {
   "display_name": "Python 3",
   "language": "python",
   "name": "python3"
  },
  "language_info": {
   "codemirror_mode": {
    "name": "ipython",
    "version": 2
   },
   "file_extension": ".py",
   "mimetype": "text/x-python",
   "name": "python",
   "nbconvert_exporter": "python",
   "pygments_lexer": "ipython2",
   "version": "2.7.6"
  }
 },
 "nbformat": 4,
 "nbformat_minor": 0
}