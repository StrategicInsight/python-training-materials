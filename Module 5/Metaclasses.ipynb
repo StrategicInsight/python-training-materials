{
 "cells": [
  {
   "cell_type": "markdown",
   "source": [
    "# Metaclasses"
   ],
   "metadata": {
    "collapsed": false,
    "pycharm": {
     "name": "#%% md\n"
    }
   }
  },
  {
   "cell_type": "markdown",
   "source": [
    "### Overview\n",
    "In Python, everything, including classes, is an object.\n",
    "This means that, almost everything is an instance of a class and has attributes.\n",
    "* Okay, not really true for keywords such as (```for```, ```if```, ```def```, ```with```...)\n",
    "\n",
    "Objects are Python's abstraction for data."
   ],
   "metadata": {
    "collapsed": false,
    "pycharm": {
     "name": "#%% md\n"
    }
   }
  },
  {
   "cell_type": "markdown",
   "source": [
    "##### Classes are Objects"
   ],
   "metadata": {
    "collapsed": false,
    "pycharm": {
     "name": "#%% md\n"
    }
   }
  },
  {
   "cell_type": "code",
   "execution_count": null,
   "outputs": [],
   "source": [
    "class Dog:\n",
    "    talk = 'Woof'\n",
    "    def __init__(self, command=None):\n",
    "        self.command = command\n",
    "\n",
    "    def perform(self):\n",
    "        if self.command is None:\n",
    "            return self.talk\n",
    "        return self.command\n",
    "\n",
    "# variable called give_command that points to an instance of the class Dog\n",
    "give_command = Dog('Sit')\n",
    "# variables point to objects (like class instances)\n",
    "print(give_command)\n",
    "give_command.perform()"
   ],
   "metadata": {
    "collapsed": false,
    "pycharm": {
     "name": "#%%\n",
     "is_executing": true
    }
   }
  },
  {
   "cell_type": "code",
   "execution_count": null,
   "outputs": [],
   "source": [
    "# If classes are objects, we can point a variable to a class\n",
    "my_class = Dog\n",
    "\n",
    "# my_class variable point to Dog class\n",
    "print(my_class)\n",
    "# Dog variable point to Dog class\n",
    "print(Dog)"
   ],
   "metadata": {
    "collapsed": false,
    "pycharm": {
     "name": "#%%\n",
     "is_executing": true
    }
   }
  },
  {
   "cell_type": "code",
   "execution_count": null,
   "outputs": [],
   "source": [
    "# we can look up a class attribute with either variable my_class or Dog\n",
    "print(my_class.talk)\n",
    "print(Dog.talk)"
   ],
   "metadata": {
    "collapsed": false,
    "pycharm": {
     "name": "#%%\n",
     "is_executing": true
    }
   }
  },
  {
   "cell_type": "markdown",
   "source": [
    "##### Modules are Objects"
   ],
   "metadata": {
    "collapsed": false,
    "pycharm": {
     "name": "#%% md\n"
    }
   }
  },
  {
   "cell_type": "code",
   "execution_count": null,
   "outputs": [],
   "source": [
    "import math\n",
    "print(type(math))\n",
    "my_math = math\n",
    "print(math)\n",
    "print(my_math)"
   ],
   "metadata": {
    "collapsed": false,
    "pycharm": {
     "name": "#%%\n",
     "is_executing": true
    }
   }
  },
  {
   "cell_type": "code",
   "execution_count": null,
   "outputs": [],
   "source": [
    "# modules are mutable objects\n",
    "my_math.answer_to_everything = 42\n",
    "print(f'answer_to_everything: {my_math.answer_to_everything}')"
   ],
   "metadata": {
    "collapsed": false,
    "pycharm": {
     "name": "#%%\n",
     "is_executing": true
    }
   }
  },
  {
   "cell_type": "code",
   "execution_count": null,
   "outputs": [],
   "source": [
    "# update object attributes\n",
    "print(my_math.e)\n",
    "my_math.e = 10\n",
    "print(my_math.e)"
   ],
   "metadata": {
    "collapsed": false,
    "pycharm": {
     "name": "#%%\n",
     "is_executing": true
    }
   }
  },
  {
   "cell_type": "markdown",
   "source": [
    "##### Function are Objects"
   ],
   "metadata": {
    "collapsed": false,
    "pycharm": {
     "name": "#%% md\n"
    }
   }
  },
  {
   "cell_type": "code",
   "execution_count": null,
   "outputs": [],
   "source": [
    "def greet(something='world'):\n",
    "    print(f'Hello {something}.')\n",
    "\n",
    "# call the function\n",
    "greet()\n",
    "greet('Nick')"
   ],
   "metadata": {
    "collapsed": false,
    "pycharm": {
     "name": "#%%\n",
     "is_executing": true
    }
   }
  },
  {
   "cell_type": "code",
   "execution_count": null,
   "outputs": [],
   "source": [
    "# just like with class, we can point variable to function\n",
    "func = greet\n",
    "\n",
    "# both variable point to the same function object\n",
    "print(greet)\n",
    "print(func)\n",
    "\n",
    "greet()\n",
    "func()"
   ],
   "metadata": {
    "collapsed": false,
    "pycharm": {
     "name": "#%%\n",
     "is_executing": true
    }
   }
  },
  {
   "cell_type": "code",
   "execution_count": null,
   "outputs": [],
   "source": [
    "# function have attributes via __defaults__ attribute\n",
    "greet.__defaults__ = ('Python',)\n",
    "greet()"
   ],
   "metadata": {
    "collapsed": false,
    "pycharm": {
     "name": "#%%\n",
     "is_executing": true
    }
   }
  },
  {
   "cell_type": "markdown",
   "source": [
    "### Types in Python\n",
    "Everything in Python is an object.\n",
    "Each object has a type (indicating the nature of the object). The ```type()``` tells you object's type (class of the object)."
   ],
   "metadata": {
    "collapsed": false,
    "pycharm": {
     "name": "#%% md\n"
    }
   }
  },
  {
   "cell_type": "code",
   "execution_count": null,
   "outputs": [],
   "source": [
    "data_types =[\n",
    "    (1, int), (2.00, float), ('3', str), (2+2j, complex), (True, bool),\n",
    "    (None, type(None)), ([], list), ((), tuple), ({}, dict), ({''}, set)\n",
    "]\n",
    "for data in data_types:\n",
    "    data_type = data[0]\n",
    "    data_class = data[1]\n",
    "    print(f'{type(data_type)} {isinstance(data_type, data_class)}')"
   ],
   "metadata": {
    "collapsed": false,
    "pycharm": {
     "name": "#%%\n",
     "is_executing": true
    }
   }
  },
  {
   "cell_type": "code",
   "execution_count": null,
   "outputs": [],
   "source": [
    "def greet():\n",
    "    pass\n",
    "\n",
    "print(type(func))"
   ],
   "metadata": {
    "collapsed": false,
    "pycharm": {
     "name": "#%%\n",
     "is_executing": true
    }
   }
  },
  {
   "cell_type": "code",
   "execution_count": null,
   "outputs": [],
   "source": [
    "class House:\n",
    "    pass\n",
    "\n",
    "owner = House()\n",
    "print(type(owner))\n",
    "print(type(House))"
   ],
   "metadata": {
    "collapsed": false,
    "pycharm": {
     "name": "#%%\n",
     "is_executing": true
    }
   }
  },
  {
   "cell_type": "code",
   "execution_count": null,
   "outputs": [],
   "source": [
    "# What about builtins?\n",
    "print(type(int))\n",
    "print(type(list))"
   ],
   "metadata": {
    "collapsed": false,
    "pycharm": {
     "name": "#%%\n",
     "is_executing": true
    }
   }
  },
  {
   "cell_type": "code",
   "execution_count": null,
   "outputs": [],
   "source": [
    "# what about type 'type'\n",
    "print(type(type))\n",
    "type(list) == type(type)"
   ],
   "metadata": {
    "collapsed": false,
    "pycharm": {
     "name": "#%%\n",
     "is_executing": true
    }
   }
  },
  {
   "cell_type": "code",
   "execution_count": null,
   "outputs": [],
   "source": [
    "# Class Hierarchy\n",
    "print(type(type))\n",
    "print(type(House))\n",
    "print(type(owner))"
   ],
   "metadata": {
    "collapsed": false,
    "pycharm": {
     "name": "#%%\n",
     "is_executing": true
    }
   }
  },
  {
   "cell_type": "markdown",
   "source": [
    "### Classes in Python\n",
    "In python, classes are objects (they are part of \"everything\" in everything is an object).\n",
    "Classes are user-defined templates that specify how an object should be created.\n",
    "Python gives us the ability to use the mechanism that creates python classes. That mechanism is the... ```type()``` function."
   ],
   "metadata": {
    "collapsed": false
   }
  },
  {
   "cell_type": "markdown",
   "source": [
    "##### Creating Classes"
   ],
   "metadata": {
    "collapsed": false,
    "pycharm": {
     "name": "#%% md\n"
    }
   }
  },
  {
   "cell_type": "code",
   "execution_count": null,
   "outputs": [],
   "source": [
    "class House:\n",
    "    pass\n",
    "\n",
    "print(House())\n",
    "print(House)\n",
    "print(type(House))"
   ],
   "metadata": {
    "collapsed": false,
    "pycharm": {
     "name": "#%%\n",
     "is_executing": true
    }
   }
  },
  {
   "cell_type": "code",
   "execution_count": null,
   "outputs": [],
   "source": [
    "House = type('House', (), {})\n",
    "print(House())\n",
    "print(House)\n",
    "print(type(House))"
   ],
   "metadata": {
    "collapsed": false,
    "pycharm": {
     "name": "#%%\n",
     "is_executing": true
    }
   }
  },
  {
   "cell_type": "markdown",
   "source": [
    "##### type(name, bases, dict) -> a new type\n",
    "* name: internal representation of the class\n",
    "* bases: anything we inherit from (parent class)\n",
    "* dict: any attributes"
   ],
   "metadata": {
    "collapsed": false,
    "pycharm": {
     "name": "#%% md\n"
    }
   }
  },
  {
   "cell_type": "code",
   "execution_count": null,
   "outputs": [],
   "source": [
    "# type name and dict arguments\n",
    "House = type('Home', (), {'color': 'Beige'})\n",
    "owner = House()\n",
    "print(owner)\n",
    "print(owner.color)"
   ],
   "metadata": {
    "collapsed": false,
    "pycharm": {
     "name": "#%%\n",
     "is_executing": true
    }
   }
  },
  {
   "cell_type": "code",
   "execution_count": null,
   "outputs": [],
   "source": [
    "# Most classes are mutable\n",
    "owner = House()\n",
    "owner.rooms = 5\n",
    "print(owner)\n",
    "print(owner.color)\n",
    "print(owner.rooms)"
   ],
   "metadata": {
    "collapsed": false,
    "pycharm": {
     "name": "#%%\n",
     "is_executing": true
    }
   }
  },
  {
   "cell_type": "code",
   "execution_count": null,
   "outputs": [],
   "source": [
    "# type bases argument\n",
    "class MarketReady:\n",
    "    def available(self):\n",
    "        print('For sale')\n",
    "\n",
    "def price(self):\n",
    "    print('$250,000')\n",
    "\n",
    "House = type('Home', (MarketReady,), {'color': 'Beige', 'price':price})\n",
    "owner = House()\n",
    "owner.rooms = 5\n",
    "print(owner)\n",
    "print(f'{owner.color} - {owner.rooms} rooms.')\n",
    "owner.available()\n",
    "owner.price()"
   ],
   "metadata": {
    "collapsed": false,
    "pycharm": {
     "name": "#%%\n",
     "is_executing": true
    }
   }
  },
  {
   "cell_type": "markdown",
   "source": [
    "### Metaclass in Python\n",
    "Metaclasses are the code that creates classes. A metaclass is the class of a class (which is an object).\n",
    "MyClass = MetaClass()\n",
    "my_object = MyClass()\n",
    "\n",
    "So yes, calling type() creates a new instance of the ```type``` metaclass, dynamically creating a new class.\n",
    "For example, the class syntax gets passed to a metaclass and returns the object that represents that class.\n",
    "\n",
    "The ```__call__()``` method of the class's parent class (metaclass ```type```) is invoked when a class is instantiated.\n",
    "The ```__call__()``` method then invokes:\n",
    "* ```__new__()``` method is called when an object is created.\n",
    "* ```__init__()``` method is called when an object is initialized."
   ],
   "metadata": {
    "collapsed": false
   }
  },
  {
   "cell_type": "code",
   "execution_count": null,
   "outputs": [],
   "source": [
    "# Let's create a new metaclass\n",
    "# part 1: inherit from type metaclass (this makes out class a metaclass as well)\n",
    "class CustomMeta(type):\n",
    "    def __new__(mcs, class_name, basses, attrs):\n",
    "        print(attrs)\n",
    "        new_class = super().__new__(mcs, class_name, basses, attrs) # delegates to the parent's metaclass to create the new class.\n",
    "        return new_class\n",
    "\n",
    "# part 2: pass metaclass=YourCustomMetaClass tag\n",
    "class Car(metaclass=CustomMeta):\n",
    "    make = 'Subaru'\n",
    "    model = 'Forester XT'\n",
    "\n",
    "    def turbo(self):\n",
    "        print('Yes.')\n",
    "\n",
    "suv = Car()\n",
    "print(f'{suv.make} - {suv.model}')"
   ],
   "metadata": {
    "collapsed": false,
    "pycharm": {
     "name": "#%%\n",
     "is_executing": true
    }
   }
  },
  {
   "cell_type": "code",
   "execution_count": null,
   "outputs": [],
   "source": [
    "# Let's modify a class created by CustomMeta\n",
    "class CustomMeta(type):\n",
    "    def __new__(mcs, class_name, basses, attrs):\n",
    "        attributes = {}\n",
    "        for key, val in attrs.items():\n",
    "            if key.startswith('__'):\n",
    "                attributes[key] = val\n",
    "            else:\n",
    "                attributes[key.upper()] = val\n",
    "        attributes['color'] = 'Silver'\n",
    "        print(attributes)\n",
    "        return super().__new__(mcs, class_name, basses, attributes)\n",
    "\n",
    "class Car(metaclass=CustomMeta):\n",
    "    make = 'Subaru'\n",
    "    model = 'Forester XT'\n",
    "\n",
    "    def turbo(self):\n",
    "        print('Yes.')\n",
    "\n",
    "new_suv = Car()\n",
    "print(f'{new_suv.MAKE} - {new_suv.MODEL}')\n",
    "new_suv.TURBO()"
   ],
   "metadata": {
    "collapsed": false,
    "pycharm": {
     "name": "#%%\n",
     "is_executing": true
    }
   }
  },
  {
   "cell_type": "code",
   "execution_count": null,
   "outputs": [],
   "source": [],
   "metadata": {
    "collapsed": false,
    "pycharm": {
     "name": "#%%\n"
    }
   }
  }
 ],
 "metadata": {
  "kernelspec": {
   "display_name": "Python 3",
   "language": "python",
   "name": "python3"
  },
  "language_info": {
   "codemirror_mode": {
    "name": "ipython",
    "version": 2
   },
   "file_extension": ".py",
   "mimetype": "text/x-python",
   "name": "python",
   "nbconvert_exporter": "python",
   "pygments_lexer": "ipython2",
   "version": "2.7.6"
  }
 },
 "nbformat": 4,
 "nbformat_minor": 0
}