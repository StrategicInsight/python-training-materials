{
 "cells": [
  {
   "cell_type": "markdown",
   "metadata": {
    "collapsed": true,
    "pycharm": {
     "name": "#%% md\n"
    }
   },
   "source": [
    "# Lesson 5-2: Generators"
   ]
  },
  {
   "cell_type": "markdown",
   "source": [
    "# What are Generators in Python?\n",
    "A generator, in Python, is a function that returns an iterator object using the Yield keyword.\n",
    "To break it down even further, a generator function:\n",
    "* is defined like a normal function.\n",
    "* when generating a value, does it with \"yield\" keyword instead of \"return\".\n",
    "    * a `return` statement terminates the entire function.\n",
    "    * a `yield` pauses the function, saving all its states.\n",
    "* dunder iter() and next() methods created automatically.\n",
    "* leverages lazy evaluation."
   ],
   "metadata": {
    "collapsed": false,
    "pycharm": {
     "name": "#%% md\n"
    }
   }
  },
  {
   "cell_type": "markdown",
   "source": [
    "In short, a Generator Function is an easy way of creating an Iterator."
   ],
   "metadata": {
    "collapsed": false,
    "pycharm": {
     "name": "#%% md\n"
    }
   }
  },
  {
   "cell_type": "code",
   "execution_count": null,
   "outputs": [],
   "source": [
    "# A simple squares func\n",
    "def generator_function(start, stop):\n",
    "    for value in range(start, stop):\n",
    "        yield value * value\n",
    "\n",
    "generator = generator_function(1, 5)\n",
    "print(type(generator))\n",
    "print(generator)"
   ],
   "metadata": {
    "collapsed": false,
    "pycharm": {
     "name": "#%%\n",
     "is_executing": true
    }
   }
  },
  {
   "cell_type": "code",
   "execution_count": null,
   "outputs": [],
   "source": [
    "dir(generator)"
   ],
   "metadata": {
    "collapsed": false,
    "pycharm": {
     "name": "#%%\n",
     "is_executing": true
    }
   }
  },
  {
   "cell_type": "markdown",
   "source": [
    "### Generator Object\n",
    "Generator Functions return a Generator Object that is iterable (can be used as an Iterator).\n",
    "Generator objects are used by either calling the `next()` method or in a `for` loop."
   ],
   "metadata": {
    "collapsed": false,
    "pycharm": {
     "name": "#%% md\n"
    }
   }
  },
  {
   "cell_type": "code",
   "execution_count": null,
   "outputs": [],
   "source": [
    "# Example of a generator object iterating using for loop:\n",
    "for num in generator:\n",
    "    print(num)\n",
    "print(generator)"
   ],
   "metadata": {
    "collapsed": false,
    "pycharm": {
     "name": "#%%\n",
     "is_executing": true
    }
   }
  },
  {
   "cell_type": "code",
   "execution_count": null,
   "outputs": [],
   "source": [
    "generator = generator_function(1, 5)\n",
    "print(next(generator))\n",
    "print(next(generator))\n",
    "print(generator)"
   ],
   "metadata": {
    "collapsed": false,
    "pycharm": {
     "name": "#%%\n",
     "is_executing": true
    }
   }
  },
  {
   "cell_type": "markdown",
   "source": [
    "### Python's yield Keyword\n",
    "The yield keyword controls the iteration of a Generator Function and remembers the state of its local variable."
   ],
   "metadata": {
    "collapsed": false
   }
  },
  {
   "cell_type": "code",
   "execution_count": null,
   "outputs": [],
   "source": [
    "def numbers():\n",
    "    yield 1\n",
    "    yield 2\n",
    "    yield 3\n",
    "\n",
    "example = numbers()\n",
    "print(next(example))\n",
    "print(next(example))\n",
    "print(next(example))"
   ],
   "metadata": {
    "collapsed": false,
    "pycharm": {
     "name": "#%%\n",
     "is_executing": true
    }
   }
  },
  {
   "cell_type": "markdown",
   "source": [
    "### Generator Expressions\n",
    "In python, Generator Expression is a different way of writing a generator function.\n",
    "* It uses a python list comprehension technique.\n",
    "* Creates a generator object instead of storing list elements in memory."
   ],
   "metadata": {
    "collapsed": false
   }
  },
  {
   "cell_type": "markdown",
   "source": [
    "### Generator Expression Syntax\n",
    "`(expression for item in iterable)`"
   ],
   "metadata": {
    "collapsed": false,
    "pycharm": {
     "name": "#%% md\n"
    }
   }
  },
  {
   "cell_type": "markdown",
   "source": [],
   "metadata": {
    "collapsed": false,
    "pycharm": {
     "name": "#%% md\n"
    }
   }
  },
  {
   "cell_type": "code",
   "execution_count": null,
   "outputs": [],
   "source": [
    "# Example of a generator expression\n",
    "gen_exp = (val+1 for val in range(3))\n",
    "\n",
    "for value in gen_exp:\n",
    "    print(value)\n",
    "print(gen_exp)"
   ],
   "metadata": {
    "collapsed": false,
    "pycharm": {
     "name": "#%%\n",
     "is_executing": true
    }
   }
  },
  {
   "cell_type": "code",
   "execution_count": 17,
   "outputs": [],
   "source": [
    "# Generator is spent. Running the for loop again yields nothing.\n",
    "for value in gen_exp:\n",
    "    print(value)"
   ],
   "metadata": {
    "collapsed": false,
    "pycharm": {
     "name": "#%%\n"
    }
   }
  },
  {
   "cell_type": "markdown",
   "source": [
    "### List Comprehension Syntax\n",
    "`[expression for item in iterable]`"
   ],
   "metadata": {
    "collapsed": false,
    "pycharm": {
     "name": "#%% md\n"
    }
   }
  },
  {
   "cell_type": "code",
   "execution_count": null,
   "outputs": [],
   "source": [
    "# Example of a list comprehension\n",
    "list_exp = [val+1 for val in range(3)]\n",
    "\n",
    "for value in list_exp:\n",
    "    print(value)\n",
    "print(list_exp)"
   ],
   "metadata": {
    "collapsed": false,
    "pycharm": {
     "name": "#%%\n",
     "is_executing": true
    }
   }
  },
  {
   "cell_type": "code",
   "execution_count": null,
   "outputs": [],
   "source": [
    "# Running the for loop again yields the same result.\n",
    "for value in list_exp:\n",
    "    print(value)\n",
    "print(list_exp)"
   ],
   "metadata": {
    "collapsed": false,
    "pycharm": {
     "name": "#%%\n",
     "is_executing": true
    }
   }
  }
 ],
 "metadata": {
  "kernelspec": {
   "display_name": "Python 3",
   "language": "python",
   "name": "python3"
  },
  "language_info": {
   "codemirror_mode": {
    "name": "ipython",
    "version": 2
   },
   "file_extension": ".py",
   "mimetype": "text/x-python",
   "name": "python",
   "nbconvert_exporter": "python",
   "pygments_lexer": "ipython2",
   "version": "2.7.6"
  }
 },
 "nbformat": 4,
 "nbformat_minor": 0
}