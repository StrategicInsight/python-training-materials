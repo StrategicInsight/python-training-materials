{
  "metadata": {
    "language_info": {
      "codemirror_mode": {
        "name": "python",
        "version": 3
      },
      "file_extension": ".py",
      "mimetype": "text/x-python",
      "name": "python",
      "nbconvert_exporter": "python",
      "pygments_lexer": "ipython3",
      "version": "3.8"
    },
    "kernelspec": {
      "name": "python",
      "display_name": "Python (Pyodide)",
      "language": "python"
    }
  },
  "nbformat_minor": 4,
  "nbformat": 4,
  "cells": [
    {
      "cell_type": "markdown",
      "source": "# What are Generators in Python?\nA generator, in Python, is a function that returns an Object which can iterate over as one value at a time.\\\nTo break it down even further, a generator function:\n* defined like a normal function.\n* when generating a value, does it with \"yield\" keyword instead of \"return\".\n* if function contains yield, automatically becomes a generator function.\n* a `return` statement terminates the entire function.\n* a `yield` pauses the function, saving all its states.\n\n```\n# Generator function syntax\ndef function_name():\n    yield statement\n```",
      "metadata": {}
    },
    {
      "cell_type": "code",
      "source": "# Example of a regular function:\ndef regular_function(data):\n    return data\n\nfor value in regular_function([1, 2, 3]):\n    print(value)",
      "metadata": {
        "trusted": true
      },
      "execution_count": 17,
      "outputs": [
        {
          "name": "stdout",
          "text": "1\n2\n3\n",
          "output_type": "stream"
        }
      ]
    },
    {
      "cell_type": "code",
      "source": "# Example of a generator function:\ndef generator_function(data):\n    value = 1\n    while value < data:\n        yield value\n        value += 1\n\nfor value in generator_function(4):\n    print(value)",
      "metadata": {
        "trusted": true
      },
      "execution_count": 18,
      "outputs": [
        {
          "name": "stdout",
          "text": "1\n2\n3\n",
          "output_type": "stream"
        }
      ]
    },
    {
      "cell_type": "markdown",
      "source": "In the above example:\n* generator function takes an integer arg. and produces a sequence of numbers\n* `yield` keyword is used to get a value from generator and pause function's execution until next value is requested\n* the `for` loop iterates over generator object and prints each value",
      "metadata": {}
    },
    {
      "cell_type": "markdown",
      "source": "## Generator Object\nGenerator functions return a generator object that is iterable (can be used as an Iterator). Generator objects are used by either calling the `next()` method or in a `for` loop.",
      "metadata": {}
    },
    {
      "cell_type": "code",
      "source": "# Example of a generator object iterating using next method:\ndef generator_function():\n    yield 1\n    yield 2\n    yield 3\n\ngen_obj = generator_function()\n\nprint(next(gen_obj))\nprint(next(gen_obj))\nprint(next(gen_obj))\nprint(gen_obj)",
      "metadata": {
        "trusted": true
      },
      "execution_count": 38,
      "outputs": [
        {
          "name": "stdout",
          "text": "1\n2\n3\n<generator object generator_function at 0x2698590>\n",
          "output_type": "stream"
        }
      ]
    },
    {
      "cell_type": "code",
      "source": "# Example of a generator object iterating using for loop:\ndef generator_function(data):\n    value = 1\n    while value < data:\n        yield value\n        value += 1\n\ngen_obj = generator_function(4)\n\nfor value in gen_obj:\n    print(value)\nprint(gen_obj)",
      "metadata": {
        "trusted": true
      },
      "execution_count": 37,
      "outputs": [
        {
          "name": "stdout",
          "text": "1\n2\n3\n<generator object generator_function at 0x26ff480>\n",
          "output_type": "stream"
        }
      ]
    },
    {
      "cell_type": "markdown",
      "source": "## Generator Expressions\nIn python, generator expression is a different way of writing a generator function.\n* It uses a python list comprehension technique.\n* Creates a generator object instead of storing list elements.\n\nGenerator expression syntax - `(expression for item in iterable)` \\\nvs \\\nList comprehension syntax - `[expression for item in iterable]`",
      "metadata": {}
    },
    {
      "cell_type": "code",
      "source": "# Example of a generator expression\ngen_exp = (val+1 for val in range(3))\n\nfor value in gen_exp:\n    print(value)\nprint(gen_exp)",
      "metadata": {
        "trusted": true
      },
      "execution_count": 46,
      "outputs": [
        {
          "name": "stdout",
          "text": "1\n2\n3\n<generator object <genexpr> at 0x26ffa70>\n",
          "output_type": "stream"
        }
      ]
    }
  ]
}