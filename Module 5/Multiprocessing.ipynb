{
 "cells": [
  {
   "cell_type": "markdown",
   "metadata": {
    "collapsed": true,
    "pycharm": {
     "name": "#%% md\n"
    }
   },
   "source": [
    "# Multiprocessing"
   ]
  },
  {
   "cell_type": "markdown",
   "source": [
    "### What is Multiprocessing in Python?\n",
    "Where multiple new processes are created. Think of it as all processes run their own Python interpreter, in parallel, across multiple CPU cores.\n",
    "Multiprocessing\n",
    "* is parallel - two or more processes can run at the same time\n",
    "* each process can run multiple threads\n",
    "* resources are not shared between processes\n",
    "* great with CPU bound tasks with very little CPU downtime\n",
    "    * tasks such as computing numbers or data as quickly as possible"
   ],
   "metadata": {
    "collapsed": false,
    "pycharm": {
     "name": "#%% md\n"
    }
   }
  },
  {
   "cell_type": "markdown",
   "source": [
    "### Example of Multiprocessing\n",
    "Spawning a single process\n",
    "Passed arguments are pickled or serialized into bytestreams. This allows processes to send information."
   ],
   "metadata": {
    "collapsed": false,
    "pycharm": {
     "name": "#%% md\n"
    }
   }
  },
  {
   "cell_type": "code",
   "execution_count": null,
   "outputs": [],
   "source": [
    "import multiprocessing\n",
    "import time\n",
    "\n",
    "start = time.time()\n",
    "\n",
    "def worker(x):\n",
    "    sum(num * num for num in x)\n",
    "\n",
    "arg = range(10**3)\n",
    "p1 = multiprocessing.Process(target=worker, args=(arg,))\n",
    "p1.start()\n",
    "p1.join()\n",
    "p1.close()\n",
    "print(p1)\n",
    "\n",
    "end = time.time() - start\n",
    "print(f'Finished in {end:0.4f} seconds.')"
   ],
   "metadata": {
    "collapsed": false,
    "pycharm": {
     "name": "#%%\n",
     "is_executing": true
    }
   }
  },
  {
   "cell_type": "markdown",
   "source": [
    "### Example of Multiprocessing Pool"
   ],
   "metadata": {
    "collapsed": false,
    "pycharm": {
     "name": "#%% md\n"
    }
   }
  },
  {
   "cell_type": "code",
   "execution_count": null,
   "outputs": [],
   "source": [
    "import multiprocessing\n",
    "import time\n",
    "\n",
    "start = time.time()\n",
    "\n",
    "def worker(x):\n",
    "    return x * x\n",
    "\n",
    "processes = 2\n",
    "with multiprocessing.Pool(processes) as pool:\n",
    "    arg = [num for num in range(10**2)]\n",
    "    results = pool.map(worker, arg)\n",
    "    for result in results:\n",
    "        print(result)\n",
    "\n",
    "end = time.time() - start\n",
    "print(f'Finished in {end:0.4f} seconds.')"
   ],
   "metadata": {
    "collapsed": false,
    "pycharm": {
     "name": "#%%\n"
    }
   }
  },
  {
   "cell_type": "markdown",
   "source": [
    "### Example of ProcessPoolExecutor\n",
    "The ProcessPoolExecutor class is an Executor subclass that uses a pool of processes to execute calls asynchronously.\n",
    "ProcessPoolExecutor uses the multiprocessing module, which allows it to side-step the Global Interpreter Lock but also means that only picklable objects can be executed and returned."
   ],
   "metadata": {
    "collapsed": false,
    "pycharm": {
     "name": "#%% md\n"
    }
   }
  },
  {
   "cell_type": "code",
   "execution_count": null,
   "outputs": [],
   "source": [
    "import concurrent.futures\n",
    "import time\n",
    "\n",
    "wait_length = 2\n",
    "start = time.time()\n",
    "\n",
    "def some_task(sec):\n",
    "    print(f'Sleeping for {sec} seconds.')\n",
    "    time.sleep(sec)\n",
    "    return f'Done {sec}'\n",
    "\n",
    "with concurrent.futures.ProcessPoolExecutor(max_workers=4) as executor:\n",
    "    seconds = [5, 4, 3, 2, 1]\n",
    "\n",
    "    results = executor.map(some_task, seconds)\n",
    "    for result in results:\n",
    "        print(result)\n",
    "\n",
    "end = time.time() - start\n",
    "print(f'Finished in {end:0.4f} seconds.')"
   ],
   "metadata": {
    "collapsed": false,
    "pycharm": {
     "name": "#%%\n"
    }
   }
  },
  {
   "cell_type": "markdown",
   "source": [
    "### Multithreading vs Multiprocessing"
   ],
   "metadata": {
    "collapsed": false,
    "pycharm": {
     "name": "#%% md\n"
    }
   }
  },
  {
   "cell_type": "code",
   "execution_count": null,
   "outputs": [],
   "source": [
    "import multiprocessing\n",
    "import threading\n",
    "import time\n",
    "\n",
    "def worker():\n",
    "    sum(num * num for num in range(10**2))\n",
    "\n",
    "def timer(f):\n",
    "    start = time.time()\n",
    "    f()\n",
    "    end = time.time() - start\n",
    "    print(f'Finished {func.__name__} in {end:0.4f} seconds.')\n",
    "\n",
    "def main():\n",
    "    worker()\n",
    "    worker()\n",
    "\n",
    "def thread():\n",
    "    t1 = threading.Thread(target=worker)\n",
    "    t2 = threading.Thread(target=worker)\n",
    "    t1.start()\n",
    "    t2.start()\n",
    "    t1.join()\n",
    "    t2.join()\n",
    "\n",
    "def processing():\n",
    "    p1 = multiprocessing.Process(target=worker)\n",
    "    p2 = multiprocessing.Process(target=worker)\n",
    "    p1.start()\n",
    "    p2.start()\n",
    "    p1.join()\n",
    "    p2.join()\n",
    "\n",
    "\n",
    "for func in [main, thread, processing]:\n",
    "    timer(func)\n"
   ],
   "metadata": {
    "collapsed": false,
    "pycharm": {
     "name": "#%%\n"
    }
   }
  }
 ],
 "metadata": {
  "kernelspec": {
   "display_name": "Python 3",
   "language": "python",
   "name": "python3"
  },
  "language_info": {
   "codemirror_mode": {
    "name": "ipython",
    "version": 2
   },
   "file_extension": ".py",
   "mimetype": "text/x-python",
   "name": "python",
   "nbconvert_exporter": "python",
   "pygments_lexer": "ipython2",
   "version": "2.7.6"
  }
 },
 "nbformat": 4,
 "nbformat_minor": 0
}