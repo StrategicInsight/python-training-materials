{
 "metadata": {
  "language_info": {
   "codemirror_mode": {
    "name": "python",
    "version": 3
   },
   "file_extension": ".py",
   "mimetype": "text/x-python",
   "name": "python",
   "nbconvert_exporter": "python",
   "pygments_lexer": "ipython3",
   "version": "3.8"
  },
  "kernelspec": {
   "name": "python",
   "display_name": "Python (Pyodide)",
   "language": "python"
  }
 },
 "nbformat_minor": 4,
 "nbformat": 4,
 "cells": [
  {
   "cell_type": "markdown",
   "source": [
    "# What are Iterators in Python?\n",
    "An iterator, in Python, is an object that can be iterated or looped upon and return something, one element at a time.\n",
    "To break it down even further, an iterator:\n",
    "* can iterate over a collection of data (dictionaries, lists, sets, tuples).\n",
    "* returns data one at a time.\n",
    "* keeps track of the current and looped items (bookkeeping).\n",
    "* implement ```.__iter__()``` dunder method to initialize the iterator.\n",
    "* implement ```.__next__()``` dunder method to iterate over the iterator.\n"
   ],
   "metadata": {}
  },
  {
   "cell_type": "markdown",
   "source": [
    "#### Example:\n",
    "using iter() function (returns an iterator object) and next() function (returns the next iterable item)."
   ],
   "metadata": {}
  },
  {
   "cell_type": "code",
   "source": [
    "my_data = [1, 2]\n",
    "my_iter = iter(my_data)\n",
    "print(next(my_iter))"
   ],
   "metadata": {
    "trusted": true
   },
   "execution_count": 3,
   "outputs": [
    {
     "name": "stdout",
     "text": "1\n",
     "output_type": "stream"
    }
   ]
  },
  {
   "cell_type": "code",
   "source": [
    "my_data = (1, 2)\n",
    "my_iter = iter(my_data)\n",
    "print(next(my_iter))\n",
    "print(next(my_iter))"
   ],
   "metadata": {
    "trusted": true
   },
   "execution_count": 5,
   "outputs": [
    {
     "name": "stdout",
     "text": "1\n2\n",
     "output_type": "stream"
    }
   ]
  },
  {
   "cell_type": "markdown",
   "source": [
    "Here, iteration stops with a StopIteration error when reaching the end of the data set."
   ],
   "metadata": {}
  },
  {
   "cell_type": "code",
   "source": [
    "my_data = (1, 2)\n",
    "my_iter = iter(my_data)\n",
    "print(next(my_iter))\n",
    "print(next(my_iter))\n",
    "print(next(my_iter))"
   ],
   "metadata": {
    "trusted": true
   },
   "execution_count": 8,
   "outputs": [
    {
     "name": "stdout",
     "text": "1\n2\n",
     "output_type": "stream"
    },
    {
     "ename": "<class 'StopIteration'>",
     "evalue": "",
     "traceback": [
      "\u001B[0;31m---------------------------------------------------------------------------\u001B[0m",
      "\u001B[0;31mStopIteration\u001B[0m                             Traceback (most recent call last)",
      "Cell \u001B[0;32mIn[8], line 5\u001B[0m\n\u001B[1;32m      3\u001B[0m \u001B[38;5;28mprint\u001B[39m(\u001B[38;5;28mnext\u001B[39m(my_iter))\n\u001B[1;32m      4\u001B[0m \u001B[38;5;28mprint\u001B[39m(\u001B[38;5;28mnext\u001B[39m(my_iter))\n\u001B[0;32m----> 5\u001B[0m \u001B[38;5;28mprint\u001B[39m(\u001B[38;5;28;43mnext\u001B[39;49m\u001B[43m(\u001B[49m\u001B[43mmy_iter\u001B[49m\u001B[43m)\u001B[49m)\n",
      "\u001B[0;31mStopIteration\u001B[0m: "
     ],
     "output_type": "error"
    }
   ]
  },
  {
   "cell_type": "markdown",
   "source": [
    "Example of a very common error when trying to iterate over a non iterable object."
   ],
   "metadata": {}
  },
  {
   "cell_type": "code",
   "source": [
    "my_data = 1\n",
    "my_iter = iter(my_data)\n",
    "print(next(my_iter))"
   ],
   "metadata": {
    "trusted": true
   },
   "execution_count": 11,
   "outputs": [
    {
     "ename": "<class 'TypeError'>",
     "evalue": "'int' object is not iterable",
     "traceback": [
      "\u001B[0;31m---------------------------------------------------------------------------\u001B[0m",
      "\u001B[0;31mTypeError\u001B[0m                                 Traceback (most recent call last)",
      "Cell \u001B[0;32mIn[11], line 2\u001B[0m\n\u001B[1;32m      1\u001B[0m my_data \u001B[38;5;241m=\u001B[39m \u001B[38;5;241m1\u001B[39m\n\u001B[0;32m----> 2\u001B[0m my_iter \u001B[38;5;241m=\u001B[39m \u001B[38;5;28;43miter\u001B[39;49m\u001B[43m(\u001B[49m\u001B[43mmy_data\u001B[49m\u001B[43m)\u001B[49m\n\u001B[1;32m      3\u001B[0m \u001B[38;5;28mprint\u001B[39m(\u001B[38;5;28mnext\u001B[39m(my_iter))\n",
      "\u001B[0;31mTypeError\u001B[0m: 'int' object is not iterable"
     ],
     "output_type": "error"
    }
   ]
  },
  {
   "cell_type": "markdown",
   "source": [
    "The above examples are very inefficient that requires you to manually call the next() function each time. To automate and simplify this, we can use the for loop."
   ],
   "metadata": {}
  },
  {
   "cell_type": "markdown",
   "source": [
    "## For loop implementation\n",
    "What is a for loop? \\\n",
    "A loop that is used to iterate over a sequence. For example:"
   ],
   "metadata": {}
  },
  {
   "cell_type": "code",
   "source": [
    "iterable = ['Hello', 'World', '!']\n",
    "for element in iterable:\n",
    "    print(element)"
   ],
   "metadata": {
    "trusted": true
   },
   "execution_count": 21,
   "outputs": [
    {
     "name": "stdout",
     "text": "Hello\nWorld\n!\n",
     "output_type": "stream"
    }
   ]
  },
  {
   "cell_type": "markdown",
   "source": [
    "How are for loops impemented in python?\n",
    "```\n",
    "# get iterable object\n",
    "iter_obj = iter(iterable)\n",
    "\n",
    "# using while loop\n",
    "while True:\n",
    "    try:\n",
    "        # get next item\n",
    "        element = next(iter_obj)\n",
    "        # do_somehting()\n",
    "    except StopIteration:\n",
    "        # break loop if StopIteration error is raised\n",
    "        break\n",
    "```"
   ],
   "metadata": {}
  },
  {
   "cell_type": "code",
   "source": [
    "iter_obj = iter(['Hello', 'World', '!'])\n",
    "while True:\n",
    "    try:\n",
    "        element = next(iter_obj)\n",
    "        print(element)\n",
    "    except StopIteration:\n",
    "        break"
   ],
   "metadata": {
    "trusted": true
   },
   "execution_count": 16,
   "outputs": [
    {
     "name": "stdout",
     "text": "Hello\nWorld\n!\n",
     "output_type": "stream"
    }
   ]
  },
  {
   "cell_type": "markdown",
   "source": [
    "## Iterator Implementation\n",
    "Let's build our own iterator!"
   ],
   "metadata": {}
  },
  {
   "cell_type": "code",
   "source": [
    "class MyIterator:\n",
    "    def __init__(self, max=0):\n",
    "        self.max_iterations = max\n",
    "    def __iter__(self):\n",
    "        self.n = 0\n",
    "        return self\n",
    "    def __next__(self):\n",
    "        if self.n <= self.max_iterations:\n",
    "            result = self.n\n",
    "            self.n += 1\n",
    "            return result\n",
    "        else:\n",
    "            raise StopIteration\n",
    "\n",
    "for i in MyIterator(5):\n",
    "    print(i)"
   ],
   "metadata": {
    "trusted": true,
    "pycharm": {
     "name": "#%%\n"
    }
   },
   "execution_count": 35,
   "outputs": [
    {
     "name": "stdout",
     "text": "0\n1\n2\n3\n4\n5\n",
     "output_type": "stream"
    }
   ]
  }
 ]
}