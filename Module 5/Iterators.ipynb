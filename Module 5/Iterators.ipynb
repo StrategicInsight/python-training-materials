{
 "cells": [
  {
   "cell_type": "markdown",
   "metadata": {
    "collapsed": true,
    "pycharm": {
     "name": "#%% md\n"
    }
   },
   "source": [
    "# Lesson 5-1: Iterators and Iterables"
   ]
  },
  {
   "cell_type": "markdown",
   "source": [
    "### What are Iterables?\n",
    "**Iterable** is an object which can be iterated upon or looped over.\n",
    "\n",
    "**Iterating** is the process of looping over the elements of an iterable."
   ],
   "metadata": {
    "collapsed": false,
    "pycharm": {
     "name": "#%% md\n"
    }
   }
  },
  {
   "cell_type": "markdown",
   "source": [
    "### What are the different types of iterables?"
   ],
   "metadata": {
    "collapsed": false,
    "pycharm": {
     "name": "#%% md\n"
    }
   }
  },
  {
   "cell_type": "code",
   "execution_count": null,
   "outputs": [],
   "source": [
    "# lists (mutable)\n",
    "lst = [1, 2.00, '3', \"4\"]\n",
    "for index, item in enumerate(lst):\n",
    "    print(f'List index: {index}. List value: {item}. Item type: {type(item)}')\n",
    "\n",
    "print('\\nAdding to a list.')\n",
    "lst.append(5)\n",
    "for index, item in enumerate(lst):\n",
    "    print(f'List index: {index}. List value: {item}. Item type: {type(item)}')\n",
    "#\n",
    "print('\\nRemove from a list.')\n",
    "[lst.remove(item) for item in lst[:2]]\n",
    "for index, item in enumerate(lst):\n",
    "    print(f'List index: {index}. List value: {item}. Item type: {type(item)}')"
   ],
   "metadata": {
    "collapsed": false,
    "pycharm": {
     "name": "#%%\n",
     "is_executing": true
    }
   }
  },
  {
   "cell_type": "code",
   "execution_count": null,
   "outputs": [],
   "source": [
    "# tuples (immutable)\n",
    "tupl = (1, 2, 3, 4, 5)\n",
    "for item in tupl:\n",
    "    print(item)"
   ],
   "metadata": {
    "collapsed": false,
    "pycharm": {
     "name": "#%%\n",
     "is_executing": true
    }
   }
  },
  {
   "cell_type": "code",
   "execution_count": null,
   "outputs": [],
   "source": [
    "# strings\n",
    "strng = 'Hello World!'\n",
    "for letter in strng:\n",
    "    print(letter)"
   ],
   "metadata": {
    "collapsed": false,
    "pycharm": {
     "name": "#%%\n",
     "is_executing": true
    }
   }
  },
  {
   "cell_type": "code",
   "execution_count": null,
   "outputs": [],
   "source": [
    "# dictionaries\n",
    "dictionary = {'one': 1, 'two': 2}\n",
    "for key, val in dictionary.items():\n",
    "    print(f'Key {key} -> value {val}')"
   ],
   "metadata": {
    "collapsed": false,
    "pycharm": {
     "name": "#%%\n",
     "is_executing": true
    }
   }
  },
  {
   "cell_type": "code",
   "execution_count": null,
   "outputs": [],
   "source": [
    "# integers are not iterable\n",
    "for i in 123:\n",
    "    print(i)"
   ],
   "metadata": {
    "collapsed": false,
    "pycharm": {
     "name": "#%%\n",
     "is_executing": true
    }
   }
  },
  {
   "cell_type": "code",
   "execution_count": null,
   "outputs": [],
   "source": [
    "integers = 123\n",
    "integers = [int(num) for num in str(integers)]\n",
    "for i in integers:\n",
    "    print(i)"
   ],
   "metadata": {
    "collapsed": false,
    "pycharm": {
     "name": "#%%\n",
     "is_executing": true
    }
   }
  },
  {
   "cell_type": "markdown",
   "source": [
    "### What makes an object iterable?\n",
    "We need to know our ABCs. In python version >= 3.3, there is a collections.abc module (Abstract Base Classes).\n",
    "https://docs.python.org/3/library/collections.abc.html\n",
    "\n",
    "So the key to iteration is with the dunder ```__iter__()``` method. Can also be called special or magic methods.\n",
    "So the for loop in the above examples is calling ```__iter__``` on our object and returning an iterator that we can loop over. That is why\n",
    "lists, tuples, dictionaries, sets, file objects... are iterables.\n",
    "\n",
    "We can check this with the dir() function, which returns all properties and methods of the specified object."
   ],
   "metadata": {
    "collapsed": false,
    "pycharm": {
     "name": "#%% md\n"
    }
   }
  },
  {
   "cell_type": "code",
   "execution_count": null,
   "outputs": [],
   "source": [
    "# dir() function\n",
    "lst = [1, 2, 3]\n",
    "print(type(lst))\n",
    "dir(lst)"
   ],
   "metadata": {
    "collapsed": false,
    "pycharm": {
     "name": "#%%\n",
     "is_executing": true
    }
   }
  },
  {
   "cell_type": "code",
   "execution_count": null,
   "outputs": [],
   "source": [
    "i_lst = iter(lst)\n",
    "print(type(i_lst))\n",
    "print(i_lst)"
   ],
   "metadata": {
    "collapsed": false,
    "pycharm": {
     "name": "#%%\n",
     "is_executing": true
    }
   }
  },
  {
   "cell_type": "markdown",
   "source": [
    "### What is an Iterator?\n",
    "An iterator, in Python, is an object that can be iterated or looped upon and return something, one element at a time.\n",
    "\n",
    "To break it down even further, an iterator:\n",
    "* can iterate over a collection of data (dictionaries, lists, sets, tuples).\n",
    "* implement ```.__iter__()``` dunder method to initialize the iterator and return an iterator object.\n",
    "* implement ```.__next__()``` dunder method to iterate over the iterator and raises a StopIteration error to signal the end.\n",
    "    * keeps track of the current state of iteration (bookkeeping).\n",
    "* can only go forward, not back. You will have to create a new iterator object and start over."
   ],
   "metadata": {
    "collapsed": false,
    "pycharm": {
     "name": "#%% md\n"
    }
   }
  },
  {
   "cell_type": "code",
   "source": [
    "# passing list object to next() method\n",
    "lst = [1, 2, 3]\n",
    "print (next(lst))"
   ],
   "metadata": {
    "collapsed": false,
    "pycharm": {
     "name": "#%%\n",
     "is_executing": true
    }
   },
   "execution_count": null,
   "outputs": []
  },
  {
   "cell_type": "code",
   "source": [
    "lst = [1, 2, 3]\n",
    "i_iter = iter(lst)\n",
    "print(type(i_iter))\n",
    "dir(i_iter)"
   ],
   "metadata": {
    "collapsed": false,
    "pycharm": {
     "name": "#%%\n",
     "is_executing": true
    }
   },
   "execution_count": null,
   "outputs": []
  },
  {
   "cell_type": "markdown",
   "source": [
    "### Wait. Why does an iterator have an ```__iter__``` dunder method?\n",
    "Every iterator is an iterable, but not every iterable is an iterator. For example, a list is an iterable but not an iterator.\n",
    "We can create an iterator from an iterable (list) using the function iter() (runs dunder method iter under the hood).\n",
    "\n",
    "So in the above example, the ```__iter__``` dunder method returns the same object which is self."
   ],
   "metadata": {
    "collapsed": false,
    "pycharm": {
     "name": "#%% md\n"
    }
   }
  },
  {
   "cell_type": "markdown",
   "source": [
    "### Python iter() and next() examples:"
   ],
   "metadata": {
    "collapsed": false,
    "pycharm": {
     "name": "#%% md\n"
    }
   }
  },
  {
   "cell_type": "code",
   "source": [
    "my_data = ('Hello', 'World', '!')\n",
    "my_iter = iter(my_data)\n",
    "\n",
    "print(next(my_iter))\n",
    "print(next(my_iter))\n",
    "print(next(my_iter))"
   ],
   "metadata": {
    "collapsed": false,
    "pycharm": {
     "name": "#%%\n",
     "is_executing": true
    }
   },
   "execution_count": null,
   "outputs": []
  },
  {
   "cell_type": "code",
   "execution_count": null,
   "outputs": [],
   "source": [
    "# What would happen here?\n",
    "print(next(my_iter))"
   ],
   "metadata": {
    "collapsed": false,
    "pycharm": {
     "name": "#%%\n",
     "is_executing": true
    }
   }
  },
  {
   "cell_type": "markdown",
   "source": [
    "### State of Iteration\n",
    "Iterator can only go forward, not back. You will have to create a new iterator object and start over."
   ],
   "metadata": {
    "collapsed": false
   }
  },
  {
   "cell_type": "code",
   "execution_count": null,
   "outputs": [],
   "source": [
    "my_dict = {'one': 1, 'two': 2}\n",
    "my_iter = iter(my_dict.values())\n",
    "my_iter2 = iter(my_dict.values())\n",
    "\n",
    "for value in my_iter:\n",
    "    print(value)"
   ],
   "metadata": {
    "collapsed": false,
    "pycharm": {
     "name": "#%%\n",
     "is_executing": true
    }
   }
  },
  {
   "cell_type": "code",
   "execution_count": 25,
   "outputs": [],
   "source": [
    "# Iterator is spent and will not print anything.\n",
    "for value in my_iter:\n",
    "    print(value)"
   ],
   "metadata": {
    "collapsed": false,
    "pycharm": {
     "name": "#%%\n"
    }
   }
  },
  {
   "cell_type": "markdown",
   "source": [
    "You can define multiple iterators based on the same iterable object."
   ],
   "metadata": {
    "collapsed": false,
    "pycharm": {
     "name": "#%% md\n"
    }
   }
  },
  {
   "cell_type": "code",
   "execution_count": null,
   "outputs": [],
   "source": [
    "my_iter2 = iter(my_dict.values())\n",
    "for value in my_iter2:\n",
    "    print(value)"
   ],
   "metadata": {
    "collapsed": false,
    "pycharm": {
     "name": "#%%\n",
     "is_executing": true
    }
   }
  },
  {
   "cell_type": "markdown",
   "source": [
    "### Iterators are lazy.\n",
    "Iterators have a lazy nature and when one is created, the elements are not yielded until requested."
   ],
   "metadata": {
    "collapsed": false,
    "pycharm": {
     "name": "#%% md\n"
    }
   }
  },
  {
   "cell_type": "code",
   "execution_count": null,
   "outputs": [],
   "source": [
    "my_list = [1.0, 2.5, 3]\n",
    "my_iter = iter(my_list)\n",
    "next(my_iter)"
   ],
   "metadata": {
    "collapsed": false,
    "pycharm": {
     "name": "#%%\n",
     "is_executing": true
    }
   }
  },
  {
   "cell_type": "markdown",
   "source": [
    "Please note. You can extract all the values from an iterator by calling certain built-in functions (list(), tuple(), set()...).\n",
    "However, it is not recommended because if an iterator returns a lot of elements, this can stall or even crash your machine."
   ],
   "metadata": {
    "collapsed": false,
    "pycharm": {
     "name": "#%% md\n"
    }
   }
  },
  {
   "cell_type": "code",
   "execution_count": null,
   "outputs": [],
   "source": [
    "my_iter = iter(my_list)\n",
    "new_list = list(my_iter)\n",
    "print(new_list)"
   ],
   "metadata": {
    "collapsed": false,
    "pycharm": {
     "name": "#%%\n",
     "is_executing": true
    }
   }
  },
  {
   "cell_type": "markdown",
   "source": [
    "### Let's write a for loop code using iter() and next() methods.\n",
    "Python is very nice to us because the for loop does all the above, for us, under the hood, hassle-free."
   ],
   "metadata": {
    "collapsed": false,
    "pycharm": {
     "name": "#%% md\n"
    }
   }
  },
  {
   "cell_type": "code",
   "execution_count": null,
   "outputs": [],
   "source": [
    "my_string = 'This is fun!'\n",
    "my_iter = iter(my_string)\n",
    "\n",
    "while True:\n",
    "    try:\n",
    "        print(next(my_iter))\n",
    "    except StopIteration:\n",
    "        break"
   ],
   "metadata": {
    "collapsed": false,
    "pycharm": {
     "name": "#%%\n",
     "is_executing": true
    }
   }
  },
  {
   "cell_type": "markdown",
   "source": [
    "### Let's create an Iterator class.\n",
    "This class will function like a built-in range() function.\n",
    "* By adding the dunder iter() method, we make the class iterable (use it in a for loop).\n",
    "    * Dunder iter() method has to return an iterator (an object that has a dunder next() method).\n",
    "    * We can create a dunder next() method within this class itself (return same object from the iter() method.)\n",
    "* By adding the dunder next() method, we make the class an iterator."
   ],
   "metadata": {
    "collapsed": false,
    "pycharm": {
     "name": "#%% md\n"
    }
   }
  },
  {
   "cell_type": "code",
   "execution_count": null,
   "outputs": [],
   "source": [
    "class MyRange:\n",
    "    def __init__(self, start, end):\n",
    "        self.start = start\n",
    "        self.end = end\n",
    "    def __iter__(self):\n",
    "        return self\n",
    "    def __next__(self):\n",
    "        if self.start < self.end:\n",
    "            val = self.start\n",
    "            self.start += 1\n",
    "            return val\n",
    "        else:\n",
    "            raise StopIteration\n",
    "\n",
    "# create an object of the class\n",
    "nums = MyRange(0, 10)\n",
    "for num in nums:\n",
    "    print(num)"
   ],
   "metadata": {
    "collapsed": false,
    "pycharm": {
     "name": "#%%\n",
     "is_executing": true
    }
   }
  },
  {
   "cell_type": "code",
   "execution_count": null,
   "outputs": [],
   "source": [
    "nums = MyRange(0, 10)\n",
    "print(next(nums))\n",
    "print(next(nums))\n",
    "print(next(nums))"
   ],
   "metadata": {
    "collapsed": false,
    "pycharm": {
     "name": "#%%\n",
     "is_executing": true
    }
   }
  },
  {
   "cell_type": "code",
   "execution_count": null,
   "outputs": [],
   "source": [],
   "metadata": {
    "collapsed": false,
    "pycharm": {
     "name": "#%%\n"
    }
   }
  }
 ],
 "metadata": {
  "kernelspec": {
   "display_name": "Python 3",
   "language": "python",
   "name": "python3"
  },
  "language_info": {
   "codemirror_mode": {
    "name": "ipython",
    "version": 2
   },
   "file_extension": ".py",
   "mimetype": "text/x-python",
   "name": "python",
   "nbconvert_exporter": "python",
   "pygments_lexer": "ipython2",
   "version": "2.7.6"
  }
 },
 "nbformat": 4,
 "nbformat_minor": 0
}