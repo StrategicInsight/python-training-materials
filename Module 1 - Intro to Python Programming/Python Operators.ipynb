{
 "cells": [
  {
   "cell_type": "markdown",
   "id": "2c60c768",
   "metadata": {},
   "source": [
    "Most of Python's operators will be familiar to anyone with prior development experience, as the standard operators from other languages are all here:\n",
    "\n",
    "     \n",
    "**Arithmetic Operators**\n",
    "    + Addition\n",
    "    - Subtraction\n",
    "    * Multiplication\n",
    "    / Division\n",
    "    % Modulus (remainder)\n",
    "    ** Exponentiation\n",
    "\n",
    "**Comparison Operators**\n",
    "    == Equal to\n",
    "    != Not equal to\n",
    "    > Greater than\n",
    "    < Less than\n",
    "    = Greater than or equal to\n",
    "    <= Less than or equal to\n",
    "\n",
    "**Logical Operators** -- Here there's some differentiation from languages which use && and ||\n",
    "    and\n",
    "    or\n",
    "    not"
   ]
  },
  {
   "cell_type": "code",
   "execution_count": null,
   "id": "99e6e9c1",
   "metadata": {},
   "outputs": [],
   "source": []
  }
 ],
 "metadata": {
  "kernelspec": {
   "display_name": "Python 3 (ipykernel)",
   "language": "python",
   "name": "python3"
  },
  "language_info": {
   "codemirror_mode": {
    "name": "ipython",
    "version": 3
   },
   "file_extension": ".py",
   "mimetype": "text/x-python",
   "name": "python",
   "nbconvert_exporter": "python",
   "pygments_lexer": "ipython3",
   "version": "3.11.4"
  }
 },
 "nbformat": 4,
 "nbformat_minor": 5
}
