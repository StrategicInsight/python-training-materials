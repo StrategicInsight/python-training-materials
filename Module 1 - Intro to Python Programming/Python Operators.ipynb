{
 "cells": [
  {
   "cell_type": "markdown",
   "id": "97fd3080",
   "metadata": {},
   "source": [
    "# Operators and Flow Control\n",
    "\n",
    "Most of Python's operators will be familiar to anyone with prior development experience, as the standard operators from other languages are all here:\n",
    "\n",
    "     \n",
    "**Arithmetic Operators**\n",
    "*    \\+ Addition\n",
    "*    \\- Subtraction\n",
    "*    \\* Multiplication\n",
    "*    / Division\n",
    "*    % Modulus (remainder)\n",
    "*    ** Exponentiation\n",
    "\n",
    "**Comparison Operators**\n",
    "*    == Equal to\n",
    "*    != Not equal to\n",
    "*    \\> Greater than\n",
    "*    < Less than\n",
    "*    \\>= Greater than or equal to\n",
    "*    <= Less than or equal to\n",
    "\n",
    "**Logical Operators** -- Here there's some differentiation from languages which use && and ||\n",
    "*    and\n",
    "*    or\n",
    "*    not\n",
    "\n",
    "**Other Operators** \n",
    "*    is - identity operator\n",
    "*    in - membership operator\n",
    "\n"
   ]
  },
  {
   "cell_type": "markdown",
   "id": "e3337a94",
   "metadata": {},
   "source": [
    "# Interesting Operators\n",
    "\n",
    "### Ternary Operator\n",
    "\n",
    "Python, like many other languages, has a ternary operator. In other languages, it's often expressed:\n",
    "\n",
    "> `condition ? expression_1 : expression_2`\n",
    "\n",
    "In python, it's expressed this way:\n",
    "\n",
    "> `expression_1 if condition else expression_2`\n"
   ]
  },
  {
   "cell_type": "code",
   "execution_count": 2,
   "id": "311ff71f",
   "metadata": {},
   "outputs": [
    {
     "name": "stdout",
     "output_type": "stream",
     "text": [
      "Oh yeah!\n"
     ]
    }
   ],
   "source": [
    "coolaid_man = True\n",
    "\n",
    "print(\"Oh yeah!\" if coolaid_man else \"Naahh\")"
   ]
  },
  {
   "cell_type": "markdown",
   "id": "00402d54",
   "metadata": {},
   "source": [
    "### Identity and Equality\n",
    "\n",
    "Python has two different operators for identity and equality. The equality operator, `==`, will tell you whether two values have the same content. The identity operator, `is`, will tell you whether two objects share the same memory location."
   ]
  },
  {
   "cell_type": "code",
   "execution_count": 10,
   "id": "75f1ed0c",
   "metadata": {},
   "outputs": [
    {
     "data": {
      "text/plain": [
       "True"
      ]
     },
     "execution_count": 10,
     "metadata": {},
     "output_type": "execute_result"
    }
   ],
   "source": [
    "take_five = 5\n",
    "high_five = 5\n",
    "\n",
    "take_five == high_five"
   ]
  },
  {
   "cell_type": "code",
   "execution_count": 11,
   "id": "5e88123b",
   "metadata": {},
   "outputs": [
    {
     "data": {
      "text/plain": [
       "True"
      ]
     },
     "execution_count": 11,
     "metadata": {},
     "output_type": "execute_result"
    }
   ],
   "source": [
    "take_five is high_five"
   ]
  },
  {
   "cell_type": "markdown",
   "id": "0687d3d1",
   "metadata": {},
   "source": [
    "Wait, whaaaat?"
   ]
  },
  {
   "cell_type": "code",
   "execution_count": 8,
   "id": "3505ecec",
   "metadata": {},
   "outputs": [
    {
     "data": {
      "text/plain": [
       "True"
      ]
     },
     "execution_count": 8,
     "metadata": {},
     "output_type": "execute_result"
    }
   ],
   "source": [
    "one_million = 1000000\n",
    "a_milli = 1000000\n",
    "\n",
    "one_million == a_milli"
   ]
  },
  {
   "cell_type": "code",
   "execution_count": 9,
   "id": "8eaa6a57",
   "metadata": {},
   "outputs": [
    {
     "data": {
      "text/plain": [
       "False"
      ]
     },
     "execution_count": 9,
     "metadata": {},
     "output_type": "execute_result"
    }
   ],
   "source": [
    "one_million is a_milli"
   ]
  },
  {
   "cell_type": "markdown",
   "id": "0424a0cf",
   "metadata": {},
   "source": [
    "That's more like it. This test doesn't work for integers -5 to 256 because python uses integer caching to improve memory efficiency. This probably falls into the realm of 'edge case' or 'amusing language characteristic,' but can cause confusion."
   ]
  },
  {
   "cell_type": "markdown",
   "id": "e39a41dc",
   "metadata": {},
   "source": [
    "### if, else, elif\n",
    "\n",
    "Staples of software development that are also present in python"
   ]
  },
  {
   "cell_type": "code",
   "execution_count": 2,
   "id": "e1fe93f4",
   "metadata": {},
   "outputs": [
    {
     "name": "stdout",
     "output_type": "stream",
     "text": [
      "Let's move on\n"
     ]
    }
   ],
   "source": [
    "if 1 > 5:\n",
    "    print(\"I'm really bad at math\")\n",
    "elif 1 == 5:\n",
    "    print(\"But I'm great at control flow\")\n",
    "else:\n",
    "    print(\"Let's move on\")"
   ]
  },
  {
   "cell_type": "markdown",
   "id": "c75cc045",
   "metadata": {},
   "source": [
    "### Basic loops"
   ]
  },
  {
   "cell_type": "code",
   "execution_count": 3,
   "id": "a3ed68c5",
   "metadata": {},
   "outputs": [
    {
     "name": "stdout",
     "output_type": "stream",
     "text": [
      "0\n",
      "1\n",
      "2\n",
      "3\n",
      "4\n"
     ]
    }
   ],
   "source": [
    "for index in range(0,5):\n",
    "    print(index)"
   ]
  },
  {
   "cell_type": "code",
   "execution_count": 5,
   "id": "72af08c2",
   "metadata": {},
   "outputs": [
    {
     "name": "stdout",
     "output_type": "stream",
     "text": [
      "0 a\n",
      "1 b\n",
      "2 c\n",
      "3 d\n"
     ]
    }
   ],
   "source": [
    "for index, value in enumerate('abcd'):\n",
    "    print(index, value)"
   ]
  },
  {
   "cell_type": "code",
   "execution_count": 11,
   "id": "f5fc49d5",
   "metadata": {},
   "outputs": [
    {
     "name": "stdout",
     "output_type": "stream",
     "text": [
      "0\n",
      "1\n",
      "2\n"
     ]
    }
   ],
   "source": [
    "count = 0\n",
    "while count < 3 in range(0,5):\n",
    "    print(count)\n",
    "    count += 1"
   ]
  },
  {
   "cell_type": "markdown",
   "id": "3fa8ea10",
   "metadata": {},
   "source": [
    "### break, continue, else (again) and pass\n",
    "\n",
    "`break` exits from the current loop\n",
    "\n",
    "`continue` moves on to the next iteration in the loop\n",
    "\n",
    "`pass` is a no-op placeholder.\n",
    "\n",
    "`else` can be used in `if` statements, but also in loops"
   ]
  },
  {
   "cell_type": "code",
   "execution_count": 19,
   "id": "364c5fc9",
   "metadata": {},
   "outputs": [
    {
     "name": "stdout",
     "output_type": "stream",
     "text": [
      "a\n",
      "b\n"
     ]
    }
   ],
   "source": [
    "for letter in 'abcd':\n",
    "    if letter == 'c':\n",
    "        break\n",
    "    else:    \n",
    "        print(letter)"
   ]
  },
  {
   "cell_type": "code",
   "execution_count": 20,
   "id": "cfa08b04",
   "metadata": {},
   "outputs": [
    {
     "name": "stdout",
     "output_type": "stream",
     "text": [
      "a\n",
      "b\n",
      "d\n"
     ]
    }
   ],
   "source": [
    "for letter in 'abcd':\n",
    "    if letter == 'c':\n",
    "        continue\n",
    "    else:    \n",
    "        print(letter)"
   ]
  },
  {
   "cell_type": "code",
   "execution_count": 26,
   "id": "98b66d41",
   "metadata": {},
   "outputs": [
    {
     "name": "stdout",
     "output_type": "stream",
     "text": [
      "not found\n"
     ]
    }
   ],
   "source": [
    "for letter in 'abcd':\n",
    "    if letter == 'e':\n",
    "        break\n",
    "else:    \n",
    "    print('not found')"
   ]
  },
  {
   "cell_type": "markdown",
   "id": "768e7303",
   "metadata": {},
   "source": [
    "**Note**: the `else` clause is part of the `for` loop here, and not the `if` statement. The 'else' clause in a for loop executes only if a `break` statement was not hit."
   ]
  },
  {
   "cell_type": "code",
   "execution_count": 21,
   "id": "c33462c0",
   "metadata": {},
   "outputs": [
    {
     "ename": "SyntaxError",
     "evalue": "incomplete input (1925211666.py, line 1)",
     "output_type": "error",
     "traceback": [
      "\u001b[0;36m  Cell \u001b[0;32mIn[21], line 1\u001b[0;36m\u001b[0m\n\u001b[0;31m    for letter in 'abcd':\u001b[0m\n\u001b[0m                         ^\u001b[0m\n\u001b[0;31mSyntaxError\u001b[0m\u001b[0;31m:\u001b[0m incomplete input\n"
     ]
    }
   ],
   "source": [
    "for letter in 'abcd':"
   ]
  },
  {
   "cell_type": "code",
   "execution_count": 27,
   "id": "a0b3decc",
   "metadata": {},
   "outputs": [],
   "source": [
    "for letter in 'abcd':\n",
    "    pass"
   ]
  },
  {
   "cell_type": "markdown",
   "id": "e9147584",
   "metadata": {},
   "source": [
    "`pass` does nothing, but satisfies the interpreter that you strictly meant to do nothing"
   ]
  },
  {
   "cell_type": "code",
   "execution_count": null,
   "id": "ec5c07de",
   "metadata": {},
   "outputs": [],
   "source": []
  }
 ],
 "metadata": {
  "kernelspec": {
   "display_name": "Python 3 (ipykernel)",
   "language": "python",
   "name": "python3"
  },
  "language_info": {
   "codemirror_mode": {
    "name": "ipython",
    "version": 3
   },
   "file_extension": ".py",
   "mimetype": "text/x-python",
   "name": "python",
   "nbconvert_exporter": "python",
   "pygments_lexer": "ipython3",
   "version": "3.11.4"
  }
 },
 "nbformat": 4,
 "nbformat_minor": 5
}
