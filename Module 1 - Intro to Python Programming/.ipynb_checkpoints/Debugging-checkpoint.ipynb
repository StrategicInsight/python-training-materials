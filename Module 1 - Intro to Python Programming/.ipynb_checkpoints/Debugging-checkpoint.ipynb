{
 "cells": [
  {
   "cell_type": "markdown",
   "id": "f41b5163",
   "metadata": {},
   "source": [
    "# Debugging\n",
    "\n",
    "## With print() statements\n",
    "\n",
    "A common convention in any language. a lot of debugging happens with a simple print() statement."
   ]
  },
  {
   "cell_type": "code",
   "execution_count": 5,
   "id": "0b068b41",
   "metadata": {},
   "outputs": [
    {
     "name": "stdout",
     "output_type": "stream",
     "text": [
      "index=1, result=1\n",
      "index=2, result=2\n",
      "index=3, result=6\n",
      "index=4, result=24\n",
      "index=5, result=120\n"
     ]
    },
    {
     "data": {
      "text/plain": [
       "120"
      ]
     },
     "execution_count": 5,
     "metadata": {},
     "output_type": "execute_result"
    }
   ],
   "source": [
    "def factorial(n):\n",
    "    result = 1 \n",
    "    for i in range(1, n+1):\n",
    "        result *= i\n",
    "        print(f'index={i}, result={result}')\n",
    "    return result\n",
    "\n",
    "factorial(5)"
   ]
  },
  {
   "cell_type": "markdown",
   "id": "d495b749",
   "metadata": {},
   "source": [
    "## With pdb\n",
    "\n",
    "While many use an IDE (PyCharm and VSCode are the most popular), pdb is the built-in python debugger which can be used from the command line or any other editor. Including Jupyter!\n",
    "\n",
    "Some pdb commands:\n",
    "\n",
    "    n - go to next line\n",
    "    p - print variables\n",
    "    c - continue execution\n",
    "    l - list code\n",
    "    s - step into functions\n",
    "    b - set breakpoint\n"
   ]
  },
  {
   "cell_type": "code",
   "execution_count": null,
   "id": "7140b1f3",
   "metadata": {},
   "outputs": [],
   "source": [
    "import pdb\n",
    "\n",
    "def factorial(n):\n",
    "    result = 1 \n",
    "    for i in range(1, n+1):\n",
    "        pdb.set_trace() # debugging breakpoint\n",
    "        result *= i\n",
    "\n",
    "    return result\n",
    "\n",
    "factorial(5)"
   ]
  },
  {
   "cell_type": "code",
   "execution_count": null,
   "id": "e3397af6",
   "metadata": {},
   "outputs": [],
   "source": []
  }
 ],
 "metadata": {
  "kernelspec": {
   "display_name": "Python 3 (ipykernel)",
   "language": "python",
   "name": "python3"
  },
  "language_info": {
   "codemirror_mode": {
    "name": "ipython",
    "version": 3
   },
   "file_extension": ".py",
   "mimetype": "text/x-python",
   "name": "python",
   "nbconvert_exporter": "python",
   "pygments_lexer": "ipython3",
   "version": "3.11.4"
  }
 },
 "nbformat": 4,
 "nbformat_minor": 5
}
