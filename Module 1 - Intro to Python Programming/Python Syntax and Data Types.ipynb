{
 "cells": [
  {
   "cell_type": "code",
   "execution_count": 17,
   "id": "3b0e822e",
   "metadata": {},
   "outputs": [],
   "source": [
    "# Let's cover some python basics. First, you'll already have noticed that the comment character is #"
   ]
  },
  {
   "cell_type": "code",
   "execution_count": 20,
   "id": "f513e3eb",
   "metadata": {},
   "outputs": [
    {
     "name": "stdout",
     "output_type": "stream",
     "text": [
      "0\n",
      "1\n",
      "2\n",
      "3\n",
      "4\n"
     ]
    }
   ],
   "source": [
    "# Python uses indentation to define code blocks rather than braces {}\n",
    "# Python will accept any indentation level as long as it is consistent, but the standard convention is four spaces\n",
    "\n",
    "# An example code block:\n",
    "\n",
    "for counter in range(0,5):\n",
    "    print(counter)"
   ]
  },
  {
   "cell_type": "code",
   "execution_count": 21,
   "id": "6c3b4698",
   "metadata": {},
   "outputs": [
    {
     "ename": "SyntaxError",
     "evalue": "not a chance (555015741.py, line 3)",
     "output_type": "error",
     "traceback": [
      "\u001b[0;36m  Cell \u001b[0;32mIn[21], line 3\u001b[0;36m\u001b[0m\n\u001b[0;31m    from __future__ import braces\u001b[0m\n\u001b[0m    ^\u001b[0m\n\u001b[0;31mSyntaxError\u001b[0m\u001b[0;31m:\u001b[0m not a chance\n"
     ]
    }
   ],
   "source": [
    "# you can *try* using braces, but...\n",
    "\n",
    "from __future__ import braces\n"
   ]
  },
  {
   "cell_type": "code",
   "execution_count": null,
   "id": "1fe87846",
   "metadata": {},
   "outputs": [],
   "source": [
    "# Note that there are no semicolons at the end of the line. Who needs 'em?"
   ]
  },
  {
   "cell_type": "code",
   "execution_count": 3,
   "id": "f78caf66",
   "metadata": {},
   "outputs": [],
   "source": [
    "# Data Types: Python is a dynamically typed language, meaning the type of a variable is determined at runtime.\n",
    "# You do not need to specify a type. The type will be determined by the variable's behavior.\n",
    "\n",
    "# Basic Data Types:\n",
    "\n",
    "# Integers\n",
    "whole_number = 5\n",
    "\n",
    "# Floats\n",
    "decimal_number = 3.14\n",
    "\n",
    "# Strings\n",
    "some_latin_words = \"lorem ipsem\"\n",
    "\n",
    "# Booleans\n",
    "definitely_not = False\n",
    "\n",
    "# None\n",
    "nothing_to_see = None"
   ]
  },
  {
   "cell_type": "code",
   "execution_count": 9,
   "id": "b985fb79",
   "metadata": {},
   "outputs": [
    {
     "name": "stdout",
     "output_type": "stream",
     "text": [
      "lorem ipsem\n"
     ]
    }
   ],
   "source": [
    "# Python is NOT a weak / loosely type language, like javascript or PHP. Python is strongly typed, meaning \n",
    "# that conversions between types must be explicit. For example:\n",
    "\n",
    "# We can print strings\n",
    "print(some_latin_words)"
   ]
  },
  {
   "cell_type": "code",
   "execution_count": 7,
   "id": "84761e41",
   "metadata": {},
   "outputs": [
    {
     "name": "stdout",
     "output_type": "stream",
     "text": [
      "5\n"
     ]
    }
   ],
   "source": [
    "# We can print integers\n",
    "print(whole_number)"
   ]
  },
  {
   "cell_type": "code",
   "execution_count": 8,
   "id": "c576fc15",
   "metadata": {},
   "outputs": [
    {
     "ename": "TypeError",
     "evalue": "can only concatenate str (not \"int\") to str",
     "output_type": "error",
     "traceback": [
      "\u001b[0;31m---------------------------------------------------------------------------\u001b[0m",
      "\u001b[0;31mTypeError\u001b[0m                                 Traceback (most recent call last)",
      "Cell \u001b[0;32mIn[8], line 1\u001b[0m\n\u001b[0;32m----> 1\u001b[0m \u001b[38;5;28mprint\u001b[39m(\u001b[43msome_latin_words\u001b[49m\u001b[43m \u001b[49m\u001b[38;5;241;43m+\u001b[39;49m\u001b[43m \u001b[49m\u001b[43mwhole_number\u001b[49m)\n",
      "\u001b[0;31mTypeError\u001b[0m: can only concatenate str (not \"int\") to str"
     ]
    }
   ],
   "source": [
    "# But we cannot implicitly cast integers to strings\n",
    "print(some_latin_words + whole_number)"
   ]
  },
  {
   "cell_type": "code",
   "execution_count": 10,
   "id": "1f6c6ef5",
   "metadata": {},
   "outputs": [
    {
     "name": "stdout",
     "output_type": "stream",
     "text": [
      "lorem ipsem5\n"
     ]
    }
   ],
   "source": [
    "# We have to explicitly convert the variable type\n",
    "print(some_latin_words + str(whole_number))"
   ]
  },
  {
   "cell_type": "code",
   "execution_count": null,
   "id": "72e40633",
   "metadata": {},
   "outputs": [],
   "source": [
    "# int(), float(), str(), and bool() can convert between data types"
   ]
  }
 ],
 "metadata": {
  "kernelspec": {
   "display_name": "Python 3 (ipykernel)",
   "language": "python",
   "name": "python3"
  },
  "language_info": {
   "codemirror_mode": {
    "name": "ipython",
    "version": 3
   },
   "file_extension": ".py",
   "mimetype": "text/x-python",
   "name": "python",
   "nbconvert_exporter": "python",
   "pygments_lexer": "ipython3",
   "version": "3.11.4"
  }
 },
 "nbformat": 4,
 "nbformat_minor": 5
}
