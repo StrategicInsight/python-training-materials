{
 "cells": [
  {
   "cell_type": "markdown",
   "id": "2e9cc1d8-b14d-417f-87f1-6e66d5726b5f",
   "metadata": {},
   "source": [
    "## Open Source Libraries - SQLAlchemy\n",
    "### The gist\n",
    "SQLAlchemy is the Python SQL toolkit and Object Relational Mapper that gives application developers the full power and flexibility of SQL.\n",
    "\n",
    "### Main features to read on your own:\n",
    "#### Core Components:\n",
    "1. SQL Expression Language - SQLAlchemy provides an SQL expression language that allows you to construct SQL queries using python constructs, which makes it easier to generate complex SQL statements dynamically.\n",
    "2. SQL Data Types - SQLAlchemy defines a set of pythonic data types that correspond to database types, allowing you to work with data consistently across different database systems.\n",
    "3. Table Metadata - You can define DB tables and their relationships using python classes and SQLAlchemy's declarative base.\n",
    "#### Database API:\n",
    "1. Session Management - SQLAlchemy manages DB connections and transactions through a session interface, providing a way to work with the database in a transactional manner, ensuring data consistency.\n",
    "2. Querying - You can create database queries using SQLAlchemy's query API, which allows you to filter, order, and join tables in a pythonic way.\n",
    "#### ORM (Object-Relational Mapping):\n",
    "SQLAlchemy provides a powerful ORM layer that allows you to map python objects to database tables. This allows you to work with data in an object-oriented manner, while SQLAlchemy handles the underlying SQL operations.\n",
    "#### Database Compatibility: \n",
    "SQLAlchemy supports a variety of DB backends, like SQLite, PostgreSQL, MySQL, etc.\n",
    "\n",
    "### Get started:"
   ]
  },
  {
   "cell_type": "code",
   "execution_count": 2,
   "id": "a07ac229-2043-436c-9113-0ad2faa7a876",
   "metadata": {},
   "outputs": [
    {
     "name": "stdout",
     "output_type": "stream",
     "text": [
      "Mike\n",
      "Nick\n",
      "Mick\n",
      "Nike\n"
     ]
    }
   ],
   "source": [
    "from sqlalchemy import create_engine, Column, Integer, String\n",
    "from sqlalchemy.orm import sessionmaker, declarative_base\n",
    "\n",
    "Base = declarative_base()\n",
    "\n",
    "class User(Base):\n",
    "    __tablename__ = 'users'\n",
    "    \n",
    "    id = Column(Integer, primary_key=True)\n",
    "    name = Column(String)\n",
    "\n",
    "# Create an engine to connect to the database\n",
    "engine = create_engine('sqlite:///my_database.db')\n",
    "\n",
    "# Create tables based on the models\n",
    "Base.metadata.create_all(engine)\n",
    "\n",
    "# Create a session to interact with the database\n",
    "Session = sessionmaker(bind=engine)\n",
    "session = Session()\n",
    "\n",
    "# Create a new user\n",
    "new_users = [\n",
    "    User(name='Mike'),\n",
    "    User(name='Nick'),\n",
    "    User(name='Mick'),\n",
    "    User(name='Nike')\n",
    "]\n",
    "session.add_all(new_users)\n",
    "session.commit()\n",
    "\n",
    "# Query users\n",
    "users = session.query(User).all()\n",
    "for user in users:\n",
    "    print(user.name)\n",
    "\n",
    "# Delete all users to clean up database on every runthrough\n",
    "for user in users:\n",
    "    session.delete(user)\n",
    "session.commit()\n",
    "\n",
    "# Close the session\n",
    "session.close()"
   ]
  }
 ],
 "metadata": {
  "kernelspec": {
   "display_name": "Python 3 (ipykernel)",
   "language": "python",
   "name": "python3"
  },
  "language_info": {
   "codemirror_mode": {
    "name": "ipython",
    "version": 3
   },
   "file_extension": ".py",
   "mimetype": "text/x-python",
   "name": "python",
   "nbconvert_exporter": "python",
   "pygments_lexer": "ipython3",
   "version": "3.9.13"
  }
 },
 "nbformat": 4,
 "nbformat_minor": 5
}
