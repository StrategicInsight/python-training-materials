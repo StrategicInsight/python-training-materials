{
 "cells": [
  {
   "cell_type": "raw",
   "id": "6c22e8a8-abab-45f4-a7d5-d68fa069c19e",
   "metadata": {},
   "source": [
    "## Standard library - [`os`](https://docs.python.org/3/library/os.html#module-os)\n",
    "\n",
    "The `os` module provides standardized wrappers on low-level operating system functions for working with files, directories, and environment variables."
   ]
  },
  {
   "cell_type": "code",
   "execution_count": 1,
   "id": "1ee94911",
   "metadata": {},
   "outputs": [],
   "source": [
    "import os"
   ]
  },
  {
   "cell_type": "markdown",
   "id": "5fefb5ad",
   "metadata": {},
   "source": [
    "### System info"
   ]
  },
  {
   "cell_type": "code",
   "execution_count": 2,
   "id": "f1577920",
   "metadata": {},
   "outputs": [
    {
     "data": {
      "text/plain": [
       "'arnomik'"
      ]
     },
     "execution_count": 2,
     "metadata": {},
     "output_type": "execute_result"
    }
   ],
   "source": [
    "os.getlogin()"
   ]
  },
  {
   "cell_type": "code",
   "execution_count": 3,
   "id": "b0a33f03",
   "metadata": {},
   "outputs": [
    {
     "data": {
      "text/plain": [
       "'posix'"
      ]
     },
     "execution_count": 3,
     "metadata": {},
     "output_type": "execute_result"
    }
   ],
   "source": [
    "os.name"
   ]
  },
  {
   "cell_type": "code",
   "execution_count": 4,
   "id": "6049ec12",
   "metadata": {},
   "outputs": [
    {
     "data": {
      "text/plain": [
       "posix.uname_result(sysname='Darwin', nodename='SDOALP050.ad.issgovernance.com', release='22.4.0', version='Darwin Kernel Version 22.4.0: Mon Mar  6 20:59:28 PST 2023; root:xnu-8796.101.5~3/RELEASE_ARM64_T6000', machine='arm64')"
      ]
     },
     "execution_count": 4,
     "metadata": {},
     "output_type": "execute_result"
    }
   ],
   "source": [
    "os.uname()"
   ]
  },
  {
   "cell_type": "markdown",
   "id": "eb7b5879",
   "metadata": {},
   "source": [
    "### Files and Directories\n",
    "`os` provides wrappers for filesystem operations like `ls`, `pwd`, and `cd`."
   ]
  },
  {
   "cell_type": "markdown",
   "id": "d5dbf680-b5d9-4eb2-a114-f95608c972b5",
   "metadata": {},
   "source": [
    "os.chdir('/Users/arnomik/Documents/poetry_jup/module_3')"
   ]
  },
  {
   "cell_type": "code",
   "execution_count": 5,
   "id": "8ddcaa0c",
   "metadata": {},
   "outputs": [
    {
     "data": {
      "text/plain": [
       "'/Users/arnomik/Documents/module_3'"
      ]
     },
     "execution_count": 5,
     "metadata": {},
     "output_type": "execute_result"
    }
   ],
   "source": [
    "os.getcwd() # pwd"
   ]
  },
  {
   "cell_type": "code",
   "execution_count": 6,
   "id": "6b73889a",
   "metadata": {},
   "outputs": [
    {
     "data": {
      "text/plain": [
       "['SQL Alchemy.ipynb',\n",
       " 'pokemon_out.csv',\n",
       " 'Overview.ipynb',\n",
       " 'Date & Time.ipynb',\n",
       " 'pokemon_full.csv',\n",
       " 'pyproject.toml',\n",
       " 'Numpy and Matplotlib.ipynb',\n",
       " 'pokemon.csv',\n",
       " 'Requests.ipynb',\n",
       " '.ipynb_checkpoints',\n",
       " 'OS and System.ipynb',\n",
       " 'poetry.lock',\n",
       " 'File Input & Output.ipynb',\n",
       " 'my_database.db',\n",
       " 'Regular Expressions.ipynb',\n",
       " 'output.txt']"
      ]
     },
     "execution_count": 6,
     "metadata": {},
     "output_type": "execute_result"
    }
   ],
   "source": [
    "os.listdir() # ls"
   ]
  },
  {
   "cell_type": "code",
   "execution_count": 7,
   "id": "92bd62aa",
   "metadata": {},
   "outputs": [
    {
     "data": {
      "text/plain": [
       "'/Users/arnomik/Documents'"
      ]
     },
     "execution_count": 7,
     "metadata": {},
     "output_type": "execute_result"
    }
   ],
   "source": [
    "os.chdir('..') # cd\n",
    "os.getcwd()"
   ]
  },
  {
   "cell_type": "markdown",
   "id": "ce40ebfb",
   "metadata": {},
   "source": [
    "### Environment Variables\n",
    "We can get and set environment variables through the `os.environ` dictionary. For the simplest case, let's assume we've just defined a variable on the command line e.g. `export foo=bar`. Then we can access this variable:"
   ]
  },
  {
   "cell_type": "code",
   "execution_count": 8,
   "id": "768fed14",
   "metadata": {
    "scrolled": true
   },
   "outputs": [
    {
     "ename": "KeyError",
     "evalue": "'foo'",
     "output_type": "error",
     "traceback": [
      "\u001b[0;31m---------------------------------------------------------------------------\u001b[0m",
      "\u001b[0;31mKeyError\u001b[0m                                  Traceback (most recent call last)",
      "Cell \u001b[0;32mIn[8], line 1\u001b[0m\n\u001b[0;32m----> 1\u001b[0m \u001b[43mos\u001b[49m\u001b[38;5;241;43m.\u001b[39;49m\u001b[43menviron\u001b[49m\u001b[43m[\u001b[49m\u001b[38;5;124;43m'\u001b[39;49m\u001b[38;5;124;43mfoo\u001b[39;49m\u001b[38;5;124;43m'\u001b[39;49m\u001b[43m]\u001b[49m\n",
      "File \u001b[0;32m~/.pyenv/versions/3.9.13/lib/python3.9/os.py:679\u001b[0m, in \u001b[0;36m_Environ.__getitem__\u001b[0;34m(self, key)\u001b[0m\n\u001b[1;32m    676\u001b[0m     value \u001b[38;5;241m=\u001b[39m \u001b[38;5;28mself\u001b[39m\u001b[38;5;241m.\u001b[39m_data[\u001b[38;5;28mself\u001b[39m\u001b[38;5;241m.\u001b[39mencodekey(key)]\n\u001b[1;32m    677\u001b[0m \u001b[38;5;28;01mexcept\u001b[39;00m \u001b[38;5;167;01mKeyError\u001b[39;00m:\n\u001b[1;32m    678\u001b[0m     \u001b[38;5;66;03m# raise KeyError with the original key value\u001b[39;00m\n\u001b[0;32m--> 679\u001b[0m     \u001b[38;5;28;01mraise\u001b[39;00m \u001b[38;5;167;01mKeyError\u001b[39;00m(key) \u001b[38;5;28;01mfrom\u001b[39;00m \u001b[38;5;28;01mNone\u001b[39;00m\n\u001b[1;32m    680\u001b[0m \u001b[38;5;28;01mreturn\u001b[39;00m \u001b[38;5;28mself\u001b[39m\u001b[38;5;241m.\u001b[39mdecodevalue(value)\n",
      "\u001b[0;31mKeyError\u001b[0m: 'foo'"
     ]
    }
   ],
   "source": [
    "os.environ['foo']"
   ]
  },
  {
   "cell_type": "markdown",
   "id": "3a8ea9f2",
   "metadata": {},
   "source": [
    "Naturally, we can't rely on environment variables always being present. If we request a variable that isn't set, it raises a KeyError. "
   ]
  },
  {
   "cell_type": "code",
   "execution_count": 9,
   "id": "e61fddd6",
   "metadata": {},
   "outputs": [
    {
     "ename": "KeyError",
     "evalue": "'fooo'",
     "output_type": "error",
     "traceback": [
      "\u001b[0;31m---------------------------------------------------------------------------\u001b[0m",
      "\u001b[0;31mKeyError\u001b[0m                                  Traceback (most recent call last)",
      "Cell \u001b[0;32mIn[9], line 1\u001b[0m\n\u001b[0;32m----> 1\u001b[0m \u001b[43mos\u001b[49m\u001b[38;5;241;43m.\u001b[39;49m\u001b[43menviron\u001b[49m\u001b[43m[\u001b[49m\u001b[38;5;124;43m'\u001b[39;49m\u001b[38;5;124;43mfooo\u001b[39;49m\u001b[38;5;124;43m'\u001b[39;49m\u001b[43m]\u001b[49m\n",
      "File \u001b[0;32m~/.pyenv/versions/3.9.13/lib/python3.9/os.py:679\u001b[0m, in \u001b[0;36m_Environ.__getitem__\u001b[0;34m(self, key)\u001b[0m\n\u001b[1;32m    676\u001b[0m     value \u001b[38;5;241m=\u001b[39m \u001b[38;5;28mself\u001b[39m\u001b[38;5;241m.\u001b[39m_data[\u001b[38;5;28mself\u001b[39m\u001b[38;5;241m.\u001b[39mencodekey(key)]\n\u001b[1;32m    677\u001b[0m \u001b[38;5;28;01mexcept\u001b[39;00m \u001b[38;5;167;01mKeyError\u001b[39;00m:\n\u001b[1;32m    678\u001b[0m     \u001b[38;5;66;03m# raise KeyError with the original key value\u001b[39;00m\n\u001b[0;32m--> 679\u001b[0m     \u001b[38;5;28;01mraise\u001b[39;00m \u001b[38;5;167;01mKeyError\u001b[39;00m(key) \u001b[38;5;28;01mfrom\u001b[39;00m \u001b[38;5;28;01mNone\u001b[39;00m\n\u001b[1;32m    680\u001b[0m \u001b[38;5;28;01mreturn\u001b[39;00m \u001b[38;5;28mself\u001b[39m\u001b[38;5;241m.\u001b[39mdecodevalue(value)\n",
      "\u001b[0;31mKeyError\u001b[0m: 'fooo'"
     ]
    }
   ],
   "source": [
    "os.environ['fooo']"
   ]
  },
  {
   "cell_type": "markdown",
   "id": "4de2fb0e",
   "metadata": {},
   "source": [
    "How to handle this failure state? Pythonic programmers tend to \"ask forgiveness, not permission.\" Just assume we can access the variable, and handle the exception if we can't. This may seem strange if you are coming from a language where \"look before you leap\" is more typical, but the use of try/catch blocks for routine control flow is fairly standard in Python."
   ]
  },
  {
   "cell_type": "code",
   "execution_count": 10,
   "id": "bbad7ff6",
   "metadata": {},
   "outputs": [
    {
     "name": "stdout",
     "output_type": "stream",
     "text": [
      "None\n"
     ]
    }
   ],
   "source": [
    "try:\n",
    "    foo = os.environ['fooo']\n",
    "except KeyError:\n",
    "    foo = None # or handle the error some other way, fail loudly, etc.\n",
    "    \n",
    "print(foo)"
   ]
  },
  {
   "cell_type": "markdown",
   "id": "45e20ea0",
   "metadata": {},
   "source": [
    "As a matter of style, you may prefer to use `os.getenv` as it does not raise KeyErrors for missing environment variables, instead just silently returning `None`. The optional second argument sets the default value."
   ]
  },
  {
   "cell_type": "code",
   "execution_count": 11,
   "id": "9e8857d1",
   "metadata": {},
   "outputs": [
    {
     "name": "stdout",
     "output_type": "stream",
     "text": [
      "None\n"
     ]
    }
   ],
   "source": [
    "foo = os.getenv('fooo')\n",
    "print(foo)"
   ]
  },
  {
   "cell_type": "code",
   "execution_count": 12,
   "id": "85f1261e",
   "metadata": {},
   "outputs": [
    {
     "name": "stdout",
     "output_type": "stream",
     "text": [
      "bar\n"
     ]
    }
   ],
   "source": [
    "foo = os.getenv('fooo', 'bar')\n",
    "print(foo)"
   ]
  },
  {
   "cell_type": "markdown",
   "id": "59ef09de",
   "metadata": {},
   "source": [
    "## Standard library - [`sys`](https://docs.python.org/3/library/sys.html)\n",
    "The `sys` module contains functions for interacting with the Python interpreter."
   ]
  },
  {
   "cell_type": "code",
   "execution_count": 13,
   "id": "4c8de49e",
   "metadata": {},
   "outputs": [],
   "source": [
    "import sys"
   ]
  },
  {
   "cell_type": "code",
   "execution_count": 14,
   "id": "0a040443",
   "metadata": {},
   "outputs": [
    {
     "data": {
      "text/plain": [
       "'darwin'"
      ]
     },
     "execution_count": 14,
     "metadata": {},
     "output_type": "execute_result"
    }
   ],
   "source": [
    "sys.platform # get operating system type"
   ]
  },
  {
   "cell_type": "markdown",
   "id": "16ba8ce7",
   "metadata": {},
   "source": [
    "Getting command line arguments is the most common use case for `sys`. The `argv` array is equivalent to C's `argc` and `argv` parameters for capturing arguments. Because Python lists are more flexible than C arrays, there's no need for a separate `argc` param as we just use the length of `argv`. In this case, since we're running in a jupyter notebook, `argv` captures the arguments used to start up the notebook."
   ]
  },
  {
   "cell_type": "code",
   "execution_count": 15,
   "id": "d70f2e4c",
   "metadata": {},
   "outputs": [
    {
     "data": {
      "text/plain": [
       "['/Users/arnomik/Documents/venv_environments/jup/lib/python3.9/site-packages/ipykernel_launcher.py',\n",
       " '-f',\n",
       " '/Users/arnomik/Library/Jupyter/runtime/kernel-ff129371-ce90-4a18-8f27-4fa88db81783.json']"
      ]
     },
     "execution_count": 15,
     "metadata": {},
     "output_type": "execute_result"
    }
   ],
   "source": [
    "sys.argv"
   ]
  },
  {
   "cell_type": "code",
   "execution_count": 16,
   "id": "05d00bb6",
   "metadata": {},
   "outputs": [
    {
     "data": {
      "text/plain": [
       "3"
      ]
     },
     "execution_count": 16,
     "metadata": {},
     "output_type": "execute_result"
    }
   ],
   "source": [
    "len(sys.argv)"
   ]
  }
 ],
 "metadata": {
  "kernelspec": {
   "display_name": "Python 3 (ipykernel)",
   "language": "python",
   "name": "python3"
  },
  "language_info": {
   "codemirror_mode": {
    "name": "ipython",
    "version": 3
   },
   "file_extension": ".py",
   "mimetype": "text/x-python",
   "name": "python",
   "nbconvert_exporter": "python",
   "pygments_lexer": "ipython3",
   "version": "3.9.13"
  }
 },
 "nbformat": 4,
 "nbformat_minor": 5
}
