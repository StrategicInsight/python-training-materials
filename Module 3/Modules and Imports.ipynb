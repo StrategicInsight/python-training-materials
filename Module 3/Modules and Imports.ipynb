{
 "cells": [
  {
   "cell_type": "markdown",
   "id": "1bc7daa7",
   "metadata": {},
   "source": [
    "# Modules and Imports\n",
    "\n",
    "Python code is organized into **modules** which can be imported in one of several ways depending on your needs. A Python module is usually (but not always) equivalent to a file.\n",
    "\n",
    "When imported with the default import syntax, the module becomes a **namespace**. Namespaced variables are accessed using dot syntax."
   ]
  },
  {
   "cell_type": "code",
   "execution_count": 8,
   "id": "b57e06dc",
   "metadata": {},
   "outputs": [
    {
     "name": "stdout",
     "output_type": "stream",
     "text": [
      "3.141592653589793\n",
      "0.0\n"
     ]
    }
   ],
   "source": [
    "import math # math is a module\n",
    "print(math.pi) # pi is a variable in the math module namespace\n",
    "print(math.sin(0)) # sin is a function in the math module namespace"
   ]
  },
  {
   "cell_type": "markdown",
   "id": "685702e5",
   "metadata": {},
   "source": [
    "Note that it is necessary to use the namespace to clarify that you mean the `pi` defined in `math`, and not some other variable called `pi`. If we omit the namespace, we see that the variable is undefined. This is a good thing! This means we can freely use whatever variable names we like in our own code, without worrying that it will conflict with a variable defined within a module."
   ]
  },
  {
   "cell_type": "code",
   "execution_count": 6,
   "id": "ae3e41f5",
   "metadata": {},
   "outputs": [
    {
     "ename": "NameError",
     "evalue": "name 'pi' is not defined",
     "output_type": "error",
     "traceback": [
      "\u001b[0;31m---------------------------------------------------------------------------\u001b[0m",
      "\u001b[0;31mNameError\u001b[0m                                 Traceback (most recent call last)",
      "\u001b[0;32m/var/folders/fw/h1zgxvn13q5_cwcb504nrm7h0000gq/T/ipykernel_36563/3440806613.py\u001b[0m in \u001b[0;36m<cell line: 0>\u001b[0;34m()\u001b[0m\n\u001b[0;32m----> 1\u001b[0;31m \u001b[0mpi\u001b[0m\u001b[0;34m\u001b[0m\u001b[0;34m\u001b[0m\u001b[0m\n\u001b[0m",
      "\u001b[0;31mNameError\u001b[0m: name 'pi' is not defined"
     ]
    }
   ],
   "source": [
    "pi"
   ]
  },
  {
   "cell_type": "markdown",
   "id": "c14e299d",
   "metadata": {},
   "source": [
    "### Importing specific members\n",
    "Now, while keeping explicit namespaces around is generally a good idea, there's no need to be dogmatic here. If you're only going to use a couple members of the namespace, you can import them directly by name. This adds the variables to the **global namespace**. The global namespace is the default namespace for variables that don't use the dot syntax - anything defined in the top level of a python file exists in the global namespace."
   ]
  },
  {
   "cell_type": "code",
   "execution_count": 10,
   "id": "c8a3c8b1",
   "metadata": {},
   "outputs": [
    {
     "name": "stdout",
     "output_type": "stream",
     "text": [
      "3.141592653589793\n"
     ]
    }
   ],
   "source": [
    "from math import sin, pi # import only two members from the math module\n",
    "print(pi) # pi is now a variable in the global namespace\n",
    "print(sin(0)) # sin is a function in the global namespace"
   ]
  },
  {
   "cell_type": "markdown",
   "id": "8cf3ae8a",
   "metadata": {},
   "source": [
    "One caveat to watch out for here: variables in the global namespace are not necessarily constant or unique. Global variables can be **shadowed** by definitions elsewhere. One of the key benefits of namespaces is that it makes it much harder to accidentally do something like this. Of course, redefining pi is a contrived example - but imagine accidentally shadowing something like `DATABASE_PASSWORD`, and then wondering why nothing works!"
   ]
  },
  {
   "cell_type": "code",
   "execution_count": 25,
   "id": "00802a87",
   "metadata": {},
   "outputs": [
    {
     "name": "stdout",
     "output_type": "stream",
     "text": [
      "3\n",
      "3.141592653589793\n"
     ]
    }
   ],
   "source": [
    "pi = 3 # oops! someone reassigned this global variable, when they shouldn't have.\n",
    "print(pi) # wrong value!\n",
    "print(math.pi) # but if we use a namespace, we can be sure about the source of the value."
   ]
  },
  {
   "cell_type": "markdown",
   "id": "0c0daaef",
   "metadata": {},
   "source": [
    "### Module aliases\n",
    "You can rename modules and attributes as they're imported. The commonly used `numpy` and `matplotlib` packages are almost always imported this way, which makes them a convenient example."
   ]
  },
  {
   "cell_type": "code",
   "execution_count": 16,
   "id": "6db6f6f4",
   "metadata": {},
   "outputs": [
    {
     "data": {
      "text/plain": [
       "3.141592653589793"
      ]
     },
     "execution_count": 16,
     "metadata": {},
     "output_type": "execute_result"
    }
   ],
   "source": [
    "import numpy as np # abbreviate a module name\n",
    "import matplotlib.pyplot as plt # abbreviate an attribute name\n",
    "np.pi"
   ]
  },
  {
   "cell_type": "markdown",
   "id": "98765552",
   "metadata": {},
   "source": [
    "### Star Import\n",
    "Finally, we may import all members of a module by using the star import. This puts every variable from the module into the global namespace. This is generally **not advised** for the aforementioned reasons of variable shadowing, but you may see it used here and there.\n",
    "\n",
    "One of the core values of python is `Explicit is better than implicit`. When you use namespaced variables, you are being explicit about where exactly the variable is coming from. Cherry-picking the one or two variables you need from the module accomplishes the same goal. Star imports are implicit because they put a whole lot of variables in the global namespace that you just have to know about, and you may accidentally shadow with your own variables."
   ]
  },
  {
   "cell_type": "code",
   "execution_count": 21,
   "id": "5af09088",
   "metadata": {},
   "outputs": [
    {
     "name": "stdout",
     "output_type": "stream",
     "text": [
      "3.141592653589793\n",
      "2.718281828459045\n",
      "0.0\n",
      "1.0\n"
     ]
    }
   ],
   "source": [
    "from math import *\n",
    "print(pi)\n",
    "print(e)\n",
    "print(sin(0))\n",
    "print(cos(0))"
   ]
  },
  {
   "cell_type": "code",
   "execution_count": null,
   "id": "60da2f01",
   "metadata": {},
   "outputs": [],
   "source": []
  }
 ],
 "metadata": {
  "kernelspec": {
   "display_name": "Python 3 (ipykernel)",
   "language": "python",
   "name": "python3"
  },
  "language_info": {
   "codemirror_mode": {
    "name": "ipython",
    "version": 3
   },
   "file_extension": ".py",
   "mimetype": "text/x-python",
   "name": "python",
   "nbconvert_exporter": "python",
   "pygments_lexer": "ipython3",
   "version": "3.11.1"
  }
 },
 "nbformat": 4,
 "nbformat_minor": 5
}
