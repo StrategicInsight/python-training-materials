{
 "cells": [
  {
   "cell_type": "markdown",
   "id": "b2f06d7e-7f0f-4c65-b4db-6845d24b2205",
   "metadata": {},
   "source": [
    "# Regular Expressions"
   ]
  },
  {
   "cell_type": "markdown",
   "id": "fe2a42b9-9864-428b-8ecc-990c83ff6809",
   "metadata": {},
   "source": [
    "### The gist\n",
    "Regular Expressions (regex) are sequences of characters that define search patterns, used for string manipulation and text search. They can be used in various languages including, of course, Python."
   ]
  },
  {
   "cell_type": "markdown",
   "id": "8426bd1a-413f-4439-9b84-2e09dc11dd23",
   "metadata": {},
   "source": [
    "### Main features to read on your own:\n",
    "1. Validation - Check if a string matches a certain pattern (e.g. email, phone number, etc)\n",
    "2. Search and Replace - Find and replace specific patterns within a string.\n",
    "3. Extraction - Extract specific information from a larger string.\n",
    "4. Tokenization - Splitting text into meaningful units (e.g. words, sentences).\n",
    "5. URL Routing - Matching and extracting information from URLs."
   ]
  },
  {
   "cell_type": "markdown",
   "id": "94e278a2-5a78-4fe0-99e6-ff2d73f83509",
   "metadata": {},
   "source": [
    "#### Basic components\n",
    "1. Literals - Characters that match themselves (e.g. \"a\" matches the letter \"a\").\n",
    "2. Metacharacters - Special characters with special meanings (common metacharacters listed below).\n",
    "3. Character classes - Represent sets of characters (e.g. \"[a-z]\" matches any lowercase letter)."
   ]
  },
  {
   "cell_type": "markdown",
   "id": "00161b5c-d705-426d-8320-62025edf5263",
   "metadata": {},
   "source": [
    "#### Common metacharacters\n",
    "- .(dot) - Matches any single character except a newline.\n",
    "- \\(backslash) - Escapes a metacharacter to be treated as a literal (e.g. \"\\.\" matches a period).\n",
    "- ^(caret) - Matches the start of a line or a string.\n",
    "- $(dollar) - Matches the end of a line or a string.\n",
    "- *(asterisk) - Matches the preceding element zero or more times.\n",
    "- +(plus) - Matches the preceding element one or more times.\n",
    "- ?(question mark) - Matches the preceding element zero or one time.\n",
    "- [] - Defines a character class (e.g. \"[aeiou]\" matches any vowel).\n",
    "- [^ ] - Defines a negated character class (e.g. \"[0-9]\" matches anything except digits)."
   ]
  },
  {
   "cell_type": "markdown",
   "id": "59593f01-07e1-4a0c-9e50-5592376f027f",
   "metadata": {},
   "source": [
    "#### Modifiers\n",
    "- i - Case-insensitive matching.\n",
    "- g - Global matching (find all matches, not just the first).\n",
    "- m - Multiline mode (treat the input as having multiple lines)."
   ]
  },
  {
   "cell_type": "markdown",
   "id": "ebc2e430-19b5-4d2e-b9be-3f4f2d984f0a",
   "metadata": {},
   "source": [
    "### Example - Validate an email address\n",
    "In this example, our `validate_email` function uses the `re.match()` function to check if the provided email matches the specified regex pattern."
   ]
  },
  {
   "cell_type": "code",
   "execution_count": 1,
   "id": "10b6b4e0-6646-46d0-b103-e65645480496",
   "metadata": {},
   "outputs": [
    {
     "name": "stdout",
     "output_type": "stream",
     "text": [
      "True\n",
      "False\n"
     ]
    }
   ],
   "source": [
    "import re\n",
    "\n",
    "def validate_email(email):\n",
    "\n",
    "    # This pattern checks the basic formatting of an email address\n",
    "    # It matches sequences of characters before and after the @ symbol\n",
    "    pattern = r'\\b[A-Za-z0-9._%+-]+@[A-Za-z0-9.-]+\\.[A-Z|a-z]{2,7}\\b'\n",
    "\n",
    "    # Return True if the email passes validation and False otherwise\n",
    "    if re.match(pattern, email):\n",
    "        return True\n",
    "    else:\n",
    "        return False\n",
    "\n",
    "email1 = \"user@example.com\"\n",
    "email2 = \"invalid.email\"\n",
    "\n",
    "print(validate_email(email1))\n",
    "print(validate_email(email2))"
   ]
  }
 ],
 "metadata": {
  "kernelspec": {
   "display_name": "Python 3 (ipykernel)",
   "language": "python",
   "name": "python3"
  },
  "language_info": {
   "codemirror_mode": {
    "name": "ipython",
    "version": 3
   },
   "file_extension": ".py",
   "mimetype": "text/x-python",
   "name": "python",
   "nbconvert_exporter": "python",
   "pygments_lexer": "ipython3",
   "version": "3.9.13"
  }
 },
 "nbformat": 4,
 "nbformat_minor": 5
}
