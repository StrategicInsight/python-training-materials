{
 "cells": [
  {
   "cell_type": "raw",
   "id": "c7e52ad2-b9b0-4c7c-be22-7627380da7fe",
   "metadata": {},
   "source": [
    "# Libraries and Modules\n",
    "## Contents"
   ]
  },
  {
   "cell_type": "markdown",
   "id": "90784c5a-f749-4483-b55d-a04655099275",
   "metadata": {},
   "source": [
    "1. Modules and imports\n",
    "1. Standard library tools\n",
    "    1. [OS and System](./OS%20and%20System.ipynb)\n",
    "    1. [File input/output](./File%20Input%20%26%20Output.ipynb)\n",
    "    1. [Date & Time](./Date%20&%20Time.ipynb)\n",
    "    1. [Regular Expressions](./Regular%20Expressions.ipynb)\n",
    "1. Common open source libraries\n",
    "    1. [Requests](./Requests.ipynb)\n",
    "    1. [SQL Alchemy](./SQL%20Alchemy.ipynb)\n",
    "    1. [Numpy and Matplotlib](./Numpy%20and%20Matplotlib.ipynb)"
   ]
  }
 ],
 "metadata": {
  "kernelspec": {
   "display_name": "Python 3 (ipykernel)",
   "language": "python",
   "name": "python3"
  },
  "language_info": {
   "codemirror_mode": {
    "name": "ipython",
    "version": 3
   },
   "file_extension": ".py",
   "mimetype": "text/x-python",
   "name": "python",
   "nbconvert_exporter": "python",
   "pygments_lexer": "ipython3",
   "version": "3.9.13"
  }
 },
 "nbformat": 4,
 "nbformat_minor": 5
}
