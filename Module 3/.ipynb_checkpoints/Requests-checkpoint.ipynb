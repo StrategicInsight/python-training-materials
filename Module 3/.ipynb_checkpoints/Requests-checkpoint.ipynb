{
 "cells": [
  {
   "cell_type": "markdown",
   "id": "985e17a7-54f3-4c2d-ae9d-695b2d2c1a19",
   "metadata": {},
   "source": [
    "# Open Source Libraries - Requests\n"
   ]
  },
  {
   "cell_type": "markdown",
   "id": "e64aa17e-8c35-4f05-bb17-cc6e961ff36b",
   "metadata": {},
   "source": [
    "### The gist\n",
    "Requests allows you to send HTTP/1.1 requests extremely easily. There’s no need to manually add query strings to your URLs, or to form-encode your POST data. Keep-alive and HTTP connection pooling are 100% automatic, thanks to urllib3.\n",
    "\n",
    "### Main features to read on your own:\n",
    "1. Making HTTP requests - It supports all major HTTP requests like GET, POST, PUT, DELETE, and PATCH.\n",
    "2. URL Handling - Requests takes care of URL encoding and decoding, making it convenient to work with different types of URLs, query params, etc.\n",
    "3. Request Headers - You can easily set custom headers in the request, such as User-Agent, Accept-Encoding, Authorization, etc\n",
    "4. Request Data - When making POST or PUT requests, you can send data in various formats, such as JSON, form data, files, etc.\n",
    "5. Response Handling - The library automatically parses the response data into appropriate python objects, depending on the response content type (JSON, XML, HTML, etc). It also handles response status codes and headers.\n",
    "6. Sessions and Cookies - Requests supports sessions, allowing you to persist certain parameters across multiple requests.\n",
    "7. Timeouts - You can set timeout values for requests, which is essential for preventing the application form hanging indefinitely if a request takes too long to complete.\n",
    "8. Authentication - The library supports various auth methods like Basic Auth, OAuth, etc, making it easy to access authenticated APIs.\n",
    "9. SSL Certification Verification - Requests automatically verifies SSL certificates by default, ensuring secure connections."
   ]
  },
  {
   "cell_type": "markdown",
   "id": "80c6ea18",
   "metadata": {},
   "source": [
    "### Example: Fetching data from an API\n",
    "Let's take a look at how to use the requests library on some real data. We'll query a public API which invents a fake test user for us and explore the structure of the responses."
   ]
  },
  {
   "cell_type": "code",
   "execution_count": 5,
   "id": "ae2c7bc9-5537-4bb2-a394-4200751fc845",
   "metadata": {},
   "outputs": [
    {
     "name": "stdout",
     "output_type": "stream",
     "text": [
      "ok\n"
     ]
    }
   ],
   "source": [
    "import requests\n",
    "response = requests.get('https://randomuser.me/api/')\n",
    "if response.status_code == 200:\n",
    "    print('ok')\n",
    "else:\n",
    "    print('failure!')"
   ]
  },
  {
   "cell_type": "markdown",
   "id": "bff86050",
   "metadata": {},
   "source": [
    "The first thing we want to check is the http [status code](https://developer.mozilla.org/en-US/docs/Web/HTTP/Status) which tells us whether our response was successful. Some of the most commonly encountered codes:\n",
    "```\n",
    "200 - OK\n",
    "400 - Bad Request (The server didn't understand your request)\n",
    "401 - Not Authorized (You didn't enter the right credentials)\n",
    "404 - Not Found\n",
    "500 - Internal Server Error\n",
    "```"
   ]
  },
  {
   "cell_type": "markdown",
   "id": "4182dbe1",
   "metadata": {},
   "source": [
    "Since we got a 200 (successful response), let's take a look at the data we received. Most user-facing websites will send HTML data which is rendered by a browser. Since we requested from an API server, we receive our data in a structured form - a common format used for this is [JSON](https://developer.mozilla.org/en-US/docs/Learn/JavaScript/Objects/JSON). `requests` has built-in support for parsing JSON. Note that the `json()` method will fail on an empty response, so you should make sure you got a `2xx` status code before calling it."
   ]
  },
  {
   "cell_type": "code",
   "execution_count": 6,
   "id": "533be30c",
   "metadata": {},
   "outputs": [
    {
     "data": {
      "text/plain": [
       "{'results': [{'gender': 'female',\n",
       "   'name': {'title': 'Miss', 'first': 'Willie', 'last': 'Mccoy'},\n",
       "   'location': {'street': {'number': 2481, 'name': 'Poplar Dr'},\n",
       "    'city': 'Traralgon',\n",
       "    'state': 'Victoria',\n",
       "    'country': 'Australia',\n",
       "    'postcode': 9591,\n",
       "    'coordinates': {'latitude': '-84.3302', 'longitude': '142.2135'},\n",
       "    'timezone': {'offset': '+5:45', 'description': 'Kathmandu'}},\n",
       "   'email': 'willie.mccoy@example.com',\n",
       "   'login': {'uuid': 'f94c3aec-64bb-49ed-b0c2-a0eb983d7bf3',\n",
       "    'username': 'blackmouse116',\n",
       "    'password': 'rush2112',\n",
       "    'salt': 'sTUM3ZUb',\n",
       "    'md5': 'a58bb5752a6eb395dd0774ee699b56e8',\n",
       "    'sha1': 'da0686d31ffa9bf5adff69137f09636767d47f7c',\n",
       "    'sha256': '4d075708d6dbcd0a2fbe00e22161d6280371a33d3e8aab72069d5c6f9f0f6066'},\n",
       "   'dob': {'date': '1994-10-01T00:00:54.519Z', 'age': 28},\n",
       "   'registered': {'date': '2016-07-29T14:21:03.882Z', 'age': 7},\n",
       "   'phone': '05-2847-9259',\n",
       "   'cell': '0488-000-136',\n",
       "   'id': {'name': 'TFN', 'value': '089131269'},\n",
       "   'picture': {'large': 'https://randomuser.me/api/portraits/women/56.jpg',\n",
       "    'medium': 'https://randomuser.me/api/portraits/med/women/56.jpg',\n",
       "    'thumbnail': 'https://randomuser.me/api/portraits/thumb/women/56.jpg'},\n",
       "   'nat': 'AU'}],\n",
       " 'info': {'seed': '19caa7a58071d35a',\n",
       "  'results': 1,\n",
       "  'page': 1,\n",
       "  'version': '1.4'}}"
      ]
     },
     "execution_count": 6,
     "metadata": {},
     "output_type": "execute_result"
    }
   ],
   "source": [
    "content = response.json()\n",
    "content"
   ]
  },
  {
   "cell_type": "markdown",
   "id": "fe1452f5",
   "metadata": {},
   "source": [
    "We can see that the response is structured as a dictionary with the key `results` being a list of users. Let's grab the user data. Since `content['results']` is a list, we choose the first element."
   ]
  },
  {
   "cell_type": "code",
   "execution_count": 7,
   "id": "5401a015",
   "metadata": {
    "scrolled": true
   },
   "outputs": [
    {
     "name": "stdout",
     "output_type": "stream",
     "text": [
      "{'title': 'Miss', 'first': 'Willie', 'last': 'Mccoy'}\n",
      "willie.mccoy@example.com\n"
     ]
    }
   ],
   "source": [
    "user = content['results'][0]\n",
    "print(user['name'])\n",
    "print(user['email'])"
   ]
  },
  {
   "cell_type": "markdown",
   "id": "f063b518",
   "metadata": {},
   "source": [
    "Now that we have some data, let's make another request for the user's picture which was given as a url. Since we don't expect text output, instead of using the `json` parser we print out the bytes directly. Since it's image data, this isn't very useful yet..."
   ]
  },
  {
   "cell_type": "code",
   "execution_count": 8,
   "id": "fdba4b7a",
   "metadata": {
    "scrolled": true
   },
   "outputs": [
    {
     "data": {
      "text/plain": [
       "b'\\xff\\xd8\\xff\\xe0\\x00\\x10JFIF\\x00\\x01\\x01\\x01\\x00H\\x00H\\x00\\x00\\xff\\xe2\\x02\\xa0ICC_PROFILE\\x00\\x01\\x01\\x00\\x00\\x02\\x90lcms\\x040\\x00\\x00mntrRGB XYZ \\x07\\xde\\x00\\x05\\x00\\x1d\\x00\\x13\\x00\\x16\\x004acspAPPL\\x00\\x00\\x00\\x00\\x00\\x00\\x00\\x00\\x00\\x00\\x00\\x00\\x00\\x00\\x00\\x00\\x00\\x00\\x00\\x00\\x00\\x00\\x00\\x00\\x00\\x00\\xf6\\xd6\\x00\\x01\\x00\\x00\\x00\\x00\\xd3-lcms\\x00\\x00\\x00\\x00\\x00\\x00\\x00\\x00\\x00\\x00\\x00\\x00\\x00\\x00\\x00\\x00\\x00\\x00\\x00\\x00\\x00\\x00\\x00\\x00\\x00\\x00\\x00\\x00\\x00\\x00\\x00\\x00\\x00\\x00\\x00\\x00\\x00\\x00\\x00\\x00\\x00\\x00\\x00\\x00\\x00\\x00\\x00\\x0bdesc\\x00\\x00\\x01\\x08\\x00\\x00\\x008cprt\\x00\\x00\\x01@\\x00\\x00\\x00Nwtpt\\x00\\x00\\x01\\x90\\x00\\x00\\x00\\x14chad\\x00\\x00\\x01\\xa4\\x00\\x00\\x00,rXYZ\\x00\\x00\\x01\\xd0\\x00\\x00\\x00\\x14bXYZ\\x00\\x00\\x01\\xe4\\x00\\x00\\x00\\x14gXYZ\\x00\\x00\\x01\\xf8\\x00\\x00\\x00\\x14rTRC\\x00\\x00\\x02\\x0c\\x00\\x00\\x00 gTRC\\x00\\x00\\x02,\\x00\\x00\\x00 bTRC\\x00\\x00\\x02L\\x00\\x00\\x00 chrm\\x00\\x00\\x02l\\x00\\x00\\x00$mluc\\x00\\x00\\x00\\x00\\x00\\x00\\x00\\x01\\x00\\x00\\x00\\x0cenUS\\x00\\x00\\x00\\x1c\\x00\\x00\\x00\\x1c\\x00s\\x00R\\x00G\\x00B\\x00 \\x00b\\x00u\\x00i\\x00l\\x00t\\x00-\\x00i\\x00n\\x00\\x00mluc\\x00\\x00\\x00\\x00\\x00\\x00\\x00\\x01\\x00\\x00\\x00\\x0cenUS\\x00\\x00\\x002\\x00\\x00\\x00\\x1c\\x00N\\x00o\\x00 \\x00c\\x00o\\x00p\\x00y\\x00r\\x00i\\x00g\\x00h\\x00t\\x00,\\x00 \\x00u\\x00s\\x00e\\x00 \\x00f\\x00r\\x00e\\x00e\\x00l\\x00y\\x00\\x00\\x00\\x00XYZ \\x00\\x00\\x00\\x00\\x00\\x00\\xf6\\xd6\\x00\\x01\\x00\\x00\\x00\\x00\\xd3-sf32\\x00\\x00\\x00\\x00\\x00\\x01\\x0cJ\\x00\\x00\\x05\\xe3\\xff\\xff\\xf3*\\x00\\x00\\x07\\x9b\\x00\\x00\\xfd\\x87\\xff\\xff\\xfb\\xa2\\xff\\xff\\xfd\\xa3\\x00\\x00\\x03\\xd8\\x00\\x00\\xc0\\x94XYZ \\x00\\x00\\x00\\x00\\x00\\x00o\\x94\\x00\\x008\\xee\\x00\\x00\\x03\\x90XYZ \\x00\\x00\\x00\\x00\\x00\\x00$\\x9d\\x00\\x00\\x0f\\x83\\x00\\x00\\xb6\\xbeXYZ \\x00\\x00\\x00\\x00\\x00\\x00b\\xa5\\x00\\x00\\xb7\\x90\\x00\\x00\\x18\\xdepara\\x00\\x00\\x00\\x00\\x00\\x03\\x00\\x00\\x00\\x02ff\\x00\\x00\\xf2\\xa7\\x00\\x00\\rY\\x00\\x00\\x13\\xd0\\x00\\x00\\n[para\\x00\\x00\\x00\\x00\\x00\\x03\\x00\\x00\\x00\\x02ff\\x00\\x00\\xf2\\xa7\\x00\\x00\\rY\\x00\\x00\\x13\\xd0\\x00\\x00\\n[para\\x00\\x00\\x00\\x00\\x00\\x03\\x00\\x00\\x00\\x02ff\\x00\\x00\\xf2\\xa7\\x00\\x00\\rY\\x00\\x00\\x13\\xd0\\x00\\x00\\n[chrm\\x00\\x00\\x00\\x00\\x00\\x03\\x00\\x00\\x00\\x00\\xa3\\xd7\\x00\\x00T{\\x00\\x00L\\xcd\\x00\\x00\\x99\\x9a\\x00\\x00&f\\x00\\x00\\x0f\\\\\\xff\\xdb\\x00C\\x00\\x05\\x03\\x04\\x04\\x04\\x03\\x05\\x04\\x04\\x04\\x05\\x05\\x05\\x06\\x07\\x0c\\x08\\x07\\x07\\x07\\x07\\x0f\\x0b\\x0b\\t\\x0c\\x11\\x0f\\x12\\x12\\x11\\x0f\\x11\\x11\\x13\\x16\\x1c\\x17\\x13\\x14\\x1a\\x15\\x11\\x11\\x18!\\x18\\x1a\\x1d\\x1d\\x1f\\x1f\\x1f\\x13\\x17\"$\"\\x1e$\\x1c\\x1e\\x1f\\x1e\\xff\\xdb\\x00C\\x01\\x05\\x05\\x05\\x07\\x06\\x07\\x0e\\x08\\x08\\x0e\\x1e\\x14\\x11\\x14\\x1e\\x1e\\x1e\\x1e\\x1e\\x1e\\x1e\\x1e\\x1e\\x1e\\x1e\\x1e\\x1e\\x1e\\x1e\\x1e\\x1e\\x1e\\x1e\\x1e\\x1e\\x1e\\x1e\\x1e\\x1e\\x1e\\x1e\\x1e\\x1e\\x1e\\x1e\\x1e\\x1e\\x1e\\x1e\\x1e\\x1e\\x1e\\x1e\\x1e\\x1e\\x1e\\x1e\\x1e\\x1e\\x1e\\x1e\\x1e\\x1e\\x1e\\xff\\xc0\\x00\\x11\\x08\\x00\\x80\\x00\\x80\\x03\\x01\"\\x00\\x02\\x11\\x01\\x03\\x11\\x01\\xff\\xc4\\x00\\x1c\\x00\\x00\\x02\\x03\\x01\\x01\\x01\\x01\\x00\\x00\\x00\\x00\\x00\\x00\\x00\\x00\\x00\\x05\\x06\\x03\\x04\\x07\\x08\\x02\\x00\\x01\\xff\\xc4\\x00<\\x10\\x00\\x02\\x01\\x03\\x02\\x04\\x03\\x06\\x05\\x02\\x05\\x03\\x05\\x00\\x00\\x00\\x01\\x02\\x03\\x00\\x04\\x11\\x05!\\x06\\x121A\\x13Qa\\x07\"2q\\x81\\x91\\x14#B\\xa1\\xc1\\x15\\xd1\\x083R\\xb1\\xe1\\x16r\\xf1$%Tb\\xf0\\xff\\xc4\\x00\\x1a\\x01\\x00\\x02\\x03\\x01\\x01\\x00\\x00\\x00\\x00\\x00\\x00\\x00\\x00\\x00\\x00\\x00\\x03\\x04\\x00\\x01\\x02\\x05\\x06\\xff\\xc4\\x00\"\\x11\\x00\\x02\\x02\\x02\\x02\\x03\\x01\\x00\\x03\\x00\\x00\\x00\\x00\\x00\\x00\\x00\\x00\\x01\\x02\\x11\\x03\\x12!1\\x04\"AQ\\x13\\x142\\xff\\xda\\x00\\x0c\\x03\\x01\\x00\\x02\\x11\\x03\\x11\\x00?\\x00\\xe4\\xff\\x00\\xc7\\xb8\\xf8QG\\xce\\xbc\\x8b\\xab\\xc9\\\\G\\x11\\xcb9\\xc0T\\x19\\xc9\\xf2\\xc5t-\\xaf\\xb2\\xbfa\\xd6#\\xff\\x00p\\xe3\\x1e(\\xd5\\xdc\\x7f\\xf1mc\\x85O\\xa6\\xe0\\x9f\\xde\\xabq\\x1e\\x97\\xec\\x93A\\xd0\\xe6\\xb9\\xe1n\\x1f\\xd6$\\xd4\\xd3\\xfc\\x9b\\xadF\\xef\\x9c)\\xecB(\\x03?:m\\xe4@\\xa2\\xad\\xd0\\x81\\xc3Z}\\xed\\xa2%\\x8a\\x1f\\x12\\xf6\\xe8/\\xe22w\\x8cu\\x08\\xb8\\xfd\\xcdj\\xda\\x1f\\n\\xac6\\xe8.\\x0f\\x88\\xc3|\\x11B}\\x90\\xe92\\xdf\\\\\\xc9\\xa9]s9U\\x07-\\xdc\\x9a\\xd5c\\xb5\\x01v\\x19\\xaeg\\x93\\x9d\\xb7H\\xebx\\xd8#\\xad\\xb3>\\xd78F\\x0b\\x9f\\xf2\\xe3Ly\\x1e\\xd4\\x85\\xc6<%-\\xbd\\x8bM\\x10bc<\\xc3\\xe5[\\xc5\\xcd\\xb6\\xc7j]\\xd5\\xed\\x04\\xa8\\xc8\\xe3!\\x86\\x084\\x18f\\x92|\\x8c\\xcb\\x04Z9\\xaexHc \\x008\\xf8\\x866>\\xb5\\t^\\\\:\\x0ft\\x9f\\xb1\\xee)\\xc3\\x8d47\\xd3\\xb5\\x16\\x924\\xfc\\xb2}\\xdf\\xedJ\\xce\\x109\\\\\\xe1\\x1cl|\\xbdi\\xf8\\xcfeg:X\\xb5d\\r\\x10\\x91\\x0b/^\\x98\\xf2\\xa8P\\xfb\\xc5q\\xef\\x0e\\xdeuu\\x92H\\xb0\\xe0o\\xd1\\x80\\xefQ]A\\xcc\\xbe<g9\\xdcz\\x8a\\x9b\\x19q \\x8d\\xca6P\\xfc\\xc5Y \\xb2\\xf8\\x91\\x1eW\\x1dGcU\\xd4\\tc8?\\x99\\x8d\\xf2w\\xafv\\xb370\\\\\\xe1\\x87\\x9dFR\\x08\\xe9Z\\x9a\\xc5*\\xf8\\xc4\\xc2\\xe0\\xfcC\\xa59\\xdaNo\\xe4\\x83\\x9f\\x0e\\xa8\\x0b\\x9e_\\xd5\\x8e\\x9f\\xbd#Ol\\xb2\\xc7\\xe2\\xae\\xcd\\xdcU\\x8d\\x1fP\\x9fL\\xba\\x8d\\x19\\x9b\\xc2 \\x1e\\xbd\\x0f\\xa1\\xaa_\\xa8\\xb9+T\\xc7MBx\\xa2\\x02Evy\\x1f<\\xe8c8\\x03=3\\x9d\\xcd}\\xa6\\xdc=\\xcc\\xcb\\x10TUTi$gn@\\x15G1\\xce~_S\\x8a\\xb9\\x95\\xd4\\xe1K\\x89\\n\\xc8\\\\n\\xe0\\x05\\'\\xedUg\\xb1\\xca\\x98\\xe3\\x1c\\xb1\\x93\\x92;\\xe0v\\xa6c$\\xd0\\x94\\x93N\\x8f\\r\\xac\\xe9\\xaa@:\\xb8v\\'\\xe1\\x8a,\\xe6\\xa1\\xd7\\xee\\x04\\xc2\\xd2\\xddY\\x8a<\\x81\\x89a\\x8d\\xbc\\xb1\\xeb\\x91\\xf6\\xa3\\xf6\\xabn\\x8d\\xf9q\\xc4\\x81G1!@\\x00R\\x86\\xa1?\\xe2\\xf8\\x98\\x14\\xdd#\\xc7/\\x99\\'?\\xcd/\\x92_\\x06\\xf0\\xc3\\xe9\\xd0\\x1e\\xcd\\xf4\\xc1g\\xc2\\xb0HA\\xe7\\x9cx\\x87\\xe4z~\\xd4\\xca\\xb1{\\xbd)\\x1d\\xf8\\xd6\\x1d7K\\x8e\\r>\\xc2\\xe2\\xee;tX\\xda@\\x84  c\\xad5p\\x8e\\xb5\\x0e\\xbb`.V6\\x89\\x81\\xc3\\xa19\\xc1\\xf9\\xd7:Q}\\xb3\\xad\\x06\\xaa\\x8b\\x17\\x11{\\xbf\\r\\x07\\xbc\\xb5\\xc8$\\x8aj\\x9e%T9\\xfd\\xe9\\x7fX\\x99\"\\x85\\xf9N\\xe0\\x13\\x8a\\xaa\\x08f\\xdc{\\xa5\\xad\\xcd\\xa3\\xe1r\\xcb\\xb8\\xda\\xb1\\xadN\\xdf\\xc2c\\x95<\\xbd\\xfd\\riZ\\xcc\\x9cE\\xab\\xdd\\xcb\\x14\\x0e\\xf1\\xa8\\'q\\xb0\\x1f:Y\\xe2\\r\\x12\\xea\\xd2\\x05k\\x96\\x121\\xc8f\\x1d\\xcd\\x1e\\x0fQ|\\x91\\xd8R\\xb5\\x93\\x9b\\xff\\x00O!\\xf7\\x80\\xc2\\x9f:\\xf6\\x88\"\\x93\\x91\\xbe\\x07;g\\xb1\\xa8\\xee`d`W\\xf4\\x9d\\x89\\xff\\x00cV\\xa3e\\xb9\\x80\\x06\\x04?q\\xe7\\x8f\\xe6\\x8e\\xd8\\xa5|)\\xdc\\xdb\\x18\\x9f\\xc6\\x8dp\\x17\\xe2\\x02\\xa0\\x965f\\xf1\\xe38Rw\\xc0\\xe8h\\xb5\\xb9a\\x98\\xa6\\x00\\xb8\\x18\\x04\\x8d\\x88\\xf5\\xafIh\\x91?2\\x82\\xd0\\x9d\\x9dOT\\xfe\\xe2\\xa2\\x91\\x9d,\\xfd\\xb4F\\x92\\xd389R\\t\\xc5I=\\xaa\\xca\\x80\\x95\\xcay\\x8e\\xdb\\xecG\\xf6\\xa2\\xda\\x05\\xa7,\\xbe\\x0b\\x8c\\xa9\\xd8z\\x83Da\\xd2LS\\xcb\\t\\x19T\\xe6\\xdb\\xcdO\\xf68\\xa1\\xef\\xc8G\\x0e\\x01\\xfc+qsc0\\xb3\\x98\\x16\\x8c\\x9c|\\x8fb)\\xa5\\xca2\\xab/~\\xf5N\\xdbK\\x12+{\\xbf\\x9b\\x00\\xf9s\\xafZ\\xb4\\x98\\x04\\xa9\\xe9\\xd4\\x1f:>9\\xd8\\xaeh\\x03\\xf8\\x83R\\x8e\\xd6\\x16\\xb7O\\x8d\\x86\\xf8\\xa5}\\x1eu\\xfe\\xb7\\x0c\\x8f\\x82\\xaf(\\x07\\'\\xe4\\x07\\xef\\x9a\\xfc\\xe2i\\x8c\\x9a\\xcd\\xc1\\xc9\\xc0<\\xbfj\\x0e\\xd3\\x18\\xf0A\\xf7\\x94\\x86\\x1fJ\\xc7lb\\x15\\x18\\xa3\\xac.u\\r7M\\xb7\\x16+\\xe0\\xc2\\x8a9\\x008\\xdf\\xfb\\xd4:\\x0c\\x96V\\xee\\xf2Y\\x84Es\\xef\\x84\\x18\\x1fn\\xd5\\x91Ziz\\xdf\\x1a\\xf1\\xa4\\xd1]\\\\]i6\\xc1<P3\\xc9!\\x07q\\xd7}\\xe8F\\x85\\xa8\\xeb\\xba\\x1e\\xbe\\xbf\\x86\\xd4oo\\xad\\x96@\\xb2E21\\x18-\\x82\\x01;\\xe4P\\xbf\\xafq\\xbb\\x0e\\xfc\\xb4\\xa5\\xaaGR\\\\\\x9e}=dR0\\xc2\\x91u{\\x82\\xf7%>\\x94\\xd3}<\\x96\\xfa\\x1d\\xb2\\x10A\\xf0\\x87ZM\\x9b\\x99\\x9d\\xa4\\x03-\\x82G\\xce\\x96\\x8f,jN\\x95\\x81u\\xcb\\xeb\\x1d*/\\x16\\xeeEA\\x9f\\x87 }\\xc9\\xd8R\\x0e\\xbb\\xc5\\x9a5\\xe9hD\\x8b\\xefw\\x0c\\x18S\\xce\\x9d\\xa4\\xe8\\x1a\\x8d\\xe5\\xdd\\xef\\x18\\xc0\\xd2:\\xa1]>\\xd9\\xdb\\xc2\\n{3\\x120X\\xed\\xd7`\\rcZ\\xbe\\x88\\xafx\\xec\\xb6\\xb3B\\x9c\\xc3&C\\xd8\\xf5=\\x00\\x18\\xa7a\\x865lG\\'\\x938\\xcbT\\x8fW\\x90\\xab\\x8eh\\x88dm\\xc1\\x15F4(\\xd8\\xc6\\xd5&\\x89ou\\x14\\xefn\\xa4\\xc9\\x0eva\\xfaj\\xe4\\xd1\\xf2I\\x89\\x14\\x03Y~\\xae\\x8d%\\xba\\xd8\\x87\\x0b(\\xc3\\x9c0\\x07\\x95\\xfb\\x8f\\x9f\\x9d{G\\x92\\'\\x05\\xc0\\xc8\\xeb\\x8d\\xc1\\x15\\xfa\\xf1\\xe0s.\\x1b\\x1eCq^Q\\xca7,\\x8b\\x94;T\\xbe\\n\\xaa\\x18\\xf4W\\x8d\\xa4U\\xc8\\x19\\xc1_/\\x9554~(\\x8e\\xe0\\x00\\\\\\xa9C\\xff\\x00u$X\\xa9X\\xc3+\\xe7\\x1f\\t\\xe9\\xf4\\xa6\\xcd\\x0e\\xf95\\x0bv\\xb5-\\xe1\\xdc\\xa8\\xd8\\x1d\\xb2\\xc2\\x81\\xf6\\xc25\\xc0~\\xde\\xcf*\\xb3B\\x070\\xc8\\xc7\\x9e1\\xfd\\xea=GM\\x8c\\\\\\xa9\\x89ycf\\xe9\\xfe\\x9c\\xf5\\x15Tk\\x02\\xd9K\\x93\\x81\\x92Xy\\r\\xbf\\xda\\xad\\xc1\\xacGq\\xef\\xcc\\xa0\\xe3s\\xcb\\xe7\\x8f\\xfc\\xd1ai\\xd8\\xbc\\xd2f?\\xae\\xb2\\xc7\\xa9\\\\\\x8c\\xe4\\x19\\x18\\x82;\\x8c\\xedUxsO}k\\x88\\xb4\\xed.3\\xbd\\xe5\\xdcp\\xe4v\\x05\\x86\\x7fl\\xd4\\x9a\\xfa\\xc9-\\xeb,`\\x96l.GJe\\xf6\\x1d\\x04M\\xed\\x7fA\\x84\\xee\"\\x91\\x89\\xf5a\\x1b\\x1f\\xf7\\xa2\\xbe\\x13/\\x1a\\xd9\\xa4t\\xbe\\xb5\\xc2\\x1ae\\xe6$6q\\xbc\\xa1yC\\x1d\\x8e:u\\x15WI\\xe0\\xf8-\\xaf\\xe3\\x98\\xa2\\x93\\xce6^\\x98\\xfa\\xd3\\xf2\\xc3\\xce\\x8a\\xd8\\xce\\xdd\\xab\\xf0C\\xc9\\xcc\\xc4n\\x06\\xd4\\x9e\\xef\\xa3\\xa0\\xf1$\\xc5.,\\xe5eX\\xbb\\xd2\\xe46\\xc4\\x12\\xb8\\xd8\\xf48\\xa3\\xdcI\\x1c\\x9c\\xdc\\xf8;U\\r?\\xc3\\x9a4nj\\x1a|\\x86pO\\x82\\x15\\xd2\\x12d\\xc3\\x01\\x9e\\xe1\\xc6A\\xfb\\xd5\\x1b\\xae\\x13\\xb4\\x90\\x92m-Cc\\xe2\\t\\x83N\\xd6\\x96j\\xf1\\x82k\\xdc\\xb6!w##\\x14M\\xd9\\x85\\x853)\\xd4xV\\xce\\xd2\\x161\\xc4\\x81\\xba\\xec\\xb5\\x98\\xf1N\\x9c\\xb0\\xdc\\xb6T\\x05?j\\xe8\\x1d~\\xd8a\\x80;Ve\\xc6\\x9aP\\x96\\xd6@\\xab\\xf2\\xa8\\xa5\\xc9r\\xc4\\x92\\xe0\\xc9\\xe4Y\\xad\\xce\\x13\\xdf\\x03\\xa6{W\\x84\\xba\\x89\\x88\\x12f3\\xdc?O\\xa1\\xa8\\xae\\xefe\\xb0\\xb8h\\xa5Ne\\rR\\xc75\\xa5\\xc1b\\xac1\\x92\\x0e\\xd9\\x1f\\xfe\\xfaQ\\xe9\\xfd\\x10ut\\x82z{F\\xd8\\n\\xe1\\x18\\xf4\\xe6\\xe8\\x7f\\x83E\\xed\\xe1\\xe6\\x99_>\\x0c\\xeb\\x8d\\xfb?\\x95+\\xc5e\\x86\\xf1-\\xa5\\xdb=\\x15\\xb6\\xfa\\x8a1\\xa6\\xcd\\xaa[\\x9cg\\x9d\\x07g\\x8b\\x98Vu\\xfc&\\xcd\\xf0\\xd0K]y\\x8c\\x06I#e\\x95O\\xbcq\\xb4\\x80\\xf5?:\\xfb\\x84.\\x9eK\\x89m.\\x11\\x81\\xc0d\\'\\xb8\\xc0\\xff\\x00\\x9a\\xb7w\\xa8\\xdbK\\xa6\\xb2_Y\\xcd\\x10;\\xf3\\xaa\\x92\\xa0\\xf9\\xe3\\xa8\\xa0\\xb6\\x17\\xc6\\xda|3sa\\x83\\x0fw\\x18\\x19\\xa3\\xe3V\\x80\\xcd\\xa4\\xc8/\\xedE\\xb5\\xbb]\\x1fx\\x8e\\xdel\\x7f\\x8f\\xedU=\\x93\\xdf\\x8b\\x0fk\\xbc;;\\x1ft_*\\xbf\\xc9\\xc1_\\xe6\\x88\\xddkZ%\\xcc\\rk\\x1d\\xe4RHq\\x80\\x14\\x9c\\xfe\\xd4\\x1a\\xdbJk=^;\\xa4\\xe7\"&Y\\x11\\x93b\\\\\\x10@\\xf4\\xdf\\x19\\xa94\\x95\\xd9\\x9c\\x12n\\x9a\\xf8w\\x1c\\xda\\x8a\\xc3ny0\\x0e(=\\xa7\\x17Z@\\xf2\\xdb23LT\\xb9v_t\\xe0\\xf4\\x07\\xd0b\\x83Yj\\xa3T\\xe1\\xfb]B<\\xf2\\xdc\\xc0\\xb2\\r\\xf3\\x82F\\xe3\\xef\\x91D\\xf8GJI\\xb4\\xf9f\\xb8\\x89[\\xc4\\x90\\xec\\xc3#\\x03j\\xe5\\xa9\\xf2w$\\xa3V+\\xf1/\\x17~k\\xf3X<\\xcaA! ^g#\\xe5A\\xb4\\xedwM\\xbf\\xb2\\x91\\xe0\\xb2\\xd4t\\xf9\\xa3;-\\xdc>\\x1f7\\xa8\\xf3\\xa6\\xdb\\x8e\\x10\\xfc>\\xa6\\xefnH\\x85\\x8eD{\\xf2\\xadx\\xb9\\xd0c\\x13\\x07\\x925.;\\xe3\\xa5i\\xca$\\x8a\\xb2-\\x0b\\\\\\x926\\x10\\xca\\xf9lm\\xea)\\x87\\xf1\\xcb*s\\x13\\xb9\\xa5]CNU\\\\\\xc60\\xeb\\xb8 \\xee+\\xebK\\xc9\\x91y$\\x198\\xeb\\xda\\xab`\\x91\\xa5\\xd8CW\\xc3!4\\x91\\xae\\xc6$\\x0e1L\\xb7\\xb7,\\xe8|\\xe8-\\xd4\\x05\\xd0\\xb1\\x15w\\xc9si\\xa3\\x03\\xe3\\xeb/\\n\\xe5\\x98\\x00=\\xed\\xa8\\x08\\xb5\\x8f\\xf0\\x89\\x1a9\\xe7\\xf3\\x07\\xafri\\xeb\\xda\\x94!\\x07N\\xf4\\x8b\\xa5\\xb1\\'\\x9c\\xfc(w\\x1e\\x99\\xc7\\xf3]\\x0c\\x7f\\xe4\\xe2f^\\xe5V\\x13*\\x8b\\xb4\\x91\\xc0S\\xcb\"\\x86#\\x94\\xff\\x00\\xcd\\\\\\xb7\\x9e\\xe6P\\x02]\\xce\\x1b\\xf4\\xf2\\xc8Fj\\xe5\\xc5\\xbf+\\x93\\x10F\\r\\xf1\\xa9\\x1b0\\xa8!\\xd3c\\x12s\\xc4e\\x8b~\\x9dE\\x114\\xfb\\x03(4\\xf8\\x08\\xd8\\\\^\\x1bf\\x0f{w\\xee\\x8f{3\\x1cg\\xd7\\xf7\\x15\\x7fM\\xb33\\xdd\\xc6\\x9c\\xd8\\x8b<\\xcc\\x7fW/|\\x8f3\\xda\\xa2\\xd3m\\xd5\\x10\\xaa\\xbc\\x8c9\\x94\\xec<\\xb3\\xfd\\xcd4\\xe8\\rj\\x93,+\\x01B}\\xe2B\\xe3\\xf7\\xf3\\xa9\\xbd\\x13N\\x0c\\xbfK@\\x97C\\x93f\\xc1\\xc1\\xce1\\xb14\\xf1\\xc1\\xd2\\xa5\\xc5\\xa3,\\xb9W\\x8c\\xe0\\x12v \\x8aO\\xb7B\\x92\\x99\\x14\\x02\\xc3\\xcf\\xd6\\x9cma\\x8bF\\xd0\\xa4\\x96\\xe4\\x9f\\xc4N\\xbc\\xc9\\x18;\\xa2c\\xaf\\xa1?\\xcd_\\x93T\\x0b\\xc5\\xb7.\\r\\xaf\\xd8\\x85\\xec:\\x97\\x0f\\xddi\\x05\\xc1\\x92\\xceft\\x1d\\xfc\\'?\\xc3g\\xee)\\xce\\xebU\\xd7,\\x1a\\xc7E\\xd1\\xed\\xad\\xcd\\xc5\\xcb\\xb2\\x89&\\xcf*\\x90\\x0b\\x0f\\xbe\\x08\\xcf\\x9e+\\x9f=\\x91q\\x12\\xf0\\xb7\\x10Yj\\xfa\\xa4\\xde\\r\\xbd\\xd9\\x10\\xc8\\x9c\\xa7>\\x1b\\x1cn=69\\xf4\\xae\\xa2\\xd4\\xec<t\\x95\\xa0\\x90\\xc7:\\xc4\\xcf\\x0c\\x89\\x8c\\xab\\x01\\x90G\\xd4\\x03\\\\\\x99GL\\x8a\\xfe\\x9d\\xcc3\\xde4\\xbb\\x06Ok\\xed2\\x15\\x89\\r\\x96\\x97;\\xcf)\\x8a\\'\\xe6\\xe8\\xc3\\xccy\\x1c\\x1c\\x1a\\x13ue\\xed\\x17\\xc7\\x99&\\xfe\\x9c\\xcf\\x0c\\xc9\\x14\\x8ab\\xd8\\x16\\xc67\\x1d\\xb7\\xebTt?m\\x1a\\xf5\\xa5\\xd4\\x9aF\\xb9\\xa1~.\\xea\\xda\\xe1\\x95n`\\x93\\xc3\\xf1\\x13\\x1e\\xe9(A\\xdf\\x07\\xb1\\xc7\\xca\\x86\\xf1W\\xb5~%\\xbe\\x96x4+K;d\\xb8\\n\\x03\\xccK\\xc8\\xac\\x0e\\xe7\\x1b\\x0f!\\xbd9\\xfcH\\xcb\\xcf\\x9d7\\x17\\x05\\xc1\\x7f[\\x9b\\x88\\xb4\\x99\\xae\\x13T\\xd3\\xb4\\xf9#\\x86D\\x8c\\xcb\\x14\\xfc\\x81\\x8bt#\\x9b\\xed@x\\x13\\x88,\\xf8\\xaa\\xf6\\xe3\\xf0\\x11\\xcd\\xe0\\xc6\\xc5\\x18\\xb2\\xec\\x1cv\\x07\\xbfZR\\xe2(8\\xab\\x8duyb\\xd4oY\\x96\\xe4\\xc6d\\xb6\\x8f\\x99m\\xd4\\'C\\xcb\\x9e\\xdd}O\\xed\\xacp/\\rY\\xf0\\xfd\\x85\\x9d\\xa5\\x9caR\\x15b\\xe7\\xfdLz\\x93A\\xcb\\x8e0\\x8d\\xfd\\x0b\\x05\\x96\\xb6\\x99\\x1e\\xa3f!\\x18\\xc7_J\\x19w\\x17,,OLQ\\xfd`\\x19nyH\\xd8\\x1a\\x07\\xc4R\\xa4\\x16l2>\\x1a^*\\xd9\\x99N\\x8c\\'\\xda\\xfc\\xa1g\\x08\\xa4g;RN\\x88\\x10\\x00;K\\x903\\xdcQ\\xae8\\xbb\\xfe\\xa7\\xad\\xc9\\xca\\xe3\\xc3\\x84\\x90\\xcczR\\xcd\\xe5\\xd4q]\\xacHJ\"(Ua\\xd4\\x1e\\xb9\\xae\\x9c\\x17\\xad\\x1c\\xac\\x92\\xf6\\xb0\\xd5\\xbcl\\xd3=\\xb8v\\x0e\\xa4\\x94?\\xee=h\\x8d\\x9d\\xb3\\x02|A\\xcb\\xe4T\\x1a\\x1dox\\xd3:\\x96U[\\x80\\x06q\\xf0\\xb8\\xf4\\xf5\\xa2kvYF\\x19\\x91\\xc0\\xe8v\\xac\\xbb\\x0b\\x1dZ\\nX\\xc0\\xd1\\xf2J2Gs\\x9d\\x86*2ZI\\xe4\\xbb\\x80\\xb1x\\xe5V\\xc2\\xe7\\xa6w\\xfau\\xa8\\xf4\\xedZ\\xe6\\x13\\xcb4\\x1e*\\x7f\\xf58o\\xa52\\xe8\\xf3\\xe9a@\\nS \\x9eW\\xc70\\'\\xae\\xdf:\\x89\\xb5\\xd9RVg\\xbc(\\x86\\xe3RS$,\\x8a\\x88_\\xf3\\x17\\xa9\\x1d\\x06?\\x7f\\xa50Oqaq\\xe2\\xcd\\xa8J\\xbc\\xa7\\xb9b\\x06\\x07\\xe9\\x03\\xabz\\xf6\\xcd\\x10\\xbc\\x80\\x8bi\\x16%\\n\\xf2aX\\x81\\xbe)HZMy\\xac\\xb8\\n\\x1a([u\\xec\\x06H\\xfb\\x03\\xd6\\x89\\xe4F\\xe6-\\xe2\\xce\\xa1ty\\xd4/\\xe1\\xbf\\x9b\\x9c\\x83\\r\\xb2\\x8d\\x8b|L;\\x00+\\xab\\xbf\\xc3\\xe7\\x16\\xc5\\xc6\\x1c\\x0b\\x1a<\\x80\\xdfi\\x87\\xf0\\x93\\x8el\\xb1La\\x1f\\xea\\xbf\\xba\\x9a\\xe5\\rcE\\x92\\x12e\\x9a\\x14U\\'nZ\\xd0\\xff\\x00\\xc3\\x96\\xad7\\x0c\\xf1\\x82j\\x1c\\xcc\\xb67\\x07\\xf0\\xd7q\\xe3\\xf4m\\x86\\xfa\\x12\\x0f\\xde\\x96\\xf2 \\x96=\\x9f\\xc1\\x9c\\x19\\xda\\xc9\\xd9\\xb1\\xeb|7#\\xf1\\njv\\rj&G\\tum+\\xf2>1\\xbf);z\\x83\\xbe\\xd8\\xaf\\x9fA\\xb4\\xb3\\x92k\\x8e[h]\\xceY\\xe4tb>\\x80\\x92kA\\xe2\\xfe\\x1a\\x8e\\xfdE\\xcci\\xcd\\x95\\xca\\xba6\\x18\\x0f\\x9fqI\\x12p\\xb9\\x8e~ic\\xb8\\x95Gg}\\xbfj\\xa8\\xe6Mrz\\x08y\\x98\\xea\\xda\\xe4\\xa7\\xa4Ej&\"\\xd5\\x18\\xa6s$\\xcc1\\xce|\\x87\\xa54\\xd9J9\\x95\\x00\\xc6z\\x9a\\xa3m\\xa7\\xdc\\x10\\xab\\x1c\\x1c\\x88\\xbb\\x01\\x8cU\\xbb\\x80\\x96P\\xb7\\xbd\\xef\\xe3\\x14\\x1c\\xb2\\xdd\\x8be\\xce\\xf2;\\x07\\xdc8i\\xa5\\x95\\xbe\\x1ec\\x8f\\x95d\\xde\\xd9\\xb8\\x9ci\\x9aD\\xa2\\x16\\x1e4\\xbf\\x97\\x18\\xcfs\\xdf\\xe9\\xd6\\x9e\\xf8\\xa3X\\x8e\\xce\\xc9\\x90?\\xbcEe\\x1a\\xf6\\x8f&\\xb6\\xaf-\\xda\\x16\\x07\\xe1\\x04g\\x15\\xa8Rj\\xc4\\xa7m:1\\xb8.\\x0bL\\xab,\\x98\\x0c\\xdb\\xb6z\\x93U. -\\xa8\\x94\\xea\\x0b\\n?\\xaf\\xf0\\xcd\\xc5\\xa5\\xd3*\\x8eP>\\x00z7\\xa6|\\xe8;\\xdb\\xcc\\x13\\xc6\\x93*T\\xe3\\xd4\\x11N\\xc6I\\xf4!85\\xc3/\\xcb\\x1f\\x82\\x91\\xc2d)2\\xff\\x00\\x96\\xdd2<\\xaa\\xd5\\x9e\\xa5p\\x7f*h\\xc9a\\xe7U\\xc9\\xb6\\xb9\\xb7U\\x9a\\xedK\\x85\\xc9R\\x0eMY\\xb7\\x81\\xc6\\xe0\\xab\\xaa\\xee23Q\\xb4Z\\xbf\\x85\\xb8/Y\\xf6\\'\\x00m\\xcc\\x1f\\x03\\xeb\\xe5^%\\xd6\\'\\xb2\\xbc\\xf0\\xfc\\x15\\xb6\\xb9\\xceA|\\xb0?.\\xc3\\xe7^o\\xe1\\xf0\\xa2[\\xd8\\x98\\xdb\\xb8~F+\\xb8$\\x8c\\x8c\\x8f.\\xb5\\xf4oo|#\\x8a\\xe6.W\\x8c\\xfe[\\xe3\\xe1>_\\xf6\\xd4M\\x12V\\xf87\\x86\\xd1\\xb4\\xdb{e\\xc9\\x89y\\\\\\x12\\xd20\\xc9\\xd8\\x8a\\t\\xfd\\x13F\\x82;\\x99nnQ\\x00\\x94\\xcb\\r\\xc4.2\\xa1\\x8f\\xbc\\xbbg#=\\x8dh\\x1cG\\xc1Zn\\xb5\\xa5\\xc7}\\xc3\\xf2\\xc52\\x15a\\x948FR6\\x0c\\xa0l\\xc3\\xa7N\\x9di\\x1eM\\x02\\xe7Kq\\xf8\\xebE[\\x82\\x98F\\xc6T\\x0e\\xc40\\xeb\\x8f=\\xeb0\\xf2\\xa1\\x99\\xda\\xef\\xf0A\\xa9cT\\x01\\xbb\\x86\\xebS\\r\\x02,qF\\x10\\x88\\x1aD\\x01\\x9cd\\x00\\xde\\x99\\xc9\\xe9\\xe7T\\xbd\\x9d\\xd8\\xdd[qV\\xb7\\xa3\\xdf\\xcd\\x12*\\xc6\\xb2[\\xf3dx\\x84\\x9d\\xf93\\xb9\\x18\\xeb\\xf4\\xa3W\\x9f\\x93\\x1f=\\xb2\\xe2A\\x90\\xc79b\\xbdF\\x0f\\xa63\\x8e\\xb5\\xe7T\\xb77\\x02\\x1b\\xd8\\xa49\\x11\\t\\x12D\\xf8\\xd5\\xb1\\xb9\\xfa\\xfd\\xa8Y\\xf0<\\xb1j\\xfb7\\x8b>\\xadZ:\\x03\\xd8\\xdf\\x1d[^X\\x7f\\xd2\\xfa\\xb4\\xea\\xba\\xa5\\x82~Ps\\x83<=\\x98g\\xa9\\x1d\\x0f\\xd0\\xd3\\xdd\\xd5\\xe5\\x91C\\xcaS\\xed\\\\O\\xc4\\xf7\\xf7W61\\xdfC;\\xdaj\\xd6xx\\xa7\\x85\\xb9I#\\xae<\\x8e3Fx;\\xda\\x1f\\x15\\xdfF\\x96\\xf7\\xb7\\xa2V\\xc0\\x1c\\xe5p\\xc7\\xd4\\xf6\\xa51c\\x92\\x8dK\\xb4u\\xf1\\xe5\\x8c\\xba:o_\\xd6l\\xed!nWN~\\xd8\\xedY\\x96\\xbd\\xc4\\x8a\\xec\\xe5\\x0e@\\xd8c|\\x9a\\xab\\xa0Y>\\xb6\\xa5\\xaf&\\x9eI\\xc7^i\\x0f.=\\x05\\x1b^\\x15#\\xdd\\x16\\xdc\\xd8\\xe9\\xca*\\x9c\\xe2\\x9d\\r\\xa8\\xb9#?\\x8e\\xd6\\xfbV\\xbd\\xf1\\xee\\x81T\\xcf\\xba\\xa4\\xe7\\x1f\\xf3L\\x0b\\xa7,p`\\xafn\\xa6\\x9a!\\xd0\\xff\\x00\\x0e2\\xf0:}*\\x8e\\xa3\\x0c\\xacLP\\xc4~f\\xa6\\xe58Q\\x9aqN\\x92\\x93\\xab\\xa0\\x8c\\x11\\xda\\xb3\\xbd\\x7fJ)i$j\\x9e\\xf2\\xee+\\x7f\\xba\\xd1\\x0bB|Ld\\xd2\\x87\\x10h0\\x18\\xa42.1E\\x86@3\\x89\\xcfP:\\xc4\\xe7\\xc6A\\x95\\xdb\\x0c(\\xfe\\x91s\\x14\\x90LX\\x10\\x9e\\x1b\\x00\\x9e\\xbf\\xf8\\xa6\\x1d_\\x82\\xed\\x0b\\xf8\\xc5\\xe5W#$/J\\x0fa\\xa6\\xdb\\xd8#\\\\\\xdd\\xefn\\x92b5\\'y\\x18v\\xf9\\x0e\\xf4E\\x9e\\x19\\x17\\x02z\\xb4\\xc17\\xbe-\\xc4)o\\x18&E+\\xce\\x84l:\\xe3\\xf64GF\\xb4)\\x18\\xcb\\x07Q&\\x0b\\x1e\\x8d\\xb7\\xe9\\x1eUf\\x08\\xbf\\x11{q)\\xc0\\xf1\\\\\\x8c\\xff\\x00\\xa8\\x90\\x06>U,\\xbe\\r\\xb3\\xa4.0\\x9f\\xea\\x1d{\\xff\\x00\\x14\\xc49\\xf53%\\xaa\\xd8\\xff\\xd9'"
      ]
     },
     "execution_count": 8,
     "metadata": {},
     "output_type": "execute_result"
    }
   ],
   "source": [
    "img = requests.get(user['picture']['large'])\n",
    "img.content"
   ]
  },
  {
   "cell_type": "markdown",
   "id": "1503b865",
   "metadata": {},
   "source": [
    "Luckily, we are in a Jupyter (IPython) notebook which can easily display images."
   ]
  },
  {
   "cell_type": "code",
   "execution_count": 9,
   "id": "c4220b26",
   "metadata": {
    "scrolled": true
   },
   "outputs": [
    {
     "data": {
      "image/jpeg": "[encoded data removed]",
      "text/plain": [
       "<IPython.core.display.Image object>"
      ]
     },
     "metadata": {},
     "output_type": "display_data"
    }
   ],
   "source": [
    "from IPython.display import Image\n",
    "img = Image(data=img.content)\n",
    "display(img)"
   ]
  },
  {
   "cell_type": "markdown",
   "id": "550458e3",
   "metadata": {},
   "source": [
    "### Example: POSTing data to an API"
   ]
  },
  {
   "cell_type": "markdown",
   "id": "81c84ce8",
   "metadata": {},
   "source": [
    "So far we've seen how to read data from an API. How about sending data? That's achieved with a POST request. This httpbin test endpoint just echoes whatever data we send it."
   ]
  },
  {
   "cell_type": "code",
   "execution_count": 10,
   "id": "76fee2f5",
   "metadata": {},
   "outputs": [
    {
     "data": {
      "text/plain": [
       "200"
      ]
     },
     "execution_count": 10,
     "metadata": {},
     "output_type": "execute_result"
    }
   ],
   "source": [
    "some_data = {'foo': 1, 'bar': 2}\n",
    "response = requests.post('http://httpbin.io/post', data=some_data)\n",
    "response.status_code"
   ]
  },
  {
   "cell_type": "code",
   "execution_count": 11,
   "id": "0a179ebb",
   "metadata": {},
   "outputs": [
    {
     "data": {
      "text/plain": [
       "{'args': {},\n",
       " 'headers': {'Accept': ['*/*'],\n",
       "  'Accept-Encoding': ['gzip, deflate'],\n",
       "  'Connection': ['keep-alive'],\n",
       "  'Content-Length': ['11'],\n",
       "  'Content-Type': ['application/x-www-form-urlencoded'],\n",
       "  'Host': ['httpbin.io'],\n",
       "  'User-Agent': ['python-requests/2.31.0']},\n",
       " 'origin': '192.55.215.10:54283',\n",
       " 'url': 'http://httpbin.io/post',\n",
       " 'data': 'foo=1&bar=2',\n",
       " 'files': None,\n",
       " 'form': {'bar': ['2'], 'foo': ['1']},\n",
       " 'json': None}"
      ]
     },
     "execution_count": 11,
     "metadata": {},
     "output_type": "execute_result"
    }
   ],
   "source": [
    "response.json()"
   ]
  },
  {
   "cell_type": "markdown",
   "id": "e6dc8309",
   "metadata": {},
   "source": [
    "### Example: Basic Authentication\n",
    "Of course, most APIs aren't completely open to anyone who asks. They demand some kind of *authentication*, usually in the form of a password or token. Let's look at an example of HTTP Basic Authentication from the same site."
   ]
  }
 ],
 "metadata": {
  "kernelspec": {
   "display_name": "Python 3 (ipykernel)",
   "language": "python",
   "name": "python3"
  },
  "language_info": {
   "codemirror_mode": {
    "name": "ipython",
    "version": 3
   },
   "file_extension": ".py",
   "mimetype": "text/x-python",
   "name": "python",
   "nbconvert_exporter": "python",
   "pygments_lexer": "ipython3",
   "version": "3.9.13"
  }
 },
 "nbformat": 4,
 "nbformat_minor": 5
}
