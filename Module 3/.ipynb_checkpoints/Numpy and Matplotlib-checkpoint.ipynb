{
 "cells": [
  {
   "cell_type": "markdown",
   "id": "9638d31f",
   "metadata": {},
   "source": [
    "# Open Source Libaries - Numpy and Matplotlib\n",
    "\n",
    "Python is an excellent tool for mathematics and visualization. Much of this success comes from third-party scientific libraries, as Python's native types are actually fairly poorly suited for numerical computing. `numpy` corrects this deficiency by adding efficient vectorized data types and speedy functions to operate on them. `matplotlib` is a plotting library which creates all sorts of 2-D and 3-D plots and works well with `numpy`."
   ]
  },
  {
   "cell_type": "markdown",
   "id": "ad00ccce",
   "metadata": {},
   "source": [
    "## Standard Math"
   ]
  },
  {
   "cell_type": "markdown",
   "id": "9f1c1d84",
   "metadata": {},
   "source": [
    "The first feature of `numpy` we'll take a look at is its library of standard math functions. Note that you could import the same functions from the `math` module of the standard library, but we'll soon see that `numpy` gives us much more than the standard library."
   ]
  },
  {
   "cell_type": "code",
   "execution_count": 1,
   "id": "33a361d0",
   "metadata": {},
   "outputs": [
    {
     "name": "stdout",
     "output_type": "stream",
     "text": [
      "1.4142135623730951\n",
      "0.0\n",
      "1.0\n",
      "\n",
      "22026.465794806718\n",
      "2.302585092994046\n",
      "\n",
      "3.141592653589793\n",
      "2.718281828459045\n"
     ]
    }
   ],
   "source": [
    "import numpy as np # the numpy import is almost always abbreviated this way by convention\n",
    "\n",
    "print(np.sqrt(2))\n",
    "print(np.sin(0))\n",
    "print(np.cos(0))\n",
    "print()\n",
    "print(np.exp(10)) # exponential function\n",
    "print(np.log(10)) # natural log\n",
    "print()\n",
    "print(np.pi)\n",
    "print(np.e)"
   ]
  },
  {
   "cell_type": "markdown",
   "id": "2c4ead84",
   "metadata": {},
   "source": [
    "`numpy` also provides functions for random numbers. We'll look at two of the most commonly used ones, but there are many more random distributions and statistical functions available as well. You can confirm that these results are random by re-running the cell."
   ]
  },
  {
   "cell_type": "code",
   "execution_count": 2,
   "id": "5f992ba6",
   "metadata": {},
   "outputs": [],
   "source": [
    "from numpy.random import random, randint"
   ]
  },
  {
   "cell_type": "code",
   "execution_count": 3,
   "id": "a4934093",
   "metadata": {},
   "outputs": [
    {
     "data": {
      "text/plain": [
       "[0.9420541026468117,\n",
       " 0.2720236228906743,\n",
       " 0.16761506037894203,\n",
       " 0.7729883462474693,\n",
       " 0.5018496568439095,\n",
       " 0.047236334934145696,\n",
       " 0.4871116964002741,\n",
       " 0.8799576060579593,\n",
       " 0.10047781877595163]"
      ]
     },
     "execution_count": 3,
     "metadata": {},
     "output_type": "execute_result"
    }
   ],
   "source": [
    "[random() for x in range(9)] # random floats in the range 0 to 1"
   ]
  },
  {
   "cell_type": "code",
   "execution_count": 4,
   "id": "52882ade",
   "metadata": {},
   "outputs": [
    {
     "data": {
      "text/plain": [
       "[23, 13, 48, 3, 18, 56, 35, 83, 12]"
      ]
     },
     "execution_count": 4,
     "metadata": {},
     "output_type": "execute_result"
    }
   ],
   "source": [
    "[randint(100) for x in range(9)] # random ints in the range 0 to 100"
   ]
  },
  {
   "cell_type": "markdown",
   "id": "fef1403c",
   "metadata": {},
   "source": [
    "## Array Operations"
   ]
  },
  {
   "cell_type": "markdown",
   "id": "edee6ae9",
   "metadata": {},
   "source": [
    "One of the key features differentiating Python from most older languages is its lack of a native array type, opting instead for the more flexible `list` type. This enables many useful features such as automatic resizing, elegant `for...in` constructs, and list comprehensions. However, the `list` comes with trade-offs - one of the biggest being that it's very inefficient to iterate over large lists (which we probably want to do often in numerical computing.)\n",
    "\n",
    "The solution numpy offers is to add an array type to Python. Like C-style arrays, a numpy array has a fixed size and a fixed data type (in this case, the data type was inferred automatically, but it is fixed regardless."
   ]
  },
  {
   "cell_type": "code",
   "execution_count": 5,
   "id": "13d4799e",
   "metadata": {},
   "outputs": [
    {
     "name": "stdout",
     "output_type": "stream",
     "text": [
      "[0, 1, 2, 3, 4, 5, 6, 7, 8] <class 'list'>\n",
      "[0 1 2 3 4 5 6 7 8] <class 'numpy.ndarray'> int64\n"
     ]
    }
   ],
   "source": [
    "x_list = [x for x in range(9)] # a list, made with a list comprehension\n",
    "x_array = np.arange(9)         # an array, made with numpy's range function\n",
    "print(x_list, type(x_list))\n",
    "print(x_array, type(x_array), x_array.dtype)"
   ]
  },
  {
   "cell_type": "markdown",
   "id": "20bb23c3",
   "metadata": {},
   "source": [
    "Another key feature of numpy arrays is that they can represent matrices of any dimension. A one-dimensional array in numpy is just a matrix of dimension 1. Let's turn `x_array` into a 2-dimensional array by reshaping it. The shape of a matrix is represented by a tuple - so a tuple of length 2 represents a matrix of rank 2. The numpy array can represent a matrix of any rank."
   ]
  },
  {
   "cell_type": "code",
   "execution_count": 6,
   "id": "fbd2a48d",
   "metadata": {},
   "outputs": [
    {
     "data": {
      "text/plain": [
       "(9,)"
      ]
     },
     "execution_count": 6,
     "metadata": {},
     "output_type": "execute_result"
    }
   ],
   "source": [
    "x_array.shape"
   ]
  },
  {
   "cell_type": "code",
   "execution_count": 7,
   "id": "49c5f1b6",
   "metadata": {},
   "outputs": [
    {
     "data": {
      "text/plain": [
       "array([[0, 1, 2],\n",
       "       [3, 4, 5],\n",
       "       [6, 7, 8]])"
      ]
     },
     "execution_count": 7,
     "metadata": {},
     "output_type": "execute_result"
    }
   ],
   "source": [
    "x_matrix = x_array.reshape((3,3))\n",
    "x_matrix"
   ]
  },
  {
   "cell_type": "code",
   "execution_count": 8,
   "id": "737607d6",
   "metadata": {},
   "outputs": [
    {
     "data": {
      "text/plain": [
       "(3, 3)"
      ]
     },
     "execution_count": 8,
     "metadata": {},
     "output_type": "execute_result"
    }
   ],
   "source": [
    "x_matrix.shape"
   ]
  },
  {
   "cell_type": "markdown",
   "id": "7d209271",
   "metadata": {},
   "source": [
    "### Vectors and Matrices\n",
    "One-dimensional numpy arrays are commonly used to represent vectors, and all the usual vector operations such as the dot product are included. More advanced matrix operations such determinants and eigenvalues live in the `numpy.linalg` module."
   ]
  },
  {
   "cell_type": "code",
   "execution_count": 9,
   "id": "28c41a2d",
   "metadata": {},
   "outputs": [],
   "source": [
    "x = np.array([0.5, 0, 1])\n",
    "y = np.array([2, 1, 1]) # two numpy arrays which represent vectors"
   ]
  },
  {
   "cell_type": "code",
   "execution_count": 10,
   "id": "d294a651",
   "metadata": {},
   "outputs": [
    {
     "data": {
      "text/plain": [
       "2.0"
      ]
     },
     "execution_count": 10,
     "metadata": {},
     "output_type": "execute_result"
    }
   ],
   "source": [
    "np.dot(x, y) # a dot product (scalar output)"
   ]
  },
  {
   "cell_type": "code",
   "execution_count": 11,
   "id": "610c4142",
   "metadata": {},
   "outputs": [
    {
     "data": {
      "text/plain": [
       "array([-1. ,  1.5,  0.5])"
      ]
     },
     "execution_count": 11,
     "metadata": {},
     "output_type": "execute_result"
    }
   ],
   "source": [
    "np.cross(x, y) # a cross product (vector output)"
   ]
  },
  {
   "cell_type": "code",
   "execution_count": 12,
   "id": "6ef953e5",
   "metadata": {},
   "outputs": [
    {
     "data": {
      "text/plain": [
       "array([[0, 1, 2],\n",
       "       [3, 4, 5],\n",
       "       [6, 7, 8]])"
      ]
     },
     "execution_count": 12,
     "metadata": {},
     "output_type": "execute_result"
    }
   ],
   "source": [
    "x_matrix"
   ]
  },
  {
   "cell_type": "code",
   "execution_count": 13,
   "id": "678556bd",
   "metadata": {},
   "outputs": [
    {
     "data": {
      "text/plain": [
       "0.0"
      ]
     },
     "execution_count": 13,
     "metadata": {},
     "output_type": "execute_result"
    }
   ],
   "source": [
    "np.linalg.det(x_matrix) # matrix determinant"
   ]
  },
  {
   "cell_type": "code",
   "execution_count": 14,
   "id": "fe571a54",
   "metadata": {},
   "outputs": [
    {
     "data": {
      "text/plain": [
       "EigResult(eigenvalues=array([ 1.33484692e+01, -1.34846923e+00, -1.17360548e-15]), eigenvectors=array([[ 0.16476382,  0.79969966,  0.40824829],\n",
       "       [ 0.50577448,  0.10420579, -0.81649658],\n",
       "       [ 0.84678513, -0.59128809,  0.40824829]]))"
      ]
     },
     "execution_count": 14,
     "metadata": {},
     "output_type": "execute_result"
    }
   ],
   "source": [
    "np.linalg.eig(x_matrix) # matrix eigenvalues and eigenvectors"
   ]
  },
  {
   "cell_type": "markdown",
   "id": "b0fb3cf9",
   "metadata": {},
   "source": [
    "### Vectorized Functions\n",
    "One of the nice features of using numpy arrays instead of Python lists is *vectorized functions*. You can input a numpy array into any standard math function, and it will automatically apply the operation to all elements. This saves you the trouble of looping over the array like you would do in standard Python."
   ]
  },
  {
   "cell_type": "code",
   "execution_count": 15,
   "id": "77a848e3",
   "metadata": {},
   "outputs": [
    {
     "data": {
      "text/plain": [
       "array([0, 1, 2, 3, 4, 5, 6, 7, 8])"
      ]
     },
     "execution_count": 15,
     "metadata": {},
     "output_type": "execute_result"
    }
   ],
   "source": [
    "x_array"
   ]
  },
  {
   "cell_type": "code",
   "execution_count": 16,
   "id": "8ea46404",
   "metadata": {},
   "outputs": [
    {
     "data": {
      "text/plain": [
       "array([ 0,  2,  4,  6,  8, 10, 12, 14, 16])"
      ]
     },
     "execution_count": 16,
     "metadata": {},
     "output_type": "execute_result"
    }
   ],
   "source": [
    "x_array + x_array"
   ]
  },
  {
   "cell_type": "code",
   "execution_count": 17,
   "id": "7562dfa0",
   "metadata": {},
   "outputs": [
    {
     "data": {
      "text/plain": [
       "array([ 0,  1,  4,  9, 16, 25, 36, 49, 64])"
      ]
     },
     "execution_count": 17,
     "metadata": {},
     "output_type": "execute_result"
    }
   ],
   "source": [
    "x_array**2"
   ]
  },
  {
   "cell_type": "code",
   "execution_count": 18,
   "id": "f5ad03d9",
   "metadata": {},
   "outputs": [
    {
     "data": {
      "text/plain": [
       "array([1.00000000e+00, 2.71828183e+00, 7.38905610e+00, 2.00855369e+01,\n",
       "       5.45981500e+01, 1.48413159e+02, 4.03428793e+02, 1.09663316e+03,\n",
       "       2.98095799e+03])"
      ]
     },
     "execution_count": 18,
     "metadata": {},
     "output_type": "execute_result"
    }
   ],
   "source": [
    "np.exp(x_array)"
   ]
  },
  {
   "cell_type": "markdown",
   "id": "1d95e562",
   "metadata": {},
   "source": [
    "I made an assertion earlier that large lists are highly inefficient - let's test that now. Perhaps we want to run a simple function on a list of numbers. This is pretty easy with list comprehensions (which, under the hood, are just for loops.) Let's square every number in the list."
   ]
  },
  {
   "cell_type": "code",
   "execution_count": 19,
   "id": "ada091b6",
   "metadata": {
    "scrolled": true
   },
   "outputs": [
    {
     "data": {
      "text/plain": [
       "[0, 1, 2, 3, 4, 5, 6, 7, 8, 9]"
      ]
     },
     "execution_count": 19,
     "metadata": {},
     "output_type": "execute_result"
    }
   ],
   "source": [
    "x_list = [x for x in range(10)]\n",
    "x_list"
   ]
  },
  {
   "cell_type": "code",
   "execution_count": 20,
   "id": "096fefbb",
   "metadata": {},
   "outputs": [
    {
     "data": {
      "text/plain": [
       "[0, 1, 4, 9, 16, 25, 36, 49, 64, 81]"
      ]
     },
     "execution_count": 20,
     "metadata": {},
     "output_type": "execute_result"
    }
   ],
   "source": [
    "[x**2 for x in x_list]"
   ]
  },
  {
   "cell_type": "markdown",
   "id": "c8d1c441",
   "metadata": {},
   "source": [
    "Not too bad, right? Now what if we wanted to do it for ten million numbers? The `timeit` module tells you the execution time of short snippets of code."
   ]
  },
  {
   "cell_type": "code",
   "execution_count": 21,
   "id": "73b03074",
   "metadata": {},
   "outputs": [],
   "source": [
    "x_list = [x for x in range(10_000_000)] # a standard list\n",
    "x_array = np.arange(10_000_000) # a numpy array"
   ]
  },
  {
   "cell_type": "code",
   "execution_count": 22,
   "id": "351661a3",
   "metadata": {},
   "outputs": [
    {
     "data": {
      "text/plain": [
       "2.2111258750000005"
      ]
     },
     "execution_count": 22,
     "metadata": {},
     "output_type": "execute_result"
    }
   ],
   "source": [
    "from timeit import timeit\n",
    "timeit('y = [x**2 for x in x_list]', number=1, globals=globals())"
   ]
  },
  {
   "cell_type": "code",
   "execution_count": 23,
   "id": "ed5e1428",
   "metadata": {},
   "outputs": [
    {
     "data": {
      "text/plain": [
       "0.020459083999995187"
      ]
     },
     "execution_count": 23,
     "metadata": {},
     "output_type": "execute_result"
    }
   ],
   "source": [
    "timeit('y = x_array**2', number=1, globals=globals())"
   ]
  },
  {
   "cell_type": "markdown",
   "id": "4ab13159",
   "metadata": {},
   "source": [
    "We find that the vectorized function is about an order of magnitude faster than the list comprehension! In general, it's not going to be a good idea to loop over numpy arrays - we use vectorized functions whenever we can."
   ]
  },
  {
   "cell_type": "markdown",
   "id": "0eef55d7",
   "metadata": {},
   "source": [
    "## Plotting with [Matplotlib](https://matplotlib.org/stable/tutorials/introductory/pyplot.html)"
   ]
  },
  {
   "cell_type": "markdown",
   "id": "ac0cae68",
   "metadata": {},
   "source": [
    "`matplotlib` is a powerful general-purpose plotting library for numerical and scientific computing. It's capable of generating many different sorts of plots in two or three dimensions, with all the labels, widgets, and legends you'd need. It's even capable of generating animated and interactive plots. For now, we'll show a basic example of a 2-d plot. We'll cover plotting in more detail during the data science portion of the course."
   ]
  },
  {
   "cell_type": "code",
   "execution_count": 24,
   "id": "b3a25238",
   "metadata": {},
   "outputs": [],
   "source": [
    "x = np.linspace(0, np.pi, 100) # make an array of 100 values from [0,pi]\n",
    "y1 = np.sin(3*x)\n",
    "y2 = np.exp(0.5*x)"
   ]
  },
  {
   "cell_type": "code",
   "execution_count": 25,
   "id": "ae6b85f9",
   "metadata": {},
   "outputs": [
    {
     "data": {
      "text/plain": [
       "array([0.        , 0.03173326, 0.06346652, 0.09519978, 0.12693304,\n",
       "       0.1586663 , 0.19039955, 0.22213281, 0.25386607, 0.28559933,\n",
       "       0.31733259, 0.34906585, 0.38079911, 0.41253237, 0.44426563,\n",
       "       0.47599889, 0.50773215, 0.53946541, 0.57119866, 0.60293192,\n",
       "       0.63466518, 0.66639844, 0.6981317 , 0.72986496, 0.76159822,\n",
       "       0.79333148, 0.82506474, 0.856798  , 0.88853126, 0.92026451,\n",
       "       0.95199777, 0.98373103, 1.01546429, 1.04719755, 1.07893081,\n",
       "       1.11066407, 1.14239733, 1.17413059, 1.20586385, 1.23759711,\n",
       "       1.26933037, 1.30106362, 1.33279688, 1.36453014, 1.3962634 ,\n",
       "       1.42799666, 1.45972992, 1.49146318, 1.52319644, 1.5549297 ,\n",
       "       1.58666296, 1.61839622, 1.65012947, 1.68186273, 1.71359599,\n",
       "       1.74532925, 1.77706251, 1.80879577, 1.84052903, 1.87226229,\n",
       "       1.90399555, 1.93572881, 1.96746207, 1.99919533, 2.03092858,\n",
       "       2.06266184, 2.0943951 , 2.12612836, 2.15786162, 2.18959488,\n",
       "       2.22132814, 2.2530614 , 2.28479466, 2.31652792, 2.34826118,\n",
       "       2.37999443, 2.41172769, 2.44346095, 2.47519421, 2.50692747,\n",
       "       2.53866073, 2.57039399, 2.60212725, 2.63386051, 2.66559377,\n",
       "       2.69732703, 2.72906028, 2.76079354, 2.7925268 , 2.82426006,\n",
       "       2.85599332, 2.88772658, 2.91945984, 2.9511931 , 2.98292636,\n",
       "       3.01465962, 3.04639288, 3.07812614, 3.10985939, 3.14159265])"
      ]
     },
     "execution_count": 25,
     "metadata": {},
     "output_type": "execute_result"
    }
   ],
   "source": [
    "x"
   ]
  },
  {
   "cell_type": "code",
   "execution_count": 26,
   "id": "c606bc14",
   "metadata": {},
   "outputs": [
    {
     "data": {
      "image/png": "[encoded data removed]",
      "text/plain": [
       "<Figure size 640x480 with 1 Axes>"
      ]
     },
     "metadata": {},
     "output_type": "display_data"
    }
   ],
   "source": [
    "import matplotlib.pyplot as plt # another common abbreviation here\n",
    "\n",
    "plt.plot(x, y1, label=r'$\\sin(3x)$')\n",
    "plt.plot(x, y2, label=r'$e^{x/2}}$')\n",
    "plt.title('Some functions')\n",
    "plt.xlabel('x')\n",
    "plt.ylabel('f(x)')\n",
    "plt.legend()\n",
    "plt.show()"
   ]
  }
 ],
 "metadata": {
  "kernelspec": {
   "display_name": "Python 3 (ipykernel)",
   "language": "python",
   "name": "python3"
  },
  "language_info": {
   "codemirror_mode": {
    "name": "ipython",
    "version": 3
   },
   "file_extension": ".py",
   "mimetype": "text/x-python",
   "name": "python",
   "nbconvert_exporter": "python",
   "pygments_lexer": "ipython3",
   "version": "3.9.13"
  }
 },
 "nbformat": 4,
 "nbformat_minor": 5
}
