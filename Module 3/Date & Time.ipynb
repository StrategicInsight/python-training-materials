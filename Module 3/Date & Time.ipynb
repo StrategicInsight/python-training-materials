{
 "cells": [
  {
   "cell_type": "markdown",
   "id": "983c5c18-0440-40b4-b859-662572d0a7c0",
   "metadata": {},
   "source": [
    "# Date & Time"
   ]
  },
  {
   "cell_type": "markdown",
   "id": "31268c33-d5ce-4d40-92c8-4a6928d7fee1",
   "metadata": {},
   "source": [
    "### The gist\n",
    "In Python, the `datetime` module provides classes for working with dates and times. It's a powerful module that allows you to manipulate, format, and perform various opertions with dates and times."
   ]
  },
  {
   "cell_type": "markdown",
   "id": "e7c4c019-f8bc-452a-ad95-eaff48b849c8",
   "metadata": {},
   "source": [
    "### Examples using datetime\n",
    "#### Some key classes and functions\n",
    "`datetime` Class - This class represent a specific date and time, including the year, month, day, hour, minute, second, and even microsecond."
   ]
  },
  {
   "cell_type": "code",
   "execution_count": 1,
   "id": "deed45e5-d580-41a1-8e35-2653d60286ea",
   "metadata": {},
   "outputs": [
    {
     "name": "stdout",
     "output_type": "stream",
     "text": [
      "2023-08-28 19:35:13.736724\n"
     ]
    }
   ],
   "source": [
    "from datetime import datetime\n",
    "\n",
    "current_datetime = datetime.now()\n",
    "print(current_datetime)"
   ]
  },
  {
   "cell_type": "markdown",
   "id": "f553a9f7-884c-4ed9-ab17-6c1542fb459c",
   "metadata": {},
   "source": [
    "`date` Class - This class represents a date without the time component. It includes the year, month, and day."
   ]
  },
  {
   "cell_type": "code",
   "execution_count": 2,
   "id": "0b6bdaee-1ab8-4999-b1f0-12acc973ed72",
   "metadata": {},
   "outputs": [
    {
     "name": "stdout",
     "output_type": "stream",
     "text": [
      "2023-08-28\n"
     ]
    }
   ],
   "source": [
    "from datetime import date\n",
    "\n",
    "today = date.today()\n",
    "print(today)"
   ]
  },
  {
   "cell_type": "markdown",
   "id": "9b998ac6-e7c7-4146-b5c3-ec6a60371fc3",
   "metadata": {},
   "source": [
    "`time` Class - This class represents a time without the date component. It includes the hour, minute, second, and microsecond."
   ]
  },
  {
   "cell_type": "code",
   "execution_count": 3,
   "id": "740b2311-e74f-4df0-9210-d26acb931b84",
   "metadata": {},
   "outputs": [
    {
     "name": "stdout",
     "output_type": "stream",
     "text": [
      "12:30:45\n"
     ]
    }
   ],
   "source": [
    "from datetime import time\n",
    "\n",
    "current_time = time(12,30,45)\n",
    "print(current_time)"
   ]
  },
  {
   "cell_type": "markdown",
   "id": "49eb97e7-80cb-4a68-b3e2-7005f10266b2",
   "metadata": {},
   "source": [
    "#### Finding the Day of the Week"
   ]
  },
  {
   "cell_type": "code",
   "execution_count": 4,
   "id": "2a3c83b9-a46f-4f51-8580-2f770d32a204",
   "metadata": {},
   "outputs": [
    {
     "name": "stdout",
     "output_type": "stream",
     "text": [
      "Day of the Week: Monday\n"
     ]
    }
   ],
   "source": [
    "from datetime import datetime\n",
    "\n",
    "current_datetime = datetime.now()\n",
    "day_of_week = current_datetime.strftime('%A')\n",
    "print(\"Day of the Week:\", day_of_week)"
   ]
  },
  {
   "cell_type": "markdown",
   "id": "4554b4f5-e854-400d-a95d-a1eee9bd1028",
   "metadata": {},
   "source": [
    "#### Calculate a future date\n",
    "We can calculate a future date with `timedelta`"
   ]
  },
  {
   "cell_type": "code",
   "execution_count": 5,
   "id": "1c30b527-1444-4abb-88ae-1b6d102fcc1a",
   "metadata": {},
   "outputs": [
    {
     "name": "stdout",
     "output_type": "stream",
     "text": [
      "The current date is: 2023-08-28 19:35:40.295852\n",
      "The date 10 days from now is: 2023-09-07 19:35:40.295852\n"
     ]
    }
   ],
   "source": [
    "from datetime import datetime, timedelta\n",
    "\n",
    "current_datetime = datetime.now()\n",
    "future_date = current_datetime + timedelta(days=10)\n",
    "\n",
    "print(\"The current date is:\", current_datetime)\n",
    "print(\"The date 10 days from now is:\", future_date)"
   ]
  }
 ],
 "metadata": {
  "kernelspec": {
   "display_name": "Python 3 (ipykernel)",
   "language": "python",
   "name": "python3"
  },
  "language_info": {
   "codemirror_mode": {
    "name": "ipython",
    "version": 3
   },
   "file_extension": ".py",
   "mimetype": "text/x-python",
   "name": "python",
   "nbconvert_exporter": "python",
   "pygments_lexer": "ipython3",
   "version": "3.9.13"
  }
 },
 "nbformat": 4,
 "nbformat_minor": 5
}
