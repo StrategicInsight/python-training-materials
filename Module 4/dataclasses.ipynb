{
 "cells": [
  {
   "cell_type": "markdown",
   "id": "733cc728-fdf4-45b9-b349-0acbb8e6e655",
   "metadata": {},
   "source": [
    "# dataclasses\n",
    "\n",
    "* [dataclasses](https://docs.python.org/3/library/dataclasses.html) are a convenient way of creating classes that mainly serve to store data\n",
    "* Introduced in python 3.7\n",
    "* reduce boilerplate\n",
    "\n",
    "## Creating dataclasses\n",
    "Use the @dataclass decorator around a class definition and specify your fields (type annotated class attributes)\n"
   ]
  },
  {
   "cell_type": "code",
   "execution_count": 6,
   "id": "9ffa3a9c-83a3-4083-86dc-042daffdf195",
   "metadata": {},
   "outputs": [],
   "source": [
    "class InventoryItem:\n",
    "    def __init__(self, name: str, unit_price: float, quantity_on_hand: int = 0):\n",
    "        self.name = name\n",
    "        self.unit_price = unit_price\n",
    "        self.quantity_on_hand = quantity_on_hand\n",
    "\n",
    "# Can be rewritten as\n",
    "from dataclasses import dataclass\n",
    "\n",
    "@dataclass\n",
    "class InventoryItem:\n",
    "    \"\"\"Class for keeping track of an item in inventory.\"\"\"\n",
    "    name: str\n",
    "    unit_price: float\n",
    "    quantity_on_hand: int = 0"
   ]
  },
  {
   "cell_type": "markdown",
   "id": "3fda2857-6c83-4268-8907-84a3be7538b4",
   "metadata": {},
   "source": [
    "dataclasses give you a convenient string representation for free"
   ]
  },
  {
   "cell_type": "code",
   "execution_count": 7,
   "id": "a3ede22c-045e-4072-a9d5-7e5425f0b06d",
   "metadata": {},
   "outputs": [
    {
     "data": {
      "text/plain": [
       "InventoryItem(name='Apple', unit_price=1.0, quantity_on_hand=100)"
      ]
     },
     "execution_count": 7,
     "metadata": {},
     "output_type": "execute_result"
    }
   ],
   "source": [
    "apple = InventoryItem(name=\"Apple\", unit_price=1.00, quantity_on_hand=100)\n",
    "apple"
   ]
  },
  {
   "cell_type": "markdown",
   "id": "faad031f-3925-47a7-883d-b76ff29cfd6d",
   "metadata": {},
   "source": [
    "we also get basic comparison functions for free"
   ]
  },
  {
   "cell_type": "code",
   "execution_count": 11,
   "id": "e398dcf4-c81e-4fb4-8686-d4aced80d49a",
   "metadata": {},
   "outputs": [
    {
     "data": {
      "text/plain": [
       "True"
      ]
     },
     "execution_count": 11,
     "metadata": {},
     "output_type": "execute_result"
    }
   ],
   "source": [
    "same_apple = InventoryItem(name=\"Apple\", unit_price=1.00, quantity_on_hand=100)\n",
    "orange = InventoryItem(name=\"Orange\", unit_price=0.50)\n",
    "apple == same_apple"
   ]
  },
  {
   "cell_type": "code",
   "execution_count": 12,
   "id": "e8b238f5-4252-4a4f-a4fe-615535d7266d",
   "metadata": {},
   "outputs": [
    {
     "data": {
      "text/plain": [
       "False"
      ]
     },
     "execution_count": 12,
     "metadata": {},
     "output_type": "execute_result"
    }
   ],
   "source": [
    "apple == orange"
   ]
  },
  {
   "cell_type": "markdown",
   "id": "1708ecc8-67d1-4a3a-9f17-28845c05a563",
   "metadata": {},
   "source": [
    "## Although type annotations are part of defining the dataclass, they are merely suggestions"
   ]
  },
  {
   "cell_type": "code",
   "execution_count": 18,
   "id": "dd493778-b7ef-4405-ae23-81926b6ac29c",
   "metadata": {},
   "outputs": [
    {
     "data": {
      "text/plain": [
       "'free'"
      ]
     },
     "execution_count": 18,
     "metadata": {},
     "output_type": "execute_result"
    }
   ],
   "source": [
    "apple.unit_price = \"free\"\n",
    "apple.unit_price"
   ]
  },
  {
   "cell_type": "markdown",
   "id": "1c6632ba-d3da-4b70-abd0-9d3541664c30",
   "metadata": {},
   "source": [
    "## If you need a dataclass to be immutable, you can pass the frozen parameter to the decorator"
   ]
  },
  {
   "cell_type": "code",
   "execution_count": 23,
   "id": "320fd842-8b38-4f12-9131-38cbd719844d",
   "metadata": {},
   "outputs": [
    {
     "ename": "FrozenInstanceError",
     "evalue": "cannot assign to field 'x'",
     "output_type": "error",
     "traceback": [
      "\u001b[0;31m---------------------------------------------------------------------------\u001b[0m",
      "\u001b[0;31mFrozenInstanceError\u001b[0m                       Traceback (most recent call last)",
      "Cell \u001b[0;32mIn[23], line 7\u001b[0m\n\u001b[1;32m      4\u001b[0m     y: \u001b[38;5;28mfloat\u001b[39m\n\u001b[1;32m      6\u001b[0m p \u001b[38;5;241m=\u001b[39m Point(\u001b[38;5;241m2\u001b[39m, \u001b[38;5;241m5\u001b[39m)\n\u001b[0;32m----> 7\u001b[0m \u001b[43mp\u001b[49m\u001b[38;5;241;43m.\u001b[39;49m\u001b[43mx\u001b[49m \u001b[38;5;241m=\u001b[39m \u001b[38;5;241m100\u001b[39m\n",
      "File \u001b[0;32m<string>:4\u001b[0m, in \u001b[0;36m__setattr__\u001b[0;34m(self, name, value)\u001b[0m\n",
      "\u001b[0;31mFrozenInstanceError\u001b[0m: cannot assign to field 'x'"
     ]
    }
   ],
   "source": [
    "@dataclass(frozen=True)\n",
    "class Point:\n",
    "    x: float\n",
    "    y: float\n",
    "\n",
    "p = Point(2, 5)\n",
    "p.x = 100"
   ]
  }
 ],
 "metadata": {
  "kernelspec": {
   "display_name": "Python 3 (ipykernel)",
   "language": "python",
   "name": "python3"
  },
  "language_info": {
   "codemirror_mode": {
    "name": "ipython",
    "version": 3
   },
   "file_extension": ".py",
   "mimetype": "text/x-python",
   "name": "python",
   "nbconvert_exporter": "python",
   "pygments_lexer": "ipython3",
   "version": "3.8.9"
  }
 },
 "nbformat": 4,
 "nbformat_minor": 5
}
