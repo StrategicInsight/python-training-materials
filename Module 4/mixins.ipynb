{
 "cells": [
  {
   "cell_type": "markdown",
   "id": "3d05cb63-adba-4068-8e4f-c2a6516c155f",
   "metadata": {},
   "source": [
    "# Mixin classes\n",
    "* mixins are a neat design design pattern that utilizes the power of multiple inheritance\n",
    "* provide extra attributes and methods to existing classes\n",
    "* not really meant to be instantiated on their own\n",
    "* seen often in frameworks. One good example is Django Rest Framework"
   ]
  },
  {
   "cell_type": "markdown",
   "id": "6b780464-7ba7-453d-9a45-dd7358720492",
   "metadata": {},
   "source": [
    "They're just defined like regular classes"
   ]
  },
  {
   "cell_type": "code",
   "execution_count": 1,
   "id": "af9aff31-a5c2-46db-b6d8-0b15ab4cc030",
   "metadata": {},
   "outputs": [],
   "source": [
    "class HonkMixin:\n",
    "    def honk(self):\n",
    "        print(\"HONK!\")"
   ]
  },
  {
   "cell_type": "markdown",
   "id": "0f8f8df1-417b-45de-84f6-0c7e851b6985",
   "metadata": {},
   "source": [
    "Let's say we have a Vehicle base class"
   ]
  },
  {
   "cell_type": "code",
   "execution_count": 2,
   "id": "fa7a5a5b-aa8b-4027-92b9-4937804731a9",
   "metadata": {},
   "outputs": [],
   "source": [
    "class Vehicle:\n",
    "    def __init__(self, name, color):\n",
    "        self.name = name\n",
    "        self.color = color"
   ]
  },
  {
   "cell_type": "markdown",
   "id": "f4027735-fe40-4784-abd5-289fbde40fd9",
   "metadata": {},
   "source": [
    "We know that cars honk and so do bicycles."
   ]
  },
  {
   "cell_type": "code",
   "execution_count": 4,
   "id": "f3459254-2bda-44c2-b9bb-52d7a1610c29",
   "metadata": {},
   "outputs": [],
   "source": [
    "class Car(HonkMixin, Vehicle):\n",
    "    pass\n",
    "\n",
    "\n",
    "class Bicycle(HonkMixin, Vehicle):\n",
    "    pass"
   ]
  },
  {
   "cell_type": "code",
   "execution_count": 8,
   "id": "6727ec60-5274-44c3-ac77-abb60615a054",
   "metadata": {},
   "outputs": [
    {
     "name": "stdout",
     "output_type": "stream",
     "text": [
      "HONK!\n"
     ]
    }
   ],
   "source": [
    "Car(\"honda\", \"red\").honk()"
   ]
  },
  {
   "cell_type": "markdown",
   "id": "e6093638-04b2-4053-b83b-8453495ba5e4",
   "metadata": {},
   "source": [
    "You could pop a wheelie on a bicycle or a motorcycle but not really a car."
   ]
  },
  {
   "cell_type": "code",
   "execution_count": 5,
   "id": "32845d7c-e1a4-4c6e-a55c-2f82b1e53856",
   "metadata": {},
   "outputs": [],
   "source": [
    "class WheelieMixin:\n",
    "    def wheelie(self):\n",
    "        print(\"WHEEEE\")\n",
    "\n",
    "\n",
    "class Car(HonkMixin, Vehicle):\n",
    "    pass\n",
    "\n",
    "\n",
    "class Bicycle(WheelieMixin, HonkMixin, Vehicle):\n",
    "    pass\n",
    "\n",
    "\n",
    "class Motorcycle(WheelieMixin, HonkMixin, Vehicle):\n",
    "    pass\n"
   ]
  },
  {
   "cell_type": "markdown",
   "id": "3c5f2f60-061d-4a0d-a954-f85cbcb10f03",
   "metadata": {},
   "source": [
    "Or you could have a mixin that just provides something generally useful"
   ]
  },
  {
   "cell_type": "code",
   "execution_count": 7,
   "id": "6ad1929b-4667-4e99-8253-379f09b34ba0",
   "metadata": {},
   "outputs": [
    {
     "data": {
      "text/plain": [
       "'{\"name\": \"boat\", \"color\": \"red\"}'"
      ]
     },
     "execution_count": 7,
     "metadata": {},
     "output_type": "execute_result"
    }
   ],
   "source": [
    "import json\n",
    "\n",
    "class JsonSerializationMixin:\n",
    "    def serialize(self):\n",
    "        return json.dumps(self.__dict__)\n",
    "\n",
    "class JsonVehicle(JsonSerializationMixin, Vehicle):\n",
    "    pass\n",
    "\n",
    "v = JsonVehicle(\"boat\", \"red\")\n",
    "v.serialize()"
   ]
  },
  {
   "cell_type": "code",
   "execution_count": null,
   "id": "2d90511e-c1d9-4f9c-8cf1-1a4487145eee",
   "metadata": {},
   "outputs": [],
   "source": []
  }
 ],
 "metadata": {
  "kernelspec": {
   "display_name": "Python 3 (ipykernel)",
   "language": "python",
   "name": "python3"
  },
  "language_info": {
   "codemirror_mode": {
    "name": "ipython",
    "version": 3
   },
   "file_extension": ".py",
   "mimetype": "text/x-python",
   "name": "python",
   "nbconvert_exporter": "python",
   "pygments_lexer": "ipython3",
   "version": "3.8.9"
  }
 },
 "nbformat": 4,
 "nbformat_minor": 5
}
