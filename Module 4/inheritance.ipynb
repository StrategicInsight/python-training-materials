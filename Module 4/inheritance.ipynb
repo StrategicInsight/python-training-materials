{
 "cells": [
  {
   "cell_type": "markdown",
   "id": "55e476df-5c5d-4bf6-8605-d22c694ffe83",
   "metadata": {},
   "source": [
    "# Inheritance\n",
    "* as we know all python classes inherit from object\n",
    "* classes can inherit from other classes as well!\n",
    "* we use inheritance to extend or replace functionality of the parent class\n",
    "* inheritance can simplify code and reduce repetition"
   ]
  },
  {
   "cell_type": "markdown",
   "id": "ae7a216e-a1eb-4fd2-88c8-22af94e035ae",
   "metadata": {},
   "source": [
    "## Simple Inheritance\n",
    "To define a class that inherits from another, include the class in parentheses after the class name. The child will inherit everything from the parent unless explicitly overwritten or extended."
   ]
  },
  {
   "cell_type": "code",
   "execution_count": 15,
   "id": "3fdebe55-99fd-40b8-9466-4c50d74e9156",
   "metadata": {},
   "outputs": [
    {
     "data": {
      "text/plain": [
       "'bob'"
      ]
     },
     "execution_count": 15,
     "metadata": {},
     "output_type": "execute_result"
    }
   ],
   "source": [
    "class Parent:\n",
    "    def __init__(self, name):\n",
    "        self.name = name\n",
    "\n",
    "\n",
    "class Child(Parent):\n",
    "    pass\n",
    "\n",
    "\n",
    "Child(\"bob\").name"
   ]
  },
  {
   "cell_type": "markdown",
   "id": "33815d64-8e2b-492d-86ad-a9cecf8327b1",
   "metadata": {},
   "source": [
    "## Replacing parent method\n",
    "A child class can choose to do things differently than the parent it inherits from"
   ]
  },
  {
   "cell_type": "code",
   "execution_count": 16,
   "id": "6bcfa84f-1c78-4ea2-9f83-2b6c3d0af731",
   "metadata": {},
   "outputs": [
    {
     "name": "stdout",
     "output_type": "stream",
     "text": [
      "wah\n",
      "WAHHHH\n"
     ]
    }
   ],
   "source": [
    "class Parent:\n",
    "    def __init__(self, name):\n",
    "        self.name = name\n",
    "    def cry(self):\n",
    "        print(\"wah\")\n",
    "\n",
    "class Child(Parent):\n",
    "    def cry(self):\n",
    "        print(\"WAHHHH\")\n",
    "\n",
    "Parent(\"Charles\").cry()\n",
    "Child(\"Babe\").cry()"
   ]
  },
  {
   "cell_type": "markdown",
   "id": "9d1fa851-7907-44d6-9d62-465e2b60b9ac",
   "metadata": {},
   "source": [
    "## Extending functionality with super()\n",
    "the super() function is used to refer to the parent class or superclass. It allows you to call methods defined in the superclass from the subclass, enabling you to extend and customize the functionality inherited from the parent class. In this example we'll change the initialization of the Child class to add some additional functionality while still preserving the init from the parent class"
   ]
  },
  {
   "cell_type": "code",
   "execution_count": 58,
   "id": "08126823-f002-41d4-857a-a8eed036c898",
   "metadata": {},
   "outputs": [
    {
     "name": "stdout",
     "output_type": "stream",
     "text": [
      "green\n",
      "Bob\n"
     ]
    }
   ],
   "source": [
    "class Parent:\n",
    "    def __init__(self, name):\n",
    "        self.name = name\n",
    "    def cry(self):\n",
    "        print(\"wah\")\n",
    "\n",
    "class Child(Parent):\n",
    "    def __init__(self, name, color):\n",
    "        super().__init__(name)\n",
    "        self.color = color\n",
    "\n",
    "c = Child(\"Bob\", \"green\")\n",
    "print(c.color)\n",
    "print(c.name)"
   ]
  },
  {
   "cell_type": "markdown",
   "id": "d833ca50-6dc6-4995-9562-8e646c4ff0f8",
   "metadata": {},
   "source": [
    "## What about interfaces?\n",
    "You can use pythons abstract classes to implement an interface and define required methods that an inheriting class must implement"
   ]
  },
  {
   "cell_type": "code",
   "execution_count": 5,
   "id": "e31e7359-9791-4bd5-b743-144a033233a0",
   "metadata": {},
   "outputs": [],
   "source": [
    "from abc import ABC, abstractmethod\n",
    "\n",
    "class AbstractDog(ABC):\n",
    "    @abstractmethod\n",
    "    def sit(self):\n",
    "        pass\n",
    "  \n",
    "    @abstractmethod\n",
    "    def stay(self):\n",
    "        pass\n",
    "\n",
    "    @abstractmethod\n",
    "    def come(self):\n",
    "        pass\n"
   ]
  },
  {
   "cell_type": "code",
   "execution_count": 8,
   "id": "a3dd8c60-aa29-4ba9-b1eb-c52b0d0e559b",
   "metadata": {},
   "outputs": [
    {
     "ename": "TypeError",
     "evalue": "Can't instantiate abstract class Corgi with abstract methods come, sit, stay",
     "output_type": "error",
     "traceback": [
      "\u001b[0;31m---------------------------------------------------------------------------\u001b[0m",
      "\u001b[0;31mTypeError\u001b[0m                                 Traceback (most recent call last)",
      "Cell \u001b[0;32mIn[8], line 3\u001b[0m\n\u001b[1;32m      1\u001b[0m \u001b[38;5;28;01mclass\u001b[39;00m \u001b[38;5;21;01mCorgi\u001b[39;00m(AbstractDog):\n\u001b[1;32m      2\u001b[0m     \u001b[38;5;28;01mpass\u001b[39;00m\n\u001b[0;32m----> 3\u001b[0m \u001b[43mCorgi\u001b[49m\u001b[43m(\u001b[49m\u001b[43m)\u001b[49m\n",
      "\u001b[0;31mTypeError\u001b[0m: Can't instantiate abstract class Corgi with abstract methods come, sit, stay"
     ]
    }
   ],
   "source": [
    "class Corgi(AbstractDog):\n",
    "    pass\n",
    "Corgi()"
   ]
  },
  {
   "cell_type": "markdown",
   "id": "0ef71776-6378-43d7-8d1f-947468137609",
   "metadata": {},
   "source": [
    "The Corgi fails at instantiating because we haven't implemented the required base classes. The German Shepherd, however, passes."
   ]
  },
  {
   "cell_type": "code",
   "execution_count": 10,
   "id": "124523eb-b3c8-44b3-87d8-5bd8695496ca",
   "metadata": {},
   "outputs": [
    {
     "data": {
      "text/plain": [
       "<__main__.GermanShepherd at 0x1102533a0>"
      ]
     },
     "execution_count": 10,
     "metadata": {},
     "output_type": "execute_result"
    }
   ],
   "source": [
    "class GermanShepherd(AbstractDog):\n",
    "    def sit(self):\n",
    "        pass\n",
    "    def stay(self):\n",
    "        pass\n",
    "    def come(self):\n",
    "        pass\n",
    "GermanShepherd()"
   ]
  },
  {
   "cell_type": "markdown",
   "id": "6e77f508-b130-4d24-8c1a-a25d63dff8e9",
   "metadata": {},
   "source": [
    "## Method Resolution Order (MRO) and Multiple Inheritance\n",
    "* https://www.python.org/download/releases/2.3/mro/\n",
    "* MRO is used primarily to obtain the order in which methods should be inherited in the presence of multiple inheritances\n",
    "* if you just want to find out the MRO you can use the method .mro() on a class\n",
    "* the search starts with the current class. The search moves to parent classes from left to right if not found\n",
    "* Not all languages support multiple inheritance but Python does!"
   ]
  },
  {
   "cell_type": "code",
   "execution_count": 39,
   "id": "8ca91984-3a8a-4f1d-80c1-7cd5bf01cd17",
   "metadata": {},
   "outputs": [
    {
     "data": {
      "text/plain": [
       "[__main__.GermanShepherd, __main__.Animal, __main__.Dog, object]"
      ]
     },
     "execution_count": 39,
     "metadata": {},
     "output_type": "execute_result"
    }
   ],
   "source": [
    "class Animal:\n",
    "    pass\n",
    "\n",
    "class Dog:\n",
    "    pass\n",
    "\n",
    "class GermanShepherd(Animal, Dog):\n",
    "    pass\n",
    "\n",
    "GermanShepherd.mro()"
   ]
  },
  {
   "cell_type": "markdown",
   "id": "a57b1e9f-57b4-414c-8abe-d4e713c4b6cf",
   "metadata": {},
   "source": [
    "## Multiple inheritance Examples"
   ]
  },
  {
   "cell_type": "code",
   "execution_count": 59,
   "id": "fcb0b7ba-7965-4d0b-ba72-9123743249e2",
   "metadata": {},
   "outputs": [
    {
     "name": "stdout",
     "output_type": "stream",
     "text": [
      "B.method() called\n"
     ]
    }
   ],
   "source": [
    "class A:\n",
    "    pass\n",
    "\n",
    "class B:\n",
    "  def method(self):\n",
    "    print(\"B.method() called\")\n",
    "\n",
    "class C(A, B):\n",
    "  pass\n",
    "\n",
    "class D(C, B):\n",
    "  pass\n",
    "\n",
    "d = D()\n",
    "d.method()"
   ]
  },
  {
   "cell_type": "markdown",
   "id": "be393a26-3fbd-40a4-a0e1-191ce781523d",
   "metadata": {},
   "source": [
    "What if we tried to define the inheriance of D as (B, C?)"
   ]
  },
  {
   "cell_type": "code",
   "execution_count": 55,
   "id": "8ae9a1b2-85f8-48b3-afec-3bc75f2efb23",
   "metadata": {},
   "outputs": [
    {
     "ename": "TypeError",
     "evalue": "Cannot create a consistent method resolution\norder (MRO) for bases B, C",
     "output_type": "error",
     "traceback": [
      "\u001b[0;31m---------------------------------------------------------------------------\u001b[0m",
      "\u001b[0;31mTypeError\u001b[0m                                 Traceback (most recent call last)",
      "Cell \u001b[0;32mIn[55], line 1\u001b[0m\n\u001b[0;32m----> 1\u001b[0m \u001b[38;5;28;01mclass\u001b[39;00m \u001b[38;5;21;01mD\u001b[39;00m(B, C):\n\u001b[1;32m      2\u001b[0m     \u001b[38;5;28;01mpass\u001b[39;00m\n\u001b[1;32m      3\u001b[0m D\u001b[38;5;241m.\u001b[39mmro()\n",
      "\u001b[0;31mTypeError\u001b[0m: Cannot create a consistent method resolution\norder (MRO) for bases B, C"
     ]
    }
   ],
   "source": [
    "class D(B, C):\n",
    "    pass\n",
    "D.mro()"
   ]
  },
  {
   "cell_type": "markdown",
   "id": "d48ddb17-4e11-45f3-bb9e-9b7c3368ddbd",
   "metadata": {},
   "source": [
    "D is invalid here because based on the class definitions, B is a superclass of C and should not come before C in the inheritance order"
   ]
  },
  {
   "cell_type": "code",
   "execution_count": null,
   "id": "e426fdde-9b66-4ab8-ac95-af07ba05ca30",
   "metadata": {},
   "outputs": [],
   "source": []
  }
 ],
 "metadata": {
  "kernelspec": {
   "display_name": "Python 3 (ipykernel)",
   "language": "python",
   "name": "python3"
  },
  "language_info": {
   "codemirror_mode": {
    "name": "ipython",
    "version": 3
   },
   "file_extension": ".py",
   "mimetype": "text/x-python",
   "name": "python",
   "nbconvert_exporter": "python",
   "pygments_lexer": "ipython3",
   "version": "3.8.9"
  }
 },
 "nbformat": 4,
 "nbformat_minor": 5
}
