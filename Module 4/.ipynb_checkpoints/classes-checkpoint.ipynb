{
 "cells": [
  {
   "cell_type": "markdown",
   "id": "e9578860-e490-42b5-a33b-d1e5b2d2dc38",
   "metadata": {},
   "source": [
    "# Classes\n",
    "Classes are like blueprints for creating objects and can be very simple or very complicated.\n",
    "In Python you define a class by the keyword class, the name of the class, followed by a colon"
   ]
  },
  {
   "cell_type": "code",
   "execution_count": 1,
   "id": "0ef2c7e6-6098-438f-899a-5ba16b48f4aa",
   "metadata": {},
   "outputs": [],
   "source": [
    "class Person:\n",
    "    pass"
   ]
  },
  {
   "cell_type": "markdown",
   "id": "161f403e-bd6b-4494-8723-929b0d647ad8",
   "metadata": {},
   "source": [
    "In python 2, in order to get \"new style classes\" we had to inherit from object. In python 3 all classes implicitly inherit from object and contain the same base functionality. These two definitions are functionally the same in python 3"
   ]
  },
  {
   "cell_type": "code",
   "execution_count": 2,
   "id": "8cbe7499-789e-4758-9cc3-e5a297388151",
   "metadata": {},
   "outputs": [],
   "source": [
    "class Person(object):\n",
    "    pass"
   ]
  },
  {
   "cell_type": "markdown",
   "id": "87b7847f-990c-4eb9-97d2-1029d6ec7a06",
   "metadata": {},
   "source": [
    "* The naming convention for classes in python is pascal case\n",
    "* the first letter of each compound word in a variable is capitalized (eg. FootballPlayer, TennisPlayer)\n",
    "* acronyms can go either way (URLParser vs UrlParser)"
   ]
  },
  {
   "cell_type": "markdown",
   "id": "b463cd51-e74a-4ff4-a000-daac066da8da",
   "metadata": {},
   "source": [
    "Right now the Person class isn't very interesting. We can make a constructor using the __init__() method to help us define what it means to be a person"
   ]
  },
  {
   "cell_type": "code",
   "execution_count": 4,
   "id": "ae1af8e2-5bab-417f-b5ef-308bf59c8865",
   "metadata": {},
   "outputs": [],
   "source": [
    "class Person:\n",
    "    def __init__(self, name, age):\n",
    "        self.name = name\n",
    "        self.age = age"
   ]
  },
  {
   "cell_type": "markdown",
   "id": "affbd89e-6adf-48a0-beed-6f638f0093b4",
   "metadata": {},
   "source": [
    "To instantiate an object of a class, we call the class and supply the arguments defined in the __init__() method"
   ]
  },
  {
   "cell_type": "code",
   "execution_count": 6,
   "id": "1528d6e2-d506-49c5-95cd-24e9e849a470",
   "metadata": {},
   "outputs": [
    {
     "data": {
      "text/plain": [
       "<__main__.Person at 0x10d20df40>"
      ]
     },
     "execution_count": 6,
     "metadata": {},
     "output_type": "execute_result"
    }
   ],
   "source": [
    "bob = Person(\"Bob\", 52)\n",
    "bob"
   ]
  },
  {
   "cell_type": "markdown",
   "id": "993458ad-8e4d-4dfd-9a65-9aea757f8071",
   "metadata": {},
   "source": [
    "You may notice that the first parameter in __init__() is a variable called self. When you define a method on a class, python automatically passes the instance to the first parameter of that method. You can technically call this anything you want but most of the time it is better to stick with convention"
   ]
  },
  {
   "cell_type": "code",
   "execution_count": 10,
   "id": "b68e5330-c3fe-401a-b923-20d8cd972eda",
   "metadata": {},
   "outputs": [
    {
     "data": {
      "text/plain": [
       "'Bob'"
      ]
     },
     "execution_count": 10,
     "metadata": {},
     "output_type": "execute_result"
    }
   ],
   "source": [
    "class Person:\n",
    "    def __init__(whatever, name, age):\n",
    "        whatever.name = name\n",
    "        whatever.age = age\n",
    "bob = Person(\"Bob\", 52)\n",
    "bob.name"
   ]
  },
  {
   "cell_type": "markdown",
   "id": "bfc19d77-a164-4f5e-bff3-89722585ea7b",
   "metadata": {},
   "source": [
    "## Class vs Instance Attributes"
   ]
  },
  {
   "cell_type": "markdown",
   "id": "6f6fdeba-ae19-4643-a076-e364dd8d9154",
   "metadata": {},
   "source": [
    "When we defined the Person class we included \"name\" and \"age\" as attributes that are set in the initialization of the person object. The values of these attributes are specific to each instance of the Person class that exists. If we want to have a value that applies for all instances of the Person class we can define a class attribute"
   ]
  },
  {
   "cell_type": "code",
   "execution_count": 16,
   "id": "2ac75991-ca8a-4a94-bd40-4284c14dd547",
   "metadata": {},
   "outputs": [
    {
     "name": "stdout",
     "output_type": "stream",
     "text": [
      "homo sapien\n",
      "homo sapien\n"
     ]
    }
   ],
   "source": [
    "class Person:\n",
    "    species = \"homo sapien\"\n",
    "    def __init__(self, name, age):\n",
    "        self.name = name\n",
    "        self.age = age\n",
    "\n",
    "bob = Person(\"Bob\", 52)\n",
    "peter = Person(\"Peter\", 40)\n",
    "print(bob.species)\n",
    "print(peter.species)"
   ]
  },
  {
   "cell_type": "markdown",
   "id": "a72d56e0-4975-4cf0-a406-a04edaaaece0",
   "metadata": {},
   "source": [
    "## Instance methods\n",
    "In addition to the __init__() method, we can define other methods that have access to and can utilize attributes from the instance"
   ]
  },
  {
   "cell_type": "code",
   "execution_count": 18,
   "id": "6a39e6a7-75c7-4f2e-9fee-44d066b5619e",
   "metadata": {},
   "outputs": [
    {
     "name": "stdout",
     "output_type": "stream",
     "text": [
      "Bob is 52 years old\n",
      "Bob says hello\n"
     ]
    }
   ],
   "source": [
    "class Person:\n",
    "    species = \"homo sapien\"\n",
    "\n",
    "    def __init__(self, name, age):\n",
    "        self.name = name\n",
    "        self.age = age\n",
    "\n",
    "    def description(self):\n",
    "        return f\"{self.name} is {self.age} years old\"\n",
    "\n",
    "    def speak(self, message):\n",
    "        print(f\"{self.name} says {message}\")\n",
    "\n",
    "bob = Person(\"Bob\", 52)\n",
    "print(bob.description())\n",
    "bob.speak(\"hello\")"
   ]
  },
  {
   "cell_type": "markdown",
   "id": "bbdde350-a1e0-43be-9ad7-0630bef2efa6",
   "metadata": {},
   "source": [
    "## Class methods\n",
    "Similarly, you can define class methods and the first argument passed into the method is the class itself. This is bound to the class and can be called without instantiating."
   ]
  },
  {
   "cell_type": "code",
   "execution_count": 20,
   "id": "d1217ac8-1592-42fe-82a1-ca381f71d7a9",
   "metadata": {},
   "outputs": [
    {
     "name": "stdout",
     "output_type": "stream",
     "text": [
      "homo sapien\n"
     ]
    }
   ],
   "source": [
    "class Person:\n",
    "    species = \"homo sapien\"\n",
    "\n",
    "    @classmethod\n",
    "    def example(cls):\n",
    "        print(cls.species)\n",
    "Person.example()"
   ]
  },
  {
   "cell_type": "markdown",
   "id": "1374b8f4-347c-4624-b89b-c71ab91b03a2",
   "metadata": {},
   "source": [
    "A common use for the classmethod is to have an additional way of constructing an object. For example, if I had a need to construct a Person from a dictionary object, I could do something like the following"
   ]
  },
  {
   "cell_type": "code",
   "execution_count": 38,
   "id": "3151e351-be7a-49b2-b1c0-841e9c554abb",
   "metadata": {},
   "outputs": [
    {
     "name": "stdout",
     "output_type": "stream",
     "text": [
      "Bob - 52\n"
     ]
    }
   ],
   "source": [
    "class Person:\n",
    "    species = \"homo sapien\"\n",
    "\n",
    "    def __init__(self, name, age):\n",
    "        self.name = name\n",
    "        self.age = age\n",
    "\n",
    "    @classmethod\n",
    "    def from_dict(cls, data):\n",
    "        return cls(**data)\n",
    "\n",
    "    def __str__(self):\n",
    "        return(f\"{self.name} - {self.age}\")\n",
    "\n",
    "data = {\"name\": \"Bob\", \"age\": 52}\n",
    "bob = Person.from_dict(data)\n",
    "print(bob)"
   ]
  },
  {
   "cell_type": "markdown",
   "id": "a1e5308b-7afa-4222-a058-6595878956dd",
   "metadata": {},
   "source": [
    "## Static Methods\n",
    "In addition to class methods, there is a staticmethod decorator that can be used to define a method on a class that does not have access to either the class or instance variables. While most of the time these could just be regular functions, there may be reasons for including it in the class if it has functionality closely relating to the class or you want it to be namespaced a certain way for convenience"
   ]
  },
  {
   "cell_type": "code",
   "execution_count": null,
   "id": "5f77eefc-99fb-4cd5-8a05-f97d484be85c",
   "metadata": {},
   "outputs": [],
   "source": [
    "class Person:\n",
    "    @staticmethod\n",
    "    def example():\n",
    "        print(\"why am i here\")\n",
    "Person.example()"
   ]
  },
  {
   "cell_type": "markdown",
   "id": "adbc4921-b2a6-44e3-9cfb-e19724a6114b",
   "metadata": {},
   "source": [
    "## Dunder Methods\n",
    "You may remember the \"dunder\" methods mentioned in earlier modules. In this module you've already seen the __init__ and __str__ dunder methods. These methods can be altered in the class definition to change how we interact with these objects and how they can interact with eachother. For example, by implementing __gt__ we are now able to compare on the basis of age"
   ]
  },
  {
   "cell_type": "code",
   "execution_count": 39,
   "id": "5f9b05bb-9ae4-4efe-b7e5-2eacd9be2aa1",
   "metadata": {},
   "outputs": [
    {
     "data": {
      "text/plain": [
       "True"
      ]
     },
     "execution_count": 39,
     "metadata": {},
     "output_type": "execute_result"
    }
   ],
   "source": [
    "class Person:\n",
    "    species = \"homo sapien\"\n",
    "\n",
    "    def __init__(self, name, age):\n",
    "        self.name = name\n",
    "        self.age = age\n",
    "\n",
    "    def __gt__(self, other):\n",
    "        if isinstance(other, Person):\n",
    "            return self.age > other.age\n",
    "\n",
    "bob = Person(\"Bob\", 52)\n",
    "rob = Person(\"Rob\", 80)\n",
    "rob > bob"
   ]
  },
  {
   "cell_type": "markdown",
   "id": "abc8c0e2-2429-40ad-9525-ff69074e725e",
   "metadata": {},
   "source": [
    "## Encapsulation\n",
    "In other languages you might define certain variables as private or protected to prevent them from being accessed outside of the scope. In python we can use these access modifiers by utilizing underscores when naming our variables."
   ]
  },
  {
   "cell_type": "code",
   "execution_count": 41,
   "id": "b9b8db4f-566c-43fb-90db-69b426c15b23",
   "metadata": {},
   "outputs": [
    {
     "ename": "AttributeError",
     "evalue": "'Person' object has no attribute '__age'",
     "output_type": "error",
     "traceback": [
      "\u001b[0;31m---------------------------------------------------------------------------\u001b[0m",
      "\u001b[0;31mAttributeError\u001b[0m                            Traceback (most recent call last)",
      "Cell \u001b[0;32mIn[41], line 6\u001b[0m\n\u001b[1;32m      4\u001b[0m         \u001b[38;5;28mself\u001b[39m\u001b[38;5;241m.\u001b[39m__age \u001b[38;5;241m=\u001b[39m age\n\u001b[1;32m      5\u001b[0m bob \u001b[38;5;241m=\u001b[39m Person(\u001b[38;5;124m\"\u001b[39m\u001b[38;5;124mBob\u001b[39m\u001b[38;5;124m\"\u001b[39m, \u001b[38;5;241m52\u001b[39m)\n\u001b[0;32m----> 6\u001b[0m \u001b[43mbob\u001b[49m\u001b[38;5;241;43m.\u001b[39;49m\u001b[43m__age\u001b[49m\n",
      "\u001b[0;31mAttributeError\u001b[0m: 'Person' object has no attribute '__age'"
     ]
    }
   ],
   "source": [
    "class Person:\n",
    "    def __init__(self, name, age):\n",
    "        self.name = name\n",
    "        self.__age = age\n",
    "bob = Person(\"Bob\", 52)\n",
    "bob.__age"
   ]
  },
  {
   "cell_type": "markdown",
   "id": "046dc925-bc01-4b55-8798-2b7b06fa9661",
   "metadata": {},
   "source": [
    "Technically you can still access this through name mangling. However if someone has gone out of their way to name a variable as such it would probably be wise to leave it be"
   ]
  },
  {
   "cell_type": "code",
   "execution_count": 43,
   "id": "24fe76e1-a20b-4886-b4d3-388b20d25725",
   "metadata": {},
   "outputs": [
    {
     "data": {
      "text/plain": [
       "52"
      ]
     },
     "execution_count": 43,
     "metadata": {},
     "output_type": "execute_result"
    }
   ],
   "source": [
    "bob._Person__age"
   ]
  },
  {
   "cell_type": "markdown",
   "id": "e164fd5f-b031-46d3-a246-2a048f6243f2",
   "metadata": {},
   "source": [
    "You might see the use of a private attribute together with getters and setters like this."
   ]
  },
  {
   "cell_type": "code",
   "execution_count": 44,
   "id": "2bacc48e-18be-40b3-b130-89a69045bdcb",
   "metadata": {},
   "outputs": [],
   "source": [
    "class Person:\n",
    "    def __init__(self, name, age):\n",
    "        self.name = name\n",
    "        self.__age = age\n",
    "\n",
    "    def get_age(self):\n",
    "        return self.__age\n",
    "\n",
    "    def set_age(self, age):\n",
    "        self.__age = age"
   ]
  },
  {
   "cell_type": "code",
   "execution_count": 47,
   "id": "8da004b3-d1fd-40b8-ad20-4a1307de02f0",
   "metadata": {},
   "outputs": [
    {
     "name": "stdout",
     "output_type": "stream",
     "text": [
      "52\n",
      "60\n"
     ]
    }
   ],
   "source": [
    "bob = Person(\"Bob\", 52)\n",
    "print(bob.get_age())\n",
    "bob.set_age(60)\n",
    "print(bob.get_age())"
   ]
  },
  {
   "cell_type": "markdown",
   "id": "75113887-c86a-4c23-ba70-db8ba308ffad",
   "metadata": {},
   "source": [
    "However the more pythonic way to do it is with the use of a property. When we wrap a method with the property decorator, we can access the result of that method using dot notation on the object.\n",
    "Let's also say for this example that when setting the age, we'd also like to shave off 10 years."
   ]
  },
  {
   "cell_type": "code",
   "execution_count": 48,
   "id": "f090e6b5-1557-47ae-a528-ecdeb66e5be6",
   "metadata": {},
   "outputs": [],
   "source": [
    "class Person:\n",
    "    def __init__(self, name, age):\n",
    "        self.name = name\n",
    "        self.__age = age\n",
    "\n",
    "    @property\n",
    "    def age(self):\n",
    "        return self.__age\n",
    "\n",
    "    @age.setter\n",
    "    def age(self, value):\n",
    "        self.__age = value - 10"
   ]
  },
  {
   "cell_type": "code",
   "execution_count": 49,
   "id": "f02ef97f-d0d7-429b-93ed-4507e6a009a6",
   "metadata": {},
   "outputs": [],
   "source": [
    "bob = Person(\"Bob\", 52)"
   ]
  },
  {
   "cell_type": "code",
   "execution_count": 50,
   "id": "7d8a1f0a-dac0-43f9-9a61-1f811b00bca0",
   "metadata": {},
   "outputs": [
    {
     "data": {
      "text/plain": [
       "52"
      ]
     },
     "execution_count": 50,
     "metadata": {},
     "output_type": "execute_result"
    }
   ],
   "source": [
    "bob.age"
   ]
  },
  {
   "cell_type": "code",
   "execution_count": 52,
   "id": "351cbf58-8096-4517-aec1-0c3ab8cbdeb4",
   "metadata": {},
   "outputs": [
    {
     "data": {
      "text/plain": [
       "60"
      ]
     },
     "execution_count": 52,
     "metadata": {},
     "output_type": "execute_result"
    }
   ],
   "source": [
    "bob.age = 70\n",
    "bob.age"
   ]
  },
  {
   "cell_type": "markdown",
   "id": "b79ea305-efd5-4f1a-971f-0347561739ae",
   "metadata": {},
   "source": [
    "Properties can be used to provide convenient dot notation access to calculated data points"
   ]
  },
  {
   "cell_type": "code",
   "execution_count": 55,
   "id": "38163b84-d195-4617-9e7e-75dd40f9e494",
   "metadata": {},
   "outputs": [],
   "source": [
    "class Person:\n",
    "    def __init__(self, name, age):\n",
    "        self.name = name\n",
    "        self.age = age\n",
    "\n",
    "    @property\n",
    "    def decades(self):\n",
    "        return self.age // 10"
   ]
  },
  {
   "cell_type": "code",
   "execution_count": 56,
   "id": "22eb6da8-7718-4055-8205-8f5c5faecc54",
   "metadata": {},
   "outputs": [
    {
     "data": {
      "text/plain": [
       "5"
      ]
     },
     "execution_count": 56,
     "metadata": {},
     "output_type": "execute_result"
    }
   ],
   "source": [
    "bob = Person(\"Bob\", 52)\n",
    "bob.decades"
   ]
  },
  {
   "cell_type": "code",
   "execution_count": null,
   "id": "a471757e-e947-48c4-932f-031238cb8cc0",
   "metadata": {},
   "outputs": [],
   "source": []
  }
 ],
 "metadata": {
  "kernelspec": {
   "display_name": "Python 3 (ipykernel)",
   "language": "python",
   "name": "python3"
  },
  "language_info": {
   "codemirror_mode": {
    "name": "ipython",
    "version": 3
   },
   "file_extension": ".py",
   "mimetype": "text/x-python",
   "name": "python",
   "nbconvert_exporter": "python",
   "pygments_lexer": "ipython3",
   "version": "3.8.9"
  }
 },
 "nbformat": 4,
 "nbformat_minor": 5
}
