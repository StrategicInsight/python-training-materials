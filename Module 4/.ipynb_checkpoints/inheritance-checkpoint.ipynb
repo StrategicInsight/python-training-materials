{
 "cells": [
  {
   "cell_type": "markdown",
   "id": "55e476df-5c5d-4bf6-8605-d22c694ffe83",
   "metadata": {},
   "source": [
    "# Inheritance\n",
    "* as we know all python classes inherit from object\n",
    "* classes can inherit from other classes as well!\n",
    "* we use inheritance to extend or replace functionality of the parent class\n",
    "* inheritance can simplify code and reduce repetition"
   ]
  },
  {
   "cell_type": "markdown",
   "id": "ae7a216e-a1eb-4fd2-88c8-22af94e035ae",
   "metadata": {},
   "source": [
    "## Simple Inheritance\n",
    "To define a class that inherits from another, include the class in parentheses after the class name. The child will inherit everything from the parent unless explicitly overwritten or extended."
   ]
  },
  {
   "cell_type": "code",
   "execution_count": 15,
   "id": "3fdebe55-99fd-40b8-9466-4c50d74e9156",
   "metadata": {},
   "outputs": [
    {
     "data": {
      "text/plain": [
       "'bob'"
      ]
     },
     "execution_count": 15,
     "metadata": {},
     "output_type": "execute_result"
    }
   ],
   "source": [
    "class Parent:\n",
    "    def __init__(self, name):\n",
    "        self.name = name\n",
    "\n",
    "\n",
    "class Child(Parent):\n",
    "    pass\n",
    "\n",
    "\n",
    "Child(\"bob\").name"
   ]
  },
  {
   "cell_type": "markdown",
   "id": "33815d64-8e2b-492d-86ad-a9cecf8327b1",
   "metadata": {},
   "source": [
    "## Replacing parent method\n",
    "A child class can choose to do things differently than the parent it inherits from"
   ]
  },
  {
   "cell_type": "code",
   "execution_count": 16,
   "id": "6bcfa84f-1c78-4ea2-9f83-2b6c3d0af731",
   "metadata": {},
   "outputs": [
    {
     "name": "stdout",
     "output_type": "stream",
     "text": [
      "wah\n",
      "WAHHHH\n"
     ]
    }
   ],
   "source": [
    "class Parent:\n",
    "    def __init__(self, name):\n",
    "        self.name = name\n",
    "    def cry(self):\n",
    "        print(\"wah\")\n",
    "\n",
    "class Child(Parent):\n",
    "    def cry(self):\n",
    "        print(\"WAHHHH\")\n",
    "\n",
    "Parent(\"Charles\").cry()\n",
    "Child(\"Babe\").cry()"
   ]
  },
  {
   "cell_type": "markdown",
   "id": "9d1fa851-7907-44d6-9d62-465e2b60b9ac",
   "metadata": {},
   "source": [
    "## Extending functionality with super()\n",
    "the super() function is used to refer to the parent class or superclass. It allows you to call methods defined in the superclass from the subclass, enabling you to extend and customize the functionality inherited from the parent class. In this example we'll change the initialization of the Child class to add some additional functionality while still preserving the init from the parent class"
   ]
  },
  {
   "cell_type": "code",
   "execution_count": 17,
   "id": "08126823-f002-41d4-857a-a8eed036c898",
   "metadata": {},
   "outputs": [
    {
     "data": {
      "text/plain": [
       "<__main__.Child at 0x110675b20>"
      ]
     },
     "execution_count": 17,
     "metadata": {},
     "output_type": "execute_result"
    }
   ],
   "source": [
    "class Parent:\n",
    "    def __init__(self, name):\n",
    "        self.name = name\n",
    "    def cry(self):\n",
    "        print(\"wah\")\n",
    "\n",
    "class Child(Parent):\n",
    "    def __init__(self, name, color):\n",
    "        super().__init__(name)\n",
    "        self.color = color\n",
    "\n",
    "c = Child(\"Bob\", \"green\")\n",
    "c"
   ]
  },
  {
   "cell_type": "markdown",
   "id": "d833ca50-6dc6-4995-9562-8e646c4ff0f8",
   "metadata": {},
   "source": [
    "## What about interfaces?\n",
    "You can use pythons abstract classes to implement an interface and define required methods that an inheriting class must implement"
   ]
  },
  {
   "cell_type": "code",
   "execution_count": 5,
   "id": "e31e7359-9791-4bd5-b743-144a033233a0",
   "metadata": {},
   "outputs": [],
   "source": [
    "from abc import ABC, abstractmethod\n",
    "\n",
    "class AbstractDog(ABC):\n",
    "    @abstractmethod\n",
    "    def sit(self):\n",
    "        pass\n",
    "  \n",
    "    @abstractmethod\n",
    "    def stay(self):\n",
    "        pass\n",
    "\n",
    "    @abstractmethod\n",
    "    def come(self):\n",
    "        pass\n"
   ]
  },
  {
   "cell_type": "code",
   "execution_count": 8,
   "id": "a3dd8c60-aa29-4ba9-b1eb-c52b0d0e559b",
   "metadata": {},
   "outputs": [
    {
     "ename": "TypeError",
     "evalue": "Can't instantiate abstract class Corgi with abstract methods come, sit, stay",
     "output_type": "error",
     "traceback": [
      "\u001b[0;31m---------------------------------------------------------------------------\u001b[0m",
      "\u001b[0;31mTypeError\u001b[0m                                 Traceback (most recent call last)",
      "Cell \u001b[0;32mIn[8], line 3\u001b[0m\n\u001b[1;32m      1\u001b[0m \u001b[38;5;28;01mclass\u001b[39;00m \u001b[38;5;21;01mCorgi\u001b[39;00m(AbstractDog):\n\u001b[1;32m      2\u001b[0m     \u001b[38;5;28;01mpass\u001b[39;00m\n\u001b[0;32m----> 3\u001b[0m \u001b[43mCorgi\u001b[49m\u001b[43m(\u001b[49m\u001b[43m)\u001b[49m\n",
      "\u001b[0;31mTypeError\u001b[0m: Can't instantiate abstract class Corgi with abstract methods come, sit, stay"
     ]
    }
   ],
   "source": [
    "class Corgi(AbstractDog):\n",
    "    pass\n",
    "Corgi()"
   ]
  },
  {
   "cell_type": "markdown",
   "id": "0ef71776-6378-43d7-8d1f-947468137609",
   "metadata": {},
   "source": [
    "The Corgi fails at instantiating because we haven't implemented the required base classes. The German Shepherd, however, passes."
   ]
  },
  {
   "cell_type": "code",
   "execution_count": 10,
   "id": "124523eb-b3c8-44b3-87d8-5bd8695496ca",
   "metadata": {},
   "outputs": [
    {
     "data": {
      "text/plain": [
       "<__main__.GermanShepherd at 0x1102533a0>"
      ]
     },
     "execution_count": 10,
     "metadata": {},
     "output_type": "execute_result"
    }
   ],
   "source": [
    "class GermanShepherd(AbstractDog):\n",
    "    def sit(self):\n",
    "        pass\n",
    "    def stay(self):\n",
    "        pass\n",
    "    def come(self):\n",
    "        pass\n",
    "GermanShepherd()"
   ]
  },
  {
   "cell_type": "markdown",
   "id": "6e77f508-b130-4d24-8c1a-a25d63dff8e9",
   "metadata": {},
   "source": [
    "## Method Resolution Order (MRO) and Multiple Inheritance\n",
    "* https://www.python.org/download/releases/2.3/mro/\n",
    "* MRO is used primarily to obtain the order in which methods should be inherited in the presence of multiple inheritances\n",
    "* if you just want to find out the MRO you can use the method .mro() on a class\n",
    "* the search starts with the current class. The search moves to parent classes from left to right if not found"
   ]
  },
  {
   "cell_type": "code",
   "execution_count": 4,
   "id": "8ca91984-3a8a-4f1d-80c1-7cd5bf01cd17",
   "metadata": {},
   "outputs": [
    {
     "data": {
      "text/plain": [
       "[__main__.GermanShepherd, __main__.Animal, __main__.Dog, object]"
      ]
     },
     "execution_count": 4,
     "metadata": {},
     "output_type": "execute_result"
    }
   ],
   "source": [
    "class Animal:\n",
    "    pass\n",
    "\n",
    "class Dog:\n",
    "    pass\n",
    "\n",
    "class GermanShepherd(Animal, Dog):\n",
    "    pass\n",
    "\n",
    "GermanShepherd.mro()"
   ]
  },
  {
   "cell_type": "markdown",
   "id": "a57b1e9f-57b4-414c-8abe-d4e713c4b6cf",
   "metadata": {},
   "source": [
    "## Multi-inheritance can get hairy"
   ]
  },
  {
   "cell_type": "code",
   "execution_count": 18,
   "id": "fcb0b7ba-7965-4d0b-ba72-9123743249e2",
   "metadata": {},
   "outputs": [
    {
     "data": {
      "text/plain": [
       "[__main__.D, __main__.B, __main__.C, __main__.A, object]"
      ]
     },
     "execution_count": 18,
     "metadata": {},
     "output_type": "execute_result"
    }
   ],
   "source": [
    "class A:\n",
    "    pass\n",
    "\n",
    "class B(A):\n",
    "    pass\n",
    "\n",
    "class C(A):\n",
    "    pass\n",
    "\n",
    "class D(B, C):\n",
    "    pass\n",
    "\n",
    "D.mro()"
   ]
  },
  {
   "cell_type": "code",
   "execution_count": 20,
   "id": "8eb115ef-9269-4b93-b429-585b820636e6",
   "metadata": {},
   "outputs": [
    {
     "ename": "TypeError",
     "evalue": "Cannot create a consistent method resolution\norder (MRO) for bases B, C",
     "output_type": "error",
     "traceback": [
      "\u001b[0;31m---------------------------------------------------------------------------\u001b[0m",
      "\u001b[0;31mTypeError\u001b[0m                                 Traceback (most recent call last)",
      "Cell \u001b[0;32mIn[20], line 4\u001b[0m\n\u001b[1;32m      1\u001b[0m \u001b[38;5;28;01mclass\u001b[39;00m \u001b[38;5;21;01mE\u001b[39;00m(C, B):\n\u001b[1;32m      2\u001b[0m     \u001b[38;5;28;01mpass\u001b[39;00m\n\u001b[0;32m----> 4\u001b[0m \u001b[38;5;28;01mclass\u001b[39;00m \u001b[38;5;21;01mF\u001b[39;00m(D, E):\n\u001b[1;32m      5\u001b[0m     \u001b[38;5;28;01mpass\u001b[39;00m\n\u001b[1;32m      7\u001b[0m F\u001b[38;5;241m.\u001b[39mmro()\n",
      "\u001b[0;31mTypeError\u001b[0m: Cannot create a consistent method resolution\norder (MRO) for bases B, C"
     ]
    }
   ],
   "source": [
    "class E(C, B):\n",
    "    pass\n",
    "\n",
    "class F(D, E):\n",
    "    pass\n",
    "\n",
    "F.mro()"
   ]
  },
  {
   "cell_type": "code",
   "execution_count": null,
   "id": "f71948f6-8403-4de6-bba5-2487da5ef7b1",
   "metadata": {},
   "outputs": [],
   "source": []
  }
 ],
 "metadata": {
  "kernelspec": {
   "display_name": "Python 3 (ipykernel)",
   "language": "python",
   "name": "python3"
  },
  "language_info": {
   "codemirror_mode": {
    "name": "ipython",
    "version": 3
   },
   "file_extension": ".py",
   "mimetype": "text/x-python",
   "name": "python",
   "nbconvert_exporter": "python",
   "pygments_lexer": "ipython3",
   "version": "3.8.9"
  }
 },
 "nbformat": 4,
 "nbformat_minor": 5
}
