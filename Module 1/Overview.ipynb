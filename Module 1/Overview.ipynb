{
 "cells": [
  {
   "cell_type": "markdown",
   "id": "243be965",
   "metadata": {},
   "source": [
    "# Overview\n",
    "\n",
    "1. [The Zen of Python](./The%20Zen%20of%20Python.ipynb)\n",
    "2. [Python Syntax and Data Types](./Python%20Syntax%20and%20Data%20Types.ipynb)\n",
    "3. [Python Operators](./Python%20Operators.ipynb)\n",
    "4. [Debugging](./Debugging.ipynb)"
   ]
  },
  {
   "cell_type": "code",
   "execution_count": null,
   "id": "c1da2d17",
   "metadata": {},
   "outputs": [],
   "source": []
  },
  {
   "cell_type": "code",
   "execution_count": null,
   "id": "1c300f09",
   "metadata": {},
   "outputs": [],
   "source": []
  }
 ],
 "metadata": {
  "kernelspec": {
   "display_name": "Python 3 (ipykernel)",
   "language": "python",
   "name": "python3"
  },
  "language_info": {
   "codemirror_mode": {
    "name": "ipython",
    "version": 3
   },
   "file_extension": ".py",
   "mimetype": "text/x-python",
   "name": "python",
   "nbconvert_exporter": "python",
   "pygments_lexer": "ipython3",
   "version": "3.11.4"
  }
 },
 "nbformat": 4,
 "nbformat_minor": 5
}
