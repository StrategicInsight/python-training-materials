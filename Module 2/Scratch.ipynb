{
 "cells": [
  {
   "cell_type": "code",
   "execution_count": 11,
   "id": "11415e9a-4e15-4a3c-a428-d6aee0cf283c",
   "metadata": {},
   "outputs": [
    {
     "name": "stdout",
     "output_type": "stream",
     "text": [
      "+ <function add at 0x106632170>\n",
      "- <function substract at 0x106632830>\n"
     ]
    }
   ],
   "source": [
    "def add(x, y):\n",
    "    return x + y\n",
    "\n",
    "def substract(x, y):\n",
    "    return x - y\n",
    "\n",
    "ops = {\n",
    "    '+': add,\n",
    "    '-': substract\n",
    "}\n",
    "\n",
    "operation = '+'\n",
    "args = (1, 2)\n",
    "\n",
    "ops[operation](*args)\n",
    "\n",
    "for key, value in ops.items():\n",
    "    print(f\"{key} {ops['key']}\")\n",
    "\n",
    "\"don't\"\n",
    "'don\\'t'\n",
    "'\"my sentance\"'\n",
    "\n",
    "\"\"\"\n",
    "main\n",
    "string\n",
    "mulit\n",
    "line\n",
    "\"\"\""
   ]
  }
 ],
 "metadata": {
  "kernelspec": {
   "display_name": "Python 3 (ipykernel)",
   "language": "python",
   "name": "python3"
  },
  "language_info": {
   "codemirror_mode": {
    "name": "ipython",
    "version": 3
   },
   "file_extension": ".py",
   "mimetype": "text/x-python",
   "name": "python",
   "nbconvert_exporter": "python",
   "pygments_lexer": "ipython3",
   "version": "3.10.12"
  }
 },
 "nbformat": 4,
 "nbformat_minor": 5
}
