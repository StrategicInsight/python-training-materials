{
 "cells": [
  {
   "cell_type": "markdown",
   "id": "5676c99e-1169-47da-88db-0a2293b679c0",
   "metadata": {},
   "source": [
    "# Exceptions and Error Handling\n",
    "\n",
    "Up to this point we haven't really discussed error handling although you may have noticed some errors in prior notebook cells. There are (at least) two distinguishable kinds of errors: syntax errors and exceptions.\n",
    "\n",
    "## Syntax Errors\n",
    "\n",
    "Syntax errors, also known as parsing errors, are perhaps the most common kind of complaint you get while you are still learning Python:\n"
   ]
  },
  {
   "cell_type": "code",
   "execution_count": 1,
   "id": "75aff8ab-6720-4800-b8e3-fe3a31b34939",
   "metadata": {},
   "outputs": [
    {
     "ename": "SyntaxError",
     "evalue": "invalid syntax (2884618176.py, line 1)",
     "output_type": "error",
     "traceback": [
      "\u001b[0;36m  Cell \u001b[0;32mIn[1], line 1\u001b[0;36m\u001b[0m\n\u001b[0;31m    while True print('Hello world')\u001b[0m\n\u001b[0m               ^\u001b[0m\n\u001b[0;31mSyntaxError\u001b[0m\u001b[0;31m:\u001b[0m invalid syntax\n"
     ]
    }
   ],
   "source": [
    "while True print('Hello world')"
   ]
  },
  {
   "cell_type": "markdown",
   "id": "72c12cc7-182a-4e95-86ad-fe508d6abbb2",
   "metadata": {},
   "source": [
    "Syntax errors really shouldn't happen outside of active development... You're writing tests right?\n",
    "\n",
    "## Exceptions\n",
    "\n",
    "More interesting is how to deal with errors detected during execution of a syntactically correct programs. These errors are surfaced as Exceptions and it's the programmers job to correctly handle them."
   ]
  },
  {
   "cell_type": "code",
   "execution_count": 2,
   "id": "a9b183ca-3031-4162-9027-cae16701fee1",
   "metadata": {},
   "outputs": [
    {
     "ename": "ZeroDivisionError",
     "evalue": "division by zero",
     "output_type": "error",
     "traceback": [
      "\u001b[0;31m---------------------------------------------------------------------------\u001b[0m",
      "\u001b[0;31mZeroDivisionError\u001b[0m                         Traceback (most recent call last)",
      "Cell \u001b[0;32mIn[2], line 1\u001b[0m\n\u001b[0;32m----> 1\u001b[0m \u001b[38;5;241;43m1\u001b[39;49m\u001b[38;5;241;43m/\u001b[39;49m\u001b[38;5;241;43m0\u001b[39;49m\n",
      "\u001b[0;31mZeroDivisionError\u001b[0m: division by zero"
     ]
    }
   ],
   "source": [
    "1/0"
   ]
  },
  {
   "cell_type": "markdown",
   "id": "323b8f06-6a4e-4827-a67a-0bfcd3c618e5",
   "metadata": {},
   "source": [
    "### Built in Exceptions\n",
    "\n",
    "There are many different [built-in Exception types](https://docs.python.org/3/library/exceptions.html#bltin-exceptions). We'll look at some of the most common here."
   ]
  },
  {
   "cell_type": "code",
   "execution_count": 5,
   "id": "88aa155f-31c5-4c68-ba64-e46c06957976",
   "metadata": {},
   "outputs": [
    {
     "ename": "TypeError",
     "evalue": "unsupported operand type(s) for +: 'int' and 'str'",
     "output_type": "error",
     "traceback": [
      "\u001b[0;31m---------------------------------------------------------------------------\u001b[0m",
      "\u001b[0;31mTypeError\u001b[0m                                 Traceback (most recent call last)",
      "Cell \u001b[0;32mIn[5], line 1\u001b[0m\n\u001b[0;32m----> 1\u001b[0m \u001b[38;5;241;43m1\u001b[39;49m\u001b[43m \u001b[49m\u001b[38;5;241;43m+\u001b[39;49m\u001b[43m \u001b[49m\u001b[38;5;124;43m'\u001b[39;49m\u001b[38;5;124;43mfoo\u001b[39;49m\u001b[38;5;124;43m'\u001b[39;49m\n",
      "\u001b[0;31mTypeError\u001b[0m: unsupported operand type(s) for +: 'int' and 'str'"
     ]
    }
   ],
   "source": [
    "1 + 'foo'"
   ]
  },
  {
   "cell_type": "code",
   "execution_count": 6,
   "id": "c033b186-8c12-4902-b16c-dee84eb27a30",
   "metadata": {},
   "outputs": [
    {
     "ename": "IndexError",
     "evalue": "list index out of range",
     "output_type": "error",
     "traceback": [
      "\u001b[0;31m---------------------------------------------------------------------------\u001b[0m",
      "\u001b[0;31mIndexError\u001b[0m                                Traceback (most recent call last)",
      "Cell \u001b[0;32mIn[6], line 1\u001b[0m\n\u001b[0;32m----> 1\u001b[0m \u001b[38;5;28;43mlist\u001b[39;49m\u001b[43m(\u001b[49m\u001b[43m)\u001b[49m\u001b[43m[\u001b[49m\u001b[38;5;241;43m1\u001b[39;49m\u001b[43m]\u001b[49m\n",
      "\u001b[0;31mIndexError\u001b[0m: list index out of range"
     ]
    }
   ],
   "source": [
    "list()[1]"
   ]
  },
  {
   "cell_type": "code",
   "execution_count": 7,
   "id": "d7489688-f434-496d-a30e-8caf2aa4945b",
   "metadata": {},
   "outputs": [
    {
     "ename": "AttributeError",
     "evalue": "'list' object has no attribute 'this_doesnt_exist'",
     "output_type": "error",
     "traceback": [
      "\u001b[0;31m---------------------------------------------------------------------------\u001b[0m",
      "\u001b[0;31mAttributeError\u001b[0m                            Traceback (most recent call last)",
      "Cell \u001b[0;32mIn[7], line 1\u001b[0m\n\u001b[0;32m----> 1\u001b[0m \u001b[38;5;28;43mlist\u001b[39;49m\u001b[43m(\u001b[49m\u001b[43m)\u001b[49m\u001b[38;5;241;43m.\u001b[39;49m\u001b[43mthis_doesnt_exist\u001b[49m()\n",
      "\u001b[0;31mAttributeError\u001b[0m: 'list' object has no attribute 'this_doesnt_exist'"
     ]
    }
   ],
   "source": [
    "list().this_doesnt_exist()"
   ]
  },
  {
   "cell_type": "code",
   "execution_count": 8,
   "id": "a7620015-4c3b-402c-b729-053725024f49",
   "metadata": {},
   "outputs": [
    {
     "ename": "KeyError",
     "evalue": "'badkey'",
     "output_type": "error",
     "traceback": [
      "\u001b[0;31m---------------------------------------------------------------------------\u001b[0m",
      "\u001b[0;31mKeyError\u001b[0m                                  Traceback (most recent call last)",
      "Cell \u001b[0;32mIn[8], line 1\u001b[0m\n\u001b[0;32m----> 1\u001b[0m \u001b[38;5;28;43mdict\u001b[39;49m\u001b[43m(\u001b[49m\u001b[43m)\u001b[49m\u001b[43m[\u001b[49m\u001b[38;5;124;43m'\u001b[39;49m\u001b[38;5;124;43mbadkey\u001b[39;49m\u001b[38;5;124;43m'\u001b[39;49m\u001b[43m]\u001b[49m\n",
      "\u001b[0;31mKeyError\u001b[0m: 'badkey'"
     ]
    }
   ],
   "source": [
    "dict()['badkey']"
   ]
  },
  {
   "cell_type": "code",
   "execution_count": 9,
   "id": "7a7b01fc-15ff-4868-881a-9bfc42602607",
   "metadata": {},
   "outputs": [
    {
     "ename": "NameError",
     "evalue": "name 'nope' is not defined",
     "output_type": "error",
     "traceback": [
      "\u001b[0;31m---------------------------------------------------------------------------\u001b[0m",
      "\u001b[0;31mNameError\u001b[0m                                 Traceback (most recent call last)",
      "Cell \u001b[0;32mIn[9], line 1\u001b[0m\n\u001b[0;32m----> 1\u001b[0m \u001b[38;5;28mprint\u001b[39m(\u001b[43mnope\u001b[49m)\n",
      "\u001b[0;31mNameError\u001b[0m: name 'nope' is not defined"
     ]
    }
   ],
   "source": [
    "print(nope)"
   ]
  },
  {
   "cell_type": "markdown",
   "id": "d66da600-afae-4d98-be04-9681a004095c",
   "metadata": {},
   "source": [
    "## Handling Exceptions\n",
    "\n",
    "It's possible to write code to handle specific exceptions using `try` and `except` keywords."
   ]
  },
  {
   "cell_type": "code",
   "execution_count": 10,
   "id": "035e6b5d-d384-4b4e-9db9-4aa77656389c",
   "metadata": {},
   "outputs": [
    {
     "name": "stdout",
     "output_type": "stream",
     "text": [
      "We trapped an error: division by zero\n"
     ]
    }
   ],
   "source": [
    "try:\n",
    "    1/0\n",
    "except ZeroDivisionError as err:\n",
    "    print('We trapped an error:', err)"
   ]
  },
  {
   "cell_type": "markdown",
   "id": "24e7377b-dbdd-4a41-ae92-a1fb8ab07fa6",
   "metadata": {},
   "source": [
    "The `else` keyword can be used to execute code if the try block does not through an exception."
   ]
  },
  {
   "cell_type": "code",
   "execution_count": 11,
   "id": "85217e2a-b76f-46a4-a4f3-5c9c1d533bf5",
   "metadata": {},
   "outputs": [
    {
     "name": "stdout",
     "output_type": "stream",
     "text": [
      "We did not error\n"
     ]
    }
   ],
   "source": [
    "try:\n",
    "    1/1\n",
    "except ZeroDivisionError as err:\n",
    "    print('We trapped an error:', err)\n",
    "else:\n",
    "    print('We did not error')"
   ]
  },
  {
   "cell_type": "markdown",
   "id": "99b349a7-ee11-4895-80ad-62bfe647a690",
   "metadata": {},
   "source": [
    "The `finally` keywoard can be used to execute code whether or not an exception was raised."
   ]
  },
  {
   "cell_type": "code",
   "execution_count": 13,
   "id": "d0d67519-2b53-42f7-a7b9-146cef7a887a",
   "metadata": {},
   "outputs": [
    {
     "name": "stdout",
     "output_type": "stream",
     "text": [
      "We trapped an error: division by zero\n",
      "I will always run\n"
     ]
    }
   ],
   "source": [
    "try:\n",
    "    1/0\n",
    "except ZeroDivisionError as err:\n",
    "    print('We trapped an error:', err)\n",
    "else:\n",
    "    print('We did not error')\n",
    "finally:\n",
    "    print('I will always run')"
   ]
  },
  {
   "cell_type": "markdown",
   "id": "bb4bff49-12ef-4d44-9b9d-970a72573d77",
   "metadata": {},
   "source": [
    "The `except` clause can take a tuple of Exception types to handle multiple exceptions. You can also define multiple except clauses to handle exceptions in different ways."
   ]
  },
  {
   "cell_type": "code",
   "execution_count": 16,
   "id": "3fef278f-87b6-454f-ae2a-307f29755fc4",
   "metadata": {},
   "outputs": [
    {
     "name": "stdout",
     "output_type": "stream",
     "text": [
      "We trapped an error: division by zero\n"
     ]
    }
   ],
   "source": [
    "try:\n",
    "    1/0\n",
    "#    1/'foo'\n",
    "except (ZeroDivisionError, TypeError) as err:\n",
    "    print('We trapped an error:', err)"
   ]
  },
  {
   "cell_type": "code",
   "execution_count": null,
   "id": "f3f3ed28-4a9f-48d5-8ec9-bab1735399fb",
   "metadata": {},
   "outputs": [],
   "source": [
    "try:\n",
    "#    1/0\n",
    "    1/'foo'\n",
    "except ZeroDivisionError as err:\n",
    "    print('No Divide By Zero:', err)\n",
    "except TypeError as err:\n",
    "    print('Type Error', err)"
   ]
  },
  {
   "cell_type": "markdown",
   "id": "15dde45e-e81e-4738-baa1-171210904647",
   "metadata": {},
   "source": [
    "Don't swallow exceptions you can't handle, those need to be propagated up the call stack."
   ]
  },
  {
   "cell_type": "code",
   "execution_count": 22,
   "id": "801e67a6-d6c8-409d-bfc1-43a6fd1cba17",
   "metadata": {},
   "outputs": [
    {
     "name": "stdout",
     "output_type": "stream",
     "text": [
      "some complex operation\n"
     ]
    }
   ],
   "source": [
    "#Never do this\n",
    "try:\n",
    "    #...\n",
    "    print('some complex operation')\n",
    "    #...\n",
    "except:\n",
    "    print('something bad happened')"
   ]
  },
  {
   "cell_type": "markdown",
   "id": "60849070-53cb-4789-bcc6-5ca3a169fc24",
   "metadata": {},
   "source": [
    "## Raising Exceptions\n",
    "\n",
    "The `raise` statement allows you to force a specified exception to ocurr."
   ]
  },
  {
   "cell_type": "code",
   "execution_count": 25,
   "id": "eb966ebd-ddea-4184-b9e1-f82ca14ffa2f",
   "metadata": {},
   "outputs": [
    {
     "ename": "NameError",
     "evalue": "Yikes",
     "output_type": "error",
     "traceback": [
      "\u001b[0;31m---------------------------------------------------------------------------\u001b[0m",
      "\u001b[0;31mNameError\u001b[0m                                 Traceback (most recent call last)",
      "Cell \u001b[0;32mIn[25], line 1\u001b[0m\n\u001b[0;32m----> 1\u001b[0m \u001b[38;5;28;01mraise\u001b[39;00m \u001b[38;5;167;01mNameError\u001b[39;00m(\u001b[38;5;124m'\u001b[39m\u001b[38;5;124mYikes\u001b[39m\u001b[38;5;124m'\u001b[39m)\n",
      "\u001b[0;31mNameError\u001b[0m: Yikes"
     ]
    }
   ],
   "source": [
    "raise NameError('Yikes')"
   ]
  },
  {
   "cell_type": "markdown",
   "id": "5d2f0471-b1a7-4892-a08f-1a93cbb51769",
   "metadata": {},
   "source": [
    "A common pattern is to perform some cleanup when an error occurs but then reraise the error for our caller to deal with."
   ]
  },
  {
   "cell_type": "code",
   "execution_count": 26,
   "id": "10d53aaf-6d2e-4956-8437-25ff9bcb17b5",
   "metadata": {},
   "outputs": [
    {
     "name": "stdout",
     "output_type": "stream",
     "text": [
      "Something bad happened Oops\n"
     ]
    },
    {
     "ename": "NameError",
     "evalue": "Oops",
     "output_type": "error",
     "traceback": [
      "\u001b[0;31m---------------------------------------------------------------------------\u001b[0m",
      "\u001b[0;31mNameError\u001b[0m                                 Traceback (most recent call last)",
      "Cell \u001b[0;32mIn[26], line 2\u001b[0m\n\u001b[1;32m      1\u001b[0m \u001b[38;5;28;01mtry\u001b[39;00m:\n\u001b[0;32m----> 2\u001b[0m     \u001b[38;5;28;01mraise\u001b[39;00m \u001b[38;5;167;01mNameError\u001b[39;00m(\u001b[38;5;124m'\u001b[39m\u001b[38;5;124mOops\u001b[39m\u001b[38;5;124m'\u001b[39m)\n\u001b[1;32m      3\u001b[0m \u001b[38;5;28;01mexcept\u001b[39;00m \u001b[38;5;167;01mNameError\u001b[39;00m \u001b[38;5;28;01mas\u001b[39;00m e:\n\u001b[1;32m      4\u001b[0m     \u001b[38;5;66;03m# do some cleanup I might need to do\u001b[39;00m\n\u001b[1;32m      5\u001b[0m     \u001b[38;5;28mprint\u001b[39m(\u001b[38;5;124m'\u001b[39m\u001b[38;5;124mSomething bad happened\u001b[39m\u001b[38;5;124m'\u001b[39m, e)\n",
      "\u001b[0;31mNameError\u001b[0m: Oops"
     ]
    }
   ],
   "source": [
    "try:\n",
    "    raise NameError('Oops')\n",
    "except NameError as e:\n",
    "    # do some cleanup I might need to do\n",
    "    print('Something bad happened', e)\n",
    "    raise"
   ]
  },
  {
   "cell_type": "markdown",
   "id": "24334582-d870-4f61-90a9-d0a5ca1e1e6e",
   "metadata": {},
   "source": [
    "We might choose to chain exceptions to indicate that an exception is a direct consequence of another. We can do this implicitly by raising a new error from an except block, or explicitly with the `from` keyword."
   ]
  },
  {
   "cell_type": "code",
   "execution_count": 28,
   "id": "237c91ce-ce41-4779-a872-f2fd8cd4fcf0",
   "metadata": {},
   "outputs": [
    {
     "ename": "RuntimeError",
     "evalue": "unable to handle error",
     "output_type": "error",
     "traceback": [
      "\u001b[0;31m---------------------------------------------------------------------------\u001b[0m",
      "\u001b[0;31mFileNotFoundError\u001b[0m                         Traceback (most recent call last)",
      "Cell \u001b[0;32mIn[28], line 2\u001b[0m\n\u001b[1;32m      1\u001b[0m \u001b[38;5;28;01mtry\u001b[39;00m:\n\u001b[0;32m----> 2\u001b[0m     \u001b[38;5;28;43mopen\u001b[39;49m\u001b[43m(\u001b[49m\u001b[38;5;124;43m\"\u001b[39;49m\u001b[38;5;124;43mdatabase.sqlite\u001b[39;49m\u001b[38;5;124;43m\"\u001b[39;49m\u001b[43m)\u001b[49m\n\u001b[1;32m      3\u001b[0m \u001b[38;5;28;01mexcept\u001b[39;00m \u001b[38;5;167;01mOSError\u001b[39;00m \u001b[38;5;28;01mas\u001b[39;00m e:\n",
      "File \u001b[0;32m~/juypterenv/lib/python3.10/site-packages/IPython/core/interactiveshell.py:284\u001b[0m, in \u001b[0;36m_modified_open\u001b[0;34m(file, *args, **kwargs)\u001b[0m\n\u001b[1;32m    278\u001b[0m     \u001b[38;5;28;01mraise\u001b[39;00m \u001b[38;5;167;01mValueError\u001b[39;00m(\n\u001b[1;32m    279\u001b[0m         \u001b[38;5;124mf\u001b[39m\u001b[38;5;124m\"\u001b[39m\u001b[38;5;124mIPython won\u001b[39m\u001b[38;5;124m'\u001b[39m\u001b[38;5;124mt let you open fd=\u001b[39m\u001b[38;5;132;01m{\u001b[39;00mfile\u001b[38;5;132;01m}\u001b[39;00m\u001b[38;5;124m by default \u001b[39m\u001b[38;5;124m\"\u001b[39m\n\u001b[1;32m    280\u001b[0m         \u001b[38;5;124m\"\u001b[39m\u001b[38;5;124mas it is likely to crash IPython. If you know what you are doing, \u001b[39m\u001b[38;5;124m\"\u001b[39m\n\u001b[1;32m    281\u001b[0m         \u001b[38;5;124m\"\u001b[39m\u001b[38;5;124myou can use builtins\u001b[39m\u001b[38;5;124m'\u001b[39m\u001b[38;5;124m open.\u001b[39m\u001b[38;5;124m\"\u001b[39m\n\u001b[1;32m    282\u001b[0m     )\n\u001b[0;32m--> 284\u001b[0m \u001b[38;5;28;01mreturn\u001b[39;00m \u001b[43mio_open\u001b[49m\u001b[43m(\u001b[49m\u001b[43mfile\u001b[49m\u001b[43m,\u001b[49m\u001b[43m \u001b[49m\u001b[38;5;241;43m*\u001b[39;49m\u001b[43margs\u001b[49m\u001b[43m,\u001b[49m\u001b[43m \u001b[49m\u001b[38;5;241;43m*\u001b[39;49m\u001b[38;5;241;43m*\u001b[39;49m\u001b[43mkwargs\u001b[49m\u001b[43m)\u001b[49m\n",
      "\u001b[0;31mFileNotFoundError\u001b[0m: [Errno 2] No such file or directory: 'database.sqlite'",
      "\nDuring handling of the above exception, another exception occurred:\n",
      "\u001b[0;31mRuntimeError\u001b[0m                              Traceback (most recent call last)",
      "Cell \u001b[0;32mIn[28], line 4\u001b[0m\n\u001b[1;32m      2\u001b[0m     \u001b[38;5;28mopen\u001b[39m(\u001b[38;5;124m\"\u001b[39m\u001b[38;5;124mdatabase.sqlite\u001b[39m\u001b[38;5;124m\"\u001b[39m)\n\u001b[1;32m      3\u001b[0m \u001b[38;5;28;01mexcept\u001b[39;00m \u001b[38;5;167;01mOSError\u001b[39;00m \u001b[38;5;28;01mas\u001b[39;00m e:\n\u001b[0;32m----> 4\u001b[0m     \u001b[38;5;28;01mraise\u001b[39;00m \u001b[38;5;167;01mRuntimeError\u001b[39;00m(\u001b[38;5;124m\"\u001b[39m\u001b[38;5;124munable to handle error\u001b[39m\u001b[38;5;124m\"\u001b[39m) \u001b[38;5;66;03m# raise RuntimeError from e\u001b[39;00m\n",
      "\u001b[0;31mRuntimeError\u001b[0m: unable to handle error"
     ]
    }
   ],
   "source": [
    "try:\n",
    "    open(\"database.sqlite\")\n",
    "except OSError as e:\n",
    "    raise RuntimeError(\"unable to handle error\") # raise RuntimeError from e"
   ]
  },
  {
   "cell_type": "markdown",
   "id": "ae38d874-4750-41bd-afff-16596c4be4be",
   "metadata": {},
   "source": [
    "## User-defined Exceptions\n",
    "\n",
    "Programs may name their own exceptions by creating a new exception class (see Classes for more about Python classes). Exceptions should typically be derived from the Exception class, either directly or indirectly.\n",
    "\n",
    "In general you should only be defining your own exceptions when you have a specific case where raising a custom exception would be more appropriate then raising an existing Python exception. Think carefully when considering defining a new Exception class."
   ]
  },
  {
   "cell_type": "code",
   "execution_count": null,
   "id": "125d6775-c3e9-4567-9208-d0af058e1e36",
   "metadata": {},
   "outputs": [],
   "source": [
    "class NumberToLarge(ValueError):\n",
    "    pass\n",
    "\n",
    "class NumberToSmall(ValueError):\n",
    "    pass\n",
    "\n",
    "while True:\n",
    "    try:\n",
    "        num = int(input('number'))\n",
    "        if num < 0:\n",
    "            raise NumberToSmall\n",
    "        elif num > 100:\n",
    "            raise NumberToLarge\n",
    "        else:\n",
    "            break\n",
    "    except (NumberToSmall, NumberToLarge):\n",
    "        print('Try again')\n",
    "    except ValueError:\n",
    "        print('Are you sure that was a number???')\n",
    "    except Exception:\n",
    "        print('Something really bad happened')\n",
    "        raise"
   ]
  },
  {
   "cell_type": "code",
   "execution_count": null,
   "id": "adc0ca04-487b-4dac-a68b-bdf5581e8055",
   "metadata": {},
   "outputs": [],
   "source": []
  }
 ],
 "metadata": {
  "kernelspec": {
   "display_name": "Python 3 (ipykernel)",
   "language": "python",
   "name": "python3"
  },
  "language_info": {
   "codemirror_mode": {
    "name": "ipython",
    "version": 3
   },
   "file_extension": ".py",
   "mimetype": "text/x-python",
   "name": "python",
   "nbconvert_exporter": "python",
   "pygments_lexer": "ipython3",
   "version": "3.10.12"
  }
 },
 "nbformat": 4,
 "nbformat_minor": 5
}
