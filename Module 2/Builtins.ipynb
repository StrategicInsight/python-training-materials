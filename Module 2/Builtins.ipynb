{
 "cells": [
  {
   "cell_type": "markdown",
   "id": "9c285b10-86ba-458f-8250-1696e94767e0",
   "metadata": {},
   "source": [
    "# Built-in Functions\n",
    "\n",
    "The Python language has a number of built in functions and types that are always available. We've been over many of these already. They are listed in alphabetical order here. More details can be found in the [documentation](https://docs.python.org/3/library/functions.html).\n",
    "\n",
    "<table class=\"docutils align-default\">\n",
    "<colgroup>\n",
    "<col style=\"width: 26%\">\n",
    "<col style=\"width: 24%\">\n",
    "<col style=\"width: 24%\">\n",
    "<col style=\"width: 26%\">\n",
    "</colgroup>\n",
    "<thead>\n",
    "<tr class=\"row-odd\"><th class=\"head\" colspan=\"4\"><p>Built-in Functions</p></th>\n",
    "</tr>\n",
    "</thead>\n",
    "<tbody>\n",
    "<tr class=\"row-even\"><td><div class=\"line-block\">\n",
    "<div class=\"line\"><strong>A</strong></div>\n",
    "<div class=\"line\"><a class=\"reference internal\" href=\"https://docs.python.org/3/library/functions.html#abs\" title=\"abs\"><code class=\"xref py py-func docutils literal notranslate\"><span class=\"pre\">abs()</span></code></a></div>\n",
    "<div class=\"line\"><a class=\"reference internal\" href=\"https://docs.python.org/3/library/functions.html#aiter\" title=\"aiter\"><code class=\"xref py py-func docutils literal notranslate\"><span class=\"pre\">aiter()</span></code></a></div>\n",
    "<div class=\"line\"><a class=\"reference internal\" href=\"https://docs.python.org/3/library/functions.html#all\" title=\"all\"><code class=\"xref py py-func docutils literal notranslate\"><span class=\"pre\">all()</span></code></a></div>\n",
    "<div class=\"line\"><a class=\"reference internal\" href=\"https://docs.python.org/3/library/functions.html#anext\" title=\"anext\"><code class=\"xref py py-func docutils literal notranslate\"><span class=\"pre\">anext()</span></code></a></div>\n",
    "<div class=\"line\"><a class=\"reference internal\" href=\"https://docs.python.org/3/library/functions.html#any\" title=\"any\"><code class=\"xref py py-func docutils literal notranslate\"><span class=\"pre\">any()</span></code></a></div>\n",
    "<div class=\"line\"><a class=\"reference internal\" href=\"https://docs.python.org/3/library/functions.html#ascii\" title=\"ascii\"><code class=\"xref py py-func docutils literal notranslate\"><span class=\"pre\">ascii()</span></code></a></div>\n",
    "<div class=\"line\"><br></div>\n",
    "<div class=\"line\"><strong>B</strong></div>\n",
    "<div class=\"line\"><a class=\"reference internal\" href=\"https://docs.python.org/3/library/functions.html#bin\" title=\"bin\"><code class=\"xref py py-func docutils literal notranslate\"><span class=\"pre\">bin()</span></code></a></div>\n",
    "<div class=\"line\"><a class=\"reference internal\" href=\"https://docs.python.org/3/library/functions.html#bool\" title=\"bool\"><code class=\"xref py py-func docutils literal notranslate\"><span class=\"pre\">bool()</span></code></a></div>\n",
    "<div class=\"line\"><a class=\"reference internal\" href=\"https://docs.python.org/3/library/functions.html#breakpoint\" title=\"breakpoint\"><code class=\"xref py py-func docutils literal notranslate\"><span class=\"pre\">breakpoint()</span></code></a></div>\n",
    "<div class=\"line\"><a class=\"reference internal\" href=\"https://docs.python.org/3/library/functions.html#func-bytearray\"><code class=\"docutils literal notranslate\"><span class=\"pre\">bytearray()</span></code></a></div>\n",
    "<div class=\"line\"><a class=\"reference internal\" href=\"https://docs.python.org/3/library/functions.html#func-bytes\"><code class=\"docutils literal notranslate\"><span class=\"pre\">bytes()</span></code></a></div>\n",
    "<div class=\"line\"><br></div>\n",
    "<div class=\"line\"><strong>C</strong></div>\n",
    "<div class=\"line\"><a class=\"reference internal\" href=\"https://docs.python.org/3/library/functions.html#callable\" title=\"callable\"><code class=\"xref py py-func docutils literal notranslate\"><span class=\"pre\">callable()</span></code></a></div>\n",
    "<div class=\"line\"><a class=\"reference internal\" href=\"https://docs.python.org/3/library/functions.html#chr\" title=\"chr\"><code class=\"xref py py-func docutils literal notranslate\"><span class=\"pre\">chr()</span></code></a></div>\n",
    "<div class=\"line\"><a class=\"reference internal\" href=\"https://docs.python.org/3/library/functions.html#classmethod\" title=\"classmethod\"><code class=\"xref py py-func docutils literal notranslate\"><span class=\"pre\">classmethod()</span></code></a></div>\n",
    "<div class=\"line\"><a class=\"reference internal\" href=\"https://docs.python.org/3/library/functions.html#compile\" title=\"compile\"><code class=\"xref py py-func docutils literal notranslate\"><span class=\"pre\">compile()</span></code></a></div>\n",
    "<div class=\"line\"><a class=\"reference internal\" href=\"https://docs.python.org/3/library/functions.html#complex\" title=\"complex\"><code class=\"xref py py-func docutils literal notranslate\"><span class=\"pre\">complex()</span></code></a></div>\n",
    "<div class=\"line\"><br></div>\n",
    "<div class=\"line\"><strong>D</strong></div>\n",
    "<div class=\"line\"><a class=\"reference internal\" href=\"https://docs.python.org/3/library/functions.html#delattr\" title=\"delattr\"><code class=\"xref py py-func docutils literal notranslate\"><span class=\"pre\">delattr()</span></code></a></div>\n",
    "<div class=\"line\"><a class=\"reference internal\" href=\"https://docs.python.org/3/library/functions.html#func-dict\"><code class=\"docutils literal notranslate\"><span class=\"pre\">dict()</span></code></a></div>\n",
    "<div class=\"line\"><a class=\"reference internal\" href=\"https://docs.python.org/3/library/functions.html#dir\" title=\"dir\"><code class=\"xref py py-func docutils literal notranslate\"><span class=\"pre\">dir()</span></code></a></div>\n",
    "<div class=\"line\"><a class=\"reference internal\" href=\"https://docs.python.org/3/library/functions.html#divmod\" title=\"divmod\"><code class=\"xref py py-func docutils literal notranslate\"><span class=\"pre\">divmod()</span></code></a></div>\n",
    "<div class=\"line\"><br></div>\n",
    "</div>\n",
    "</td>\n",
    "<td><div class=\"line-block\">\n",
    "<div class=\"line\"><strong>E</strong></div>\n",
    "<div class=\"line\"><a class=\"reference internal\" href=\"https://docs.python.org/3/library/functions.html#enumerate\" title=\"enumerate\"><code class=\"xref py py-func docutils literal notranslate\"><span class=\"pre\">enumerate()</span></code></a></div>\n",
    "<div class=\"line\"><a class=\"reference internal\" href=\"https://docs.python.org/3/library/functions.html#eval\" title=\"eval\"><code class=\"xref py py-func docutils literal notranslate\"><span class=\"pre\">eval()</span></code></a></div>\n",
    "<div class=\"line\"><a class=\"reference internal\" href=\"https://docs.python.org/3/library/functions.html#exec\" title=\"exec\"><code class=\"xref py py-func docutils literal notranslate\"><span class=\"pre\">exec()</span></code></a></div>\n",
    "<div class=\"line\"><br></div>\n",
    "<div class=\"line\"><strong>F</strong></div>\n",
    "<div class=\"line\"><a class=\"reference internal\" href=\"https://docs.python.org/3/library/functions.html#filter\" title=\"filter\"><code class=\"xref py py-func docutils literal notranslate\"><span class=\"pre\">filter()</span></code></a></div>\n",
    "<div class=\"line\"><a class=\"reference internal\" href=\"https://docs.python.org/3/library/functions.html#float\" title=\"float\"><code class=\"xref py py-func docutils literal notranslate\"><span class=\"pre\">float()</span></code></a></div>\n",
    "<div class=\"line\"><a class=\"reference internal\" href=\"https://docs.python.org/3/library/functions.html#format\" title=\"format\"><code class=\"xref py py-func docutils literal notranslate\"><span class=\"pre\">format()</span></code></a></div>\n",
    "<div class=\"line\"><a class=\"reference internal\" href=\"https://docs.python.org/3/library/functions.html#func-frozenset\"><code class=\"docutils literal notranslate\"><span class=\"pre\">frozenset()</span></code></a></div>\n",
    "<div class=\"line\"><br></div>\n",
    "<div class=\"line\"><strong>G</strong></div>\n",
    "<div class=\"line\"><a class=\"reference internal\" href=\"https://docs.python.org/3/library/functions.html#getattr\" title=\"getattr\"><code class=\"xref py py-func docutils literal notranslate\"><span class=\"pre\">getattr()</span></code></a></div>\n",
    "<div class=\"line\"><a class=\"reference internal\" href=\"https://docs.python.org/3/library/functions.html#globals\" title=\"globals\"><code class=\"xref py py-func docutils literal notranslate\"><span class=\"pre\">globals()</span></code></a></div>\n",
    "<div class=\"line\"><br></div>\n",
    "<div class=\"line\"><strong>H</strong></div>\n",
    "<div class=\"line\"><a class=\"reference internal\" href=\"https://docs.python.org/3/library/functions.html#hasattr\" title=\"hasattr\"><code class=\"xref py py-func docutils literal notranslate\"><span class=\"pre\">hasattr()</span></code></a></div>\n",
    "<div class=\"line\"><a class=\"reference internal\" href=\"https://docs.python.org/3/library/functions.html#hash\" title=\"hash\"><code class=\"xref py py-func docutils literal notranslate\"><span class=\"pre\">hash()</span></code></a></div>\n",
    "<div class=\"line\"><a class=\"reference internal\" href=\"https://docs.python.org/3/library/functions.html#help\" title=\"help\"><code class=\"xref py py-func docutils literal notranslate\"><span class=\"pre\">help()</span></code></a></div>\n",
    "<div class=\"line\"><a class=\"reference internal\" href=\"https://docs.python.org/3/library/functions.html#hex\" title=\"hex\"><code class=\"xref py py-func docutils literal notranslate\"><span class=\"pre\">hex()</span></code></a></div>\n",
    "<div class=\"line\"><br></div>\n",
    "<div class=\"line\"><strong>I</strong></div>\n",
    "<div class=\"line\"><a class=\"reference internal\" href=\"https://docs.python.org/3/library/functions.html#id\" title=\"id\"><code class=\"xref py py-func docutils literal notranslate\"><span class=\"pre\">id()</span></code></a></div>\n",
    "<div class=\"line\"><a class=\"reference internal\" href=\"https://docs.python.org/3/library/functions.html#input\" title=\"input\"><code class=\"xref py py-func docutils literal notranslate\"><span class=\"pre\">input()</span></code></a></div>\n",
    "<div class=\"line\"><a class=\"reference internal\" href=\"https://docs.python.org/3/library/functions.html#int\" title=\"int\"><code class=\"xref py py-func docutils literal notranslate\"><span class=\"pre\">int()</span></code></a></div>\n",
    "<div class=\"line\"><a class=\"reference internal\" href=\"https://docs.python.org/3/library/functions.html#isinstance\" title=\"isinstance\"><code class=\"xref py py-func docutils literal notranslate\"><span class=\"pre\">isinstance()</span></code></a></div>\n",
    "<div class=\"line\"><a class=\"reference internal\" href=\"https://docs.python.org/3/library/functions.html#issubclass\" title=\"issubclass\"><code class=\"xref py py-func docutils literal notranslate\"><span class=\"pre\">issubclass()</span></code></a></div>\n",
    "<div class=\"line\"><a class=\"reference internal\" href=\"https://docs.python.org/3/library/functions.html#iter\" title=\"iter\"><code class=\"xref py py-func docutils literal notranslate\"><span class=\"pre\">iter()</span></code></a></div>\n",
    "</div>\n",
    "</td>\n",
    "<td><div class=\"line-block\">\n",
    "<div class=\"line\"><strong>L</strong></div>\n",
    "<div class=\"line\"><a class=\"reference internal\" href=\"https://docs.python.org/3/library/functions.html#len\" title=\"len\"><code class=\"xref py py-func docutils literal notranslate\"><span class=\"pre\">len()</span></code></a></div>\n",
    "<div class=\"line\"><a class=\"reference internal\" href=\"https://docs.python.org/3/library/functions.html#func-list\"><code class=\"docutils literal notranslate\"><span class=\"pre\">list()</span></code></a></div>\n",
    "<div class=\"line\"><a class=\"reference internal\" href=\"https://docs.python.org/3/library/functions.html#locals\" title=\"locals\"><code class=\"xref py py-func docutils literal notranslate\"><span class=\"pre\">locals()</span></code></a></div>\n",
    "<div class=\"line\"><br></div>\n",
    "<div class=\"line\"><strong>M</strong></div>\n",
    "<div class=\"line\"><a class=\"reference internal\" href=\"https://docs.python.org/3/library/functions.html#map\" title=\"map\"><code class=\"xref py py-func docutils literal notranslate\"><span class=\"pre\">map()</span></code></a></div>\n",
    "<div class=\"line\"><a class=\"reference internal\" href=\"https://docs.python.org/3/library/functions.html#max\" title=\"max\"><code class=\"xref py py-func docutils literal notranslate\"><span class=\"pre\">max()</span></code></a></div>\n",
    "<div class=\"line\"><a class=\"reference internal\" href=\"https://docs.python.org/3/library/functions.html#func-memoryview\"><code class=\"docutils literal notranslate\"><span class=\"pre\">memoryview()</span></code></a></div>\n",
    "<div class=\"line\"><a class=\"reference internal\" href=\"https://docs.python.org/3/library/functions.html#min\" title=\"min\"><code class=\"xref py py-func docutils literal notranslate\"><span class=\"pre\">min()</span></code></a></div>\n",
    "<div class=\"line\"><br></div>\n",
    "<div class=\"line\"><strong>N</strong></div>\n",
    "<div class=\"line\"><a class=\"reference internal\" href=\"https://docs.python.org/3/library/functions.html#next\" title=\"next\"><code class=\"xref py py-func docutils literal notranslate\"><span class=\"pre\">next()</span></code></a></div>\n",
    "<div class=\"line\"><br></div>\n",
    "<div class=\"line\"><strong>O</strong></div>\n",
    "<div class=\"line\"><a class=\"reference internal\" href=\"https://docs.python.org/3/library/functions.html#object\" title=\"object\"><code class=\"xref py py-func docutils literal notranslate\"><span class=\"pre\">object()</span></code></a></div>\n",
    "<div class=\"line\"><a class=\"reference internal\" href=\"https://docs.python.org/3/library/functions.html#oct\" title=\"oct\"><code class=\"xref py py-func docutils literal notranslate\"><span class=\"pre\">oct()</span></code></a></div>\n",
    "<div class=\"line\"><a class=\"reference internal\" href=\"https://docs.python.org/3/library/functions.html#open\" title=\"open\"><code class=\"xref py py-func docutils literal notranslate\"><span class=\"pre\">open()</span></code></a></div>\n",
    "<div class=\"line\"><a class=\"reference internal\" href=\"https://docs.python.org/3/library/functions.html#ord\" title=\"ord\"><code class=\"xref py py-func docutils literal notranslate\"><span class=\"pre\">ord()</span></code></a></div>\n",
    "<div class=\"line\"><br></div>\n",
    "<div class=\"line\"><strong>P</strong></div>\n",
    "<div class=\"line\"><a class=\"reference internal\" href=\"https://docs.python.org/3/library/functions.html#pow\" title=\"pow\"><code class=\"xref py py-func docutils literal notranslate\"><span class=\"pre\">pow()</span></code></a></div>\n",
    "<div class=\"line\"><a class=\"reference internal\" href=\"https://docs.python.org/3/library/functions.html#print\" title=\"print\"><code class=\"xref py py-func docutils literal notranslate\"><span class=\"pre\">print()</span></code></a></div>\n",
    "<div class=\"line\"><a class=\"reference internal\" href=\"https://docs.python.org/3/library/functions.html#property\" title=\"property\"><code class=\"xref py py-func docutils literal notranslate\"><span class=\"pre\">property()</span></code></a></div>\n",
    "<div class=\"line\"><br></div>\n",
    "<div class=\"line\"><br></div>\n",
    "<div class=\"line\"><br></div>\n",
    "<div class=\"line\"><br></div>\n",
    "</div>\n",
    "</td>\n",
    "<td><div class=\"line-block\">\n",
    "<div class=\"line\"><strong>R</strong></div>\n",
    "<div class=\"line\"><a class=\"reference internal\" href=\"https://docs.python.org/3/library/functions.html#func-range\"><code class=\"docutils literal notranslate\"><span class=\"pre\">range()</span></code></a></div>\n",
    "<div class=\"line\"><a class=\"reference internal\" href=\"https://docs.python.org/3/library/functions.html#repr\" title=\"repr\"><code class=\"xref py py-func docutils literal notranslate\"><span class=\"pre\">repr()</span></code></a></div>\n",
    "<div class=\"line\"><a class=\"reference internal\" href=\"https://docs.python.org/3/library/functions.html#reversed\" title=\"reversed\"><code class=\"xref py py-func docutils literal notranslate\"><span class=\"pre\">reversed()</span></code></a></div>\n",
    "<div class=\"line\"><a class=\"reference internal\" href=\"https://docs.python.org/3/library/functions.html#round\" title=\"round\"><code class=\"xref py py-func docutils literal notranslate\"><span class=\"pre\">round()</span></code></a></div>\n",
    "<div class=\"line\"><br></div>\n",
    "<div class=\"line\"><strong>S</strong></div>\n",
    "<div class=\"line\"><a class=\"reference internal\" href=\"https://docs.python.org/3/library/functions.html#func-set\"><code class=\"docutils literal notranslate\"><span class=\"pre\">set()</span></code></a></div>\n",
    "<div class=\"line\"><a class=\"reference internal\" href=\"https://docs.python.org/3/library/functions.html#setattr\" title=\"setattr\"><code class=\"xref py py-func docutils literal notranslate\"><span class=\"pre\">setattr()</span></code></a></div>\n",
    "<div class=\"line\"><a class=\"reference internal\" href=\"https://docs.python.org/3/library/functions.html#slice\" title=\"slice\"><code class=\"xref py py-func docutils literal notranslate\"><span class=\"pre\">slice()</span></code></a></div>\n",
    "<div class=\"line\"><a class=\"reference internal\" href=\"https://docs.python.org/3/library/functions.html#sorted\" title=\"sorted\"><code class=\"xref py py-func docutils literal notranslate\"><span class=\"pre\">sorted()</span></code></a></div>\n",
    "<div class=\"line\"><a class=\"reference internal\" href=\"https://docs.python.org/3/library/functions.html#staticmethod\" title=\"staticmethod\"><code class=\"xref py py-func docutils literal notranslate\"><span class=\"pre\">staticmethod()</span></code></a></div>\n",
    "<div class=\"line\"><a class=\"reference internal\" href=\"https://docs.python.org/3/library/functions.html#func-str\"><code class=\"docutils literal notranslate\"><span class=\"pre\">str()</span></code></a></div>\n",
    "<div class=\"line\"><a class=\"reference internal\" href=\"https://docs.python.org/3/library/functions.html#sum\" title=\"sum\"><code class=\"xref py py-func docutils literal notranslate\"><span class=\"pre\">sum()</span></code></a></div>\n",
    "<div class=\"line\"><a class=\"reference internal\" href=\"https://docs.python.org/3/library/functions.html#super\" title=\"super\"><code class=\"xref py py-func docutils literal notranslate\"><span class=\"pre\">super()</span></code></a></div>\n",
    "<div class=\"line\"><br></div>\n",
    "<div class=\"line\"><strong>T</strong></div>\n",
    "<div class=\"line\"><a class=\"reference internal\" href=\"https://docs.python.org/3/library/functions.html#func-tuple\"><code class=\"docutils literal notranslate\"><span class=\"pre\">tuple()</span></code></a></div>\n",
    "<div class=\"line\"><a class=\"reference internal\" href=\"https://docs.python.org/3/library/functions.html#type\" title=\"type\"><code class=\"xref py py-func docutils literal notranslate\"><span class=\"pre\">type()</span></code></a></div>\n",
    "<div class=\"line\"><br></div>\n",
    "<div class=\"line\"><strong>V</strong></div>\n",
    "<div class=\"line\"><a class=\"reference internal\" href=\"https://docs.python.org/3/library/functions.html#vars\" title=\"vars\"><code class=\"xref py py-func docutils literal notranslate\"><span class=\"pre\">vars()</span></code></a></div>\n",
    "<div class=\"line\"><br></div>\n",
    "<div class=\"line\"><strong>Z</strong></div>\n",
    "<div class=\"line\"><a class=\"reference internal\" href=\"https://docs.python.org/3/library/functions.html#zip\" title=\"zip\"><code class=\"xref py py-func docutils literal notranslate\"><span class=\"pre\">zip()</span></code></a></div>\n",
    "<div class=\"line\"><br></div>\n",
    "<div class=\"line\"><strong>_</strong></div>\n",
    "<div class=\"line\"><a class=\"reference internal\" href=\"https://docs.python.org/3/library/functions.html#import__\" title=\"__import__\"><code class=\"xref py py-func docutils literal notranslate\"><span class=\"pre\">__import__()</span></code></a></div>\n",
    "</div>\n",
    "</td>\n",
    "</tr>\n",
    "</tbody>\n",
    "</table>"
   ]
  },
  {
   "cell_type": "markdown",
   "id": "34f1fbe9-3d1d-42b9-ad37-9e59787f5acb",
   "metadata": {},
   "source": [
    "We'll hit some of the highlights here but there are too many to cover in depth right now.\n",
    "\n",
    "You might have noticed some of these are actually `types` that we've seen already when working through earlier datastructures. e.g. `tuple`, `list`, `dict`.\n",
    "\n",
    "Many of these functions have optional arguments and use ``__dunder__`` methods (double underscore methods) in their implementation. This makes their use extremely flexible. Let's look at an example.\n",
    "\n",
    "``len`` returns the length of the provided argument. A common use is to obtain the length of collections."
   ]
  },
  {
   "cell_type": "code",
   "execution_count": 1,
   "id": "02ead27c-7b00-4a00-b34f-c472b44fbced",
   "metadata": {},
   "outputs": [
    {
     "data": {
      "text/plain": [
       "3"
      ]
     },
     "execution_count": 1,
     "metadata": {},
     "output_type": "execute_result"
    }
   ],
   "source": [
    "len([1, 2, 3])"
   ]
  },
  {
   "cell_type": "markdown",
   "id": "a55adbdd-ca34-440c-9419-b6481197a0c2",
   "metadata": {},
   "source": [
    "The `len` function uses `Object.__len__` to implement which allows you to do things like this:"
   ]
  },
  {
   "cell_type": "code",
   "execution_count": 4,
   "id": "a292946c-1b51-461f-b7d0-d2ee25363d49",
   "metadata": {},
   "outputs": [
    {
     "data": {
      "text/plain": [
       "1"
      ]
     },
     "execution_count": 4,
     "metadata": {},
     "output_type": "execute_result"
    }
   ],
   "source": [
    "class MySuperFancyCache(object):\n",
    "\n",
    "    def __init__(self):\n",
    "        self._cache = {}\n",
    "\n",
    "    def add(self, k, v):\n",
    "        # ...\n",
    "        self._cache[k] = v\n",
    "        # ...\n",
    "\n",
    "    def __len__(self):\n",
    "        return len(self._cache)\n",
    "\n",
    "cache = MySuperFancyCache()\n",
    "cache.add('foo', 'bar')\n",
    "len(cache)"
   ]
  },
  {
   "cell_type": "markdown",
   "id": "5c4ad05f-6f1a-4cba-a39a-824bc63379fe",
   "metadata": {},
   "source": [
    "_Dunder methods_ are commonly used by built-ins and they allow for powerful customization. We won't cover all these customization points here. I encourage you to check out the [official documentation](https://docs.python.org/3/library/functions.html#built-in-functions).\n",
    "\n",
    "## Collections and Iterables\n",
    "\n",
    "We've seen `len`, let's look at some other built-ins useful when working with collections/sequences and/or iterables.\n",
    "\n",
    "`all` returns a boolean indicating if all elements of the provided iterable are True.\n",
    "`any` returns a boolean indicating if any elements of the provided iterable are True."
   ]
  },
  {
   "cell_type": "code",
   "execution_count": 5,
   "id": "d6385b44-1ec7-477b-ba54-8dbcdc275e94",
   "metadata": {},
   "outputs": [
    {
     "data": {
      "text/plain": [
       "False"
      ]
     },
     "execution_count": 5,
     "metadata": {},
     "output_type": "execute_result"
    }
   ],
   "source": [
    "vals = [True, False, True]\n",
    "all(vals)"
   ]
  },
  {
   "cell_type": "code",
   "execution_count": 6,
   "id": "33008428-025e-482a-9250-b21d0ac52b8c",
   "metadata": {},
   "outputs": [
    {
     "data": {
      "text/plain": [
       "True"
      ]
     },
     "execution_count": 6,
     "metadata": {},
     "output_type": "execute_result"
    }
   ],
   "source": [
    "any(vals)"
   ]
  },
  {
   "cell_type": "markdown",
   "id": "605d69a6-2364-4d5e-ae0d-b496c21bb143",
   "metadata": {},
   "source": [
    "`next` retrieves the next item from the iterator provided to it. Let's look at this using the `range` sequence type which we will turn into an iterator using the `iter` built-in."
   ]
  },
  {
   "cell_type": "code",
   "execution_count": 9,
   "id": "2cca3ab4-c3e8-431d-8cde-abf182425677",
   "metadata": {},
   "outputs": [
    {
     "name": "stdout",
     "output_type": "stream",
     "text": [
      "1\n",
      "3\n"
     ]
    }
   ],
   "source": [
    "odds = iter(range(1, 100, 2))\n",
    "print(next(odds))\n",
    "print(next(odds))"
   ]
  },
  {
   "cell_type": "markdown",
   "id": "080a7f5a-53fb-4d94-8566-dccbb00c7b2f",
   "metadata": {},
   "source": [
    "The `reversed` function allows us to create a reversed iterator."
   ]
  },
  {
   "cell_type": "code",
   "execution_count": 13,
   "id": "8f993edd-c1c2-47f3-baa1-1dea8f1e57a2",
   "metadata": {},
   "outputs": [
    {
     "name": "stdout",
     "output_type": "stream",
     "text": [
      "99\n",
      "97\n"
     ]
    }
   ],
   "source": [
    "odds_reversed = reversed(range(1, 100, 2))\n",
    "print(next(odds_reversed))\n",
    "print(next(odds_reversed))"
   ]
  },
  {
   "cell_type": "markdown",
   "id": "870018c6-8555-4832-ba0f-c77057ac138c",
   "metadata": {},
   "source": [
    "The `filter` function filters a provided iterable with the given function. We could iterate our odds iterator from above using this filter function."
   ]
  },
  {
   "cell_type": "code",
   "execution_count": 17,
   "id": "5b18d6c4-b85d-40a7-ab90-b295f961c741",
   "metadata": {},
   "outputs": [
    {
     "name": "stdout",
     "output_type": "stream",
     "text": [
      "1\n",
      "3\n"
     ]
    }
   ],
   "source": [
    "all_nums = range(1, 100)\n",
    "odds = filter(lambda x: x%2!=0, all_nums)\n",
    "print(next(odds))\n",
    "print(next(odds))"
   ]
  },
  {
   "cell_type": "markdown",
   "id": "adbab24c-d41c-4809-816e-1c836962bed7",
   "metadata": {},
   "source": [
    "We can use `map` to return an iterable that applies a function across another iterable. Note this example uses the built-in `pow` method to compute `x^3`"
   ]
  },
  {
   "cell_type": "code",
   "execution_count": 19,
   "id": "98e7723e-616d-4cce-982d-9191fd88425e",
   "metadata": {},
   "outputs": [
    {
     "data": {
      "text/plain": [
       "[1, 8, 27, 64, 125, 216, 343, 512, 729, 1000]"
      ]
     },
     "execution_count": 19,
     "metadata": {},
     "output_type": "execute_result"
    }
   ],
   "source": [
    "first_ten = range(1, 11)\n",
    "cubed = map(lambda x: pow(x, 3), first_ten)\n",
    "list(cubed)"
   ]
  },
  {
   "cell_type": "markdown",
   "id": "e284beed-5e60-4708-9758-20b3abd44cf1",
   "metadata": {},
   "source": [
    "We've seen some basics of iterating over collections or iterables. Sometimes we need both the value and the index. For that we can use the `enumerate`."
   ]
  },
  {
   "cell_type": "code",
   "execution_count": 21,
   "id": "e32a113c-cd29-402f-aff5-aaf66c56cd9f",
   "metadata": {},
   "outputs": [
    {
     "data": {
      "text/plain": [
       "[(0, 'foo'), (1, 'bar'), (2, 'baz')]"
      ]
     },
     "execution_count": 21,
     "metadata": {},
     "output_type": "execute_result"
    }
   ],
   "source": [
    "list(enumerate(['foo', 'bar', 'baz']))"
   ]
  },
  {
   "cell_type": "markdown",
   "id": "1d4003c0-0b85-4b73-92bd-36a4efa57329",
   "metadata": {},
   "source": [
    "Other times it's convenient to iterate across multiple iterables at the same time. For that we can use the `zip` function."
   ]
  },
  {
   "cell_type": "code",
   "execution_count": 22,
   "id": "eb44ea14-327a-4c21-8bb8-bcf6ddec8290",
   "metadata": {},
   "outputs": [
    {
     "name": "stdout",
     "output_type": "stream",
     "text": [
      "(1, 'sugar')\n",
      "(2, 'spice')\n",
      "(3, 'everything nice')\n"
     ]
    }
   ],
   "source": [
    "for item in zip([1, 2, 3], ['sugar', 'spice', 'everything nice']):\n",
    "    print(item)"
   ]
  },
  {
   "cell_type": "markdown",
   "id": "861afdb3-0999-4971-970e-b714aeca2635",
   "metadata": {},
   "source": [
    "## A note on iterables:\n",
    "\n",
    "We've talked a lot about iterables, instead of just lists or other collection types. `Iterator`s represent a stream of data. Objects can be turned into iterators using the `iter` function and `Object.__iter__` method. Iterators are typically defined in ways that allow them to generate values one at a time as needed.\n",
    "\n",
    "A future lesson will go into the advanced concepts of Iterators and Generators."
   ]
  },
  {
   "cell_type": "markdown",
   "id": "33d01b51-cfa8-4701-8ea8-75e9a1be1d1d",
   "metadata": {},
   "source": [
    "## Built-ins around numerics and strings\n",
    "\n",
    "`max` and `min` return the maximum and minimum values from an iterable or list of arguments."
   ]
  },
  {
   "cell_type": "code",
   "execution_count": 30,
   "id": "e9c27024-4000-42c6-9272-633a478de030",
   "metadata": {},
   "outputs": [
    {
     "data": {
      "text/plain": [
       "3"
      ]
     },
     "execution_count": 30,
     "metadata": {},
     "output_type": "execute_result"
    }
   ],
   "source": [
    "max(1, 2, 3)"
   ]
  },
  {
   "cell_type": "code",
   "execution_count": 31,
   "id": "abd5b6b4-f39a-444b-8997-1c1893ee31f5",
   "metadata": {},
   "outputs": [
    {
     "data": {
      "text/plain": [
       "19"
      ]
     },
     "execution_count": 31,
     "metadata": {},
     "output_type": "execute_result"
    }
   ],
   "source": [
    "max(range(1, 20))"
   ]
  },
  {
   "cell_type": "code",
   "execution_count": 32,
   "id": "9a83b8ad-d22e-4942-9a96-120c6c1467b8",
   "metadata": {},
   "outputs": [
    {
     "data": {
      "text/plain": [
       "1"
      ]
     },
     "execution_count": 32,
     "metadata": {},
     "output_type": "execute_result"
    }
   ],
   "source": [
    "min([1, 2, 3])"
   ]
  },
  {
   "cell_type": "markdown",
   "id": "6315f0fe-eb11-4c9f-bd18-cad66cd37452",
   "metadata": {},
   "source": [
    "These functions take a optional ordering function that allow more complex arguments to be provided."
   ]
  },
  {
   "cell_type": "code",
   "execution_count": 1,
   "id": "8c40190c-af56-43cf-bdd2-cf2f7229f50c",
   "metadata": {},
   "outputs": [
    {
     "data": {
      "text/plain": [
       "3"
      ]
     },
     "execution_count": 1,
     "metadata": {},
     "output_type": "execute_result"
    }
   ],
   "source": [
    "# `abs(x)` returns the absolute value of a number\n",
    "abs(-3)"
   ]
  },
  {
   "cell_type": "markdown",
   "id": "60dc07a0-c7d9-442a-8208-e9d76610f491",
   "metadata": {},
   "source": [
    "We can use `bin`, `oct` and `hex` to convert numbers to their binary, octal or hex strings."
   ]
  },
  {
   "cell_type": "code",
   "execution_count": 36,
   "id": "fed35acf-3f47-46c5-88f3-7b4849e17ff5",
   "metadata": {},
   "outputs": [
    {
     "name": "stdout",
     "output_type": "stream",
     "text": [
      "0b10001\n",
      "0o21\n",
      "0x11\n"
     ]
    }
   ],
   "source": [
    "num = 17\n",
    "print(bin(num))\n",
    "print(oct(num))\n",
    "print(hex(num))"
   ]
  },
  {
   "cell_type": "markdown",
   "id": "a5c4a107-7ab7-4543-acdd-c86ef9f7e9be",
   "metadata": {},
   "source": [
    "`bool(x)` returns a Boolean value for x. x is converted using the standard truth testing procedure.\n",
    "By default, an object is considered true unless its class defines either a __bool__() method that returns False or a __len__() method that returns zero, when called with the object. \n",
    "\n",
    "Here are most of the built-in objects considered false:\n",
    "\n",
    "1. constants defined to be false: None and False\n",
    "2. zero of any numeric type: 0, 0.0, 0j, Decimal(0), Fraction(0, 1)\n",
    "3. empty sequences and collections: '', (), [], {}, set(), range(0)"
   ]
  },
  {
   "cell_type": "code",
   "execution_count": 38,
   "id": "a58e5e4c-ec4a-46a4-a65d-9d834f2f6289",
   "metadata": {},
   "outputs": [
    {
     "name": "stdout",
     "output_type": "stream",
     "text": [
      "bool(False)=False\n",
      "bool([])=False\n",
      "bool([1])=True\n",
      "bool(object())=True\n",
      "bool(myalwaysfalse())=False\n"
     ]
    }
   ],
   "source": [
    "\n",
    "print(f\"{bool(False)=}\")\n",
    "print(f\"{bool([])=}\")\n",
    "print(f\"{bool([1])=}\")\n",
    "print(f\"{bool(object())=}\")\n",
    "\n",
    "class myalwaysfalse(object):\n",
    "    def __bool__(self):\n",
    "        return False # You probably shouldn't do this.\n",
    "\n",
    "print(f\"{bool(myalwaysfalse())=}\")"
   ]
  },
  {
   "cell_type": "markdown",
   "id": "28be6af4-2a1d-4b01-bba0-d8d4f0254b2f",
   "metadata": {},
   "source": [
    "## Exploring Types\n",
    "\n",
    "We can use builtins to inspect types. We've seen `type` before."
   ]
  },
  {
   "cell_type": "code",
   "execution_count": 39,
   "id": "a8d96145-fc28-4e29-9934-8feba0032983",
   "metadata": {},
   "outputs": [
    {
     "data": {
      "text/plain": [
       "int"
      ]
     },
     "execution_count": 39,
     "metadata": {},
     "output_type": "execute_result"
    }
   ],
   "source": [
    "type(1)"
   ]
  },
  {
   "cell_type": "code",
   "execution_count": 40,
   "id": "812b318c-ff6c-4468-85e9-c99338507e5b",
   "metadata": {},
   "outputs": [
    {
     "data": {
      "text/plain": [
       "str"
      ]
     },
     "execution_count": 40,
     "metadata": {},
     "output_type": "execute_result"
    }
   ],
   "source": [
    "type('foo')"
   ]
  },
  {
   "cell_type": "code",
   "execution_count": 41,
   "id": "c7d2b4c2-f3f1-4159-aec7-7cd70d4db163",
   "metadata": {},
   "outputs": [
    {
     "data": {
      "text/plain": [
       "__main__.MyObject"
      ]
     },
     "execution_count": 41,
     "metadata": {},
     "output_type": "execute_result"
    }
   ],
   "source": [
    "class MyObject(object):\n",
    "    pass\n",
    "\n",
    "type(MyObject())"
   ]
  },
  {
   "cell_type": "markdown",
   "id": "b485afd4-6e61-418e-a0f3-f677d13f6a27",
   "metadata": {},
   "source": [
    "We can use `isinstance` to see if a given object is the provided type or a subclass of it."
   ]
  },
  {
   "cell_type": "code",
   "execution_count": 43,
   "id": "b060677b-ccfb-4c43-8a9d-c7f5399fd598",
   "metadata": {},
   "outputs": [],
   "source": [
    "class Shape(object):\n",
    "    pass\n",
    "\n",
    "class Circle(Shape):\n",
    "    pass\n",
    "\n",
    "class Square(Shape):\n",
    "    pass\n",
    "\n",
    "my_shape = Shape()\n",
    "my_circle = Circle()\n",
    "my_square = Square()"
   ]
  },
  {
   "cell_type": "code",
   "execution_count": 44,
   "id": "66a881a5-31cd-467c-84e7-e50623f55747",
   "metadata": {},
   "outputs": [
    {
     "data": {
      "text/plain": [
       "True"
      ]
     },
     "execution_count": 44,
     "metadata": {},
     "output_type": "execute_result"
    }
   ],
   "source": [
    "isinstance(my_circle, Shape)"
   ]
  },
  {
   "cell_type": "code",
   "execution_count": 46,
   "id": "92dda503-4d87-49b7-92fd-410a1dcad346",
   "metadata": {},
   "outputs": [
    {
     "data": {
      "text/plain": [
       "True"
      ]
     },
     "execution_count": 46,
     "metadata": {},
     "output_type": "execute_result"
    }
   ],
   "source": [
    "isinstance(my_circle, Circle)"
   ]
  },
  {
   "cell_type": "code",
   "execution_count": 47,
   "id": "2776f70e-ec73-45f8-8a10-05521f262e46",
   "metadata": {},
   "outputs": [
    {
     "data": {
      "text/plain": [
       "False"
      ]
     },
     "execution_count": 47,
     "metadata": {},
     "output_type": "execute_result"
    }
   ],
   "source": [
    "isinstance(my_circle, Square)"
   ]
  },
  {
   "cell_type": "markdown",
   "id": "9fa47200-43e4-41b2-825c-15d5197f28d6",
   "metadata": {},
   "source": [
    "We can use `issubclass` to determine if a `class` is a subclass of a type.\n"
   ]
  },
  {
   "cell_type": "code",
   "execution_count": 49,
   "id": "e1d0af0d-2cfe-4391-b1fc-f4e399586867",
   "metadata": {},
   "outputs": [
    {
     "data": {
      "text/plain": [
       "True"
      ]
     },
     "execution_count": 49,
     "metadata": {},
     "output_type": "execute_result"
    }
   ],
   "source": [
    "issubclass(Circle, Shape)"
   ]
  },
  {
   "cell_type": "markdown",
   "id": "5ebe40ff-2f2c-4141-a85d-b70cff5ff030",
   "metadata": {},
   "source": [
    "In python you don't often see explicit type or isinstance checking. It's typically a code smell. In python we prefer to use polymorphism and duck-typing over type comparisons."
   ]
  }
 ],
 "metadata": {
  "kernelspec": {
   "display_name": "Python 3 (ipykernel)",
   "language": "python",
   "name": "python3"
  },
  "language_info": {
   "codemirror_mode": {
    "name": "ipython",
    "version": 3
   },
   "file_extension": ".py",
   "mimetype": "text/x-python",
   "name": "python",
   "nbconvert_exporter": "python",
   "pygments_lexer": "ipython3",
   "version": "3.10.12"
  }
 },
 "nbformat": 4,
 "nbformat_minor": 5
}
