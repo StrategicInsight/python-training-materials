{
 "cells": [
  {
   "cell_type": "markdown",
   "id": "9c285b10-86ba-458f-8250-1696e94767e0",
   "metadata": {},
   "source": [
    "# Built-in Functions\n",
    "\n",
    "The Python language has a number of built in functions and types that are always available. We've been over many of these already. They are listed in alphabetical order here. More details can be found in the [documentation](https://docs.python.org/3/library/functions.html).\n",
    "\n",
    "<table class=\"docutils align-default\">\n",
    "<colgroup>\n",
    "<col style=\"width: 26%\">\n",
    "<col style=\"width: 24%\">\n",
    "<col style=\"width: 24%\">\n",
    "<col style=\"width: 26%\">\n",
    "</colgroup>\n",
    "<thead>\n",
    "<tr class=\"row-odd\"><th class=\"head\" colspan=\"4\"><p>Built-in Functions</p></th>\n",
    "</tr>\n",
    "</thead>\n",
    "<tbody>\n",
    "<tr class=\"row-even\"><td><div class=\"line-block\">\n",
    "<div class=\"line\"><strong>A</strong></div>\n",
    "<div class=\"line\"><a class=\"reference internal\" href=\"https://docs.python.org/3/library/functions.html#abs\" title=\"abs\"><code class=\"xref py py-func docutils literal notranslate\"><span class=\"pre\">abs()</span></code></a></div>\n",
    "<div class=\"line\"><a class=\"reference internal\" href=\"https://docs.python.org/3/library/functions.html#aiter\" title=\"aiter\"><code class=\"xref py py-func docutils literal notranslate\"><span class=\"pre\">aiter()</span></code></a></div>\n",
    "<div class=\"line\"><a class=\"reference internal\" href=\"https://docs.python.org/3/library/functions.html#all\" title=\"all\"><code class=\"xref py py-func docutils literal notranslate\"><span class=\"pre\">all()</span></code></a></div>\n",
    "<div class=\"line\"><a class=\"reference internal\" href=\"https://docs.python.org/3/library/functions.html#anext\" title=\"anext\"><code class=\"xref py py-func docutils literal notranslate\"><span class=\"pre\">anext()</span></code></a></div>\n",
    "<div class=\"line\"><a class=\"reference internal\" href=\"https://docs.python.org/3/library/functions.html#any\" title=\"any\"><code class=\"xref py py-func docutils literal notranslate\"><span class=\"pre\">any()</span></code></a></div>\n",
    "<div class=\"line\"><a class=\"reference internal\" href=\"https://docs.python.org/3/library/functions.html#ascii\" title=\"ascii\"><code class=\"xref py py-func docutils literal notranslate\"><span class=\"pre\">ascii()</span></code></a></div>\n",
    "<div class=\"line\"><br></div>\n",
    "<div class=\"line\"><strong>B</strong></div>\n",
    "<div class=\"line\"><a class=\"reference internal\" href=\"https://docs.python.org/3/library/functions.html#bin\" title=\"bin\"><code class=\"xref py py-func docutils literal notranslate\"><span class=\"pre\">bin()</span></code></a></div>\n",
    "<div class=\"line\"><a class=\"reference internal\" href=\"https://docs.python.org/3/library/functions.html#bool\" title=\"bool\"><code class=\"xref py py-func docutils literal notranslate\"><span class=\"pre\">bool()</span></code></a></div>\n",
    "<div class=\"line\"><a class=\"reference internal\" href=\"https://docs.python.org/3/library/functions.html#breakpoint\" title=\"breakpoint\"><code class=\"xref py py-func docutils literal notranslate\"><span class=\"pre\">breakpoint()</span></code></a></div>\n",
    "<div class=\"line\"><a class=\"reference internal\" href=\"https://docs.python.org/3/library/functions.html#func-bytearray\"><code class=\"docutils literal notranslate\"><span class=\"pre\">bytearray()</span></code></a></div>\n",
    "<div class=\"line\"><a class=\"reference internal\" href=\"https://docs.python.org/3/library/functions.html#func-bytes\"><code class=\"docutils literal notranslate\"><span class=\"pre\">bytes()</span></code></a></div>\n",
    "<div class=\"line\"><br></div>\n",
    "<div class=\"line\"><strong>C</strong></div>\n",
    "<div class=\"line\"><a class=\"reference internal\" href=\"https://docs.python.org/3/library/functions.html#callable\" title=\"callable\"><code class=\"xref py py-func docutils literal notranslate\"><span class=\"pre\">callable()</span></code></a></div>\n",
    "<div class=\"line\"><a class=\"reference internal\" href=\"https://docs.python.org/3/library/functions.html#chr\" title=\"chr\"><code class=\"xref py py-func docutils literal notranslate\"><span class=\"pre\">chr()</span></code></a></div>\n",
    "<div class=\"line\"><a class=\"reference internal\" href=\"https://docs.python.org/3/library/functions.html#classmethod\" title=\"classmethod\"><code class=\"xref py py-func docutils literal notranslate\"><span class=\"pre\">classmethod()</span></code></a></div>\n",
    "<div class=\"line\"><a class=\"reference internal\" href=\"https://docs.python.org/3/library/functions.html#compile\" title=\"compile\"><code class=\"xref py py-func docutils literal notranslate\"><span class=\"pre\">compile()</span></code></a></div>\n",
    "<div class=\"line\"><a class=\"reference internal\" href=\"https://docs.python.org/3/library/functions.html#complex\" title=\"complex\"><code class=\"xref py py-func docutils literal notranslate\"><span class=\"pre\">complex()</span></code></a></div>\n",
    "<div class=\"line\"><br></div>\n",
    "<div class=\"line\"><strong>D</strong></div>\n",
    "<div class=\"line\"><a class=\"reference internal\" href=\"https://docs.python.org/3/library/functions.html#delattr\" title=\"delattr\"><code class=\"xref py py-func docutils literal notranslate\"><span class=\"pre\">delattr()</span></code></a></div>\n",
    "<div class=\"line\"><a class=\"reference internal\" href=\"https://docs.python.org/3/library/functions.html#func-dict\"><code class=\"docutils literal notranslate\"><span class=\"pre\">dict()</span></code></a></div>\n",
    "<div class=\"line\"><a class=\"reference internal\" href=\"https://docs.python.org/3/library/functions.html#dir\" title=\"dir\"><code class=\"xref py py-func docutils literal notranslate\"><span class=\"pre\">dir()</span></code></a></div>\n",
    "<div class=\"line\"><a class=\"reference internal\" href=\"https://docs.python.org/3/library/functions.html#divmod\" title=\"divmod\"><code class=\"xref py py-func docutils literal notranslate\"><span class=\"pre\">divmod()</span></code></a></div>\n",
    "<div class=\"line\"><br></div>\n",
    "</div>\n",
    "</td>\n",
    "<td><div class=\"line-block\">\n",
    "<div class=\"line\"><strong>E</strong></div>\n",
    "<div class=\"line\"><a class=\"reference internal\" href=\"https://docs.python.org/3/library/functions.html#enumerate\" title=\"enumerate\"><code class=\"xref py py-func docutils literal notranslate\"><span class=\"pre\">enumerate()</span></code></a></div>\n",
    "<div class=\"line\"><a class=\"reference internal\" href=\"https://docs.python.org/3/library/functions.html#eval\" title=\"eval\"><code class=\"xref py py-func docutils literal notranslate\"><span class=\"pre\">eval()</span></code></a></div>\n",
    "<div class=\"line\"><a class=\"reference internal\" href=\"https://docs.python.org/3/library/functions.html#exec\" title=\"exec\"><code class=\"xref py py-func docutils literal notranslate\"><span class=\"pre\">exec()</span></code></a></div>\n",
    "<div class=\"line\"><br></div>\n",
    "<div class=\"line\"><strong>F</strong></div>\n",
    "<div class=\"line\"><a class=\"reference internal\" href=\"https://docs.python.org/3/library/functions.html#filter\" title=\"filter\"><code class=\"xref py py-func docutils literal notranslate\"><span class=\"pre\">filter()</span></code></a></div>\n",
    "<div class=\"line\"><a class=\"reference internal\" href=\"https://docs.python.org/3/library/functions.html#float\" title=\"float\"><code class=\"xref py py-func docutils literal notranslate\"><span class=\"pre\">float()</span></code></a></div>\n",
    "<div class=\"line\"><a class=\"reference internal\" href=\"https://docs.python.org/3/library/functions.html#format\" title=\"format\"><code class=\"xref py py-func docutils literal notranslate\"><span class=\"pre\">format()</span></code></a></div>\n",
    "<div class=\"line\"><a class=\"reference internal\" href=\"https://docs.python.org/3/library/functions.html#func-frozenset\"><code class=\"docutils literal notranslate\"><span class=\"pre\">frozenset()</span></code></a></div>\n",
    "<div class=\"line\"><br></div>\n",
    "<div class=\"line\"><strong>G</strong></div>\n",
    "<div class=\"line\"><a class=\"reference internal\" href=\"https://docs.python.org/3/library/functions.html#getattr\" title=\"getattr\"><code class=\"xref py py-func docutils literal notranslate\"><span class=\"pre\">getattr()</span></code></a></div>\n",
    "<div class=\"line\"><a class=\"reference internal\" href=\"https://docs.python.org/3/library/functions.html#globals\" title=\"globals\"><code class=\"xref py py-func docutils literal notranslate\"><span class=\"pre\">globals()</span></code></a></div>\n",
    "<div class=\"line\"><br></div>\n",
    "<div class=\"line\"><strong>H</strong></div>\n",
    "<div class=\"line\"><a class=\"reference internal\" href=\"https://docs.python.org/3/library/functions.html#hasattr\" title=\"hasattr\"><code class=\"xref py py-func docutils literal notranslate\"><span class=\"pre\">hasattr()</span></code></a></div>\n",
    "<div class=\"line\"><a class=\"reference internal\" href=\"https://docs.python.org/3/library/functions.html#hash\" title=\"hash\"><code class=\"xref py py-func docutils literal notranslate\"><span class=\"pre\">hash()</span></code></a></div>\n",
    "<div class=\"line\"><a class=\"reference internal\" href=\"https://docs.python.org/3/library/functions.html#help\" title=\"help\"><code class=\"xref py py-func docutils literal notranslate\"><span class=\"pre\">help()</span></code></a></div>\n",
    "<div class=\"line\"><a class=\"reference internal\" href=\"https://docs.python.org/3/library/functions.html#hex\" title=\"hex\"><code class=\"xref py py-func docutils literal notranslate\"><span class=\"pre\">hex()</span></code></a></div>\n",
    "<div class=\"line\"><br></div>\n",
    "<div class=\"line\"><strong>I</strong></div>\n",
    "<div class=\"line\"><a class=\"reference internal\" href=\"https://docs.python.org/3/library/functions.html#id\" title=\"id\"><code class=\"xref py py-func docutils literal notranslate\"><span class=\"pre\">id()</span></code></a></div>\n",
    "<div class=\"line\"><a class=\"reference internal\" href=\"https://docs.python.org/3/library/functions.html#input\" title=\"input\"><code class=\"xref py py-func docutils literal notranslate\"><span class=\"pre\">input()</span></code></a></div>\n",
    "<div class=\"line\"><a class=\"reference internal\" href=\"https://docs.python.org/3/library/functions.html#int\" title=\"int\"><code class=\"xref py py-func docutils literal notranslate\"><span class=\"pre\">int()</span></code></a></div>\n",
    "<div class=\"line\"><a class=\"reference internal\" href=\"https://docs.python.org/3/library/functions.html#isinstance\" title=\"isinstance\"><code class=\"xref py py-func docutils literal notranslate\"><span class=\"pre\">isinstance()</span></code></a></div>\n",
    "<div class=\"line\"><a class=\"reference internal\" href=\"https://docs.python.org/3/library/functions.html#issubclass\" title=\"issubclass\"><code class=\"xref py py-func docutils literal notranslate\"><span class=\"pre\">issubclass()</span></code></a></div>\n",
    "<div class=\"line\"><a class=\"reference internal\" href=\"https://docs.python.org/3/library/functions.html#iter\" title=\"iter\"><code class=\"xref py py-func docutils literal notranslate\"><span class=\"pre\">iter()</span></code></a></div>\n",
    "</div>\n",
    "</td>\n",
    "<td><div class=\"line-block\">\n",
    "<div class=\"line\"><strong>L</strong></div>\n",
    "<div class=\"line\"><a class=\"reference internal\" href=\"https://docs.python.org/3/library/functions.html#len\" title=\"len\"><code class=\"xref py py-func docutils literal notranslate\"><span class=\"pre\">len()</span></code></a></div>\n",
    "<div class=\"line\"><a class=\"reference internal\" href=\"https://docs.python.org/3/library/functions.html#func-list\"><code class=\"docutils literal notranslate\"><span class=\"pre\">list()</span></code></a></div>\n",
    "<div class=\"line\"><a class=\"reference internal\" href=\"https://docs.python.org/3/library/functions.html#locals\" title=\"locals\"><code class=\"xref py py-func docutils literal notranslate\"><span class=\"pre\">locals()</span></code></a></div>\n",
    "<div class=\"line\"><br></div>\n",
    "<div class=\"line\"><strong>M</strong></div>\n",
    "<div class=\"line\"><a class=\"reference internal\" href=\"https://docs.python.org/3/library/functions.html#map\" title=\"map\"><code class=\"xref py py-func docutils literal notranslate\"><span class=\"pre\">map()</span></code></a></div>\n",
    "<div class=\"line\"><a class=\"reference internal\" href=\"https://docs.python.org/3/library/functions.html#max\" title=\"max\"><code class=\"xref py py-func docutils literal notranslate\"><span class=\"pre\">max()</span></code></a></div>\n",
    "<div class=\"line\"><a class=\"reference internal\" href=\"https://docs.python.org/3/library/functions.html#func-memoryview\"><code class=\"docutils literal notranslate\"><span class=\"pre\">memoryview()</span></code></a></div>\n",
    "<div class=\"line\"><a class=\"reference internal\" href=\"https://docs.python.org/3/library/functions.html#min\" title=\"min\"><code class=\"xref py py-func docutils literal notranslate\"><span class=\"pre\">min()</span></code></a></div>\n",
    "<div class=\"line\"><br></div>\n",
    "<div class=\"line\"><strong>N</strong></div>\n",
    "<div class=\"line\"><a class=\"reference internal\" href=\"https://docs.python.org/3/library/functions.html#next\" title=\"next\"><code class=\"xref py py-func docutils literal notranslate\"><span class=\"pre\">next()</span></code></a></div>\n",
    "<div class=\"line\"><br></div>\n",
    "<div class=\"line\"><strong>O</strong></div>\n",
    "<div class=\"line\"><a class=\"reference internal\" href=\"https://docs.python.org/3/library/functions.html#object\" title=\"object\"><code class=\"xref py py-func docutils literal notranslate\"><span class=\"pre\">object()</span></code></a></div>\n",
    "<div class=\"line\"><a class=\"reference internal\" href=\"https://docs.python.org/3/library/functions.html#oct\" title=\"oct\"><code class=\"xref py py-func docutils literal notranslate\"><span class=\"pre\">oct()</span></code></a></div>\n",
    "<div class=\"line\"><a class=\"reference internal\" href=\"https://docs.python.org/3/library/functions.html#open\" title=\"open\"><code class=\"xref py py-func docutils literal notranslate\"><span class=\"pre\">open()</span></code></a></div>\n",
    "<div class=\"line\"><a class=\"reference internal\" href=\"https://docs.python.org/3/library/functions.html#ord\" title=\"ord\"><code class=\"xref py py-func docutils literal notranslate\"><span class=\"pre\">ord()</span></code></a></div>\n",
    "<div class=\"line\"><br></div>\n",
    "<div class=\"line\"><strong>P</strong></div>\n",
    "<div class=\"line\"><a class=\"reference internal\" href=\"https://docs.python.org/3/library/functions.html#pow\" title=\"pow\"><code class=\"xref py py-func docutils literal notranslate\"><span class=\"pre\">pow()</span></code></a></div>\n",
    "<div class=\"line\"><a class=\"reference internal\" href=\"https://docs.python.org/3/library/functions.html#print\" title=\"print\"><code class=\"xref py py-func docutils literal notranslate\"><span class=\"pre\">print()</span></code></a></div>\n",
    "<div class=\"line\"><a class=\"reference internal\" href=\"https://docs.python.org/3/library/functions.html#property\" title=\"property\"><code class=\"xref py py-func docutils literal notranslate\"><span class=\"pre\">property()</span></code></a></div>\n",
    "<div class=\"line\"><br></div>\n",
    "<div class=\"line\"><br></div>\n",
    "<div class=\"line\"><br></div>\n",
    "<div class=\"line\"><br></div>\n",
    "</div>\n",
    "</td>\n",
    "<td><div class=\"line-block\">\n",
    "<div class=\"line\"><strong>R</strong></div>\n",
    "<div class=\"line\"><a class=\"reference internal\" href=\"https://docs.python.org/3/library/functions.html#func-range\"><code class=\"docutils literal notranslate\"><span class=\"pre\">range()</span></code></a></div>\n",
    "<div class=\"line\"><a class=\"reference internal\" href=\"https://docs.python.org/3/library/functions.html#repr\" title=\"repr\"><code class=\"xref py py-func docutils literal notranslate\"><span class=\"pre\">repr()</span></code></a></div>\n",
    "<div class=\"line\"><a class=\"reference internal\" href=\"https://docs.python.org/3/library/functions.html#reversed\" title=\"reversed\"><code class=\"xref py py-func docutils literal notranslate\"><span class=\"pre\">reversed()</span></code></a></div>\n",
    "<div class=\"line\"><a class=\"reference internal\" href=\"https://docs.python.org/3/library/functions.html#round\" title=\"round\"><code class=\"xref py py-func docutils literal notranslate\"><span class=\"pre\">round()</span></code></a></div>\n",
    "<div class=\"line\"><br></div>\n",
    "<div class=\"line\"><strong>S</strong></div>\n",
    "<div class=\"line\"><a class=\"reference internal\" href=\"https://docs.python.org/3/library/functions.html#func-set\"><code class=\"docutils literal notranslate\"><span class=\"pre\">set()</span></code></a></div>\n",
    "<div class=\"line\"><a class=\"reference internal\" href=\"https://docs.python.org/3/library/functions.html#setattr\" title=\"setattr\"><code class=\"xref py py-func docutils literal notranslate\"><span class=\"pre\">setattr()</span></code></a></div>\n",
    "<div class=\"line\"><a class=\"reference internal\" href=\"https://docs.python.org/3/library/functions.html#slice\" title=\"slice\"><code class=\"xref py py-func docutils literal notranslate\"><span class=\"pre\">slice()</span></code></a></div>\n",
    "<div class=\"line\"><a class=\"reference internal\" href=\"https://docs.python.org/3/library/functions.html#sorted\" title=\"sorted\"><code class=\"xref py py-func docutils literal notranslate\"><span class=\"pre\">sorted()</span></code></a></div>\n",
    "<div class=\"line\"><a class=\"reference internal\" href=\"https://docs.python.org/3/library/functions.html#staticmethod\" title=\"staticmethod\"><code class=\"xref py py-func docutils literal notranslate\"><span class=\"pre\">staticmethod()</span></code></a></div>\n",
    "<div class=\"line\"><a class=\"reference internal\" href=\"https://docs.python.org/3/library/functions.html#func-str\"><code class=\"docutils literal notranslate\"><span class=\"pre\">str()</span></code></a></div>\n",
    "<div class=\"line\"><a class=\"reference internal\" href=\"https://docs.python.org/3/library/functions.html#sum\" title=\"sum\"><code class=\"xref py py-func docutils literal notranslate\"><span class=\"pre\">sum()</span></code></a></div>\n",
    "<div class=\"line\"><a class=\"reference internal\" href=\"https://docs.python.org/3/library/functions.html#super\" title=\"super\"><code class=\"xref py py-func docutils literal notranslate\"><span class=\"pre\">super()</span></code></a></div>\n",
    "<div class=\"line\"><br></div>\n",
    "<div class=\"line\"><strong>T</strong></div>\n",
    "<div class=\"line\"><a class=\"reference internal\" href=\"https://docs.python.org/3/library/functions.html#func-tuple\"><code class=\"docutils literal notranslate\"><span class=\"pre\">tuple()</span></code></a></div>\n",
    "<div class=\"line\"><a class=\"reference internal\" href=\"https://docs.python.org/3/library/functions.html#type\" title=\"type\"><code class=\"xref py py-func docutils literal notranslate\"><span class=\"pre\">type()</span></code></a></div>\n",
    "<div class=\"line\"><br></div>\n",
    "<div class=\"line\"><strong>V</strong></div>\n",
    "<div class=\"line\"><a class=\"reference internal\" href=\"https://docs.python.org/3/library/functions.html#vars\" title=\"vars\"><code class=\"xref py py-func docutils literal notranslate\"><span class=\"pre\">vars()</span></code></a></div>\n",
    "<div class=\"line\"><br></div>\n",
    "<div class=\"line\"><strong>Z</strong></div>\n",
    "<div class=\"line\"><a class=\"reference internal\" href=\"https://docs.python.org/3/library/functions.html#zip\" title=\"zip\"><code class=\"xref py py-func docutils literal notranslate\"><span class=\"pre\">zip()</span></code></a></div>\n",
    "<div class=\"line\"><br></div>\n",
    "<div class=\"line\"><strong>_</strong></div>\n",
    "<div class=\"line\"><a class=\"reference internal\" href=\"https://docs.python.org/3/library/functions.html#import__\" title=\"__import__\"><code class=\"xref py py-func docutils literal notranslate\"><span class=\"pre\">__import__()</span></code></a></div>\n",
    "</div>\n",
    "</td>\n",
    "</tr>\n",
    "</tbody>\n",
    "</table>"
   ]
  },
  {
   "cell_type": "markdown",
   "id": "34f1fbe9-3d1d-42b9-ad37-9e59787f5acb",
   "metadata": {},
   "source": [
    "We'll hit some of the highlights here."
   ]
  },
  {
   "cell_type": "code",
   "execution_count": 1,
   "id": "8c40190c-af56-43cf-bdd2-cf2f7229f50c",
   "metadata": {},
   "outputs": [
    {
     "data": {
      "text/plain": [
       "3"
      ]
     },
     "execution_count": 1,
     "metadata": {},
     "output_type": "execute_result"
    }
   ],
   "source": [
    "# `abs(x)` returns the absolute value of a number\n",
    "abs(-3)"
   ]
  },
  {
   "cell_type": "code",
   "execution_count": 8,
   "id": "1145398e-46ab-4aa9-91fd-1133a314a4ae",
   "metadata": {},
   "outputs": [
    {
     "name": "stdout",
     "output_type": "stream",
     "text": [
      "[2, 4, 6, 8, 10] are all even\n"
     ]
    }
   ],
   "source": [
    "# `all` returns `True` if all elements of an array are True\n",
    "\n",
    "nums = range(2,11,2)\n",
    "\n",
    "if all(x%2 == 0 for x in nums):\n",
    "    print(f\"{list(nums)} are all even\")"
   ]
  },
  {
   "cell_type": "code",
   "execution_count": 10,
   "id": "12e9da48-6934-4bb1-8f4b-a8ea887d26a3",
   "metadata": {},
   "outputs": [
    {
     "name": "stdout",
     "output_type": "stream",
     "text": [
      "One of [(1, 2, 3), (4, 5, 6), ()] is empty\n"
     ]
    }
   ],
   "source": [
    "# `any` returns true if any of the iterable are true\n",
    "bags = [\n",
    "    (1, 2, 3),\n",
    "    (4, 5, 6),\n",
    "    tuple()\n",
    "]\n",
    "\n",
    "if any(len(x) == 0 for x in bags):\n",
    "    print(f\"One of {bags} is empty\")"
   ]
  },
  {
   "cell_type": "code",
   "execution_count": 18,
   "id": "a58e5e4c-ec4a-46a4-a65d-9d834f2f6289",
   "metadata": {},
   "outputs": [
    {
     "name": "stdout",
     "output_type": "stream",
     "text": [
      "bool(False)=False\n",
      "bool([])=False\n",
      "bool([1])=True\n",
      "bool(object())=True\n",
      "bool(myalwaysfalse())=False\n"
     ]
    }
   ],
   "source": [
    "\"\"\"\n",
    "`bool(x)` returns a Boolean value for x. x is converted using the standard truth testing procedure.\n",
    "By default, an object is considered true unless its class defines either a __bool__() method that returns False or a __len__() method that returns zero, when called with the object. 1 Here are most of the built-in objects considered false:\n",
    "\n",
    "constants defined to be false: None and False\n",
    "zero of any numeric type: 0, 0.0, 0j, Decimal(0), Fraction(0, 1)\n",
    "empty sequences and collections: '', (), [], {}, set(), range(0)\n",
    "\"\"\"\n",
    "print(f\"{bool(False)=}\")\n",
    "print(f\"{bool([])=}\")\n",
    "print(f\"{bool([1])=}\")\n",
    "print(f\"{bool(object())=}\")\n",
    "\n",
    "class myalwaysfalse(object):\n",
    "    def __bool__(self):\n",
    "        return False\n",
    "\n",
    "print(f\"{bool(myalwaysfalse())=}\")"
   ]
  },
  {
   "cell_type": "code",
   "execution_count": 20,
   "id": "9e7577ea-f3bf-4faa-9699-c9ef738ed4b2",
   "metadata": {},
   "outputs": [
    {
     "name": "stdout",
     "output_type": "stream",
     "text": [
      "[(0, 'Spring'), (1, 'Summer'), (2, 'Fall'), (3, 'Winter')]\n",
      "[(100, 'Spring'), (101, 'Summer'), (102, 'Fall'), (103, 'Winter')]\n"
     ]
    }
   ],
   "source": [
    "\"\"\"\n",
    "`enumerate(iterable, start=0)` returns an enumerate object which is an iterator yielding \n",
    "tuples containing a count (from start which defaults to 0) and the values \n",
    "obtained from iterating over iterable.\n",
    "\"\"\"\n",
    "seasons = ['Spring', 'Summer', 'Fall', 'Winter']\n",
    "print(list(enumerate(seasons)))\n",
    "print(list(enumerate(seasons, start=100)))\n",
    "\n",
    "# An equivalent function is\n",
    "def enumerate(iterable, start=0):\n",
    "    n = start\n",
    "    for elem in iterable:\n",
    "        yield n, elem\n",
    "        n += 1"
   ]
  },
  {
   "cell_type": "code",
   "execution_count": 21,
   "id": "b060677b-ccfb-4c43-8a9d-c7f5399fd598",
   "metadata": {},
   "outputs": [
    {
     "data": {
      "text/plain": [
       "(<function isinstance(obj, class_or_tuple, /)>,\n",
       " <function issubclass(cls, class_or_tuple, /)>)"
      ]
     },
     "execution_count": 21,
     "metadata": {},
     "output_type": "execute_result"
    }
   ],
   "source": [
    "isinstance, issubclass\n"
   ]
  },
  {
   "cell_type": "code",
   "execution_count": 22,
   "id": "e3c7ce91-b24e-4049-b026-6e40353f5525",
   "metadata": {},
   "outputs": [
    {
     "data": {
      "text/plain": [
       "(<function next>, range, reversed)"
      ]
     },
     "execution_count": 22,
     "metadata": {},
     "output_type": "execute_result"
    }
   ],
   "source": [
    "next, range, reversed"
   ]
  },
  {
   "cell_type": "code",
   "execution_count": 23,
   "id": "8709dc77-a264-480b-b340-59af0a17e892",
   "metadata": {},
   "outputs": [
    {
     "data": {
      "text/plain": [
       "zip"
      ]
     },
     "execution_count": 23,
     "metadata": {},
     "output_type": "execute_result"
    }
   ],
   "source": [
    "zip"
   ]
  }
 ],
 "metadata": {
  "kernelspec": {
   "display_name": "Python 3 (ipykernel)",
   "language": "python",
   "name": "python3"
  },
  "language_info": {
   "codemirror_mode": {
    "name": "ipython",
    "version": 3
   },
   "file_extension": ".py",
   "mimetype": "text/x-python",
   "name": "python",
   "nbconvert_exporter": "python",
   "pygments_lexer": "ipython3",
   "version": "3.10.12"
  }
 },
 "nbformat": 4,
 "nbformat_minor": 5
}
