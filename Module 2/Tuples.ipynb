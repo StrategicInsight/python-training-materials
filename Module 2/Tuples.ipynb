{
 "cells": [
  {
   "cell_type": "markdown",
   "id": "87155191-5762-4655-949a-9f487fc34205",
   "metadata": {},
   "source": [
    "# Tuples\n",
    "\n",
    "* [Tuples](https://docs.python.org/3/tutorial/datastructures.html#tuples-and-sequences) are an immutable collection of items.\n",
    "* Most commonly contain a heterogeneous sequence of elements that are accessed via unpacking or indexing.\n",
    "* Tuples, like lists, are one of many _sequence_ types in python.\n",
    "\n",
    "## Creating Tuples\n",
    "\n",
    "A tuple consists of a number of values separated by commas. They are typically wrapped in parentheses and while this is often necessary it isn't required."
   ]
  },
  {
   "cell_type": "code",
   "execution_count": 13,
   "id": "3097b552-ac8d-4b2d-9965-5d731d48ba51",
   "metadata": {},
   "outputs": [
    {
     "data": {
      "text/plain": [
       "(12345, 54321, 'hello!')"
      ]
     },
     "execution_count": 13,
     "metadata": {},
     "output_type": "execute_result"
    }
   ],
   "source": [
    "t = (12345, 54321, 'hello!', )\n",
    "t"
   ]
  },
  {
   "cell_type": "markdown",
   "id": "163609fa-3104-477d-b8bf-fb946b3250af",
   "metadata": {},
   "source": [
    "## Accessing Elements\n",
    "\n",
    "Tuples, like other built-in [sequence](https://docs.python.org/3/glossary.html#term-sequence) types, can be indexed and sliced.\n",
    "\n",
    "### Indexing\n",
    "\n",
    "Individual elements in a Tuple can be accessed with 0-based indexing. As we saw with lists we can access elements using positive or negative indicies."
   ]
  },
  {
   "cell_type": "code",
   "execution_count": 14,
   "id": "d25b732c-f7af-4118-bc6c-d2b019442aa8",
   "metadata": {},
   "outputs": [
    {
     "name": "stdout",
     "output_type": "stream",
     "text": [
      "12345\n",
      "hello!\n"
     ]
    }
   ],
   "source": [
    "# Accessing elements in a tuple by index (0-index)\n",
    "print(t[0]) # First element\n",
    "print(t[-1]) # Last element"
   ]
  },
  {
   "cell_type": "markdown",
   "id": "72a7be17-b227-4629-b0e2-2c82980e7587",
   "metadata": {},
   "source": [
    "### Slicing\n",
    "\n",
    "As we saw with lists, we can also use the slicing syntax to extract new tuples. The syntax is the same as slicing any sequence `T[start:end:step]`"
   ]
  },
  {
   "cell_type": "code",
   "execution_count": 15,
   "id": "65969860-c23c-492a-902a-e01f3d863d69",
   "metadata": {},
   "outputs": [
    {
     "data": {
      "text/plain": [
       "(12345, 54321)"
      ]
     },
     "execution_count": 15,
     "metadata": {},
     "output_type": "execute_result"
    }
   ],
   "source": [
    "t[:2]"
   ]
  },
  {
   "cell_type": "markdown",
   "id": "7e0d1798-f13e-4463-af5a-219fbb25ddac",
   "metadata": {},
   "source": [
    "### Tuples are Immutable\n",
    "\n",
    "Tuples are immutable. We cannot change them. However if they contain mutable elements we can change those."
   ]
  },
  {
   "cell_type": "code",
   "execution_count": 16,
   "id": "e9b25932-b2ba-4a42-b795-f6b805c23006",
   "metadata": {},
   "outputs": [
    {
     "ename": "TypeError",
     "evalue": "'tuple' object does not support item assignment",
     "output_type": "error",
     "traceback": [
      "\u001b[0;31m---------------------------------------------------------------------------\u001b[0m",
      "\u001b[0;31mTypeError\u001b[0m                                 Traceback (most recent call last)",
      "Cell \u001b[0;32mIn[16], line 2\u001b[0m\n\u001b[1;32m      1\u001b[0m t \u001b[38;5;241m=\u001b[39m (\u001b[38;5;241m1\u001b[39m, [\u001b[38;5;124m'\u001b[39m\u001b[38;5;124ma\u001b[39m\u001b[38;5;124m'\u001b[39m, \u001b[38;5;124m'\u001b[39m\u001b[38;5;124mb\u001b[39m\u001b[38;5;124m'\u001b[39m])\n\u001b[0;32m----> 2\u001b[0m \u001b[43mt\u001b[49m\u001b[43m[\u001b[49m\u001b[38;5;241;43m0\u001b[39;49m\u001b[43m]\u001b[49m \u001b[38;5;241m=\u001b[39m \u001b[38;5;241m0\u001b[39m\n",
      "\u001b[0;31mTypeError\u001b[0m: 'tuple' object does not support item assignment"
     ]
    }
   ],
   "source": [
    "t = (1, ['a', 'b'])\n",
    "t[0] = 0"
   ]
  },
  {
   "cell_type": "code",
   "execution_count": 17,
   "id": "ca4b838d-0edc-4065-b434-62716259740a",
   "metadata": {},
   "outputs": [
    {
     "data": {
      "text/plain": [
       "(1, ['a', 'b', 'c'])"
      ]
     },
     "execution_count": 17,
     "metadata": {},
     "output_type": "execute_result"
    }
   ],
   "source": [
    "t[1].append('c')\n",
    "t"
   ]
  },
  {
   "cell_type": "markdown",
   "id": "465b36c5-6f91-4f1c-8873-8893b7a41b92",
   "metadata": {},
   "source": [
    "A special problem is the construction of tuples containing 0 or 1 items.\n",
    "\n",
    "We create an empty tuple with an empty pair of parentheses.\n",
    "\n",
    "We create a tuple of a single item with a trailing comma."
   ]
  },
  {
   "cell_type": "code",
   "execution_count": 20,
   "id": "b0047db9-e65e-4a3e-bee7-8d8c785e685a",
   "metadata": {},
   "outputs": [
    {
     "name": "stdout",
     "output_type": "stream",
     "text": [
      "()\n",
      "0\n",
      "<class 'tuple'>\n",
      "('hello',)\n",
      "1\n",
      "<class 'tuple'>\n",
      "<class 'str'>\n"
     ]
    }
   ],
   "source": [
    "empty = ()\n",
    "print(empty)\n",
    "print(len(empty))\n",
    "print(type(empty))\n",
    "\n",
    "single = 'hello', # for ('hello',)\n",
    "print(single)\n",
    "print(len(single))\n",
    "print(type(single))\n",
    "\n",
    "# Don't do this if you are trying to create a tuple\n",
    "mytuple = ('hello')\n",
    "print(type(mytuple))"
   ]
  },
  {
   "cell_type": "markdown",
   "id": "9a8e37a6-37bc-474d-aedf-080ac8f89a22",
   "metadata": {},
   "source": [
    "The statement `point = 1, 0` is an example of _tuple packing_. The values on the RHS are packed together in a tuple.\n",
    "\n",
    "The reverse operation is also possible. `x, y = point`.\n"
   ]
  },
  {
   "cell_type": "code",
   "execution_count": 21,
   "id": "4d419af8-623e-4473-a939-5b34f3078315",
   "metadata": {},
   "outputs": [
    {
     "name": "stdout",
     "output_type": "stream",
     "text": [
      "1\n",
      "0\n"
     ]
    }
   ],
   "source": [
    "# Tuples are commonly unpacked into variables\n",
    "point = (1, 0)\n",
    "x, y = point\n",
    "print(x)\n",
    "print(y)"
   ]
  },
  {
   "cell_type": "markdown",
   "id": "62469924-dae4-486e-aa17-4121bdf4e604",
   "metadata": {},
   "source": [
    "This is called `sequence unpacking` and actually works for any sequence. Note that the number of items on the RHS must equal the number of variables on the LHS of the assignment statement."
   ]
  },
  {
   "cell_type": "code",
   "execution_count": 8,
   "id": "6ce0fabd-039b-4da9-be2f-0a5cf723ed9b",
   "metadata": {},
   "outputs": [
    {
     "name": "stdout",
     "output_type": "stream",
     "text": [
      "a\n",
      "b\n"
     ]
    }
   ],
   "source": [
    "my_list = ['a', 'b'] # Another sequence type\n",
    "first, second = my_list\n",
    "print(first)\n",
    "print(second)"
   ]
  },
  {
   "cell_type": "code",
   "execution_count": 25,
   "id": "651286e0-70dc-4d1e-8f13-6d83d319454a",
   "metadata": {},
   "outputs": [
    {
     "name": "stdout",
     "output_type": "stream",
     "text": [
      "(0, 'a')\n",
      "(1, 'b')\n",
      "(2, 'c')\n"
     ]
    }
   ],
   "source": [
    "for t in enumerate('abc'):\n",
    "    print(t)"
   ]
  },
  {
   "cell_type": "code",
   "execution_count": null,
   "id": "2ac38bf2-f332-4a4f-87ed-ae62ae185200",
   "metadata": {},
   "outputs": [],
   "source": []
  }
 ],
 "metadata": {
  "kernelspec": {
   "display_name": "Python 3 (ipykernel)",
   "language": "python",
   "name": "python3"
  },
  "language_info": {
   "codemirror_mode": {
    "name": "ipython",
    "version": 3
   },
   "file_extension": ".py",
   "mimetype": "text/x-python",
   "name": "python",
   "nbconvert_exporter": "python",
   "pygments_lexer": "ipython3",
   "version": "3.10.12"
  }
 },
 "nbformat": 4,
 "nbformat_minor": 5
}
