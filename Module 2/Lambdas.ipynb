{
 "cells": [
  {
   "cell_type": "markdown",
   "id": "c6cdfe91-1890-4383-b57c-6b657c5d1fdc",
   "metadata": {},
   "source": [
    "# Lambda Expressions\n",
    "\n",
    "Small anonymous functions can be created with the `lambda` keyword. They are syntactically restricted to a single expression. "
   ]
  },
  {
   "cell_type": "code",
   "execution_count": 1,
   "id": "8ec1eb6c-3ebe-4054-b470-bf9cca9752f0",
   "metadata": {},
   "outputs": [
    {
     "name": "stdout",
     "output_type": "stream",
     "text": [
      "42\n",
      "43\n"
     ]
    }
   ],
   "source": [
    "def make_incrementor(n):\n",
    "    return lambda x: x + n\n",
    "\n",
    "inc = make_incrementor(42)\n",
    "print(inc(0))\n",
    "print(inc(1))"
   ]
  },
  {
   "cell_type": "markdown",
   "id": "d540e08b-946c-4647-b986-384923a0e8b9",
   "metadata": {},
   "source": [
    "Semantically, they are just syntactic sugar for a normal function definition. We could rewrite the above as:"
   ]
  },
  {
   "cell_type": "code",
   "execution_count": 4,
   "id": "20ebb16f-0678-4aa9-8d4a-533833bf5d21",
   "metadata": {},
   "outputs": [
    {
     "name": "stdout",
     "output_type": "stream",
     "text": [
      "42\n",
      "43\n"
     ]
    }
   ],
   "source": [
    "def make_incrementor(n):\n",
    "    def increment(x):\n",
    "        return x+n\n",
    "    return increment\n",
    "\n",
    "inc = make_incrementor(42)\n",
    "print(inc(0))\n",
    "print(inc(1))"
   ]
  },
  {
   "cell_type": "markdown",
   "id": "7748ed0d-7f1d-407b-8901-4044d1cc76ea",
   "metadata": {},
   "source": [
    "Lambda functions can be used wherever function objects are required. The above example uses a lambda expression to return a function. Another use is to pass a small function as an argument:"
   ]
  },
  {
   "cell_type": "code",
   "execution_count": 5,
   "id": "09b27a4e-d2ec-4651-aa3d-f79b8cd41cff",
   "metadata": {},
   "outputs": [
    {
     "data": {
      "text/plain": [
       "[(4, 'four'), (1, 'one'), (3, 'three'), (2, 'two')]"
      ]
     },
     "execution_count": 5,
     "metadata": {},
     "output_type": "execute_result"
    }
   ],
   "source": [
    "pairs = [(1, 'one'), (2, 'two'), (3, 'three'), (4, 'four')]\n",
    "pairs.sort(key=lambda pair: pair[1])\n",
    "pairs"
   ]
  }
 ],
 "metadata": {
  "kernelspec": {
   "display_name": "Python 3 (ipykernel)",
   "language": "python",
   "name": "python3"
  },
  "language_info": {
   "codemirror_mode": {
    "name": "ipython",
    "version": 3
   },
   "file_extension": ".py",
   "mimetype": "text/x-python",
   "name": "python",
   "nbconvert_exporter": "python",
   "pygments_lexer": "ipython3",
   "version": "3.10.12"
  }
 },
 "nbformat": 4,
 "nbformat_minor": 5
}
