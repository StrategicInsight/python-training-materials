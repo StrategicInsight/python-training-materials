{
 "cells": [
  {
   "cell_type": "markdown",
   "id": "87155191-5762-4655-949a-9f487fc34205",
   "metadata": {},
   "source": [
    "# Lists\n",
    "\n",
    "* [Lists](https://docs.python.org/3/tutorial/introduction.html#lists) are a mutable, ordered collection of items.\n",
    "* Lists might contain items of different types, but in practice lists usually conatin items of the same type.\n",
    "* Lists are one of many _sequence_ types in python.\n",
    "\n",
    "## Creating Lists\n",
    "\n",
    "Lists are created as a comma-seperated sequence of values between square brackets.\n",
    "\n",
    "\n"
   ]
  },
  {
   "cell_type": "code",
   "execution_count": 24,
   "id": "3097b552-ac8d-4b2d-9965-5d731d48ba51",
   "metadata": {},
   "outputs": [
    {
     "data": {
      "text/plain": [
       "['John', 'Steve', 'Julie', 'Julie', 'Chris', 'Adam']"
      ]
     },
     "execution_count": 24,
     "metadata": {},
     "output_type": "execute_result"
    }
   ],
   "source": [
    "names = ['John', 'Steve', 'Julie', 'Julie', 'Chris', 'Adam']\n",
    "names"
   ]
  },
  {
   "cell_type": "markdown",
   "id": "1d12c45f-db02-4074-b733-5ed0f55cfb37",
   "metadata": {},
   "source": [
    "## Accessing Elements\n",
    "\n",
    "Lists, like other built-in [sequence](https://docs.python.org/3/glossary.html#term-sequence) types, can be indexed and sliced.\n",
    "\n",
    "### Indexing\n",
    "\n",
    "Individual elements in a Sequence can be accessed with 0-based indexing"
   ]
  },
  {
   "cell_type": "code",
   "execution_count": 25,
   "id": "d25b732c-f7af-4118-bc6c-d2b019442aa8",
   "metadata": {},
   "outputs": [
    {
     "name": "stdout",
     "output_type": "stream",
     "text": [
      "John\n",
      "Steve\n"
     ]
    }
   ],
   "source": [
    "print(names[0]) # Print the first element. index 0\n",
    "print(names[1]) # Print the second element. index 1"
   ]
  },
  {
   "cell_type": "markdown",
   "id": "956b0912-29af-46c9-a0b9-1110d4dd1eec",
   "metadata": {},
   "source": [
    "Lists elements can also be accessed using a negative list index, which counts from the end of the list"
   ]
  },
  {
   "cell_type": "code",
   "execution_count": 26,
   "id": "b0047db9-e65e-4a3e-bee7-8d8c785e685a",
   "metadata": {},
   "outputs": [
    {
     "name": "stdout",
     "output_type": "stream",
     "text": [
      "Adam\n",
      "Chris\n"
     ]
    }
   ],
   "source": [
    "# We can also access elements from the back of the list using negative\n",
    "# indicies\n",
    "\n",
    "print(names[-1]) # Print the last element. index -1\n",
    "print(names[-2]) # Print the second to last element. index -2"
   ]
  },
  {
   "cell_type": "markdown",
   "id": "a3156aa1-18df-44a4-9318-48cfe3b6c63d",
   "metadata": {},
   "source": [
    "Attempting to access a list outside it's range of elements results in an IndexError."
   ]
  },
  {
   "cell_type": "code",
   "execution_count": 27,
   "id": "65969860-c23c-492a-902a-e01f3d863d69",
   "metadata": {},
   "outputs": [
    {
     "ename": "IndexError",
     "evalue": "list index out of range",
     "output_type": "error",
     "traceback": [
      "\u001b[0;31m---------------------------------------------------------------------------\u001b[0m",
      "\u001b[0;31mIndexError\u001b[0m                                Traceback (most recent call last)",
      "Cell \u001b[0;32mIn[27], line 1\u001b[0m\n\u001b[0;32m----> 1\u001b[0m \u001b[38;5;28mprint\u001b[39m(\u001b[43mnames\u001b[49m\u001b[43m[\u001b[49m\u001b[38;5;241;43m10\u001b[39;49m\u001b[43m]\u001b[49m)\n",
      "\u001b[0;31mIndexError\u001b[0m: list index out of range"
     ]
    }
   ],
   "source": [
    "print(names[10])"
   ]
  },
  {
   "attachments": {
    "256c1f50-40b7-4ea2-9df5-95dc7b1a97d8.png": {
     "image/png": "[encoded data removed]"
    }
   },
   "cell_type": "markdown",
   "id": "3e97bbb7-8723-4e07-b9c5-7c7d142325dc",
   "metadata": {},
   "source": [
    "### Slicing\n",
    "\n",
    "Slicing is indexing syntax that extracts a portion from a Sequence. All slice operations return a new list containing the requested elements.\n",
    "\n",
    "Basic Slice Syntax is \\[start:end:step\\]\n",
    "\n",
    "1. _start_: The position where the slice begins. If not provided default to the start\n",
    "2. _end_: The position where the slice ends (exclusive). If not provided defaults to the end\n",
    "3. _step_: The number of items to through the list. Positive moves forward, negative moves backwards\n",
    "\n",
    "![slicing.png](attachment:256c1f50-40b7-4ea2-9df5-95dc7b1a97d8.png)\n",
    "\n",
    "As an example let's take a list of the first 9 characters of the alphabet. We can slice select a slice of the list as follows:"
   ]
  },
  {
   "cell_type": "code",
   "execution_count": 28,
   "id": "59f305d8-2d2c-4132-ba27-5a93c68eefc9",
   "metadata": {},
   "outputs": [
    {
     "data": {
      "text/plain": [
       "['c', 'd', 'e', 'f', 'g']"
      ]
     },
     "execution_count": 28,
     "metadata": {},
     "output_type": "execute_result"
    }
   ],
   "source": [
    "L = ['a', 'b', 'c', 'd', 'e', 'f', 'g', 'h', 'i']\n",
    "L[2:7]"
   ]
  },
  {
   "attachments": {
    "75b907ca-c26c-40f0-8820-3cc0ab35ad77.png": {
     "image/png": "[encoded data removed]"
    }
   },
   "cell_type": "markdown",
   "id": "cb5424bd-e7cf-4818-bd42-a332c22d33e3",
   "metadata": {},
   "source": [
    "![simple_slice.png](attachment:75b907ca-c26c-40f0-8820-3cc0ab35ad77.png)\n",
    "\n",
    "As with indexing, we can slice sequences using negative indices as well."
   ]
  },
  {
   "cell_type": "code",
   "execution_count": 29,
   "id": "1f5ae5d7-54f8-4486-a865-ca66c73cc2a3",
   "metadata": {},
   "outputs": [
    {
     "data": {
      "text/plain": [
       "['c', 'd', 'e', 'f', 'g']"
      ]
     },
     "execution_count": 29,
     "metadata": {},
     "output_type": "execute_result"
    }
   ],
   "source": [
    "L[-7:-2]"
   ]
  },
  {
   "attachments": {
    "1b7ee028-5b0f-41bf-a163-af59a908340c.png": {
     "image/png": "[encoded data removed]"
    }
   },
   "cell_type": "markdown",
   "id": "40a89bdf-2ded-4a1f-85c3-2fffe797e5c9",
   "metadata": {},
   "source": [
    "![simple_slicing_negative.png](attachment:1b7ee028-5b0f-41bf-a163-af59a908340c.png)\n",
    "\n",
    "We can mix and match negative and positive indicies when slicing."
   ]
  },
  {
   "cell_type": "code",
   "execution_count": 30,
   "id": "3837e131-355b-4b12-97da-48597f2ec07c",
   "metadata": {},
   "outputs": [
    {
     "data": {
      "text/plain": [
       "['c', 'd', 'e', 'f', 'g']"
      ]
     },
     "execution_count": 30,
     "metadata": {},
     "output_type": "execute_result"
    }
   ],
   "source": [
    "L[2:-2]"
   ]
  },
  {
   "cell_type": "markdown",
   "id": "67e82f52-7c1d-43c0-9ed9-54253c61ee11",
   "metadata": {},
   "source": [
    "We can use the step size to control the direction and step size that we slice through the list.\n",
    "\n",
    "For example we can use a step of `2` to select every other item in the sequence."
   ]
  },
  {
   "cell_type": "code",
   "execution_count": 31,
   "id": "3bd2cc7e-570d-49e4-b053-3de38fef5495",
   "metadata": {},
   "outputs": [
    {
     "data": {
      "text/plain": [
       "['c', 'e', 'g']"
      ]
     },
     "execution_count": 31,
     "metadata": {},
     "output_type": "execute_result"
    }
   ],
   "source": [
    "L[2:7:2] # Same start:stop as before but now select every 2nd item"
   ]
  },
  {
   "attachments": {
    "74804504-c7c5-4c28-8a4a-a57478617108.png": {
     "image/png": "[encoded data removed]"
    }
   },
   "cell_type": "markdown",
   "id": "dd99c5da-a1b4-4206-8327-c7e0847bff82",
   "metadata": {},
   "source": [
    "![slice_step_fwd.png](attachment:74804504-c7c5-4c28-8a4a-a57478617108.png)\n",
    "\n",
    "If we use a negative step size we can move backwards through the sequence."
   ]
  },
  {
   "cell_type": "code",
   "execution_count": 32,
   "id": "69559db3-669e-4ff9-820d-5a6849400f1c",
   "metadata": {},
   "outputs": [
    {
     "data": {
      "text/plain": [
       "['g', 'e', 'c']"
      ]
     },
     "execution_count": 32,
     "metadata": {},
     "output_type": "execute_result"
    }
   ],
   "source": [
    "L[6:1:-2] # Starting at index 6, slice ever other element stopping before index 1"
   ]
  },
  {
   "cell_type": "markdown",
   "id": "1021f8f8-0333-48dd-bb5d-fa547a422c24",
   "metadata": {},
   "source": [
    "Ommitting the `start` index starts the slice from the index 0, `L[:stop]` is equivalent to `L[0:stop]`"
   ]
  },
  {
   "cell_type": "code",
   "execution_count": 33,
   "id": "c0980867-6784-43c7-8de3-33b436b44cfe",
   "metadata": {},
   "outputs": [
    {
     "data": {
      "text/plain": [
       "['a', 'b', 'c']"
      ]
     },
     "execution_count": 33,
     "metadata": {},
     "output_type": "execute_result"
    }
   ],
   "source": [
    "L[:3] # Slice the first 3 elements"
   ]
  },
  {
   "cell_type": "markdown",
   "id": "d68fb873-a132-45e2-a380-aad6de8461e3",
   "metadata": {},
   "source": [
    "Whereas, omitting the `stop` index extends the slice to the end of the list. Meaning, `L[start:]` is equivalent to `L[start:len(L)]`"
   ]
  },
  {
   "cell_type": "code",
   "execution_count": 34,
   "id": "ce80c84c-f536-4870-9231-bd16918a9eb4",
   "metadata": {},
   "outputs": [
    {
     "data": {
      "text/plain": [
       "['g', 'h', 'i']"
      ]
     },
     "execution_count": 34,
     "metadata": {},
     "output_type": "execute_result"
    }
   ],
   "source": [
    "L[6:] # Give me a new list starting at index 6"
   ]
  },
  {
   "cell_type": "code",
   "execution_count": 35,
   "id": "1e28d3e7-2a92-4f1d-a66f-c18fd9e860df",
   "metadata": {},
   "outputs": [
    {
     "data": {
      "text/plain": [
       "['g', 'h', 'i']"
      ]
     },
     "execution_count": 35,
     "metadata": {},
     "output_type": "execute_result"
    }
   ],
   "source": [
    "L[-3:] # Give me a new list with the last 3 items"
   ]
  },
  {
   "cell_type": "markdown",
   "id": "95cf9059-5810-46ca-8947-83e9c4974f1b",
   "metadata": {},
   "source": [
    "Slicing always returns a new list. We can leverage this to shallow copy a list."
   ]
  },
  {
   "cell_type": "code",
   "execution_count": 36,
   "id": "138d47b6-d408-48be-8bbe-024cb2a42341",
   "metadata": {},
   "outputs": [
    {
     "name": "stdout",
     "output_type": "stream",
     "text": [
      "['a', 'b', 'c', 'd', 'e', 'f', 'g', 'h', 'i']\n",
      "True\n",
      "False\n"
     ]
    }
   ],
   "source": [
    "shallow_copy = L[:]\n",
    "print(shallow_copy) # copy\n",
    "print(shallow_copy == L) # The copy is equal\n",
    "print(shallow_copy is L) # It's a new list"
   ]
  },
  {
   "cell_type": "markdown",
   "id": "32354e51-2178-4f2a-ad93-74697f73514a",
   "metadata": {},
   "source": [
    "We can also reverse a list by using a step of `-1`"
   ]
  },
  {
   "cell_type": "code",
   "execution_count": 37,
   "id": "d6f8a6ae-c58f-4dfa-823d-4a7f764a3949",
   "metadata": {},
   "outputs": [
    {
     "data": {
      "text/plain": [
       "['i', 'h', 'g', 'f', 'e', 'd', 'c', 'b', 'a']"
      ]
     },
     "execution_count": 37,
     "metadata": {},
     "output_type": "execute_result"
    }
   ],
   "source": [
    "L[::-1]"
   ]
  },
  {
   "cell_type": "markdown",
   "id": "d5e86e2f-ea4b-494c-8d8f-a44af414c612",
   "metadata": {},
   "source": [
    "## Lists are Mutable\n",
    "\n",
    "Lists are a mutable type, i.e. it is possible to change their content."
   ]
  },
  {
   "cell_type": "code",
   "execution_count": 38,
   "id": "981c79b2-1faf-42c0-b3d6-da12255ffa37",
   "metadata": {},
   "outputs": [
    {
     "name": "stdout",
     "output_type": "stream",
     "text": [
      "False\n"
     ]
    },
    {
     "data": {
      "text/plain": [
       "[1, 8, 27, 64, 125]"
      ]
     },
     "execution_count": 38,
     "metadata": {},
     "output_type": "execute_result"
    }
   ],
   "source": [
    "cubes = [1, 8, 27, 65, 125]  # something's wrong here\n",
    "print(4**3 == cubes[3])\n",
    "cubes[3] = 64  # replace the wrong value\n",
    "cubes"
   ]
  },
  {
   "cell_type": "markdown",
   "id": "41952839-1c19-4468-9036-595f162dbb4f",
   "metadata": {},
   "source": [
    "We can also add new items ad the end of the list by ussing `append()`."
   ]
  },
  {
   "cell_type": "code",
   "execution_count": 39,
   "id": "dac75655-4aa9-4d9a-951f-72a16b822225",
   "metadata": {},
   "outputs": [
    {
     "data": {
      "text/plain": [
       "[1, 8, 27, 64, 125, 216, 343]"
      ]
     },
     "execution_count": 39,
     "metadata": {},
     "output_type": "execute_result"
    }
   ],
   "source": [
    "cubes.append(216) # add the cube of 6\n",
    "cubes.append(7 ** 3) # add the cube of 7\n",
    "cubes"
   ]
  },
  {
   "cell_type": "markdown",
   "id": "106b9b83-6bea-49ce-bf13-bd84c16ff561",
   "metadata": {},
   "source": [
    "We can also assign to slices. This can change the size of the list or clear it entirely."
   ]
  },
  {
   "cell_type": "code",
   "execution_count": 40,
   "id": "5773f0b1-563e-4353-abfd-28a134b8ad32",
   "metadata": {},
   "outputs": [
    {
     "data": {
      "text/plain": [
       "['a', 'b', 'c', 'd', 'e', 'f', 'g', 'h', 'i']"
      ]
     },
     "execution_count": 40,
     "metadata": {},
     "output_type": "execute_result"
    }
   ],
   "source": [
    "L = ['a', 'b', 'c', 'd', 'e', 'f', 'g', 'h', 'i']\n",
    "L"
   ]
  },
  {
   "cell_type": "code",
   "execution_count": 41,
   "id": "a5b6b804-4761-46bb-b2e8-a579ba426682",
   "metadata": {},
   "outputs": [
    {
     "name": "stdout",
     "output_type": "stream",
     "text": [
      "['a', 'b', 'C', 'D', 'E', 'f', 'g', 'h', 'i']\n",
      "['a', 'b', 'f', 'g', 'h', 'i']\n",
      "[]\n"
     ]
    }
   ],
   "source": [
    "# Replace some values.\n",
    "L[2:5] = ['C', 'D', 'E']\n",
    "print(L)\n",
    "# Now remove them\n",
    "L[2:5] = []\n",
    "print(L)\n",
    "# We can replace all the elements with an empty list to clear the list\n",
    "L[:] = []\n",
    "print(L)"
   ]
  },
  {
   "cell_type": "markdown",
   "id": "e4a741f5-b056-4468-b62a-ea3451524a74",
   "metadata": {},
   "source": [
    "### Other useful operations\n",
    "\n",
    "We can use the built-in `len()` function to get the length of a list"
   ]
  },
  {
   "cell_type": "code",
   "execution_count": 42,
   "id": "be7d8a38-f8b6-4d3a-97e2-5dcca24e31b7",
   "metadata": {},
   "outputs": [
    {
     "data": {
      "text/plain": [
       "3"
      ]
     },
     "execution_count": 42,
     "metadata": {},
     "output_type": "execute_result"
    }
   ],
   "source": [
    "len([1,2,3])"
   ]
  },
  {
   "cell_type": "markdown",
   "id": "a1d029bc-0d34-4945-8a09-fd137ec9d41a",
   "metadata": {},
   "source": [
    "We've already looked at `append()` as a method that allows appending an element to a list.\n",
    "\n",
    "We can insert an item in a list using `insert()`."
   ]
  },
  {
   "cell_type": "code",
   "execution_count": 44,
   "id": "c82a985c-21e1-4da3-abf7-b19c837be1ed",
   "metadata": {},
   "outputs": [
    {
     "data": {
      "text/plain": [
       "[0, 1, 2, 3]"
      ]
     },
     "execution_count": 44,
     "metadata": {},
     "output_type": "execute_result"
    }
   ],
   "source": [
    "mylist = [1, 2, 3]\n",
    "mylist.insert(0, 0)\n",
    "mylist"
   ]
  },
  {
   "cell_type": "markdown",
   "id": "90f76019-83dc-48e0-b502-c0cdf7911d0a",
   "metadata": {},
   "source": [
    "The method `pop()` can be used to remove an item from the end of the list. It also excepts an argument to return and remove the item at an index."
   ]
  },
  {
   "cell_type": "code",
   "execution_count": 45,
   "id": "af5186aa-46a3-4ae4-be16-12011cbd29d2",
   "metadata": {},
   "outputs": [
    {
     "name": "stdout",
     "output_type": "stream",
     "text": [
      "1\n"
     ]
    },
    {
     "data": {
      "text/plain": [
       "[0, 2, 3]"
      ]
     },
     "execution_count": 45,
     "metadata": {},
     "output_type": "execute_result"
    }
   ],
   "source": [
    "res = mylist.pop(1)\n",
    "print(res)\n",
    "mylist"
   ]
  },
  {
   "cell_type": "markdown",
   "id": "14410c6a-df8f-4fd2-8ada-416b80bb0013",
   "metadata": {},
   "source": [
    "We can use `pop()` and `append()` to implement an efficient stack using a list."
   ]
  },
  {
   "cell_type": "code",
   "execution_count": 46,
   "id": "defe203a-9cac-4337-916e-a9cad76c59e8",
   "metadata": {},
   "outputs": [
    {
     "name": "stdout",
     "output_type": "stream",
     "text": [
      "[3, 4, 5, 6, 7]\n",
      "7\n",
      "[3, 4, 5, 6]\n",
      "6\n"
     ]
    }
   ],
   "source": [
    "stack = [3, 4, 5]\n",
    "stack.append(6)\n",
    "stack.append(7)\n",
    "print(stack)\n",
    "print(stack.pop(-1)) # Pop the head of the stack (last in first out)\n",
    "print(stack)\n",
    "# We can also use a negative index to peek the top\n",
    "print(stack[-1])"
   ]
  },
  {
   "cell_type": "markdown",
   "id": "38c3c1df-00cc-4011-9393-a006e4814e49",
   "metadata": {},
   "source": [
    "Similar one could implement a queue using a list, but lists are not efficient for this purpose. Appends and pops to / from the end are efficient, inserts or pops from the beginning of the list are slow. If you need a queue there are other datastructures that are a better fit e.g. `collections.deque`.\n",
    "\n",
    "There are lots of other useful functions/methods on lists. We can `sort()` them, `count()` items from them, find the `index()` of an item or `remove()` an item."
   ]
  },
  {
   "cell_type": "code",
   "execution_count": 23,
   "id": "353c3fa6-c28e-42cd-8fe9-f924c44bb606",
   "metadata": {},
   "outputs": [
    {
     "name": "stdout",
     "output_type": "stream",
     "text": [
      "['Steve', 'Tom', 'Adam', 'Chris', 'Julie', 'Julie', 'Steve']\n",
      "['Adam', 'Chris', 'Julie', 'Julie', 'Steve', 'Steve', 'Tom']\n",
      "There are 2 people named Julie\n",
      "Adam is at index 0\n",
      "['Adam', 'Julie', 'Julie', 'Steve', 'Steve', 'Tom']\n"
     ]
    }
   ],
   "source": [
    "names = ['Steve', 'Tom', 'Adam', 'Chris', 'Julie', 'Julie', 'Steve']\n",
    "print(names)\n",
    "names.sort()\n",
    "print(names)\n",
    "\n",
    "print(f'There are {names.count(\"Julie\")} people named Julie')\n",
    "\n",
    "print(f'Adam is at index {names.index(\"Adam\")}')\n",
    "\n",
    "names.remove('Chris')\n",
    "print(names)"
   ]
  },
  {
   "cell_type": "code",
   "execution_count": null,
   "id": "f773f485-06f8-497a-a1b1-1fbb1f9ee871",
   "metadata": {},
   "outputs": [],
   "source": []
  }
 ],
 "metadata": {
  "kernelspec": {
   "display_name": "Python 3 (ipykernel)",
   "language": "python",
   "name": "python3"
  },
  "language_info": {
   "codemirror_mode": {
    "name": "ipython",
    "version": 3
   },
   "file_extension": ".py",
   "mimetype": "text/x-python",
   "name": "python",
   "nbconvert_exporter": "python",
   "pygments_lexer": "ipython3",
   "version": "3.10.12"
  }
 },
 "nbformat": 4,
 "nbformat_minor": 5
}
