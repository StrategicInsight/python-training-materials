{
 "cells": [
  {
   "cell_type": "markdown",
   "id": "d99afc8a-7d66-40bc-aa52-1c6af19b558b",
   "metadata": {},
   "source": [
    "# Working with Strings\n",
    "\n",
    "Textual data in Python is handled with `str` objects, or strings. Strings are immutable `sequences` of Unicode code points. \n",
    "\n",
    "<div class=\"alert alert-block alert-warning\">\n",
    "    String handling was one of, if not, the biggest changes between Python 2 and Python 3. If you are working in legacy systems you need to pay careful attention to what is going on. \n",
    "</div>\n",
    "\n",
    "String literals are written in a variety of ways:\n",
    "1. Single quotes: `'allows embedded \"double\" quotes'`\n",
    "2. Double quotes: `\"allows embedded 'single' quotes\"`\n",
    "3. Triple quoted: `'''Three single quotes''', \"\"\"Three double quotes\"\"\"`\n",
    "\n",
    "Triple quoted strings may span multiple lines - all associated whitespace will be included in the string literal."
   ]
  },
  {
   "cell_type": "code",
   "execution_count": 2,
   "id": "c0e01d6f-b407-4d6f-aa80-393789d36227",
   "metadata": {},
   "outputs": [
    {
     "data": {
      "text/plain": [
       "'The quick brown fox\\njumped over \\nthe lazy dog\\n'"
      ]
     },
     "execution_count": 2,
     "metadata": {},
     "output_type": "execute_result"
    }
   ],
   "source": [
    "\"\"\"The quick brown fox\n",
    "jumped over \n",
    "the lazy dog\n",
    "\"\"\""
   ]
  },
  {
   "cell_type": "markdown",
   "id": "5949ecc8-280a-4d0b-bc18-f24da2f59a90",
   "metadata": {},
   "source": [
    "String objects provide several handy functions. See [String Methods](https://docs.python.org/3/library/stdtypes.html#string-methods) for all the details.\n",
    "\n",
    "We can test if a string is made of characters in various character classes"
   ]
  },
  {
   "cell_type": "code",
   "execution_count": 5,
   "id": "929b4431-0648-474d-b2e2-f9f70d08cf2c",
   "metadata": {},
   "outputs": [
    {
     "data": {
      "text/plain": [
       "True"
      ]
     },
     "execution_count": 5,
     "metadata": {},
     "output_type": "execute_result"
    }
   ],
   "source": [
    "\"1234\".isdigit()"
   ]
  },
  {
   "cell_type": "code",
   "execution_count": 6,
   "id": "1f264c88-086f-4357-a519-284e1519849e",
   "metadata": {},
   "outputs": [
    {
     "data": {
      "text/plain": [
       "False"
      ]
     },
     "execution_count": 6,
     "metadata": {},
     "output_type": "execute_result"
    }
   ],
   "source": [
    "\"1234asdf\".isalpha()"
   ]
  },
  {
   "cell_type": "code",
   "execution_count": 8,
   "id": "42f9217f-8828-4952-8384-a322ffadcd32",
   "metadata": {},
   "outputs": [
    {
     "data": {
      "text/plain": [
       "True"
      ]
     },
     "execution_count": 8,
     "metadata": {},
     "output_type": "execute_result"
    }
   ],
   "source": [
    "\"1234asdf\".isalnum()"
   ]
  },
  {
   "cell_type": "markdown",
   "id": "bf81edc3-a278-43b1-aeb1-7cffd2f3a5e8",
   "metadata": {},
   "source": [
    "We can search for strings in other strings."
   ]
  },
  {
   "cell_type": "code",
   "execution_count": 9,
   "id": "b4fde880-4e82-48c3-82ab-c02ec716f28b",
   "metadata": {},
   "outputs": [
    {
     "data": {
      "text/plain": [
       "True"
      ]
     },
     "execution_count": 9,
     "metadata": {},
     "output_type": "execute_result"
    }
   ],
   "source": [
    "'Python' in 'Python 3'"
   ]
  },
  {
   "cell_type": "code",
   "execution_count": 11,
   "id": "86cf169b-172e-4668-9cfe-cc6fbe55d617",
   "metadata": {},
   "outputs": [
    {
     "data": {
      "text/plain": [
       "True"
      ]
     },
     "execution_count": 11,
     "metadata": {},
     "output_type": "execute_result"
    }
   ],
   "source": [
    "'Python 3'.startswith('Py') and 'Python 3'.endswith('3')"
   ]
  },
  {
   "cell_type": "code",
   "execution_count": 13,
   "id": "59bf6c33-1c9a-4a65-b4c6-7e2fa9421fa6",
   "metadata": {},
   "outputs": [
    {
     "data": {
      "text/plain": [
       "6"
      ]
     },
     "execution_count": 13,
     "metadata": {},
     "output_type": "execute_result"
    }
   ],
   "source": [
    "'Python 3'.index(' ')"
   ]
  },
  {
   "cell_type": "markdown",
   "id": "fb51ff3a-3c9c-4325-bbfb-9d91528acc60",
   "metadata": {},
   "source": [
    "We can create new strings by transforming the current string"
   ]
  },
  {
   "cell_type": "code",
   "execution_count": 14,
   "id": "dc12de7f-a8c1-4d0d-b9f2-5bb33a8d706c",
   "metadata": {},
   "outputs": [
    {
     "data": {
      "text/plain": [
       "'Chris utz'"
      ]
     },
     "execution_count": 14,
     "metadata": {},
     "output_type": "execute_result"
    }
   ],
   "source": [
    "\"chris utz\".capitalize()"
   ]
  },
  {
   "cell_type": "code",
   "execution_count": 16,
   "id": "72a930a4-37d9-47d0-b085-64f751d16691",
   "metadata": {},
   "outputs": [
    {
     "data": {
      "text/plain": [
       "'Chris Utz'"
      ]
     },
     "execution_count": 16,
     "metadata": {},
     "output_type": "execute_result"
    }
   ],
   "source": [
    "# That's not quite right\n",
    "\"chris utz\".title()"
   ]
  },
  {
   "cell_type": "code",
   "execution_count": 17,
   "id": "404ff181-57d6-49e5-ba53-2e47c912a652",
   "metadata": {},
   "outputs": [
    {
     "data": {
      "text/plain": [
       "'padded'"
      ]
     },
     "execution_count": 17,
     "metadata": {},
     "output_type": "execute_result"
    }
   ],
   "source": [
    "# We can trim whitespace from the start and end\n",
    "\"   padded \".strip()"
   ]
  },
  {
   "cell_type": "markdown",
   "id": "739dbc78-8fb7-4448-9133-90c3a2b999a0",
   "metadata": {},
   "source": [
    "Joining a collection of strings or splitting a string into multiple strings is a common operation when processing textual data."
   ]
  },
  {
   "cell_type": "code",
   "execution_count": 18,
   "id": "8453d435-f56f-40f4-b260-afcf315c873f",
   "metadata": {},
   "outputs": [
    {
     "data": {
      "text/plain": [
       "['The', 'quick', 'brown', 'fox', 'jumped', 'over', 'the', 'lazy', 'dog']"
      ]
     },
     "execution_count": 18,
     "metadata": {},
     "output_type": "execute_result"
    }
   ],
   "source": [
    "\"The quick brown fox jumped over the lazy dog\".split()"
   ]
  },
  {
   "cell_type": "code",
   "execution_count": 21,
   "id": "91c582de-4eb8-4ca5-a40e-ae3ef5ebb2a5",
   "metadata": {},
   "outputs": [
    {
     "data": {
      "text/plain": [
       "['my', 'comma', 'seperated', 'text']"
      ]
     },
     "execution_count": 21,
     "metadata": {},
     "output_type": "execute_result"
    }
   ],
   "source": [
    "# of course maybe we want to use a different separator\n",
    "words = \"my, comma, seperated, text\".split(\", \")\n",
    "words"
   ]
  },
  {
   "cell_type": "code",
   "execution_count": 22,
   "id": "973edfdf-e779-4178-ba4c-df91f917b203",
   "metadata": {},
   "outputs": [
    {
     "data": {
      "text/plain": [
       "'my|comma|seperated|text'"
      ]
     },
     "execution_count": 22,
     "metadata": {},
     "output_type": "execute_result"
    }
   ],
   "source": [
    "# We can join the resulting text by a string\n",
    "\"|\".join(words)"
   ]
  },
  {
   "cell_type": "markdown",
   "id": "f65d930d-d5b5-4220-b525-79a790f0d793",
   "metadata": {},
   "source": [
    "As we've seen we can create strings using string literals. \n",
    "\n",
    "We can also create strings using the `str` class."
   ]
  },
  {
   "cell_type": "code",
   "execution_count": 23,
   "id": "176e8c64-4924-4869-9ac3-8ce20065bf76",
   "metadata": {},
   "outputs": [
    {
     "data": {
      "text/plain": [
       "'hello world'"
      ]
     },
     "execution_count": 23,
     "metadata": {},
     "output_type": "execute_result"
    }
   ],
   "source": [
    "str(\"hello world\")"
   ]
  },
  {
   "cell_type": "markdown",
   "id": "09c99753-32a2-467c-bbc4-8210bac74082",
   "metadata": {},
   "source": [
    "We can turn objects into strings by passing them to the `str` class."
   ]
  },
  {
   "cell_type": "code",
   "execution_count": 27,
   "id": "f53c2fd3-6658-4c5b-83db-53769405d159",
   "metadata": {},
   "outputs": [
    {
     "data": {
      "text/plain": [
       "'[1, 2, 3]'"
      ]
     },
     "execution_count": 27,
     "metadata": {},
     "output_type": "execute_result"
    }
   ],
   "source": [
    "mylist = [1, 2, 3]\n",
    "assert isinstance(mylist, list)\n",
    "stringified = str(mylist)\n",
    "assert isinstance(stringified, str)\n",
    "stringified"
   ]
  },
  {
   "cell_type": "markdown",
   "id": "ef02bf46-20a6-4a8d-9746-5897cd6cd19a",
   "metadata": {},
   "source": [
    "How does this work?\n",
    "\n",
    "`str(object)` returns `type(object).__str__(object)`, which is the “informal” or nicely printable string representation of object. For string objects, this is the string itself. If object does not have a `__str__()` method, then `str()` falls back to returning `repr(object)`."
   ]
  },
  {
   "cell_type": "code",
   "execution_count": 30,
   "id": "3cec0d7b-496d-4923-8480-64b608f92a48",
   "metadata": {},
   "outputs": [
    {
     "data": {
      "text/plain": [
       "'1|2|3'"
      ]
     },
     "execution_count": 30,
     "metadata": {},
     "output_type": "execute_result"
    }
   ],
   "source": [
    "class mylist(list):\n",
    "    def __str__(self):\n",
    "        return \"|\".join(str(x) for x in self)\n",
    "\n",
    "str(mylist([1,2,3]))"
   ]
  },
  {
   "cell_type": "markdown",
   "id": "3650ca41-8882-4792-92b5-c2098b1066dd",
   "metadata": {},
   "source": [
    "## Strings are sequences\n",
    "\n",
    "Strings implement all of the [common](https://docs.python.org/3/library/stdtypes.html#typesseq-common) sequence operations. We've already seen the use of `in`. But we can find their length, slice them, iterate them, etc."
   ]
  },
  {
   "cell_type": "code",
   "execution_count": 31,
   "id": "2101b71d-8861-4bde-a0c1-4c7051c912aa",
   "metadata": {},
   "outputs": [
    {
     "data": {
      "text/plain": [
       "14"
      ]
     },
     "execution_count": 31,
     "metadata": {},
     "output_type": "execute_result"
    }
   ],
   "source": [
    "greeting = 'Hello Everyone'\n",
    "len(greeting)"
   ]
  },
  {
   "cell_type": "code",
   "execution_count": 32,
   "id": "fef57975-3737-464a-8438-b38499e02be3",
   "metadata": {},
   "outputs": [
    {
     "data": {
      "text/plain": [
       "'ello Everyon'"
      ]
     },
     "execution_count": 32,
     "metadata": {},
     "output_type": "execute_result"
    }
   ],
   "source": [
    "greeting[1:-1]"
   ]
  },
  {
   "cell_type": "code",
   "execution_count": 33,
   "id": "fb8c6bce-694a-40ce-aae6-6a365cbab90b",
   "metadata": {},
   "outputs": [
    {
     "data": {
      "text/plain": [
       "[(0, 'H'),\n",
       " (1, 'e'),\n",
       " (2, 'l'),\n",
       " (3, 'l'),\n",
       " (4, 'o'),\n",
       " (5, ' '),\n",
       " (6, 'E'),\n",
       " (7, 'v'),\n",
       " (8, 'e'),\n",
       " (9, 'r'),\n",
       " (10, 'y'),\n",
       " (11, 'o'),\n",
       " (12, 'n'),\n",
       " (13, 'e')]"
      ]
     },
     "execution_count": 33,
     "metadata": {},
     "output_type": "execute_result"
    }
   ],
   "source": [
    "list(enumerate(greeting))"
   ]
  },
  {
   "cell_type": "markdown",
   "id": "a7527078-1cdf-4e46-8f47-1adc9cc8ec66",
   "metadata": {},
   "source": [
    "## Formatted String Literals\n",
    "\n",
    "[Formatted string literals](https://docs.python.org/3/reference/lexical_analysis.html#f-strings) (also called f-strings for short) let you include the value of Python expressions inside a string by prefixing the string with `f` or `F` and writing expressions as {expression}."
   ]
  },
  {
   "cell_type": "code",
   "execution_count": 34,
   "id": "2ef20927-90e3-4083-bca5-1bf455fe40bf",
   "metadata": {},
   "outputs": [
    {
     "name": "stdout",
     "output_type": "stream",
     "text": [
      "<class 'str'>\n"
     ]
    },
    {
     "data": {
      "text/plain": [
       "'The value of pi is approximately 3.141592653589793'"
      ]
     },
     "execution_count": 34,
     "metadata": {},
     "output_type": "execute_result"
    }
   ],
   "source": [
    "import math\n",
    "mystr = f\"The value of pi is approximately {math.pi}\"\n",
    "print(type(mystr))\n",
    "mystr"
   ]
  },
  {
   "cell_type": "code",
   "execution_count": 36,
   "id": "b9b6de3f-ac9a-4c79-9adb-953a92cd0dde",
   "metadata": {},
   "outputs": [
    {
     "data": {
      "text/plain": [
       "\"The portion in '{}' is any valid expression. Pi is 3.142857142857143\""
      ]
     },
     "execution_count": 36,
     "metadata": {},
     "output_type": "execute_result"
    }
   ],
   "source": [
    "f\"The portion in '{{}}' is any valid expression. Pi is {22 / 7}\""
   ]
  },
  {
   "cell_type": "markdown",
   "id": "9e426619-3723-4cc9-93d5-1b56e257ccf9",
   "metadata": {},
   "source": [
    "An optional format specifier can follow the expression. This allows greater control over how the value is formatted. The following example rounds pi to three places after the decimal."
   ]
  },
  {
   "cell_type": "code",
   "execution_count": 37,
   "id": "11dd314c-9a99-4775-a3ff-ef754144f84a",
   "metadata": {},
   "outputs": [
    {
     "data": {
      "text/plain": [
       "'The value of pi is approximately 3.142'"
      ]
     },
     "execution_count": 37,
     "metadata": {},
     "output_type": "execute_result"
    }
   ],
   "source": [
    "f\"The value of pi is approximately {math.pi:.3f}\""
   ]
  },
  {
   "cell_type": "markdown",
   "id": "4c229031-e535-4b30-a55a-7457041c9077",
   "metadata": {},
   "source": [
    "Other modifiers can be used to convert the value before it is formatted. `'!a'` applies `ascii()`, `'!s'` applies `str()`, and `'!r'` applies `repr()`. `!s` is the default."
   ]
  },
  {
   "cell_type": "code",
   "execution_count": 41,
   "id": "958a2c3e-6aeb-486b-aa13-6e4a1b4abc52",
   "metadata": {},
   "outputs": [
    {
     "name": "stdout",
     "output_type": "stream",
     "text": [
      "My hovercraft is full of eel|fox|cat.\n",
      "My hovercraft is full of ['eel', 'fox', 'cat'].\n"
     ]
    }
   ],
   "source": [
    "animals = mylist(['eel', 'fox', 'cat'])\n",
    "print(f'My hovercraft is full of {animals}.')\n",
    "print(f'My hovercraft is full of {animals!r}.')"
   ]
  },
  {
   "cell_type": "markdown",
   "id": "15b9ab79-93a2-4335-b11a-c1340e5c85b7",
   "metadata": {},
   "source": [
    "The `=` specifier can be used to expand an expression to the text of the expression, an equal sign, then the representation of the evaluated expression."
   ]
  },
  {
   "cell_type": "code",
   "execution_count": 42,
   "id": "074342fe-269d-4d01-9698-03069df1cbe7",
   "metadata": {},
   "outputs": [
    {
     "data": {
      "text/plain": [
       "\"Debugging bugs='roaches' count=13 area='living room'\""
      ]
     },
     "execution_count": 42,
     "metadata": {},
     "output_type": "execute_result"
    }
   ],
   "source": [
    "bugs = 'roaches'\n",
    "count = 13\n",
    "area = 'living room'\n",
    "f'Debugging {bugs=} {count=} {area=}'"
   ]
  },
  {
   "cell_type": "markdown",
   "id": "442f3e77-a0bd-4fb3-8a4f-b75c52f9a25b",
   "metadata": {},
   "source": [
    "We can even format dates and currencies using fstrings"
   ]
  },
  {
   "cell_type": "code",
   "execution_count": 44,
   "id": "b1c40a49-ed90-4620-ab05-37dc3e2bb860",
   "metadata": {},
   "outputs": [
    {
     "data": {
      "text/plain": [
       "'$35,235.56'"
      ]
     },
     "execution_count": 44,
     "metadata": {},
     "output_type": "execute_result"
    }
   ],
   "source": [
    "f\"${35235.56:,.2f}\""
   ]
  },
  {
   "cell_type": "code",
   "execution_count": 45,
   "id": "8d25f849-099c-4e69-85d9-bc6731cbcf88",
   "metadata": {},
   "outputs": [
    {
     "data": {
      "text/plain": [
       "'08-August-2023'"
      ]
     },
     "execution_count": 45,
     "metadata": {},
     "output_type": "execute_result"
    }
   ],
   "source": [
    "from datetime import datetime\n",
    "now = datetime.now()\n",
    "f\"{now:%d-%B-%Y}\""
   ]
  }
 ],
 "metadata": {
  "kernelspec": {
   "display_name": "Python 3 (ipykernel)",
   "language": "python",
   "name": "python3"
  },
  "language_info": {
   "codemirror_mode": {
    "name": "ipython",
    "version": 3
   },
   "file_extension": ".py",
   "mimetype": "text/x-python",
   "name": "python",
   "nbconvert_exporter": "python",
   "pygments_lexer": "ipython3",
   "version": "3.10.12"
  }
 },
 "nbformat": 4,
 "nbformat_minor": 5
}
