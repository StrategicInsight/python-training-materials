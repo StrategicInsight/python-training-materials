{
 "cells": [
  {
   "cell_type": "markdown",
   "id": "ad8c568d-5629-4ada-a7e2-9c4aace4276e",
   "metadata": {},
   "source": [
    "# Sets\n",
    "\n",
    "1. Unordered collection with no duplicate elements.\n",
    "2. Elements must be _[hashable](https://docs.python.org/3/glossary.html#term-hashable)_\n",
    "3. Basic usage includes efficient membership testing and easy elimination of duplicate entries.\n",
    "4. Supports mathmatical operations such as _intersection_, _union_, and _difference_.\n",
    "\n",
    "## Creating Sets\n",
    "\n",
    "Sets can be created by several means:\n",
    "\n",
    "* Use a comma-separated list of elements within braces: `{'jack', 'sjoerd'}`\n",
    "* Use the type [constructor](https://docs.python.org/3/library/stdtypes.html#set): `set(), set('foobar'), set(['a', 'b', 'foo'])`\n",
    "* Use a set comprehension (we'll return to this later)\n"
   ]
  },
  {
   "cell_type": "code",
   "execution_count": 19,
   "id": "eecf4e1b-d4fc-4590-9e24-8a77213621b4",
   "metadata": {},
   "outputs": [
    {
     "data": {
      "text/plain": [
       "{'blue', 'green', 'red'}"
      ]
     },
     "execution_count": 19,
     "metadata": {},
     "output_type": "execute_result"
    }
   ],
   "source": [
    "{'red', 'green', 'blue', 'red'}"
   ]
  },
  {
   "cell_type": "code",
   "execution_count": 20,
   "id": "ec3f9649-d029-4449-b2f2-8cd0329e390d",
   "metadata": {},
   "outputs": [
    {
     "data": {
      "text/plain": [
       "{'blue', 'green', 'red'}"
      ]
     },
     "execution_count": 20,
     "metadata": {},
     "output_type": "execute_result"
    }
   ],
   "source": [
    "colors = set(['red', 'green', 'blue', 'red'])\n",
    "colors"
   ]
  },
  {
   "cell_type": "markdown",
   "id": "4d837f37-03e1-406b-947d-0391b2506b15",
   "metadata": {},
   "source": [
    "## Mathmatical Operations\n",
    "\n",
    "We can efficiently test set membership and perform other mathematical operations."
   ]
  },
  {
   "cell_type": "code",
   "execution_count": 21,
   "id": "dc0f066b-ffc7-48d6-9924-c04c5b8f8283",
   "metadata": {},
   "outputs": [
    {
     "data": {
      "text/plain": [
       "True"
      ]
     },
     "execution_count": 21,
     "metadata": {},
     "output_type": "execute_result"
    }
   ],
   "source": [
    "warm_colors = {'red', 'yellow', 'orange'}\n",
    "cool_colors = {'blue', 'green', 'purple'}\n",
    "primary_colors = {'red', 'blue', 'yellow'}\n",
    "secondary_colors = {'purple', 'green', 'orange'}\n",
    "special_colors = {'white', 'black'}\n",
    "\n",
    "# Two sets are equal if they contain the same elements\n",
    "warm_colors == {'red', 'orange', 'yellow'} # Note order is not important\n"
   ]
  },
  {
   "cell_type": "code",
   "execution_count": 22,
   "id": "173ed2a2-838d-49a8-a2d8-80d10f2a9d92",
   "metadata": {},
   "outputs": [
    {
     "data": {
      "text/plain": [
       "True"
      ]
     },
     "execution_count": 22,
     "metadata": {},
     "output_type": "execute_result"
    }
   ],
   "source": [
    "# Test membership using  `in` and `not in`\n",
    "'red' in warm_colors"
   ]
  },
  {
   "cell_type": "code",
   "execution_count": 23,
   "id": "825347ba-237d-452b-b5f7-f091841ee36a",
   "metadata": {},
   "outputs": [
    {
     "data": {
      "text/plain": [
       "True"
      ]
     },
     "execution_count": 23,
     "metadata": {},
     "output_type": "execute_result"
    }
   ],
   "source": [
    "'red' not in cool_colors"
   ]
  },
  {
   "cell_type": "code",
   "execution_count": 24,
   "id": "1d74a04c-014d-4bab-ab77-ca492e8aab25",
   "metadata": {},
   "outputs": [
    {
     "data": {
      "text/plain": [
       "{'black', 'blue', 'green', 'orange', 'purple', 'red', 'white', 'yellow'}"
      ]
     },
     "execution_count": 24,
     "metadata": {},
     "output_type": "execute_result"
    }
   ],
   "source": [
    "# We can create a new set that is the union of many sets\n",
    "all_colors = warm_colors | cool_colors | primary_colors | secondary_colors | special_colors # See also `union`\n",
    "all_colors"
   ]
  },
  {
   "cell_type": "code",
   "execution_count": 25,
   "id": "f5811e69-5928-4ad9-8479-3491cda58e38",
   "metadata": {},
   "outputs": [
    {
     "name": "stdout",
     "output_type": "stream",
     "text": [
      "True\n",
      "False\n",
      "True\n",
      "True\n"
     ]
    }
   ],
   "source": [
    "# We can test for subset, proper subset (subset and !=), superset, and propery superset (superset !=)\n",
    "\n",
    "print(warm_colors <= all_colors) # warm is subset of all\n",
    "print(all_colors < all_colors) # all is not a proper subset of itself (it is equal)\n",
    "print(all_colors > secondary_colors) # all is a superset of secondary\n",
    "print(all_colors >= secondary_colors) # all is actually a proper superset of secondary (superset and not equal)"
   ]
  },
  {
   "cell_type": "code",
   "execution_count": 11,
   "id": "38f354bd-bf55-4d48-bce5-fcdb0dbd7226",
   "metadata": {},
   "outputs": [
    {
     "data": {
      "text/plain": [
       "True"
      ]
     },
     "execution_count": 11,
     "metadata": {},
     "output_type": "execute_result"
    }
   ],
   "source": [
    "# We can easily test if two sets are disjoint\n",
    "warm_colors.isdisjoint(cool_colors)"
   ]
  },
  {
   "cell_type": "code",
   "execution_count": 26,
   "id": "21000e68-bc72-414e-867f-04864d20df63",
   "metadata": {},
   "outputs": [
    {
     "data": {
      "text/plain": [
       "{'red', 'yellow'}"
      ]
     },
     "execution_count": 26,
     "metadata": {},
     "output_type": "execute_result"
    }
   ],
   "source": [
    "# We can intersect sets\n",
    "warm_colors & primary_colors # warm primary colors"
   ]
  },
  {
   "cell_type": "code",
   "execution_count": 27,
   "id": "d1405244-104f-4a86-9206-1b14c468193b",
   "metadata": {},
   "outputs": [
    {
     "data": {
      "text/plain": [
       "{'orange'}"
      ]
     },
     "execution_count": 27,
     "metadata": {},
     "output_type": "execute_result"
    }
   ],
   "source": [
    "warm_colors - primary_colors # warm colors that aren't primary"
   ]
  },
  {
   "cell_type": "markdown",
   "id": "18e7d5b7-2872-4c3a-a8d0-debc3b547954",
   "metadata": {},
   "source": [
    "## Mutating Sets\n",
    "\n",
    "Sets are mutable. Elements can be added and removed. In place updates based on intersection, difference, and symmetric difference.\n",
    "\n",
    "If you need an immutable set you can use [`frozenset`](https://docs.python.org/3/library/stdtypes.html#frozenset). "
   ]
  },
  {
   "cell_type": "code",
   "execution_count": 28,
   "id": "77ce4731-b68e-481e-9bc9-522b22cdd947",
   "metadata": {},
   "outputs": [
    {
     "data": {
      "text/plain": [
       "{'blue', 'green', 'red', 'yellow'}"
      ]
     },
     "execution_count": 28,
     "metadata": {},
     "output_type": "execute_result"
    }
   ],
   "source": [
    "colors.add('yellow') # Add yellow\n",
    "colors"
   ]
  },
  {
   "cell_type": "code",
   "execution_count": 29,
   "id": "09d517aa-f5b8-452d-b52c-b5bba7324c91",
   "metadata": {},
   "outputs": [
    {
     "data": {
      "text/plain": [
       "{'blue', 'fruit', 'green', 'purple', 'red', 'yellow'}"
      ]
     },
     "execution_count": 29,
     "metadata": {},
     "output_type": "execute_result"
    }
   ],
   "source": [
    "colors.update({'green', 'purple', 'fruit'}) # Update colors with all the elements of the set. See also `|=`\n",
    "colors"
   ]
  },
  {
   "cell_type": "code",
   "execution_count": 30,
   "id": "70c7c680-d738-4fd0-b0bb-b46854010b91",
   "metadata": {},
   "outputs": [
    {
     "data": {
      "text/plain": [
       "{'blue', 'green', 'purple', 'red', 'yellow'}"
      ]
     },
     "execution_count": 30,
     "metadata": {},
     "output_type": "execute_result"
    }
   ],
   "source": [
    "colors.remove('fruit') # oops, that isn't a color. Raises an error if the element doesn't exist, see `discard` for conditional removal\n",
    "colors"
   ]
  },
  {
   "cell_type": "code",
   "execution_count": 31,
   "id": "5ddab351-94c7-4b91-89ad-c5d657e49ab0",
   "metadata": {},
   "outputs": [
    {
     "data": {
      "text/plain": [
       "{'blue', 'green', 'purple'}"
      ]
     },
     "execution_count": 31,
     "metadata": {},
     "output_type": "execute_result"
    }
   ],
   "source": [
    "warm_colors = {'red', 'orange', 'yellow'}\n",
    "colors.difference_update(warm_colors) # remove all the warm colors. See also `-=`\n",
    "colors"
   ]
  },
  {
   "cell_type": "code",
   "execution_count": 18,
   "id": "6d07c799-7dff-450e-86c6-cf16cd50a70b",
   "metadata": {},
   "outputs": [
    {
     "data": {
      "text/plain": [
       "{'green'}"
      ]
     },
     "execution_count": 18,
     "metadata": {},
     "output_type": "execute_result"
    }
   ],
   "source": [
    "favorite_colors = {'green', 'red', 'black'}\n",
    "colors.intersection_update(favorite_colors) # Keep only the colors that are also my favorite. See also `&=`\n",
    "colors"
   ]
  },
  {
   "cell_type": "code",
   "execution_count": 33,
   "id": "f67604b8-4f53-41ab-bd2b-fb8d74122ce3",
   "metadata": {},
   "outputs": [
    {
     "name": "stdout",
     "output_type": "stream",
     "text": [
      "<class 'set'>\n",
      "<class 'dict'>\n"
     ]
    }
   ],
   "source": [
    "myset = set()\n",
    "print(type(myset))\n",
    "\n",
    "d = {}\n",
    "print(type(d))"
   ]
  }
 ],
 "metadata": {
  "kernelspec": {
   "display_name": "Python 3 (ipykernel)",
   "language": "python",
   "name": "python3"
  },
  "language_info": {
   "codemirror_mode": {
    "name": "ipython",
    "version": 3
   },
   "file_extension": ".py",
   "mimetype": "text/x-python",
   "name": "python",
   "nbconvert_exporter": "python",
   "pygments_lexer": "ipython3",
   "version": "3.10.12"
  }
 },
 "nbformat": 4,
 "nbformat_minor": 5
}
