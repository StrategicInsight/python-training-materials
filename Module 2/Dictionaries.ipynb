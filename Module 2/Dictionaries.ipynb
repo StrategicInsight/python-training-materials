{
 "cells": [
  {
   "cell_type": "markdown",
   "id": "06ff04f6-9c53-4e65-95a1-258355ca99d1",
   "metadata": {},
   "source": [
    "# Dictionaries\n",
    "\n",
    "* A dictionary is a mutable [mapping type](https://docs.python.org/3/library/stdtypes.html#typesmapping) that maps hashable values to arbitrary objects.\n",
    "* Unlike sequences, which are indexed by a range of numbers, dictionaries are indexed by keys, which can be any immutable type.\n",
    "* It is best to think of a dictionary as a set of key: value pairs, with the requirement that the keys are unique (within one dictionary).\n",
    "\n",
    "A dictionary’s keys are almost arbitrary values. Values that are not hashable, that is, values containing lists, dictionaries or other mutable types (that are compared by value rather than by object identity) may not be used as keys. \n",
    "\n",
    "## Creating Dictionaries\n",
    "\n",
    "Dictionaries can be created by several means:\n",
    "\n",
    "* Using a comma-separated list of `key:value` pairs within braces: `{'jack': 4098, 'sjoerd': 4127}`\n",
    "* Using the type constructor `dict()`, which allows creation from many different sources."
   ]
  },
  {
   "cell_type": "code",
   "execution_count": 1,
   "id": "857f1caf-ea47-498a-b288-0eea0c5e9c7c",
   "metadata": {},
   "outputs": [
    {
     "data": {
      "text/plain": [
       "{'jack': 4098, 'sjoerd': 4127}"
      ]
     },
     "execution_count": 1,
     "metadata": {},
     "output_type": "execute_result"
    }
   ],
   "source": [
    "# Using key:value paris within braces\n",
    "\n",
    "{'jack': 4098, 'sjoerd': 4127}"
   ]
  },
  {
   "cell_type": "code",
   "execution_count": 2,
   "id": "f5a671d3-aa28-4e17-a5ff-c2635848f3c1",
   "metadata": {},
   "outputs": [
    {
     "data": {
      "text/plain": [
       "True"
      ]
     },
     "execution_count": 2,
     "metadata": {},
     "output_type": "execute_result"
    }
   ],
   "source": [
    "# The type constructor `dict()` allows many different inputs\n",
    "\n",
    "# If no positional argument is given the constructor creates an empty dictionary.\n",
    "# This is equal to {}\n",
    "\n",
    "mydict = dict()\n",
    "mydict == {}"
   ]
  },
  {
   "cell_type": "code",
   "execution_count": 3,
   "id": "3dd50288-b6c4-4e0a-8fbb-4208c9e72a1d",
   "metadata": {},
   "outputs": [
    {
     "data": {
      "text/plain": [
       "{'jack': 4098, 'sjoerd': 4127}"
      ]
     },
     "execution_count": 3,
     "metadata": {},
     "output_type": "execute_result"
    }
   ],
   "source": [
    "# If a positional argument is given it must be a mapping type\n",
    "# or an iterable of iterables with exactly two objects\n",
    "\n",
    "# Creating a dict from another mapping type\n",
    "mydict = {'jack': 4098, 'sjoerd': 4127}\n",
    "dict(mydict)"
   ]
  },
  {
   "cell_type": "code",
   "execution_count": 5,
   "id": "32664692-dda3-44a2-a492-ca842de0375b",
   "metadata": {},
   "outputs": [
    {
     "data": {
      "text/plain": [
       "{'jack': 4098, 'bar': 4127}"
      ]
     },
     "execution_count": 5,
     "metadata": {},
     "output_type": "execute_result"
    }
   ],
   "source": [
    "# Creating a dict for an iterable of iterables\n",
    "dict([('jack', 4098), ('bar', 4127)])"
   ]
  },
  {
   "cell_type": "markdown",
   "id": "1cb8e5e1-cf97-4dfd-b287-7d60786d1039",
   "metadata": {},
   "source": [
    "The `dict()` type constructor supports additional keywoard arguments. The keyword arguments and their values are added to the dictionary created from the positional argument. If a key being added is already present the a value from the keywoard argument replaces the value from the positional argument.\n",
    "\n",
    "Providing keyword arguments only works for keys that are valid python identifiers."
   ]
  },
  {
   "cell_type": "code",
   "execution_count": 6,
   "id": "8be88791-1eea-4744-a1de-399e528a832c",
   "metadata": {},
   "outputs": [
    {
     "data": {
      "text/plain": [
       "{'jack': 1000, 'bar': 4127, 'diane': 500}"
      ]
     },
     "execution_count": 6,
     "metadata": {},
     "output_type": "execute_result"
    }
   ],
   "source": [
    "dict([('jack', 4098), ('bar', 4127)], jack=1000, diane=500)"
   ]
  },
  {
   "cell_type": "markdown",
   "id": "d76b0374-8c3c-4bce-85ba-7bfae06ffc71",
   "metadata": {},
   "source": [
    "As you can see it is possible to create the same dictionary many ways. To illustrate all the possibilities the following examples all return a dictionary equal to `{\"one\": 1, \"two\": 2, \"three\": 3}`:"
   ]
  },
  {
   "cell_type": "code",
   "execution_count": 7,
   "id": "da072c7b-2637-4157-80f0-e6e2e9a2e878",
   "metadata": {},
   "outputs": [
    {
     "data": {
      "text/plain": [
       "True"
      ]
     },
     "execution_count": 7,
     "metadata": {},
     "output_type": "execute_result"
    }
   ],
   "source": [
    "a = dict(one=1, two=2, three=3)\n",
    "b = {'one': 1, 'two': 2, 'three': 3}\n",
    "c = dict(zip(['one', 'two', 'three'], [1, 2, 3]))\n",
    "d = dict([('two', 2), ('one', 1), ('three', 3)])\n",
    "e = dict({'three': 3, 'one': 1, 'two': 2})\n",
    "f = dict({'one': 1, 'three': 3}, two=2)\n",
    "a == b == c == d == e == f"
   ]
  },
  {
   "cell_type": "markdown",
   "id": "b4a93376-b57b-4d3c-af34-706498b33252",
   "metadata": {},
   "source": [
    "## Working with Dictionaries\n"
   ]
  },
  {
   "cell_type": "code",
   "execution_count": 8,
   "id": "bca871bf-ba6f-414b-982a-b94215eaa8db",
   "metadata": {},
   "outputs": [
    {
     "data": {
      "text/plain": [
       "{'chris': 10}"
      ]
     },
     "execution_count": 8,
     "metadata": {},
     "output_type": "execute_result"
    }
   ],
   "source": [
    "scores = {}\n",
    "\n",
    "# We can insert items in the dictionary by indexing and assigning a value\n",
    "scores['chris'] = 10\n",
    "scores"
   ]
  },
  {
   "cell_type": "code",
   "execution_count": 9,
   "id": "e2f0c4da-5352-4439-b4c1-73cb6ab29813",
   "metadata": {},
   "outputs": [
    {
     "data": {
      "text/plain": [
       "10"
      ]
     },
     "execution_count": 9,
     "metadata": {},
     "output_type": "execute_result"
    }
   ],
   "source": [
    "# We can access items by key\n",
    "scores['chris']"
   ]
  },
  {
   "cell_type": "code",
   "execution_count": 11,
   "id": "651d6f8c-d51f-448b-bff5-50e89be000f1",
   "metadata": {},
   "outputs": [
    {
     "ename": "KeyError",
     "evalue": "'randy'",
     "output_type": "error",
     "traceback": [
      "\u001b[0;31m---------------------------------------------------------------------------\u001b[0m",
      "\u001b[0;31mKeyError\u001b[0m                                  Traceback (most recent call last)",
      "Cell \u001b[0;32mIn[11], line 2\u001b[0m\n\u001b[1;32m      1\u001b[0m \u001b[38;5;66;03m# If we access a key that does not exist a KeyError is raised\u001b[39;00m\n\u001b[0;32m----> 2\u001b[0m \u001b[43mscores\u001b[49m\u001b[43m[\u001b[49m\u001b[38;5;124;43m'\u001b[39;49m\u001b[38;5;124;43mrandy\u001b[39;49m\u001b[38;5;124;43m'\u001b[39;49m\u001b[43m]\u001b[49m\n",
      "\u001b[0;31mKeyError\u001b[0m: 'randy'"
     ]
    }
   ],
   "source": [
    "# If we access a key that does not exist a KeyError is raised\n",
    "scores['randy']"
   ]
  },
  {
   "cell_type": "code",
   "execution_count": 12,
   "id": "8290566b-1813-43b7-b81e-d09bea163337",
   "metadata": {},
   "outputs": [
    {
     "data": {
      "text/plain": [
       "-1"
      ]
     },
     "execution_count": 12,
     "metadata": {},
     "output_type": "execute_result"
    }
   ],
   "source": [
    "# We can use `dict.get` to return None, or a provided default instead\n",
    "scores.get('randy', -1)"
   ]
  },
  {
   "cell_type": "code",
   "execution_count": 14,
   "id": "d2b9abba-8532-4e0c-bd3d-22804416477c",
   "metadata": {},
   "outputs": [
    {
     "data": {
      "text/plain": [
       "{'chris': 10, 'randy': 9, 'scott': 5}"
      ]
     },
     "execution_count": 14,
     "metadata": {},
     "output_type": "execute_result"
    }
   ],
   "source": [
    "# We can update a dictionary from another source using `update`. This method\n",
    "# works like the `dict()` type constructor\n",
    "scores.update({'randy': 9, 'scott': 1}, scott=5)\n",
    "scores"
   ]
  },
  {
   "cell_type": "code",
   "execution_count": 15,
   "id": "8577dee1-b47f-4fb2-b994-7e1f6cbdbed6",
   "metadata": {},
   "outputs": [
    {
     "data": {
      "text/plain": [
       "3"
      ]
     },
     "execution_count": 15,
     "metadata": {},
     "output_type": "execute_result"
    }
   ],
   "source": [
    "# We can get the number of items in a dictionary\n",
    "len(scores)"
   ]
  },
  {
   "cell_type": "code",
   "execution_count": 16,
   "id": "456c0139-1303-4a6c-b969-cb4fcc402b0b",
   "metadata": {},
   "outputs": [
    {
     "data": {
      "text/plain": [
       "False"
      ]
     },
     "execution_count": 16,
     "metadata": {},
     "output_type": "execute_result"
    }
   ],
   "source": [
    "# we can test if a key exists in the dictionary\n",
    "'bob' in scores"
   ]
  },
  {
   "cell_type": "code",
   "execution_count": 17,
   "id": "f102c60b-5932-459a-87e2-7fdb0a23e1a3",
   "metadata": {},
   "outputs": [
    {
     "data": {
      "text/plain": [
       "['chris', 'randy', 'scott']"
      ]
     },
     "execution_count": 17,
     "metadata": {},
     "output_type": "execute_result"
    }
   ],
   "source": [
    "# We can also access the keys and values of a dictionary independently.\n",
    "list(scores.keys())"
   ]
  },
  {
   "cell_type": "code",
   "execution_count": 19,
   "id": "16a63982-4bd1-46a8-8162-d672894d077a",
   "metadata": {},
   "outputs": [
    {
     "data": {
      "text/plain": [
       "[10, 9, 5]"
      ]
     },
     "execution_count": 19,
     "metadata": {},
     "output_type": "execute_result"
    }
   ],
   "source": [
    "list(scores.values())"
   ]
  },
  {
   "cell_type": "markdown",
   "id": "6b0bcdfe-cd0b-40a2-b6d2-63520c2e8f28",
   "metadata": {},
   "source": [
    "There are a handful of other interesting methods including `setdefault`, `pop`, `items`, etc."
   ]
  },
  {
   "cell_type": "markdown",
   "id": "a9972706-7903-4367-9d03-d598ba6bf09c",
   "metadata": {},
   "source": [
    "## Interesting Dict subclasses\n",
    "\n",
    "There are a couple of interesting subclasses of `dict` that provide extensions for common programming tasks.\n",
    "\n",
    "### `collections.Counter`\n",
    "\n",
    "A [Counter](https://docs.python.org/3/library/collections.html#collections.Counter) is a dict subclass for counting hashable objects. It is a collection where elements are stored as dictionary keys and their counts are stored as dictionary values. Counts are allowed to be any integer value including zero or negative counts. The Counter class is similar to bags or multisets in other languages.\n",
    "\n",
    "Elements are counted from an iterable or initialized from another mapping (or counter). Counter objects have a dictionary interface except they return zero for missing items."
   ]
  },
  {
   "cell_type": "code",
   "execution_count": 21,
   "id": "f9f2035c-9a58-4310-97c0-9425bdccc077",
   "metadata": {},
   "outputs": [
    {
     "data": {
      "text/plain": [
       "Counter({'a': 5, 'b': 2, 'r': 2, 'c': 1, 'd': 1})"
      ]
     },
     "execution_count": 21,
     "metadata": {},
     "output_type": "execute_result"
    }
   ],
   "source": [
    "from collections import Counter\n",
    "c = Counter('abracadabra')\n",
    "c"
   ]
  },
  {
   "cell_type": "code",
   "execution_count": 24,
   "id": "3665f4f3-e0ae-411e-85f0-075e50edc9f6",
   "metadata": {},
   "outputs": [
    {
     "name": "stdout",
     "output_type": "stream",
     "text": [
      "There are 5 'a's and 0 'z's in the string\n"
     ]
    }
   ],
   "source": [
    "print(f\"There are {c['a']} 'a's and {c['z']} 'z's in the string\")"
   ]
  },
  {
   "cell_type": "code",
   "execution_count": 25,
   "id": "f49131be-61ff-4455-a7b8-fe988192bfec",
   "metadata": {},
   "outputs": [
    {
     "data": {
      "text/plain": [
       "True"
      ]
     },
     "execution_count": 25,
     "metadata": {},
     "output_type": "execute_result"
    }
   ],
   "source": [
    "# In addition to the standard dict interface counters \n",
    "# provide a handful of additional methods\n",
    "\n",
    "# Total returns the sum of the counts\n",
    "len('abracadabra') == c.total()"
   ]
  },
  {
   "cell_type": "code",
   "execution_count": 26,
   "id": "4a9c2908-ab05-4a14-b665-d3dcb669be08",
   "metadata": {},
   "outputs": [
    {
     "data": {
      "text/plain": [
       "[('a', 5), ('b', 2)]"
      ]
     },
     "execution_count": 26,
     "metadata": {},
     "output_type": "execute_result"
    }
   ],
   "source": [
    "# most_common([n]) provids the n most common elements\n",
    "c.most_common(2)"
   ]
  },
  {
   "cell_type": "code",
   "execution_count": 28,
   "id": "8637a96b-e2b3-4f92-ae04-6ba4a78bd434",
   "metadata": {},
   "outputs": [
    {
     "data": {
      "text/plain": [
       "Counter({'a': 3, 'b': 2, 'r': 2, 'c': 1, 'd': 1})"
      ]
     },
     "execution_count": 28,
     "metadata": {},
     "output_type": "execute_result"
    }
   ],
   "source": [
    "c.subtract(Counter(a=2))\n",
    "c"
   ]
  },
  {
   "cell_type": "markdown",
   "id": "c758d05b-9135-4b52-a4ed-04e624e0b89e",
   "metadata": {},
   "source": [
    "### `collections.defaultdict`\n",
    "\n",
    "`defaultdict` is a dict subclass that takes an additional argument to use as a factory for creating default values.\n",
    "\n",
    "For example we can implement something that counts."
   ]
  },
  {
   "cell_type": "code",
   "execution_count": null,
   "id": "b03c6348-8dfb-401d-98eb-adb7af4cec66",
   "metadata": {},
   "outputs": [],
   "source": [
    "from collections import defaultdict\n",
    "\n",
    "s = 'abracadabra'\n",
    "c = defaultdict(int)\n"
   ]
  }
 ],
 "metadata": {
  "kernelspec": {
   "display_name": "Python 3 (ipykernel)",
   "language": "python",
   "name": "python3"
  },
  "language_info": {
   "codemirror_mode": {
    "name": "ipython",
    "version": 3
   },
   "file_extension": ".py",
   "mimetype": "text/x-python",
   "name": "python",
   "nbconvert_exporter": "python",
   "pygments_lexer": "ipython3",
   "version": "3.10.12"
  }
 },
 "nbformat": 4,
 "nbformat_minor": 5
}
