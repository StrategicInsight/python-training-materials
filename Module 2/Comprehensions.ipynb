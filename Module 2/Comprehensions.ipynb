{
 "cells": [
  {
   "cell_type": "markdown",
   "id": "f65792f6-600a-4b1e-9cff-dc36964d144f",
   "metadata": {},
   "source": [
    "# Comprehensions\n",
    "\n",
    "Comprehensions provide a concise way to create [lists](./Lists.ipynb), [sets](./Sets.ipynb), and [dictionaries](./Dictionaries.ipynb). Common applications are to make new collections where each element is the result of some operation applied to each item in another sequence or iterable\n",
    "\n",
    "Consider the task of creating a list of the first 10 squares. We have a couple of options:"
   ]
  },
  {
   "cell_type": "code",
   "execution_count": 1,
   "id": "864fe401-3e87-41cd-bfd3-b54e72649b70",
   "metadata": {},
   "outputs": [
    {
     "data": {
      "text/plain": [
       "[0, 1, 4, 9, 16, 25, 36, 49, 64, 81]"
      ]
     },
     "execution_count": 1,
     "metadata": {},
     "output_type": "execute_result"
    }
   ],
   "source": [
    "squares = []\n",
    "for x in range(10):\n",
    "    squares.append(x**2)\n",
    "squares"
   ]
  },
  {
   "cell_type": "markdown",
   "id": "5054167f-dffd-47fe-bdd3-b094cbffe0ec",
   "metadata": {},
   "source": [
    "We could also `map` a squaring function over the range to get the same result"
   ]
  },
  {
   "cell_type": "code",
   "execution_count": 2,
   "id": "1ecf25f2-fad4-444d-bec4-96fd9574d1a0",
   "metadata": {},
   "outputs": [
    {
     "data": {
      "text/plain": [
       "[0, 1, 4, 9, 16, 25, 36, 49, 64, 81]"
      ]
     },
     "execution_count": 2,
     "metadata": {},
     "output_type": "execute_result"
    }
   ],
   "source": [
    "list(map(lambda x: x**2, range(10)))"
   ]
  },
  {
   "cell_type": "markdown",
   "id": "4512d9c8-1381-493c-899f-40e24ffe1ebd",
   "metadata": {},
   "source": [
    "Or we can use a list comprehension which is more concise and readable"
   ]
  },
  {
   "cell_type": "code",
   "execution_count": 3,
   "id": "8c09c588-4c6a-4012-8352-1d8c3563a811",
   "metadata": {},
   "outputs": [
    {
     "data": {
      "text/plain": [
       "[0, 1, 4, 9, 16, 25, 36, 49, 64, 81]"
      ]
     },
     "execution_count": 3,
     "metadata": {},
     "output_type": "execute_result"
    }
   ],
   "source": [
    "[x**2 for x in range(10)]"
   ]
  },
  {
   "cell_type": "markdown",
   "id": "4b3d3366-e208-4655-92ff-129ec83863de",
   "metadata": {},
   "source": [
    "A list comprehension consists of brackets containing an expression followed by a `for` clause, then zero or more `for` or `if` clauses. The result will be a new list resulting from evaluating the expression in the context of the for and if clauses which follow it. For example, this comprehension combines the elements of two lists if they are not equal:"
   ]
  },
  {
   "cell_type": "code",
   "execution_count": 4,
   "id": "495cf87d-1981-4cfa-a1f2-1a240af674b6",
   "metadata": {},
   "outputs": [
    {
     "data": {
      "text/plain": [
       "[(1, 3), (1, 4), (2, 3), (2, 1), (2, 4), (3, 1), (3, 4)]"
      ]
     },
     "execution_count": 4,
     "metadata": {},
     "output_type": "execute_result"
    }
   ],
   "source": [
    "[(x, y) for x in [1,2,3] for y in [3,1,4] if x != y]"
   ]
  },
  {
   "cell_type": "markdown",
   "id": "04005613-240b-4ee0-be43-dee6ea38ee70",
   "metadata": {},
   "source": [
    "Similarly to list comprehensions, set comprehensions are also supported. The syntax is similar but we replace the `[]` with `{}`."
   ]
  },
  {
   "cell_type": "code",
   "execution_count": 5,
   "id": "6e2b22c3-792d-4b74-8254-f06649ebfd5f",
   "metadata": {},
   "outputs": [
    {
     "data": {
      "text/plain": [
       "{'d', 'r'}"
      ]
     },
     "execution_count": 5,
     "metadata": {},
     "output_type": "execute_result"
    }
   ],
   "source": [
    "{x for x in 'abracadabra' if x not in 'abc'} # unique letters in the string that aren't a, b, or c"
   ]
  },
  {
   "cell_type": "markdown",
   "id": "e54b01e6-06e0-4839-8df8-31db95bc30ee",
   "metadata": {},
   "source": [
    "Dict comprehensions can be used to create dictionaries with a similar syntax. In this case the expression is of the form `key:value`."
   ]
  },
  {
   "cell_type": "code",
   "execution_count": 7,
   "id": "756d05a8-e072-4b83-8d2f-a56a784af65d",
   "metadata": {},
   "outputs": [
    {
     "data": {
      "text/plain": [
       "{0: 0, 2: 4, 4: 16, 6: 36, 8: 64}"
      ]
     },
     "execution_count": 7,
     "metadata": {},
     "output_type": "execute_result"
    }
   ],
   "source": [
    "{x: x**2 for x in range(10) if x % 2 == 0}"
   ]
  }
 ],
 "metadata": {
  "kernelspec": {
   "display_name": "Python 3 (ipykernel)",
   "language": "python",
   "name": "python3"
  },
  "language_info": {
   "codemirror_mode": {
    "name": "ipython",
    "version": 3
   },
   "file_extension": ".py",
   "mimetype": "text/x-python",
   "name": "python",
   "nbconvert_exporter": "python",
   "pygments_lexer": "ipython3",
   "version": "3.10.12"
  }
 },
 "nbformat": 4,
 "nbformat_minor": 5
}
