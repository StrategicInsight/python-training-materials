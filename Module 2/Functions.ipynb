{
 "cells": [
  {
   "cell_type": "markdown",
   "id": "7f35b764-cfd7-4121-9c02-94a92f19193f",
   "metadata": {},
   "source": [
    "# Writing and calling functions\n",
    "\n",
    "Python functions are reusable blocks of code that perform specific tasks, allowing you to write modular and organized programs by breaking down complex logic into smaller, manageable pieces.\n",
    "\n",
    "## Basic Functions\n",
    "\n",
    "Here is an example of a function that prints the Fibonacci series up to 10:"
   ]
  },
  {
   "cell_type": "code",
   "execution_count": 2,
   "id": "c1dc523b-091b-4ffa-9eed-5c7ea1e35453",
   "metadata": {},
   "outputs": [
    {
     "name": "stdout",
     "output_type": "stream",
     "text": [
      "0 1 1 2 3 5 8 \n"
     ]
    }
   ],
   "source": [
    "def fib():    # write Fibonacci series up to 10\n",
    "    \"\"\"Print a Fibonacci series up to 10\"\"\"\n",
    "    n = 10\n",
    "    a, b = 0, 1\n",
    "    while a < n:\n",
    "        print(a, end=' ')\n",
    "        a, b = b, a+b\n",
    "    print()\n",
    "\n",
    "# Now call the function we just defined:\n",
    "fib()"
   ]
  },
  {
   "cell_type": "markdown",
   "id": "f13fef5b-4767-4aef-9be9-001cfdefe856",
   "metadata": {},
   "source": [
    "The keyword `def` introduces a function definition. It must be followed by the function name and the parenthesized list of formal parameters. The statements that form the body of the function start at the next line, and must be indented.\n",
    "\n",
    "The first statement of the function body can optionally be a string literal; this string literal is the function’s documentation string, or docstring. (More about docstrings can be found in the section [Documentation Strings](https://docs.python.org/3/tutorial/controlflow.html#tut-docstrings).)\n",
    "\n",
    "In python all functions, even those without a `return` statement return a value. Functions without a `return` statement, like the one above, return `None`."
   ]
  },
  {
   "cell_type": "markdown",
   "id": "34bd343a-4b93-482f-bd40-f926f2deb503",
   "metadata": {},
   "source": [
    "We can rewrite our function to take a positional argument defining the boundary and return the list of numbers instead of printing them"
   ]
  },
  {
   "cell_type": "code",
   "execution_count": 3,
   "id": "069f28f9-7157-451b-b1c5-c90e0e1659ef",
   "metadata": {
    "scrolled": true
   },
   "outputs": [
    {
     "data": {
      "text/plain": [
       "[0, 1, 1, 2, 3, 5, 8, 13, 21, 34, 55, 89]"
      ]
     },
     "execution_count": 3,
     "metadata": {},
     "output_type": "execute_result"
    }
   ],
   "source": [
    "def fib2(n):  # return Fibonacci series up to n\n",
    "    \"\"\"Return a list containing the Fibonacci series up to n.\"\"\"\n",
    "    result = []\n",
    "    a, b = 0, 1\n",
    "    while a < n:\n",
    "        result.append(a)    # see below\n",
    "        a, b = b, a+b\n",
    "    return result\n",
    "\n",
    "f100 = fib2(100)    # call it\n",
    "f100                # write the result"
   ]
  },
  {
   "cell_type": "markdown",
   "id": "a73ed5cb-9679-4a34-94af-7e5403643179",
   "metadata": {},
   "source": [
    "## Function Arguments\n",
    "\n",
    "Python function signatures are flexible, complex beasts, allowing for positional, keyword, variable, and variable keyword arguments. This can be extremely useful, but sometimes the interaction between these features can be confusing or even surprising,  especially [historically](https://seecoresoftware.com/blog/2018/11/python-argument-surprise.html#python-3-improvements).\n",
    "\n",
    "### Positional Arguments\n",
    "\n",
    "Positional arguments, like `n` above, are passed in the order of parameters.\n",
    "\n",
    "### Default argument values\n",
    "\n",
    "Default arguments allow specifying default values for one or more arguments. This creates a function that can be called with fewer arguments than it is defined to allow. For example:\n"
   ]
  },
  {
   "cell_type": "code",
   "execution_count": 3,
   "id": "26945ef7-0169-4011-9669-e44b1b8576a5",
   "metadata": {},
   "outputs": [],
   "source": [
    "def ask_ok(prompt, retries=4, reminder='Please try again!'):\n",
    "    while True:\n",
    "        ok = input(prompt)\n",
    "        if ok in ('y', 'ye', 'yes'):\n",
    "            return True\n",
    "        if ok in ('n', 'no', 'nop', 'nope'):\n",
    "            return False\n",
    "        retries = retries - 1\n",
    "        if retries < 0:\n",
    "            raise ValueError('invalid user response')\n",
    "        print(reminder)"
   ]
  },
  {
   "cell_type": "markdown",
   "id": "9da261bb-7068-4c2f-8a51-f16c640ae92a",
   "metadata": {},
   "source": [
    "This function can be called in several ways:\n",
    "\n",
    "* giving only the mandatory argument: `ask_ok('Do you really want to quit?')`\n",
    "* giving one of the optional arguments: `ask_ok('OK to overwrite the file?', 2)`\n",
    "* or even giving all arguments: `ask_ok('OK to overwrite the file?', 2, 'Come on, only yes or no!')`\n"
   ]
  },
  {
   "cell_type": "code",
   "execution_count": 4,
   "id": "fc967f37-0bfe-4ae2-9557-89d599850a17",
   "metadata": {
    "scrolled": true
   },
   "outputs": [
    {
     "name": "stdin",
     "output_type": "stream",
     "text": [
      "OK to overwrite the file? y\n"
     ]
    },
    {
     "data": {
      "text/plain": [
       "True"
      ]
     },
     "execution_count": 4,
     "metadata": {},
     "output_type": "execute_result"
    }
   ],
   "source": [
    "ask_ok('OK to overwrite the file?', 2)"
   ]
  },
  {
   "cell_type": "markdown",
   "id": "6f284b0d-db80-4f7b-9076-4af631b2e78a",
   "metadata": {},
   "source": [
    "#### Common Gotcha\n",
    "\n",
    "The default value is evaluated only once. This makes a difference when the default is a mutable object such as a list, dictionary, or instances of most classes. For example:"
   ]
  },
  {
   "cell_type": "code",
   "execution_count": 7,
   "id": "a5faa312-957e-493d-9c92-456eef6723b3",
   "metadata": {},
   "outputs": [
    {
     "name": "stdout",
     "output_type": "stream",
     "text": [
      "[1]\n",
      "[1, 2]\n",
      "[1, 2, 3]\n"
     ]
    }
   ],
   "source": [
    "def myappend(val, mylist=[]):\n",
    "    mylist.append(val)\n",
    "    return mylist\n",
    "\n",
    "print(myappend(1))\n",
    "print(myappend(2))\n",
    "print(myappend(3))"
   ]
  },
  {
   "cell_type": "markdown",
   "id": "aa167077-0c02-4880-a47f-eba748d2bbaa",
   "metadata": {},
   "source": [
    "If you don't want the default shared between invocations a better way to write this is:"
   ]
  },
  {
   "cell_type": "code",
   "execution_count": 5,
   "id": "f01d493d-fb9c-4062-aa47-f9d77f4b8dbf",
   "metadata": {},
   "outputs": [
    {
     "name": "stdout",
     "output_type": "stream",
     "text": [
      "[1]\n",
      "[2]\n",
      "[3]\n"
     ]
    }
   ],
   "source": [
    "def myappend(val, mylist=None):\n",
    "    if mylist is None: # or you could use a marker\n",
    "        mylist = []\n",
    "    mylist.append(val)\n",
    "    return mylist\n",
    "\n",
    "print(myappend(1))\n",
    "print(myappend(2))\n",
    "print(myappend(3))"
   ]
  },
  {
   "cell_type": "markdown",
   "id": "a73f54a6-05cd-46ca-9426-374011a2f4f6",
   "metadata": {},
   "source": [
    "### Keyword arguments\n",
    "\n",
    "Functions can also be called using keyword arguments of the form `kwarg=value`. Take the following function, which accepts one required argument `time` and two optional arguments `acceleration` and `initial_velocity`:"
   ]
  },
  {
   "cell_type": "code",
   "execution_count": 14,
   "id": "fffdcd3d-8d63-4d9d-b2c4-db9da5f68095",
   "metadata": {},
   "outputs": [],
   "source": [
    "def velocity_t(time, acceleration=9.807, initial_velocity=0):\n",
    "    velocity = initial_velocity + (acceleration * time) # pretty sure this is correct\n",
    "    print(velocity)"
   ]
  },
  {
   "cell_type": "markdown",
   "id": "88ba5150-d7f5-4b34-9e8f-70beabd93b30",
   "metadata": {},
   "source": [
    "This function can be called in many ways."
   ]
  },
  {
   "cell_type": "code",
   "execution_count": 17,
   "id": "b0c5501c-c05e-4705-8263-5949d8ea3a17",
   "metadata": {},
   "outputs": [
    {
     "name": "stdout",
     "output_type": "stream",
     "text": [
      "9.807\n",
      "9.807\n",
      "10.807\n",
      "10.807\n"
     ]
    }
   ],
   "source": [
    "velocity_t(1) # 1 positional argument\n",
    "velocity_t(time=1) # 1 keyword argument\n",
    "velocity_t(time=1, initial_velocity=1) # 2 keyword arguments\n",
    "velocity_t(1, initial_velocity=1) # 1 positional, 1 keyword"
   ]
  },
  {
   "cell_type": "markdown",
   "id": "2f3e76fb-f59a-40be-95d7-f4527bdbd5ec",
   "metadata": {},
   "source": [
    "In a function call, keyword arguments must follow positional arguments. All the keyword arguments passed must match one of the arguments accepted by the function (e.g. `vehicle` is not a valid argument for the  `velocity_t` function), and their order is not important. No argument may receive a value more than once."
   ]
  },
  {
   "cell_type": "code",
   "execution_count": 18,
   "id": "42955537-49d8-4238-8b04-f6671b5d0bfb",
   "metadata": {},
   "outputs": [
    {
     "ename": "TypeError",
     "evalue": "velocity_t() got an unexpected keyword argument 'vehicle'",
     "output_type": "error",
     "traceback": [
      "\u001b[0;31m---------------------------------------------------------------------------\u001b[0m",
      "\u001b[0;31mTypeError\u001b[0m                                 Traceback (most recent call last)",
      "Cell \u001b[0;32mIn[18], line 1\u001b[0m\n\u001b[0;32m----> 1\u001b[0m \u001b[43mvelocity_t\u001b[49m\u001b[43m(\u001b[49m\u001b[38;5;241;43m1\u001b[39;49m\u001b[43m,\u001b[49m\u001b[43m \u001b[49m\u001b[43mvehicle\u001b[49m\u001b[38;5;241;43m=\u001b[39;49m\u001b[38;5;124;43m'\u001b[39;49m\u001b[38;5;124;43mcar\u001b[39;49m\u001b[38;5;124;43m'\u001b[39;49m\u001b[43m)\u001b[49m\n",
      "\u001b[0;31mTypeError\u001b[0m: velocity_t() got an unexpected keyword argument 'vehicle'"
     ]
    }
   ],
   "source": [
    "velocity_t(1, vehicle='car')"
   ]
  },
  {
   "cell_type": "code",
   "execution_count": 19,
   "id": "5e69b0a3-59a6-48a6-9773-3c28c5361868",
   "metadata": {},
   "outputs": [
    {
     "ename": "TypeError",
     "evalue": "velocity_t() got multiple values for argument 'time'",
     "output_type": "error",
     "traceback": [
      "\u001b[0;31m---------------------------------------------------------------------------\u001b[0m",
      "\u001b[0;31mTypeError\u001b[0m                                 Traceback (most recent call last)",
      "Cell \u001b[0;32mIn[19], line 1\u001b[0m\n\u001b[0;32m----> 1\u001b[0m \u001b[43mvelocity_t\u001b[49m\u001b[43m(\u001b[49m\u001b[38;5;241;43m1\u001b[39;49m\u001b[43m,\u001b[49m\u001b[43m \u001b[49m\u001b[43mtime\u001b[49m\u001b[38;5;241;43m=\u001b[39;49m\u001b[38;5;241;43m2\u001b[39;49m\u001b[43m)\u001b[49m\n",
      "\u001b[0;31mTypeError\u001b[0m: velocity_t() got multiple values for argument 'time'"
     ]
    }
   ],
   "source": [
    "velocity_t(1, time=2)"
   ]
  },
  {
   "cell_type": "markdown",
   "id": "1c612cf3-ab76-4ab5-8d34-c4bab568b338",
   "metadata": {},
   "source": [
    "When present, the formal parameters of the form `*name` and `**name` can be used to collect additionally supplied positional and keyword arguments. For example:"
   ]
  },
  {
   "cell_type": "code",
   "execution_count": 21,
   "id": "36d33392-d7f9-43c9-951d-8352637dcdbd",
   "metadata": {},
   "outputs": [
    {
     "name": "stdout",
     "output_type": "stream",
     "text": [
      "Additional args: (42,)\n",
      "Additional kwargs: {'vehicle': 'car'}\n",
      "11.807\n"
     ]
    }
   ],
   "source": [
    "def velocity_t(time, acceleration=9.807, initial_velocity=0, *args, **kwargs):\n",
    "    print(f'Additional args: {args}')\n",
    "    print(f'Additional kwargs: {kwargs}')\n",
    "    velocity = initial_velocity + (acceleration * time) # pretty sure this is correct\n",
    "    print(velocity)\n",
    "\n",
    "velocity_t(1, 9.807, 2, 42, vehicle='car')"
   ]
  },
  {
   "cell_type": "markdown",
   "id": "0ebbea86-f09b-4dd5-a973-92ae26754784",
   "metadata": {},
   "source": [
    "As you can see, things can become extremely complex, especially as function definitions change overtime in a large code base....\n",
    "\n",
    "For readability and performance, it can make sense to restrict the way arguments can be passed to functions. The `/` and `*` characters can be used to demarcate positional arguments, positional or keyword arguments, or keyword only arguments.\n",
    "\n",
    "```\n",
    "def f(pos1, pos2, /, pos_or_kwd, *, kwd1, kwd2):\n",
    "      -----------    ----------     ----------\n",
    "        |             |                  |\n",
    "        |        Positional or keyword   |\n",
    "        |                                - Keyword only\n",
    "         -- Positional only\n",
    "```"
   ]
  },
  {
   "cell_type": "markdown",
   "id": "5abb890d-63a4-4bbf-88c0-4db3d3d2c21c",
   "metadata": {},
   "source": [
    "### Unpacking arguments\n",
    "\n",
    "When calling functions we can unpack sequences and mapping types into arguments. For example:"
   ]
  },
  {
   "cell_type": "code",
   "execution_count": 25,
   "id": "c93a5654-1949-44e6-9972-d7d227760303",
   "metadata": {},
   "outputs": [
    {
     "name": "stdout",
     "output_type": "stream",
     "text": [
      "foo/bar/baz\n",
      "foo,bar,baz\n"
     ]
    }
   ],
   "source": [
    "def joinall(*parts, seperator='/'):\n",
    "    return seperator.join(parts)\n",
    "\n",
    "print(joinall('foo', 'bar', 'baz'))\n",
    "\n",
    "tojoin = ['foo', 'bar', 'baz']\n",
    "print(joinall(*tojoin, seperator=','))"
   ]
  },
  {
   "cell_type": "markdown",
   "id": "745da508-06fe-4b94-ae1f-9be717840a62",
   "metadata": {},
   "source": [
    "We can do something similar with mappings:"
   ]
  },
  {
   "cell_type": "code",
   "execution_count": 26,
   "id": "c76892a9-8e27-4bb0-9f9a-7beb53b0d16f",
   "metadata": {},
   "outputs": [
    {
     "name": "stdout",
     "output_type": "stream",
     "text": [
      "foo|bar|baz\n"
     ]
    }
   ],
   "source": [
    "config = {\n",
    "    'seperator': '|'\n",
    "}\n",
    "print(joinall(*tojoin, **config))\n"
   ]
  }
 ],
 "metadata": {
  "kernelspec": {
   "display_name": "Python 3 (ipykernel)",
   "language": "python",
   "name": "python3"
  },
  "language_info": {
   "codemirror_mode": {
    "name": "ipython",
    "version": 3
   },
   "file_extension": ".py",
   "mimetype": "text/x-python",
   "name": "python",
   "nbconvert_exporter": "python",
   "pygments_lexer": "ipython3",
   "version": "3.10.12"
  }
 },
 "nbformat": 4,
 "nbformat_minor": 5
}
