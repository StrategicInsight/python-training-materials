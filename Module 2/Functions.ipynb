{
 "cells": [
  {
   "cell_type": "markdown",
   "id": "7f35b764-cfd7-4121-9c02-94a92f19193f",
   "metadata": {},
   "source": [
    "# Writing and calling functions\n",
    "\n",
    "Python functions are reusable blocks of code that perform specific tasks, allowing you to write modular and organized programs by breaking down complex logic into smaller, manageable pieces.\n",
    "\n",
    "## Basic Functions\n",
    "\n",
    "Here is an example of a function that prints the Fibonacci series up to an arbitrary boundary:"
   ]
  },
  {
   "cell_type": "code",
   "execution_count": 1,
   "id": "c1dc523b-091b-4ffa-9eed-5c7ea1e35453",
   "metadata": {},
   "outputs": [
    {
     "name": "stdout",
     "output_type": "stream",
     "text": [
      "0 1 1 2 3 5 8 13 21 34 55 89 144 233 377 610 987 1597 \n"
     ]
    }
   ],
   "source": [
    "def fib(n):    # write Fibonacci series up to n\n",
    "    \"\"\"Print a Fibonacci series up to n.\"\"\"\n",
    "    a, b = 0, 1\n",
    "    while a < n:\n",
    "        print(a, end=' ')\n",
    "        a, b = b, a+b\n",
    "    print()\n",
    "\n",
    "# Now call the function we just defined:\n",
    "fib(2000)"
   ]
  },
  {
   "cell_type": "markdown",
   "id": "f13fef5b-4767-4aef-9be9-001cfdefe856",
   "metadata": {},
   "source": [
    "The keyword `def` introduces a function definition. It must be followed by the function name and the parenthesized list of formal parameters. The statements that form the body of the function start at the next line, and must be indented.\n",
    "\n",
    "The first statement of the function body can optionally be a string literal; this string literal is the function’s documentation string, or docstring. (More about docstrings can be found in the section [Documentation Strings](https://docs.python.org/3/tutorial/controlflow.html#tut-docstrings).)\n",
    "\n",
    "In python all functions, even those without a `return` statement return a value. Functions without a `return` statement, like the one above, return `None`."
   ]
  },
  {
   "cell_type": "code",
   "execution_count": 2,
   "id": "0c0a4db6-f081-46c9-889c-184a45311fad",
   "metadata": {},
   "outputs": [
    {
     "name": "stdout",
     "output_type": "stream",
     "text": [
      "0 1 1 2 3 5 8 13 21 34 55 89 144 233 377 610 987 1597 \n",
      "None\n"
     ]
    }
   ],
   "source": [
    "result = fib(2000)\n",
    "print(result)"
   ]
  },
  {
   "cell_type": "markdown",
   "id": "34bd343a-4b93-482f-bd40-f926f2deb503",
   "metadata": {},
   "source": [
    "We can rewrite our function to return the list of numbers instead."
   ]
  },
  {
   "cell_type": "code",
   "execution_count": 3,
   "id": "069f28f9-7157-451b-b1c5-c90e0e1659ef",
   "metadata": {},
   "outputs": [
    {
     "data": {
      "text/plain": [
       "[0, 1, 1, 2, 3, 5, 8, 13, 21, 34, 55, 89]"
      ]
     },
     "execution_count": 3,
     "metadata": {},
     "output_type": "execute_result"
    }
   ],
   "source": [
    "def fib2(n):  # return Fibonacci series up to n\n",
    "    \"\"\"Return a list containing the Fibonacci series up to n.\"\"\"\n",
    "    result = []\n",
    "    a, b = 0, 1\n",
    "    while a < n:\n",
    "        result.append(a)    # see below\n",
    "        a, b = b, a+b\n",
    "    return result\n",
    "\n",
    "f100 = fib2(100)    # call it\n",
    "f100                # write the result"
   ]
  },
  {
   "cell_type": "markdown",
   "id": "a73ed5cb-9679-4a34-94af-7e5403643179",
   "metadata": {},
   "source": [
    "## Function Arguments\n",
    "\n",
    "Python function signatures are flexible, complex beasts, allowing for positional, keyword, variable, and variable keyword arguments. This can be extremely useful, but sometimes the intersection between these features can be confusing or even surprising especially [historically](https://seecoresoftware.com/blog/2018/11/python-argument-surprise.html#python-3-improvements).\n",
    "\n",
    "### Default argument values\n",
    "\n",
    "Perhaps the most useful form is to specify a default value for one or more arguments. This creates a function that can be called with fewer arguments than it is defined to allow. For example:\n"
   ]
  },
  {
   "cell_type": "code",
   "execution_count": 8,
   "id": "26945ef7-0169-4011-9669-e44b1b8576a5",
   "metadata": {},
   "outputs": [],
   "source": [
    "def ask_ok(prompt, retries=4, reminder='Please try again!'):\n",
    "    while True:\n",
    "        ok = input(prompt)\n",
    "        if ok in ('y', 'ye', 'yes'):\n",
    "            return True\n",
    "        if ok in ('n', 'no', 'nop', 'nope'):\n",
    "            return False\n",
    "        retries = retries - 1\n",
    "        if retries < 0:\n",
    "            raise ValueError('invalid user response')\n",
    "        print(reminder)"
   ]
  },
  {
   "cell_type": "markdown",
   "id": "9da261bb-7068-4c2f-8a51-f16c640ae92a",
   "metadata": {},
   "source": [
    "This function can be called in several ways:\n",
    "\n",
    "* giving only the mandatory argument: `ask_ok('Do you really want to quit?')`\n",
    "* giving one of the optional arguments: `ask_ok('OK to overwrite the file?', 2)`\n",
    "* or even giving all arguments: `ask_ok('OK to overwrite the file?', 2, 'Come on, only yes or no!')`\n"
   ]
  },
  {
   "cell_type": "code",
   "execution_count": 7,
   "id": "fc967f37-0bfe-4ae2-9557-89d599850a17",
   "metadata": {
    "scrolled": true
   },
   "outputs": [
    {
     "name": "stdin",
     "output_type": "stream",
     "text": [
      "OK to overwrite the file? y\n"
     ]
    },
    {
     "data": {
      "text/plain": [
       "True"
      ]
     },
     "execution_count": 7,
     "metadata": {},
     "output_type": "execute_result"
    }
   ],
   "source": [
    "ask_ok('OK to overwrite the file?', 2)"
   ]
  }
 ],
 "metadata": {
  "kernelspec": {
   "display_name": "Python 3 (ipykernel)",
   "language": "python",
   "name": "python3"
  },
  "language_info": {
   "codemirror_mode": {
    "name": "ipython",
    "version": 3
   },
   "file_extension": ".py",
   "mimetype": "text/x-python",
   "name": "python",
   "nbconvert_exporter": "python",
   "pygments_lexer": "ipython3",
   "version": "3.10.12"
  }
 },
 "nbformat": 4,
 "nbformat_minor": 5
}
