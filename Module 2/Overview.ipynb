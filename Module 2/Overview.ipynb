{
 "cells": [
  {
   "cell_type": "markdown",
   "id": "87155191-5762-4655-949a-9f487fc34205",
   "metadata": {},
   "source": [
    "# Data Structures and Functions\n",
    "\n",
    "## Introduction\n",
    "\n",
    "1. Common data structures and use cases\n",
    "    1. [Lists](./Lists.ipynb)\n",
    "    2. [Tuples](./Tuples.ipynb)\n",
    "    3. [Sets](./Sets.ipynb)\n",
    "    4. Dictionaries\n",
    "3. Writing and calling function\n",
    "    1. Basic Functions\n",
    "    2. Function Arguments\n",
    "5. Lambdas and comprehensions\n",
    "6. F-Strings\n",
    "7. Built-in functions\n",
    "8. Exceptions and error handling"
   ]
  }
 ],
 "metadata": {
  "kernelspec": {
   "display_name": "Python 3 (ipykernel)",
   "language": "python",
   "name": "python3"
  },
  "language_info": {
   "codemirror_mode": {
    "name": "ipython",
    "version": 3
   },
   "file_extension": ".py",
   "mimetype": "text/x-python",
   "name": "python",
   "nbconvert_exporter": "python",
   "pygments_lexer": "ipython3",
   "version": "3.10.12"
  }
 },
 "nbformat": 4,
 "nbformat_minor": 5
}
